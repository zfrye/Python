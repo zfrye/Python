{
 "cells": [
  {
   "cell_type": "markdown",
   "id": "acting-parish",
   "metadata": {},
   "source": [
    "## Working with Tensorboard"
   ]
  },
  {
   "cell_type": "code",
   "execution_count": 1,
   "id": "injured-conditions",
   "metadata": {},
   "outputs": [],
   "source": [
    "import pandas as pd\n",
    "import numpy as np"
   ]
  },
  {
   "cell_type": "code",
   "execution_count": 2,
   "id": "fallen-prisoner",
   "metadata": {},
   "outputs": [],
   "source": [
    "df = pd.read_csv('DATA/cancer_classification.csv')"
   ]
  },
  {
   "cell_type": "markdown",
   "id": "metallic-investigation",
   "metadata": {},
   "source": [
    "### Train Test Split"
   ]
  },
  {
   "cell_type": "code",
   "execution_count": 3,
   "id": "available-stations",
   "metadata": {},
   "outputs": [],
   "source": [
    "X = df.drop('benign_0__mal_1', axis=1).values\n",
    "y = df['benign_0__mal_1'].values"
   ]
  },
  {
   "cell_type": "code",
   "execution_count": 4,
   "id": "unable-wrestling",
   "metadata": {},
   "outputs": [],
   "source": [
    "from sklearn.model_selection import train_test_split"
   ]
  },
  {
   "cell_type": "code",
   "execution_count": 6,
   "id": "changed-brake",
   "metadata": {},
   "outputs": [],
   "source": [
    "X_train, X_test, y_train, y_test = train_test_split(X, y, test_size=0.25, random_state=101)"
   ]
  },
  {
   "cell_type": "markdown",
   "id": "metallic-county",
   "metadata": {},
   "source": [
    "### Scaling the data"
   ]
  },
  {
   "cell_type": "code",
   "execution_count": 7,
   "id": "chemical-lying",
   "metadata": {},
   "outputs": [],
   "source": [
    "from sklearn.preprocessing import MinMaxScaler"
   ]
  },
  {
   "cell_type": "code",
   "execution_count": 8,
   "id": "thirty-store",
   "metadata": {},
   "outputs": [],
   "source": [
    "scaler = MinMaxScaler()"
   ]
  },
  {
   "cell_type": "code",
   "execution_count": 10,
   "id": "organizational-alaska",
   "metadata": {},
   "outputs": [],
   "source": [
    "X_train = scaler.fit_transform(X_train)"
   ]
  },
  {
   "cell_type": "code",
   "execution_count": 11,
   "id": "superb-hospital",
   "metadata": {},
   "outputs": [],
   "source": [
    "X_test = scaler.transform(X_test)"
   ]
  },
  {
   "cell_type": "markdown",
   "id": "improving-cholesterol",
   "metadata": {},
   "source": [
    "### Create model"
   ]
  },
  {
   "cell_type": "code",
   "execution_count": 12,
   "id": "statewide-representation",
   "metadata": {},
   "outputs": [],
   "source": [
    "import tensorflow as tf\n",
    "from tensorflow.keras.models import Sequential\n",
    "from tensorflow.keras.layers import Dense, Activation, Dropout"
   ]
  },
  {
   "cell_type": "code",
   "execution_count": 13,
   "id": "nutritional-soundtrack",
   "metadata": {},
   "outputs": [],
   "source": [
    "from tensorflow.keras.callbacks import EarlyStopping, TensorBoard"
   ]
  },
  {
   "cell_type": "code",
   "execution_count": 14,
   "id": "sexual-fourth",
   "metadata": {},
   "outputs": [],
   "source": [
    "early_stop = EarlyStopping(monitor='val_loss',mode='min',verbose=1,patience=25)"
   ]
  },
  {
   "cell_type": "code",
   "execution_count": 15,
   "id": "associate-stretch",
   "metadata": {},
   "outputs": [
    {
     "data": {
      "text/plain": [
       "'C:\\\\Users\\\\Zac\\\\Documents\\\\Important\\\\ContinuingED\\\\Py_DS_ML_Bootcamp-master\\\\Refactored_Py_DS_ML_Bootcamp-master\\\\22-Deep Learning\\\\TensorFlow_FILES'"
      ]
     },
     "execution_count": 15,
     "metadata": {},
     "output_type": "execute_result"
    }
   ],
   "source": [
    "pwd"
   ]
  },
  {
   "cell_type": "markdown",
   "id": "integral-firmware",
   "metadata": {},
   "source": [
    "### Tensorboard callback"
   ]
  },
  {
   "cell_type": "code",
   "execution_count": 16,
   "id": "acquired-cartoon",
   "metadata": {},
   "outputs": [],
   "source": [
    "from datetime import datetime"
   ]
  },
  {
   "cell_type": "code",
   "execution_count": 26,
   "id": "heated-principle",
   "metadata": {},
   "outputs": [
    {
     "data": {
      "text/plain": [
       "'2021-03-23--2115'"
      ]
     },
     "execution_count": 26,
     "metadata": {},
     "output_type": "execute_result"
    }
   ],
   "source": [
    "datetime.now().strftime(\"%Y-%m-%d--%H%M\")"
   ]
  },
  {
   "cell_type": "code",
   "execution_count": 27,
   "id": "honest-newsletter",
   "metadata": {},
   "outputs": [],
   "source": [
    "timestamp = datetime.now().strftime(\"%Y-%m-%d--%H%M\")\n",
    "\n",
    "log_directory = 'logs\\\\fit'\n",
    "\n",
    "log_directory = log_directory + '\\\\' +timestamp\n",
    "\n",
    "board = TensorBoard(log_dir=log_directory,histogram_freq=1,\n",
    "                   write_graph=True,\n",
    "                   write_images=True,\n",
    "                   update_freq='epoch',\n",
    "                   profile_batch=2,\n",
    "                   embeddings_freq=1)"
   ]
  },
  {
   "cell_type": "code",
   "execution_count": 28,
   "id": "later-depth",
   "metadata": {},
   "outputs": [],
   "source": [
    "model = Sequential()\n",
    "model.add(Dense(30,activation='relu'))\n",
    "model.add(Dropout(.5))\n",
    "model.add(Dense(15,activation='relu'))\n",
    "model.add(Dropout(.5))\n",
    "model.add(Dense(1,activation='sigmoid'))\n",
    "model.compile(loss='binary_crossentropy',optimizer='adam')"
   ]
  },
  {
   "cell_type": "markdown",
   "id": "liberal-welding",
   "metadata": {},
   "source": [
    "### Train model"
   ]
  },
  {
   "cell_type": "code",
   "execution_count": 29,
   "id": "pleasant-sender",
   "metadata": {},
   "outputs": [
    {
     "name": "stdout",
     "output_type": "stream",
     "text": [
      "Epoch 1/600\n",
      "14/14 [==============================] - 2s 89ms/step - loss: 0.7001 - val_loss: 0.6576\n",
      "Epoch 2/600\n",
      "14/14 [==============================] - 0s 5ms/step - loss: 0.6696 - val_loss: 0.6399\n",
      "Epoch 3/600\n",
      "14/14 [==============================] - 0s 6ms/step - loss: 0.6366 - val_loss: 0.6154\n",
      "Epoch 4/600\n",
      "14/14 [==============================] - 0s 5ms/step - loss: 0.6361 - val_loss: 0.5899\n",
      "Epoch 5/600\n",
      "14/14 [==============================] - 0s 6ms/step - loss: 0.6006 - val_loss: 0.5617\n",
      "Epoch 6/600\n",
      "14/14 [==============================] - 0s 5ms/step - loss: 0.5799 - val_loss: 0.5271\n",
      "Epoch 7/600\n",
      "14/14 [==============================] - 0s 20ms/step - loss: 0.5503 - val_loss: 0.4970\n",
      "Epoch 8/600\n",
      "14/14 [==============================] - 0s 5ms/step - loss: 0.5349 - val_loss: 0.4663\n",
      "Epoch 9/600\n",
      "14/14 [==============================] - 0s 8ms/step - loss: 0.4960 - val_loss: 0.4382\n",
      "Epoch 10/600\n",
      "14/14 [==============================] - 0s 5ms/step - loss: 0.4920 - val_loss: 0.4086\n",
      "Epoch 11/600\n",
      "14/14 [==============================] - 0s 8ms/step - loss: 0.4820 - val_loss: 0.3811\n",
      "Epoch 12/600\n",
      "14/14 [==============================] - 0s 9ms/step - loss: 0.4519 - val_loss: 0.3579\n",
      "Epoch 13/600\n",
      "14/14 [==============================] - 0s 8ms/step - loss: 0.4370 - val_loss: 0.3302\n",
      "Epoch 14/600\n",
      "14/14 [==============================] - 0s 6ms/step - loss: 0.4054 - val_loss: 0.3065\n",
      "Epoch 15/600\n",
      "14/14 [==============================] - 0s 8ms/step - loss: 0.3850 - val_loss: 0.2796\n",
      "Epoch 16/600\n",
      "14/14 [==============================] - 0s 7ms/step - loss: 0.3465 - val_loss: 0.2609\n",
      "Epoch 17/600\n",
      "14/14 [==============================] - 0s 7ms/step - loss: 0.3398 - val_loss: 0.2401\n",
      "Epoch 18/600\n",
      "14/14 [==============================] - 0s 5ms/step - loss: 0.3144 - val_loss: 0.2283\n",
      "Epoch 19/600\n",
      "14/14 [==============================] - 0s 5ms/step - loss: 0.2984 - val_loss: 0.2134\n",
      "Epoch 20/600\n",
      "14/14 [==============================] - 0s 6ms/step - loss: 0.2884 - val_loss: 0.2018\n",
      "Epoch 21/600\n",
      "14/14 [==============================] - 0s 5ms/step - loss: 0.3254 - val_loss: 0.1948\n",
      "Epoch 22/600\n",
      "14/14 [==============================] - 0s 5ms/step - loss: 0.2783 - val_loss: 0.1836\n",
      "Epoch 23/600\n",
      "14/14 [==============================] - 0s 7ms/step - loss: 0.2937 - val_loss: 0.1815\n",
      "Epoch 24/600\n",
      "14/14 [==============================] - 0s 7ms/step - loss: 0.2450 - val_loss: 0.1854\n",
      "Epoch 25/600\n",
      "14/14 [==============================] - 0s 7ms/step - loss: 0.2594 - val_loss: 0.1808\n",
      "Epoch 26/600\n",
      "14/14 [==============================] - 0s 8ms/step - loss: 0.2272 - val_loss: 0.1609\n",
      "Epoch 27/600\n",
      "14/14 [==============================] - 0s 7ms/step - loss: 0.2337 - val_loss: 0.1599\n",
      "Epoch 28/600\n",
      "14/14 [==============================] - 0s 8ms/step - loss: 0.1971 - val_loss: 0.1512\n",
      "Epoch 29/600\n",
      "14/14 [==============================] - 0s 5ms/step - loss: 0.2379 - val_loss: 0.1552\n",
      "Epoch 30/600\n",
      "14/14 [==============================] - 0s 7ms/step - loss: 0.2050 - val_loss: 0.1482\n",
      "Epoch 31/600\n",
      "14/14 [==============================] - 0s 6ms/step - loss: 0.1820 - val_loss: 0.1466\n",
      "Epoch 32/600\n",
      "14/14 [==============================] - 0s 6ms/step - loss: 0.1867 - val_loss: 0.1341\n",
      "Epoch 33/600\n",
      "14/14 [==============================] - 0s 7ms/step - loss: 0.2111 - val_loss: 0.1284\n",
      "Epoch 34/600\n",
      "14/14 [==============================] - 0s 5ms/step - loss: 0.1914 - val_loss: 0.1295\n",
      "Epoch 35/600\n",
      "14/14 [==============================] - 0s 5ms/step - loss: 0.2071 - val_loss: 0.1231\n",
      "Epoch 36/600\n",
      "14/14 [==============================] - 0s 5ms/step - loss: 0.1760 - val_loss: 0.1248\n",
      "Epoch 37/600\n",
      "14/14 [==============================] - 0s 8ms/step - loss: 0.1857 - val_loss: 0.1239\n",
      "Epoch 38/600\n",
      "14/14 [==============================] - 0s 8ms/step - loss: 0.2006 - val_loss: 0.1262\n",
      "Epoch 39/600\n",
      "14/14 [==============================] - 0s 7ms/step - loss: 0.1925 - val_loss: 0.1197\n",
      "Epoch 40/600\n",
      "14/14 [==============================] - 0s 7ms/step - loss: 0.1645 - val_loss: 0.1149\n",
      "Epoch 41/600\n",
      "14/14 [==============================] - 0s 6ms/step - loss: 0.1805 - val_loss: 0.1132\n",
      "Epoch 42/600\n",
      "14/14 [==============================] - 0s 8ms/step - loss: 0.1819 - val_loss: 0.1208\n",
      "Epoch 43/600\n",
      "14/14 [==============================] - 0s 9ms/step - loss: 0.1522 - val_loss: 0.1109\n",
      "Epoch 44/600\n",
      "14/14 [==============================] - 0s 5ms/step - loss: 0.1654 - val_loss: 0.1095\n",
      "Epoch 45/600\n",
      "14/14 [==============================] - 0s 5ms/step - loss: 0.1665 - val_loss: 0.1286\n",
      "Epoch 46/600\n",
      "14/14 [==============================] - 0s 5ms/step - loss: 0.1497 - val_loss: 0.1140\n",
      "Epoch 47/600\n",
      "14/14 [==============================] - 0s 8ms/step - loss: 0.1518 - val_loss: 0.1096\n",
      "Epoch 48/600\n",
      "14/14 [==============================] - 0s 7ms/step - loss: 0.1584 - val_loss: 0.1078\n",
      "Epoch 49/600\n",
      "14/14 [==============================] - 0s 8ms/step - loss: 0.1971 - val_loss: 0.1105\n",
      "Epoch 50/600\n",
      "14/14 [==============================] - 0s 9ms/step - loss: 0.1377 - val_loss: 0.1070\n",
      "Epoch 51/600\n",
      "14/14 [==============================] - 0s 7ms/step - loss: 0.1421 - val_loss: 0.1171\n",
      "Epoch 52/600\n",
      "14/14 [==============================] - 0s 8ms/step - loss: 0.1765 - val_loss: 0.1065\n",
      "Epoch 53/600\n",
      "14/14 [==============================] - 0s 6ms/step - loss: 0.1836 - val_loss: 0.1065\n",
      "Epoch 54/600\n",
      "14/14 [==============================] - 0s 6ms/step - loss: 0.1543 - val_loss: 0.1107\n",
      "Epoch 55/600\n",
      "14/14 [==============================] - 0s 4ms/step - loss: 0.1253 - val_loss: 0.0977\n",
      "Epoch 56/600\n",
      "14/14 [==============================] - 0s 5ms/step - loss: 0.1307 - val_loss: 0.0989\n",
      "Epoch 57/600\n",
      "14/14 [==============================] - 0s 5ms/step - loss: 0.1244 - val_loss: 0.1029\n",
      "Epoch 58/600\n",
      "14/14 [==============================] - 0s 6ms/step - loss: 0.1414 - val_loss: 0.1023\n",
      "Epoch 59/600\n",
      "14/14 [==============================] - 0s 8ms/step - loss: 0.1061 - val_loss: 0.1019\n",
      "Epoch 60/600\n",
      "14/14 [==============================] - 0s 8ms/step - loss: 0.1327 - val_loss: 0.0912\n",
      "Epoch 61/600\n",
      "14/14 [==============================] - 0s 5ms/step - loss: 0.1303 - val_loss: 0.1021\n",
      "Epoch 62/600\n",
      "14/14 [==============================] - 0s 5ms/step - loss: 0.1219 - val_loss: 0.0911\n",
      "Epoch 63/600\n",
      "14/14 [==============================] - 0s 5ms/step - loss: 0.1168 - val_loss: 0.0930\n",
      "Epoch 64/600\n",
      "14/14 [==============================] - 0s 5ms/step - loss: 0.1128 - val_loss: 0.0970\n",
      "Epoch 65/600\n",
      "14/14 [==============================] - 0s 5ms/step - loss: 0.1267 - val_loss: 0.0979\n",
      "Epoch 66/600\n",
      "14/14 [==============================] - 0s 5ms/step - loss: 0.1109 - val_loss: 0.0918\n",
      "Epoch 67/600\n",
      "14/14 [==============================] - 0s 6ms/step - loss: 0.1163 - val_loss: 0.0923\n",
      "Epoch 68/600\n",
      "14/14 [==============================] - 0s 5ms/step - loss: 0.1145 - val_loss: 0.0880\n",
      "Epoch 69/600\n",
      "14/14 [==============================] - 0s 7ms/step - loss: 0.1019 - val_loss: 0.0902\n",
      "Epoch 70/600\n",
      "14/14 [==============================] - 0s 7ms/step - loss: 0.0983 - val_loss: 0.0945\n",
      "Epoch 71/600\n",
      "14/14 [==============================] - 0s 6ms/step - loss: 0.1143 - val_loss: 0.1027\n",
      "Epoch 72/600\n",
      "14/14 [==============================] - 0s 5ms/step - loss: 0.1400 - val_loss: 0.0878\n",
      "Epoch 73/600\n",
      "14/14 [==============================] - 0s 7ms/step - loss: 0.1094 - val_loss: 0.0893\n",
      "Epoch 74/600\n",
      "14/14 [==============================] - 0s 6ms/step - loss: 0.1273 - val_loss: 0.0935\n",
      "Epoch 75/600\n",
      "14/14 [==============================] - 0s 7ms/step - loss: 0.0944 - val_loss: 0.0923\n",
      "Epoch 76/600\n",
      "14/14 [==============================] - 0s 6ms/step - loss: 0.1101 - val_loss: 0.0854\n",
      "Epoch 77/600\n",
      "14/14 [==============================] - 0s 5ms/step - loss: 0.1148 - val_loss: 0.1002\n",
      "Epoch 78/600\n",
      "14/14 [==============================] - 0s 6ms/step - loss: 0.0968 - val_loss: 0.0919\n",
      "Epoch 79/600\n",
      "14/14 [==============================] - 0s 18ms/step - loss: 0.1157 - val_loss: 0.0897\n",
      "Epoch 80/600\n",
      "14/14 [==============================] - 0s 5ms/step - loss: 0.1243 - val_loss: 0.0934\n",
      "Epoch 81/600\n",
      "14/14 [==============================] - 0s 5ms/step - loss: 0.0916 - val_loss: 0.0890\n",
      "Epoch 82/600\n",
      "14/14 [==============================] - 0s 7ms/step - loss: 0.0940 - val_loss: 0.0925\n"
     ]
    },
    {
     "name": "stdout",
     "output_type": "stream",
     "text": [
      "Epoch 83/600\n",
      "14/14 [==============================] - 0s 5ms/step - loss: 0.0987 - val_loss: 0.0847\n",
      "Epoch 84/600\n",
      "14/14 [==============================] - 0s 5ms/step - loss: 0.0912 - val_loss: 0.1019\n",
      "Epoch 85/600\n",
      "14/14 [==============================] - 0s 5ms/step - loss: 0.1004 - val_loss: 0.1021\n",
      "Epoch 86/600\n",
      "14/14 [==============================] - 0s 7ms/step - loss: 0.1411 - val_loss: 0.0848\n",
      "Epoch 87/600\n",
      "14/14 [==============================] - 0s 5ms/step - loss: 0.1065 - val_loss: 0.0932\n",
      "Epoch 88/600\n",
      "14/14 [==============================] - 0s 5ms/step - loss: 0.1123 - val_loss: 0.0923\n",
      "Epoch 89/600\n",
      "14/14 [==============================] - 0s 6ms/step - loss: 0.0767 - val_loss: 0.0908\n",
      "Epoch 90/600\n",
      "14/14 [==============================] - 0s 5ms/step - loss: 0.1024 - val_loss: 0.0806\n",
      "Epoch 91/600\n",
      "14/14 [==============================] - 0s 5ms/step - loss: 0.0887 - val_loss: 0.0953\n",
      "Epoch 92/600\n",
      "14/14 [==============================] - 0s 5ms/step - loss: 0.1095 - val_loss: 0.1072\n",
      "Epoch 93/600\n",
      "14/14 [==============================] - 0s 8ms/step - loss: 0.0861 - val_loss: 0.0967\n",
      "Epoch 94/600\n",
      "14/14 [==============================] - 0s 6ms/step - loss: 0.0814 - val_loss: 0.0975\n",
      "Epoch 95/600\n",
      "14/14 [==============================] - 0s 7ms/step - loss: 0.0956 - val_loss: 0.0844\n",
      "Epoch 96/600\n",
      "14/14 [==============================] - 0s 5ms/step - loss: 0.0855 - val_loss: 0.0815\n",
      "Epoch 97/600\n",
      "14/14 [==============================] - 0s 6ms/step - loss: 0.1068 - val_loss: 0.0819\n",
      "Epoch 98/600\n",
      "14/14 [==============================] - 0s 5ms/step - loss: 0.0773 - val_loss: 0.0882\n",
      "Epoch 99/600\n",
      "14/14 [==============================] - 0s 4ms/step - loss: 0.1078 - val_loss: 0.0780\n",
      "Epoch 100/600\n",
      "14/14 [==============================] - 0s 7ms/step - loss: 0.0897 - val_loss: 0.0937\n",
      "Epoch 101/600\n",
      "14/14 [==============================] - 0s 5ms/step - loss: 0.0973 - val_loss: 0.1095\n",
      "Epoch 102/600\n",
      "14/14 [==============================] - 0s 5ms/step - loss: 0.1026 - val_loss: 0.0813\n",
      "Epoch 103/600\n",
      "14/14 [==============================] - 0s 5ms/step - loss: 0.1087 - val_loss: 0.0869\n",
      "Epoch 104/600\n",
      "14/14 [==============================] - 0s 5ms/step - loss: 0.1368 - val_loss: 0.0784\n",
      "Epoch 105/600\n",
      "14/14 [==============================] - 0s 5ms/step - loss: 0.0849 - val_loss: 0.0834\n",
      "Epoch 106/600\n",
      "14/14 [==============================] - 0s 6ms/step - loss: 0.0863 - val_loss: 0.0776\n",
      "Epoch 107/600\n",
      "14/14 [==============================] - 0s 7ms/step - loss: 0.0942 - val_loss: 0.0865\n",
      "Epoch 108/600\n",
      "14/14 [==============================] - 0s 5ms/step - loss: 0.1189 - val_loss: 0.0823\n",
      "Epoch 109/600\n",
      "14/14 [==============================] - 0s 4ms/step - loss: 0.0934 - val_loss: 0.0801\n",
      "Epoch 110/600\n",
      "14/14 [==============================] - 0s 5ms/step - loss: 0.0913 - val_loss: 0.0799\n",
      "Epoch 111/600\n",
      "14/14 [==============================] - 0s 5ms/step - loss: 0.0962 - val_loss: 0.0866\n",
      "Epoch 112/600\n",
      "14/14 [==============================] - 0s 5ms/step - loss: 0.1099 - val_loss: 0.0802\n",
      "Epoch 113/600\n",
      "14/14 [==============================] - 0s 5ms/step - loss: 0.0972 - val_loss: 0.0877\n",
      "Epoch 114/600\n",
      "14/14 [==============================] - 0s 7ms/step - loss: 0.1113 - val_loss: 0.0810\n",
      "Epoch 115/600\n",
      "14/14 [==============================] - 0s 7ms/step - loss: 0.0587 - val_loss: 0.0752\n",
      "Epoch 116/600\n",
      "14/14 [==============================] - 0s 6ms/step - loss: 0.1149 - val_loss: 0.0802\n",
      "Epoch 117/600\n",
      "14/14 [==============================] - 0s 5ms/step - loss: 0.0669 - val_loss: 0.1065\n",
      "Epoch 118/600\n",
      "14/14 [==============================] - 0s 6ms/step - loss: 0.1090 - val_loss: 0.0942\n",
      "Epoch 119/600\n",
      "14/14 [==============================] - 0s 5ms/step - loss: 0.0888 - val_loss: 0.0969\n",
      "Epoch 120/600\n",
      "14/14 [==============================] - 0s 6ms/step - loss: 0.1029 - val_loss: 0.0980\n",
      "Epoch 121/600\n",
      "14/14 [==============================] - 0s 7ms/step - loss: 0.0976 - val_loss: 0.0757\n",
      "Epoch 122/600\n",
      "14/14 [==============================] - 0s 5ms/step - loss: 0.0816 - val_loss: 0.0966\n",
      "Epoch 123/600\n",
      "14/14 [==============================] - 0s 5ms/step - loss: 0.1042 - val_loss: 0.0824\n",
      "Epoch 124/600\n",
      "14/14 [==============================] - 0s 5ms/step - loss: 0.0940 - val_loss: 0.0977\n",
      "Epoch 125/600\n",
      "14/14 [==============================] - 0s 5ms/step - loss: 0.0841 - val_loss: 0.0786\n",
      "Epoch 126/600\n",
      "14/14 [==============================] - 0s 6ms/step - loss: 0.0736 - val_loss: 0.0826\n",
      "Epoch 127/600\n",
      "14/14 [==============================] - 0s 5ms/step - loss: 0.0946 - val_loss: 0.0794\n",
      "Epoch 128/600\n",
      "14/14 [==============================] - 0s 5ms/step - loss: 0.0712 - val_loss: 0.0836\n",
      "Epoch 129/600\n",
      "14/14 [==============================] - 0s 5ms/step - loss: 0.0643 - val_loss: 0.1048\n",
      "Epoch 130/600\n",
      "14/14 [==============================] - 0s 5ms/step - loss: 0.1072 - val_loss: 0.0906\n",
      "Epoch 131/600\n",
      "14/14 [==============================] - 0s 5ms/step - loss: 0.0874 - val_loss: 0.0763\n",
      "Epoch 132/600\n",
      "14/14 [==============================] - 0s 5ms/step - loss: 0.0780 - val_loss: 0.1080\n",
      "Epoch 133/600\n",
      "14/14 [==============================] - 0s 4ms/step - loss: 0.0853 - val_loss: 0.0809\n",
      "Epoch 134/600\n",
      "14/14 [==============================] - 0s 5ms/step - loss: 0.0688 - val_loss: 0.0928\n",
      "Epoch 135/600\n",
      "14/14 [==============================] - 0s 5ms/step - loss: 0.0745 - val_loss: 0.0907\n",
      "Epoch 136/600\n",
      "14/14 [==============================] - 0s 20ms/step - loss: 0.0668 - val_loss: 0.0859\n",
      "Epoch 137/600\n",
      "14/14 [==============================] - 0s 5ms/step - loss: 0.0711 - val_loss: 0.0802\n",
      "Epoch 138/600\n",
      "14/14 [==============================] - 0s 5ms/step - loss: 0.0753 - val_loss: 0.0837\n",
      "Epoch 139/600\n",
      "14/14 [==============================] - 0s 5ms/step - loss: 0.0771 - val_loss: 0.1002\n",
      "Epoch 140/600\n",
      "14/14 [==============================] - 0s 7ms/step - loss: 0.0901 - val_loss: 0.0806\n",
      "Epoch 00140: early stopping\n"
     ]
    },
    {
     "data": {
      "text/plain": [
       "<tensorflow.python.keras.callbacks.History at 0x276662c2358>"
      ]
     },
     "execution_count": 29,
     "metadata": {},
     "output_type": "execute_result"
    }
   ],
   "source": [
    "model.fit(x=X_train,y=y_train,\n",
    "          epochs=600,\n",
    "          validation_data=(X_test,y_test),verbose=1\n",
    "         ,callbacks=[early_stop,board])"
   ]
  },
  {
   "cell_type": "markdown",
   "id": "cordless-fabric",
   "metadata": {},
   "source": [
    "### Tensorboard time"
   ]
  },
  {
   "cell_type": "code",
   "execution_count": 30,
   "id": "upper-hudson",
   "metadata": {},
   "outputs": [
    {
     "name": "stdout",
     "output_type": "stream",
     "text": [
      "logs\\fit\\2021-03-23--2115\n"
     ]
    }
   ],
   "source": [
    "print(log_directory)"
   ]
  },
  {
   "cell_type": "code",
   "execution_count": 31,
   "id": "narrow-texture",
   "metadata": {},
   "outputs": [
    {
     "data": {
      "text/plain": [
       "'C:\\\\Users\\\\Zac\\\\Documents\\\\Important\\\\ContinuingED\\\\Py_DS_ML_Bootcamp-master\\\\Refactored_Py_DS_ML_Bootcamp-master\\\\22-Deep Learning\\\\TensorFlow_FILES'"
      ]
     },
     "execution_count": 31,
     "metadata": {},
     "output_type": "execute_result"
    }
   ],
   "source": [
    "pwd"
   ]
  },
  {
   "cell_type": "code",
   "execution_count": null,
   "id": "certain-attitude",
   "metadata": {},
   "outputs": [],
   "source": [
    "#started tensorboard on localhost:6006"
   ]
  }
 ],
 "metadata": {
  "kernelspec": {
   "display_name": "Python 3",
   "language": "python",
   "name": "python3"
  },
  "language_info": {
   "codemirror_mode": {
    "name": "ipython",
    "version": 3
   },
   "file_extension": ".py",
   "mimetype": "text/x-python",
   "name": "python",
   "nbconvert_exporter": "python",
   "pygments_lexer": "ipython3",
   "version": "3.7.0"
  }
 },
 "nbformat": 4,
 "nbformat_minor": 5
}
