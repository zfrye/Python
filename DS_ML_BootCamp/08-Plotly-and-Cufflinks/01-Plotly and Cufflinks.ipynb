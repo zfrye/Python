{
 "cells": [
  {
   "cell_type": "markdown",
   "metadata": {},
   "source": [
    "___\n",
    "\n",
    "<a href='http://www.pieriandata.com'> <img src='../Pierian_Data_Logo.png' /></a>\n",
    "___\n",
    "# Plotly and Cufflinks"
   ]
  },
  {
   "cell_type": "markdown",
   "metadata": {},
   "source": [
    "Plotly is a library that allows you to create interactive plots that you can use in dashboards or websites (you can save them as html files or static images).\n",
    "\n",
    "## Installation\n",
    "\n",
    "In order for this all to work, you'll need to install plotly and cufflinks to call plots directly off of a pandas dataframe. These libraries are not currently available through **conda** but are available through **pip**. Install the libraries at your command line/terminal using:\n",
    "\n",
    "    pip install plotly\n",
    "    pip install cufflinks\n",
    "\n",
    "** NOTE: Make sure you only have one installation of Python on your computer when you do this, otherwise the installation may not work. **\n",
    "\n",
    "## Imports and Set-up"
   ]
  },
  {
   "cell_type": "code",
   "execution_count": 1,
   "metadata": {},
   "outputs": [],
   "source": [
    "import pandas as pd\n",
    "import numpy as np\n",
    "%matplotlib inline"
   ]
  },
  {
   "cell_type": "code",
   "execution_count": 2,
   "metadata": {},
   "outputs": [
    {
     "name": "stdout",
     "output_type": "stream",
     "text": [
      "4.14.3\n"
     ]
    }
   ],
   "source": [
    "from plotly import __version__\n",
    "from plotly.offline import download_plotlyjs, init_notebook_mode, plot, iplot\n",
    "\n",
    "print(__version__) # requires version >= 1.9.0"
   ]
  },
  {
   "cell_type": "code",
   "execution_count": 3,
   "metadata": {},
   "outputs": [],
   "source": [
    "import cufflinks as cf"
   ]
  },
  {
   "cell_type": "code",
   "execution_count": 4,
   "metadata": {},
   "outputs": [
    {
     "data": {
      "text/html": [
       "        <script type=\"text/javascript\">\n",
       "        window.PlotlyConfig = {MathJaxConfig: 'local'};\n",
       "        if (window.MathJax) {MathJax.Hub.Config({SVG: {font: \"STIX-Web\"}});}\n",
       "        if (typeof require !== 'undefined') {\n",
       "        require.undef(\"plotly\");\n",
       "        requirejs.config({\n",
       "            paths: {\n",
       "                'plotly': ['https://cdn.plot.ly/plotly-latest.min']\n",
       "            }\n",
       "        });\n",
       "        require(['plotly'], function(Plotly) {\n",
       "            window._Plotly = Plotly;\n",
       "        });\n",
       "        }\n",
       "        </script>\n",
       "        "
      ]
     },
     "metadata": {},
     "output_type": "display_data"
    }
   ],
   "source": [
    "# For Notebooks\n",
    "init_notebook_mode(connected=True)"
   ]
  },
  {
   "cell_type": "code",
   "execution_count": 5,
   "metadata": {},
   "outputs": [
    {
     "data": {
      "text/html": [
       "        <script type=\"text/javascript\">\n",
       "        window.PlotlyConfig = {MathJaxConfig: 'local'};\n",
       "        if (window.MathJax) {MathJax.Hub.Config({SVG: {font: \"STIX-Web\"}});}\n",
       "        if (typeof require !== 'undefined') {\n",
       "        require.undef(\"plotly\");\n",
       "        requirejs.config({\n",
       "            paths: {\n",
       "                'plotly': ['https://cdn.plot.ly/plotly-latest.min']\n",
       "            }\n",
       "        });\n",
       "        require(['plotly'], function(Plotly) {\n",
       "            window._Plotly = Plotly;\n",
       "        });\n",
       "        }\n",
       "        </script>\n",
       "        "
      ]
     },
     "metadata": {},
     "output_type": "display_data"
    }
   ],
   "source": [
    "# For offline use\n",
    "cf.go_offline()"
   ]
  },
  {
   "cell_type": "markdown",
   "metadata": {},
   "source": [
    "### Fake Data"
   ]
  },
  {
   "cell_type": "code",
   "execution_count": 6,
   "metadata": {},
   "outputs": [],
   "source": [
    "df = pd.DataFrame(np.random.randn(100,4),columns='A B C D'.split())"
   ]
  },
  {
   "cell_type": "code",
   "execution_count": 7,
   "metadata": {},
   "outputs": [
    {
     "data": {
      "text/html": [
       "<div>\n",
       "<style scoped>\n",
       "    .dataframe tbody tr th:only-of-type {\n",
       "        vertical-align: middle;\n",
       "    }\n",
       "\n",
       "    .dataframe tbody tr th {\n",
       "        vertical-align: top;\n",
       "    }\n",
       "\n",
       "    .dataframe thead th {\n",
       "        text-align: right;\n",
       "    }\n",
       "</style>\n",
       "<table border=\"1\" class=\"dataframe\">\n",
       "  <thead>\n",
       "    <tr style=\"text-align: right;\">\n",
       "      <th></th>\n",
       "      <th>A</th>\n",
       "      <th>B</th>\n",
       "      <th>C</th>\n",
       "      <th>D</th>\n",
       "    </tr>\n",
       "  </thead>\n",
       "  <tbody>\n",
       "    <tr>\n",
       "      <th>0</th>\n",
       "      <td>0.822529</td>\n",
       "      <td>0.979842</td>\n",
       "      <td>-1.848079</td>\n",
       "      <td>1.246161</td>\n",
       "    </tr>\n",
       "    <tr>\n",
       "      <th>1</th>\n",
       "      <td>1.790652</td>\n",
       "      <td>-0.077390</td>\n",
       "      <td>-1.507307</td>\n",
       "      <td>0.355118</td>\n",
       "    </tr>\n",
       "    <tr>\n",
       "      <th>2</th>\n",
       "      <td>-0.425265</td>\n",
       "      <td>0.199141</td>\n",
       "      <td>2.751765</td>\n",
       "      <td>-0.185951</td>\n",
       "    </tr>\n",
       "    <tr>\n",
       "      <th>3</th>\n",
       "      <td>-0.114105</td>\n",
       "      <td>-1.214327</td>\n",
       "      <td>-0.383271</td>\n",
       "      <td>-0.348331</td>\n",
       "    </tr>\n",
       "    <tr>\n",
       "      <th>4</th>\n",
       "      <td>0.779433</td>\n",
       "      <td>0.142855</td>\n",
       "      <td>0.500983</td>\n",
       "      <td>0.888323</td>\n",
       "    </tr>\n",
       "  </tbody>\n",
       "</table>\n",
       "</div>"
      ],
      "text/plain": [
       "          A         B         C         D\n",
       "0  0.822529  0.979842 -1.848079  1.246161\n",
       "1  1.790652 -0.077390 -1.507307  0.355118\n",
       "2 -0.425265  0.199141  2.751765 -0.185951\n",
       "3 -0.114105 -1.214327 -0.383271 -0.348331\n",
       "4  0.779433  0.142855  0.500983  0.888323"
      ]
     },
     "execution_count": 7,
     "metadata": {},
     "output_type": "execute_result"
    }
   ],
   "source": [
    "df.head()"
   ]
  },
  {
   "cell_type": "code",
   "execution_count": 8,
   "metadata": {},
   "outputs": [],
   "source": [
    "df2 = pd.DataFrame({'Category':['A','B','C'],'Values':[32,43,50]})"
   ]
  },
  {
   "cell_type": "code",
   "execution_count": 9,
   "metadata": {},
   "outputs": [
    {
     "data": {
      "text/html": [
       "<div>\n",
       "<style scoped>\n",
       "    .dataframe tbody tr th:only-of-type {\n",
       "        vertical-align: middle;\n",
       "    }\n",
       "\n",
       "    .dataframe tbody tr th {\n",
       "        vertical-align: top;\n",
       "    }\n",
       "\n",
       "    .dataframe thead th {\n",
       "        text-align: right;\n",
       "    }\n",
       "</style>\n",
       "<table border=\"1\" class=\"dataframe\">\n",
       "  <thead>\n",
       "    <tr style=\"text-align: right;\">\n",
       "      <th></th>\n",
       "      <th>Category</th>\n",
       "      <th>Values</th>\n",
       "    </tr>\n",
       "  </thead>\n",
       "  <tbody>\n",
       "    <tr>\n",
       "      <th>0</th>\n",
       "      <td>A</td>\n",
       "      <td>32</td>\n",
       "    </tr>\n",
       "    <tr>\n",
       "      <th>1</th>\n",
       "      <td>B</td>\n",
       "      <td>43</td>\n",
       "    </tr>\n",
       "    <tr>\n",
       "      <th>2</th>\n",
       "      <td>C</td>\n",
       "      <td>50</td>\n",
       "    </tr>\n",
       "  </tbody>\n",
       "</table>\n",
       "</div>"
      ],
      "text/plain": [
       "  Category  Values\n",
       "0        A      32\n",
       "1        B      43\n",
       "2        C      50"
      ]
     },
     "execution_count": 9,
     "metadata": {},
     "output_type": "execute_result"
    }
   ],
   "source": [
    "df2.head()"
   ]
  },
  {
   "cell_type": "markdown",
   "metadata": {},
   "source": [
    "## Using Cufflinks and iplot()\n",
    "\n",
    "* scatter\n",
    "* bar\n",
    "* box\n",
    "* spread\n",
    "* ratio\n",
    "* heatmap\n",
    "* surface\n",
    "* histogram\n",
    "* bubble"
   ]
  },
  {
   "cell_type": "markdown",
   "metadata": {},
   "source": [
    "## Scatter"
   ]
  },
  {
   "cell_type": "code",
   "execution_count": 11,
   "metadata": {},
   "outputs": [
    {
     "data": {
      "application/vnd.plotly.v1+json": {
       "config": {
        "linkText": "Export to plot.ly",
        "plotlyServerURL": "https://plot.ly",
        "showLink": true
       },
       "data": [
        {
         "line": {
          "color": "rgba(255, 153, 51, 1.0)",
          "dash": "solid",
          "shape": "linear",
          "width": 1.3
         },
         "marker": {
          "size": 10,
          "symbol": "circle"
         },
         "mode": "markers",
         "name": "B",
         "text": "",
         "type": "scatter",
         "x": [
          0.8225286437416501,
          1.7906518177693165,
          -0.4252650252772421,
          -0.11410539779221635,
          0.7794333388601931,
          0.5003190132121949,
          0.2018489181641643,
          -0.5146250488763782,
          0.3188360196714971,
          -0.5408247176895304,
          0.22587083856421108,
          -0.6974670580084895,
          0.5771703678093689,
          -0.013976202921457752,
          0.8783343452604568,
          -1.614949706939007,
          0.19153236329955206,
          -1.5765158215202855,
          -0.4112903516874633,
          -1.092087010716353,
          1.33599345630096,
          1.4351531348939572,
          -1.2848571383638239,
          -1.7510693502903472,
          0.8075813530347192,
          -0.5470180608654744,
          -0.28413980500001806,
          0.20961814337947923,
          -0.02959907422165152,
          0.9547946370028454,
          -0.4789236470968032,
          -0.5970003307837691,
          -0.39385277023122905,
          0.11981370704438987,
          0.9871751876769622,
          0.31853744701880177,
          -0.3657065423701585,
          0.37725580911967876,
          -0.18348735017904264,
          1.6081305852347272,
          0.1731427842198789,
          1.7563528761773035,
          -1.9242694093670059,
          0.15322007858144676,
          0.3694726518707792,
          1.1238409758155203,
          -0.47236617294136934,
          -2.2054955020266758,
          -0.038750514669134865,
          0.6406891232053674,
          -0.5122664102800992,
          0.4403463452002344,
          0.12621387719415295,
          0.11548873258660677,
          -0.5566016986744087,
          -0.013768255762175781,
          0.8952226489212914,
          0.9118298889268938,
          0.569114211520104,
          0.024437122932751843,
          1.701500345824061,
          0.2251987043144141,
          -0.24188881465420595,
          1.3250447913362182,
          0.360446668523524,
          0.17515640035608626,
          -1.704366488761559,
          -1.5158347740723928,
          0.4902716968708798,
          0.6453474335949971,
          -0.7399554958505687,
          1.8131232768603385,
          -0.12291573819921484,
          0.4669552405324629,
          -0.2938506167449886,
          0.40228120830014147,
          -2.149327520203454,
          -0.6866806942881285,
          -0.2927811094268949,
          0.5042300314844698,
          0.6555808286390054,
          -0.9279139834900973,
          -0.08543978812480418,
          -0.04796523223752661,
          0.0746435164054404,
          0.2307148975501273,
          -2.027424116120096,
          0.3450571253534357,
          -1.1612443444561293,
          -0.3726671090762646,
          -2.976221788193337,
          -2.1117101596495687,
          -0.6985426135652383,
          1.1965258562450305,
          -1.0459953031714726,
          1.976436641953744,
          -1.1349899468640317,
          0.3040281001626459,
          -1.8846583680508304,
          0.47535347700831315
         ],
         "y": [
          0.9798422876110087,
          -0.07739040844163653,
          0.199140992111598,
          -1.2143268018612448,
          0.14285538470625045,
          -0.941613979403886,
          -0.5179651092895884,
          -2.9720401690748086,
          -0.9025695839599948,
          0.7070161377970824,
          0.6226851269936455,
          1.7220710947919995,
          2.421389113461388,
          -0.15836707680921455,
          -0.00824513735289978,
          -2.4502263963546427,
          0.32938834873258654,
          0.43268652790313156,
          -0.07647046488415142,
          0.16117870564803655,
          0.5719563509363634,
          0.6489901001574245,
          0.9376314079451413,
          -0.5772109776816116,
          0.43940958062906715,
          0.27942060999655977,
          -0.9424446593446479,
          -1.486525613267546,
          1.6312084499589516,
          -0.07507516007927825,
          0.12760269243775124,
          0.05373579584888705,
          0.1379571283605871,
          -0.8678493687113031,
          -0.43134562129715953,
          0.6545365996125828,
          -0.6271866565552896,
          -0.13713206936808897,
          1.2742682936024408,
          -0.8413247811888707,
          -0.7302648312780448,
          -0.6117741047846332,
          -1.210299969457778,
          -0.3801376853687354,
          -0.48236709698927316,
          1.6101057259159142,
          0.018396524012302493,
          3.02256317083536,
          2.5691163423097496,
          -0.8487428166948513,
          -0.10164929522395912,
          0.8273933294947996,
          -0.4641358512359839,
          1.0174474127248259,
          -0.6615304859327857,
          -1.8869319213356825,
          0.4677487870018134,
          -0.9766521809572346,
          0.4424919332422819,
          -3.1831759316713057,
          0.2283009026441312,
          0.36950934843910815,
          0.5369686034283853,
          0.2983504233853764,
          -0.004378996737566833,
          1.0592911293848593,
          1.6451075032610067,
          0.29029878762587735,
          -0.4609110721334788,
          0.4378794865441988,
          -1.4283048764958761,
          0.40738608837815354,
          0.7625659313961809,
          -1.4172139471023841,
          -0.10136148568438476,
          0.15838136839989114,
          -1.3580445071102318,
          -1.1087998884123191,
          0.05526415914038533,
          0.9883265678290705,
          -0.03771628428204599,
          0.26505609003670605,
          1.0489263265095015,
          2.2480644236455434,
          -0.39604599179023386,
          -2.0576074336266377,
          1.6418210719318171,
          -2.064000840790136,
          0.18340752558238735,
          0.3708702460919371,
          0.7564073758273471,
          0.5622132114774402,
          -0.8681703206538972,
          -0.5457892288792988,
          0.6462776058743678,
          -1.388235965781543,
          -1.403310739967856,
          -0.5048268930823668,
          -0.008940855983669326,
          0.2678190263167388
         ]
        }
       ],
       "layout": {
        "legend": {
         "bgcolor": "#F5F6F9",
         "font": {
          "color": "#4D5663"
         }
        },
        "paper_bgcolor": "#F5F6F9",
        "plot_bgcolor": "#F5F6F9",
        "template": {
         "data": {
          "bar": [
           {
            "error_x": {
             "color": "#2a3f5f"
            },
            "error_y": {
             "color": "#2a3f5f"
            },
            "marker": {
             "line": {
              "color": "#E5ECF6",
              "width": 0.5
             }
            },
            "type": "bar"
           }
          ],
          "barpolar": [
           {
            "marker": {
             "line": {
              "color": "#E5ECF6",
              "width": 0.5
             }
            },
            "type": "barpolar"
           }
          ],
          "carpet": [
           {
            "aaxis": {
             "endlinecolor": "#2a3f5f",
             "gridcolor": "white",
             "linecolor": "white",
             "minorgridcolor": "white",
             "startlinecolor": "#2a3f5f"
            },
            "baxis": {
             "endlinecolor": "#2a3f5f",
             "gridcolor": "white",
             "linecolor": "white",
             "minorgridcolor": "white",
             "startlinecolor": "#2a3f5f"
            },
            "type": "carpet"
           }
          ],
          "choropleth": [
           {
            "colorbar": {
             "outlinewidth": 0,
             "ticks": ""
            },
            "type": "choropleth"
           }
          ],
          "contour": [
           {
            "colorbar": {
             "outlinewidth": 0,
             "ticks": ""
            },
            "colorscale": [
             [
              0,
              "#0d0887"
             ],
             [
              0.1111111111111111,
              "#46039f"
             ],
             [
              0.2222222222222222,
              "#7201a8"
             ],
             [
              0.3333333333333333,
              "#9c179e"
             ],
             [
              0.4444444444444444,
              "#bd3786"
             ],
             [
              0.5555555555555556,
              "#d8576b"
             ],
             [
              0.6666666666666666,
              "#ed7953"
             ],
             [
              0.7777777777777778,
              "#fb9f3a"
             ],
             [
              0.8888888888888888,
              "#fdca26"
             ],
             [
              1,
              "#f0f921"
             ]
            ],
            "type": "contour"
           }
          ],
          "contourcarpet": [
           {
            "colorbar": {
             "outlinewidth": 0,
             "ticks": ""
            },
            "type": "contourcarpet"
           }
          ],
          "heatmap": [
           {
            "colorbar": {
             "outlinewidth": 0,
             "ticks": ""
            },
            "colorscale": [
             [
              0,
              "#0d0887"
             ],
             [
              0.1111111111111111,
              "#46039f"
             ],
             [
              0.2222222222222222,
              "#7201a8"
             ],
             [
              0.3333333333333333,
              "#9c179e"
             ],
             [
              0.4444444444444444,
              "#bd3786"
             ],
             [
              0.5555555555555556,
              "#d8576b"
             ],
             [
              0.6666666666666666,
              "#ed7953"
             ],
             [
              0.7777777777777778,
              "#fb9f3a"
             ],
             [
              0.8888888888888888,
              "#fdca26"
             ],
             [
              1,
              "#f0f921"
             ]
            ],
            "type": "heatmap"
           }
          ],
          "heatmapgl": [
           {
            "colorbar": {
             "outlinewidth": 0,
             "ticks": ""
            },
            "colorscale": [
             [
              0,
              "#0d0887"
             ],
             [
              0.1111111111111111,
              "#46039f"
             ],
             [
              0.2222222222222222,
              "#7201a8"
             ],
             [
              0.3333333333333333,
              "#9c179e"
             ],
             [
              0.4444444444444444,
              "#bd3786"
             ],
             [
              0.5555555555555556,
              "#d8576b"
             ],
             [
              0.6666666666666666,
              "#ed7953"
             ],
             [
              0.7777777777777778,
              "#fb9f3a"
             ],
             [
              0.8888888888888888,
              "#fdca26"
             ],
             [
              1,
              "#f0f921"
             ]
            ],
            "type": "heatmapgl"
           }
          ],
          "histogram": [
           {
            "marker": {
             "colorbar": {
              "outlinewidth": 0,
              "ticks": ""
             }
            },
            "type": "histogram"
           }
          ],
          "histogram2d": [
           {
            "colorbar": {
             "outlinewidth": 0,
             "ticks": ""
            },
            "colorscale": [
             [
              0,
              "#0d0887"
             ],
             [
              0.1111111111111111,
              "#46039f"
             ],
             [
              0.2222222222222222,
              "#7201a8"
             ],
             [
              0.3333333333333333,
              "#9c179e"
             ],
             [
              0.4444444444444444,
              "#bd3786"
             ],
             [
              0.5555555555555556,
              "#d8576b"
             ],
             [
              0.6666666666666666,
              "#ed7953"
             ],
             [
              0.7777777777777778,
              "#fb9f3a"
             ],
             [
              0.8888888888888888,
              "#fdca26"
             ],
             [
              1,
              "#f0f921"
             ]
            ],
            "type": "histogram2d"
           }
          ],
          "histogram2dcontour": [
           {
            "colorbar": {
             "outlinewidth": 0,
             "ticks": ""
            },
            "colorscale": [
             [
              0,
              "#0d0887"
             ],
             [
              0.1111111111111111,
              "#46039f"
             ],
             [
              0.2222222222222222,
              "#7201a8"
             ],
             [
              0.3333333333333333,
              "#9c179e"
             ],
             [
              0.4444444444444444,
              "#bd3786"
             ],
             [
              0.5555555555555556,
              "#d8576b"
             ],
             [
              0.6666666666666666,
              "#ed7953"
             ],
             [
              0.7777777777777778,
              "#fb9f3a"
             ],
             [
              0.8888888888888888,
              "#fdca26"
             ],
             [
              1,
              "#f0f921"
             ]
            ],
            "type": "histogram2dcontour"
           }
          ],
          "mesh3d": [
           {
            "colorbar": {
             "outlinewidth": 0,
             "ticks": ""
            },
            "type": "mesh3d"
           }
          ],
          "parcoords": [
           {
            "line": {
             "colorbar": {
              "outlinewidth": 0,
              "ticks": ""
             }
            },
            "type": "parcoords"
           }
          ],
          "pie": [
           {
            "automargin": true,
            "type": "pie"
           }
          ],
          "scatter": [
           {
            "marker": {
             "colorbar": {
              "outlinewidth": 0,
              "ticks": ""
             }
            },
            "type": "scatter"
           }
          ],
          "scatter3d": [
           {
            "line": {
             "colorbar": {
              "outlinewidth": 0,
              "ticks": ""
             }
            },
            "marker": {
             "colorbar": {
              "outlinewidth": 0,
              "ticks": ""
             }
            },
            "type": "scatter3d"
           }
          ],
          "scattercarpet": [
           {
            "marker": {
             "colorbar": {
              "outlinewidth": 0,
              "ticks": ""
             }
            },
            "type": "scattercarpet"
           }
          ],
          "scattergeo": [
           {
            "marker": {
             "colorbar": {
              "outlinewidth": 0,
              "ticks": ""
             }
            },
            "type": "scattergeo"
           }
          ],
          "scattergl": [
           {
            "marker": {
             "colorbar": {
              "outlinewidth": 0,
              "ticks": ""
             }
            },
            "type": "scattergl"
           }
          ],
          "scattermapbox": [
           {
            "marker": {
             "colorbar": {
              "outlinewidth": 0,
              "ticks": ""
             }
            },
            "type": "scattermapbox"
           }
          ],
          "scatterpolar": [
           {
            "marker": {
             "colorbar": {
              "outlinewidth": 0,
              "ticks": ""
             }
            },
            "type": "scatterpolar"
           }
          ],
          "scatterpolargl": [
           {
            "marker": {
             "colorbar": {
              "outlinewidth": 0,
              "ticks": ""
             }
            },
            "type": "scatterpolargl"
           }
          ],
          "scatterternary": [
           {
            "marker": {
             "colorbar": {
              "outlinewidth": 0,
              "ticks": ""
             }
            },
            "type": "scatterternary"
           }
          ],
          "surface": [
           {
            "colorbar": {
             "outlinewidth": 0,
             "ticks": ""
            },
            "colorscale": [
             [
              0,
              "#0d0887"
             ],
             [
              0.1111111111111111,
              "#46039f"
             ],
             [
              0.2222222222222222,
              "#7201a8"
             ],
             [
              0.3333333333333333,
              "#9c179e"
             ],
             [
              0.4444444444444444,
              "#bd3786"
             ],
             [
              0.5555555555555556,
              "#d8576b"
             ],
             [
              0.6666666666666666,
              "#ed7953"
             ],
             [
              0.7777777777777778,
              "#fb9f3a"
             ],
             [
              0.8888888888888888,
              "#fdca26"
             ],
             [
              1,
              "#f0f921"
             ]
            ],
            "type": "surface"
           }
          ],
          "table": [
           {
            "cells": {
             "fill": {
              "color": "#EBF0F8"
             },
             "line": {
              "color": "white"
             }
            },
            "header": {
             "fill": {
              "color": "#C8D4E3"
             },
             "line": {
              "color": "white"
             }
            },
            "type": "table"
           }
          ]
         },
         "layout": {
          "annotationdefaults": {
           "arrowcolor": "#2a3f5f",
           "arrowhead": 0,
           "arrowwidth": 1
          },
          "autotypenumbers": "strict",
          "coloraxis": {
           "colorbar": {
            "outlinewidth": 0,
            "ticks": ""
           }
          },
          "colorscale": {
           "diverging": [
            [
             0,
             "#8e0152"
            ],
            [
             0.1,
             "#c51b7d"
            ],
            [
             0.2,
             "#de77ae"
            ],
            [
             0.3,
             "#f1b6da"
            ],
            [
             0.4,
             "#fde0ef"
            ],
            [
             0.5,
             "#f7f7f7"
            ],
            [
             0.6,
             "#e6f5d0"
            ],
            [
             0.7,
             "#b8e186"
            ],
            [
             0.8,
             "#7fbc41"
            ],
            [
             0.9,
             "#4d9221"
            ],
            [
             1,
             "#276419"
            ]
           ],
           "sequential": [
            [
             0,
             "#0d0887"
            ],
            [
             0.1111111111111111,
             "#46039f"
            ],
            [
             0.2222222222222222,
             "#7201a8"
            ],
            [
             0.3333333333333333,
             "#9c179e"
            ],
            [
             0.4444444444444444,
             "#bd3786"
            ],
            [
             0.5555555555555556,
             "#d8576b"
            ],
            [
             0.6666666666666666,
             "#ed7953"
            ],
            [
             0.7777777777777778,
             "#fb9f3a"
            ],
            [
             0.8888888888888888,
             "#fdca26"
            ],
            [
             1,
             "#f0f921"
            ]
           ],
           "sequentialminus": [
            [
             0,
             "#0d0887"
            ],
            [
             0.1111111111111111,
             "#46039f"
            ],
            [
             0.2222222222222222,
             "#7201a8"
            ],
            [
             0.3333333333333333,
             "#9c179e"
            ],
            [
             0.4444444444444444,
             "#bd3786"
            ],
            [
             0.5555555555555556,
             "#d8576b"
            ],
            [
             0.6666666666666666,
             "#ed7953"
            ],
            [
             0.7777777777777778,
             "#fb9f3a"
            ],
            [
             0.8888888888888888,
             "#fdca26"
            ],
            [
             1,
             "#f0f921"
            ]
           ]
          },
          "colorway": [
           "#636efa",
           "#EF553B",
           "#00cc96",
           "#ab63fa",
           "#FFA15A",
           "#19d3f3",
           "#FF6692",
           "#B6E880",
           "#FF97FF",
           "#FECB52"
          ],
          "font": {
           "color": "#2a3f5f"
          },
          "geo": {
           "bgcolor": "white",
           "lakecolor": "white",
           "landcolor": "#E5ECF6",
           "showlakes": true,
           "showland": true,
           "subunitcolor": "white"
          },
          "hoverlabel": {
           "align": "left"
          },
          "hovermode": "closest",
          "mapbox": {
           "style": "light"
          },
          "paper_bgcolor": "white",
          "plot_bgcolor": "#E5ECF6",
          "polar": {
           "angularaxis": {
            "gridcolor": "white",
            "linecolor": "white",
            "ticks": ""
           },
           "bgcolor": "#E5ECF6",
           "radialaxis": {
            "gridcolor": "white",
            "linecolor": "white",
            "ticks": ""
           }
          },
          "scene": {
           "xaxis": {
            "backgroundcolor": "#E5ECF6",
            "gridcolor": "white",
            "gridwidth": 2,
            "linecolor": "white",
            "showbackground": true,
            "ticks": "",
            "zerolinecolor": "white"
           },
           "yaxis": {
            "backgroundcolor": "#E5ECF6",
            "gridcolor": "white",
            "gridwidth": 2,
            "linecolor": "white",
            "showbackground": true,
            "ticks": "",
            "zerolinecolor": "white"
           },
           "zaxis": {
            "backgroundcolor": "#E5ECF6",
            "gridcolor": "white",
            "gridwidth": 2,
            "linecolor": "white",
            "showbackground": true,
            "ticks": "",
            "zerolinecolor": "white"
           }
          },
          "shapedefaults": {
           "line": {
            "color": "#2a3f5f"
           }
          },
          "ternary": {
           "aaxis": {
            "gridcolor": "white",
            "linecolor": "white",
            "ticks": ""
           },
           "baxis": {
            "gridcolor": "white",
            "linecolor": "white",
            "ticks": ""
           },
           "bgcolor": "#E5ECF6",
           "caxis": {
            "gridcolor": "white",
            "linecolor": "white",
            "ticks": ""
           }
          },
          "title": {
           "x": 0.05
          },
          "xaxis": {
           "automargin": true,
           "gridcolor": "white",
           "linecolor": "white",
           "ticks": "",
           "title": {
            "standoff": 15
           },
           "zerolinecolor": "white",
           "zerolinewidth": 2
          },
          "yaxis": {
           "automargin": true,
           "gridcolor": "white",
           "linecolor": "white",
           "ticks": "",
           "title": {
            "standoff": 15
           },
           "zerolinecolor": "white",
           "zerolinewidth": 2
          }
         }
        },
        "title": {
         "font": {
          "color": "#4D5663"
         }
        },
        "xaxis": {
         "gridcolor": "#E1E5ED",
         "showgrid": true,
         "tickfont": {
          "color": "#4D5663"
         },
         "title": {
          "font": {
           "color": "#4D5663"
          },
          "text": ""
         },
         "zerolinecolor": "#E1E5ED"
        },
        "yaxis": {
         "gridcolor": "#E1E5ED",
         "showgrid": true,
         "tickfont": {
          "color": "#4D5663"
         },
         "title": {
          "font": {
           "color": "#4D5663"
          },
          "text": ""
         },
         "zerolinecolor": "#E1E5ED"
        }
       }
      },
      "text/html": [
       "<div>                            <div id=\"3b7cdbe0-a0fb-41cb-9ac5-63356735ca3b\" class=\"plotly-graph-div\" style=\"height:525px; width:100%;\"></div>            <script type=\"text/javascript\">                require([\"plotly\"], function(Plotly) {                    window.PLOTLYENV=window.PLOTLYENV || {};\n",
       "                    window.PLOTLYENV.BASE_URL='https://plot.ly';                                    if (document.getElementById(\"3b7cdbe0-a0fb-41cb-9ac5-63356735ca3b\")) {                    Plotly.newPlot(                        \"3b7cdbe0-a0fb-41cb-9ac5-63356735ca3b\",                        [{\"line\": {\"color\": \"rgba(255, 153, 51, 1.0)\", \"dash\": \"solid\", \"shape\": \"linear\", \"width\": 1.3}, \"marker\": {\"size\": 10, \"symbol\": \"circle\"}, \"mode\": \"markers\", \"name\": \"B\", \"text\": \"\", \"type\": \"scatter\", \"x\": [0.8225286437416501, 1.7906518177693165, -0.4252650252772421, -0.11410539779221635, 0.7794333388601931, 0.5003190132121949, 0.2018489181641643, -0.5146250488763782, 0.3188360196714971, -0.5408247176895304, 0.22587083856421108, -0.6974670580084895, 0.5771703678093689, -0.013976202921457752, 0.8783343452604568, -1.614949706939007, 0.19153236329955206, -1.5765158215202855, -0.4112903516874633, -1.092087010716353, 1.33599345630096, 1.4351531348939572, -1.2848571383638239, -1.7510693502903472, 0.8075813530347192, -0.5470180608654744, -0.28413980500001806, 0.20961814337947923, -0.02959907422165152, 0.9547946370028454, -0.4789236470968032, -0.5970003307837691, -0.39385277023122905, 0.11981370704438987, 0.9871751876769622, 0.31853744701880177, -0.3657065423701585, 0.37725580911967876, -0.18348735017904264, 1.6081305852347272, 0.1731427842198789, 1.7563528761773035, -1.9242694093670059, 0.15322007858144676, 0.3694726518707792, 1.1238409758155203, -0.47236617294136934, -2.2054955020266758, -0.038750514669134865, 0.6406891232053674, -0.5122664102800992, 0.4403463452002344, 0.12621387719415295, 0.11548873258660677, -0.5566016986744087, -0.013768255762175781, 0.8952226489212914, 0.9118298889268938, 0.569114211520104, 0.024437122932751843, 1.701500345824061, 0.2251987043144141, -0.24188881465420595, 1.3250447913362182, 0.360446668523524, 0.17515640035608626, -1.704366488761559, -1.5158347740723928, 0.4902716968708798, 0.6453474335949971, -0.7399554958505687, 1.8131232768603385, -0.12291573819921484, 0.4669552405324629, -0.2938506167449886, 0.40228120830014147, -2.149327520203454, -0.6866806942881285, -0.2927811094268949, 0.5042300314844698, 0.6555808286390054, -0.9279139834900973, -0.08543978812480418, -0.04796523223752661, 0.0746435164054404, 0.2307148975501273, -2.027424116120096, 0.3450571253534357, -1.1612443444561293, -0.3726671090762646, -2.976221788193337, -2.1117101596495687, -0.6985426135652383, 1.1965258562450305, -1.0459953031714726, 1.976436641953744, -1.1349899468640317, 0.3040281001626459, -1.8846583680508304, 0.47535347700831315], \"y\": [0.9798422876110087, -0.07739040844163653, 0.199140992111598, -1.2143268018612448, 0.14285538470625045, -0.941613979403886, -0.5179651092895884, -2.9720401690748086, -0.9025695839599948, 0.7070161377970824, 0.6226851269936455, 1.7220710947919995, 2.421389113461388, -0.15836707680921455, -0.00824513735289978, -2.4502263963546427, 0.32938834873258654, 0.43268652790313156, -0.07647046488415142, 0.16117870564803655, 0.5719563509363634, 0.6489901001574245, 0.9376314079451413, -0.5772109776816116, 0.43940958062906715, 0.27942060999655977, -0.9424446593446479, -1.486525613267546, 1.6312084499589516, -0.07507516007927825, 0.12760269243775124, 0.05373579584888705, 0.1379571283605871, -0.8678493687113031, -0.43134562129715953, 0.6545365996125828, -0.6271866565552896, -0.13713206936808897, 1.2742682936024408, -0.8413247811888707, -0.7302648312780448, -0.6117741047846332, -1.210299969457778, -0.3801376853687354, -0.48236709698927316, 1.6101057259159142, 0.018396524012302493, 3.02256317083536, 2.5691163423097496, -0.8487428166948513, -0.10164929522395912, 0.8273933294947996, -0.4641358512359839, 1.0174474127248259, -0.6615304859327857, -1.8869319213356825, 0.4677487870018134, -0.9766521809572346, 0.4424919332422819, -3.1831759316713057, 0.2283009026441312, 0.36950934843910815, 0.5369686034283853, 0.2983504233853764, -0.004378996737566833, 1.0592911293848593, 1.6451075032610067, 0.29029878762587735, -0.4609110721334788, 0.4378794865441988, -1.4283048764958761, 0.40738608837815354, 0.7625659313961809, -1.4172139471023841, -0.10136148568438476, 0.15838136839989114, -1.3580445071102318, -1.1087998884123191, 0.05526415914038533, 0.9883265678290705, -0.03771628428204599, 0.26505609003670605, 1.0489263265095015, 2.2480644236455434, -0.39604599179023386, -2.0576074336266377, 1.6418210719318171, -2.064000840790136, 0.18340752558238735, 0.3708702460919371, 0.7564073758273471, 0.5622132114774402, -0.8681703206538972, -0.5457892288792988, 0.6462776058743678, -1.388235965781543, -1.403310739967856, -0.5048268930823668, -0.008940855983669326, 0.2678190263167388]}],                        {\"legend\": {\"bgcolor\": \"#F5F6F9\", \"font\": {\"color\": \"#4D5663\"}}, \"paper_bgcolor\": \"#F5F6F9\", \"plot_bgcolor\": \"#F5F6F9\", \"template\": {\"data\": {\"bar\": [{\"error_x\": {\"color\": \"#2a3f5f\"}, \"error_y\": {\"color\": \"#2a3f5f\"}, \"marker\": {\"line\": {\"color\": \"#E5ECF6\", \"width\": 0.5}}, \"type\": \"bar\"}], \"barpolar\": [{\"marker\": {\"line\": {\"color\": \"#E5ECF6\", \"width\": 0.5}}, \"type\": \"barpolar\"}], \"carpet\": [{\"aaxis\": {\"endlinecolor\": \"#2a3f5f\", \"gridcolor\": \"white\", \"linecolor\": \"white\", \"minorgridcolor\": \"white\", \"startlinecolor\": \"#2a3f5f\"}, \"baxis\": {\"endlinecolor\": \"#2a3f5f\", \"gridcolor\": \"white\", \"linecolor\": \"white\", \"minorgridcolor\": \"white\", \"startlinecolor\": \"#2a3f5f\"}, \"type\": \"carpet\"}], \"choropleth\": [{\"colorbar\": {\"outlinewidth\": 0, \"ticks\": \"\"}, \"type\": \"choropleth\"}], \"contour\": [{\"colorbar\": {\"outlinewidth\": 0, \"ticks\": \"\"}, \"colorscale\": [[0.0, \"#0d0887\"], [0.1111111111111111, \"#46039f\"], [0.2222222222222222, \"#7201a8\"], [0.3333333333333333, \"#9c179e\"], [0.4444444444444444, \"#bd3786\"], [0.5555555555555556, \"#d8576b\"], [0.6666666666666666, \"#ed7953\"], [0.7777777777777778, \"#fb9f3a\"], [0.8888888888888888, \"#fdca26\"], [1.0, \"#f0f921\"]], \"type\": \"contour\"}], \"contourcarpet\": [{\"colorbar\": {\"outlinewidth\": 0, \"ticks\": \"\"}, \"type\": \"contourcarpet\"}], \"heatmap\": [{\"colorbar\": {\"outlinewidth\": 0, \"ticks\": \"\"}, \"colorscale\": [[0.0, \"#0d0887\"], [0.1111111111111111, \"#46039f\"], [0.2222222222222222, \"#7201a8\"], [0.3333333333333333, \"#9c179e\"], [0.4444444444444444, \"#bd3786\"], [0.5555555555555556, \"#d8576b\"], [0.6666666666666666, \"#ed7953\"], [0.7777777777777778, \"#fb9f3a\"], [0.8888888888888888, \"#fdca26\"], [1.0, \"#f0f921\"]], \"type\": \"heatmap\"}], \"heatmapgl\": [{\"colorbar\": {\"outlinewidth\": 0, \"ticks\": \"\"}, \"colorscale\": [[0.0, \"#0d0887\"], [0.1111111111111111, \"#46039f\"], [0.2222222222222222, \"#7201a8\"], [0.3333333333333333, \"#9c179e\"], [0.4444444444444444, \"#bd3786\"], [0.5555555555555556, \"#d8576b\"], [0.6666666666666666, \"#ed7953\"], [0.7777777777777778, \"#fb9f3a\"], [0.8888888888888888, \"#fdca26\"], [1.0, \"#f0f921\"]], \"type\": \"heatmapgl\"}], \"histogram\": [{\"marker\": {\"colorbar\": {\"outlinewidth\": 0, \"ticks\": \"\"}}, \"type\": \"histogram\"}], \"histogram2d\": [{\"colorbar\": {\"outlinewidth\": 0, \"ticks\": \"\"}, \"colorscale\": [[0.0, \"#0d0887\"], [0.1111111111111111, \"#46039f\"], [0.2222222222222222, \"#7201a8\"], [0.3333333333333333, \"#9c179e\"], [0.4444444444444444, \"#bd3786\"], [0.5555555555555556, \"#d8576b\"], [0.6666666666666666, \"#ed7953\"], [0.7777777777777778, \"#fb9f3a\"], [0.8888888888888888, \"#fdca26\"], [1.0, \"#f0f921\"]], \"type\": \"histogram2d\"}], \"histogram2dcontour\": [{\"colorbar\": {\"outlinewidth\": 0, \"ticks\": \"\"}, \"colorscale\": [[0.0, \"#0d0887\"], [0.1111111111111111, \"#46039f\"], [0.2222222222222222, \"#7201a8\"], [0.3333333333333333, \"#9c179e\"], [0.4444444444444444, \"#bd3786\"], [0.5555555555555556, \"#d8576b\"], [0.6666666666666666, \"#ed7953\"], [0.7777777777777778, \"#fb9f3a\"], [0.8888888888888888, \"#fdca26\"], [1.0, \"#f0f921\"]], \"type\": \"histogram2dcontour\"}], \"mesh3d\": [{\"colorbar\": {\"outlinewidth\": 0, \"ticks\": \"\"}, \"type\": \"mesh3d\"}], \"parcoords\": [{\"line\": {\"colorbar\": {\"outlinewidth\": 0, \"ticks\": \"\"}}, \"type\": \"parcoords\"}], \"pie\": [{\"automargin\": true, \"type\": \"pie\"}], \"scatter\": [{\"marker\": {\"colorbar\": {\"outlinewidth\": 0, \"ticks\": \"\"}}, \"type\": \"scatter\"}], \"scatter3d\": [{\"line\": {\"colorbar\": {\"outlinewidth\": 0, \"ticks\": \"\"}}, \"marker\": {\"colorbar\": {\"outlinewidth\": 0, \"ticks\": \"\"}}, \"type\": \"scatter3d\"}], \"scattercarpet\": [{\"marker\": {\"colorbar\": {\"outlinewidth\": 0, \"ticks\": \"\"}}, \"type\": \"scattercarpet\"}], \"scattergeo\": [{\"marker\": {\"colorbar\": {\"outlinewidth\": 0, \"ticks\": \"\"}}, \"type\": \"scattergeo\"}], \"scattergl\": [{\"marker\": {\"colorbar\": {\"outlinewidth\": 0, \"ticks\": \"\"}}, \"type\": \"scattergl\"}], \"scattermapbox\": [{\"marker\": {\"colorbar\": {\"outlinewidth\": 0, \"ticks\": \"\"}}, \"type\": \"scattermapbox\"}], \"scatterpolar\": [{\"marker\": {\"colorbar\": {\"outlinewidth\": 0, \"ticks\": \"\"}}, \"type\": \"scatterpolar\"}], \"scatterpolargl\": [{\"marker\": {\"colorbar\": {\"outlinewidth\": 0, \"ticks\": \"\"}}, \"type\": \"scatterpolargl\"}], \"scatterternary\": [{\"marker\": {\"colorbar\": {\"outlinewidth\": 0, \"ticks\": \"\"}}, \"type\": \"scatterternary\"}], \"surface\": [{\"colorbar\": {\"outlinewidth\": 0, \"ticks\": \"\"}, \"colorscale\": [[0.0, \"#0d0887\"], [0.1111111111111111, \"#46039f\"], [0.2222222222222222, \"#7201a8\"], [0.3333333333333333, \"#9c179e\"], [0.4444444444444444, \"#bd3786\"], [0.5555555555555556, \"#d8576b\"], [0.6666666666666666, \"#ed7953\"], [0.7777777777777778, \"#fb9f3a\"], [0.8888888888888888, \"#fdca26\"], [1.0, \"#f0f921\"]], \"type\": \"surface\"}], \"table\": [{\"cells\": {\"fill\": {\"color\": \"#EBF0F8\"}, \"line\": {\"color\": \"white\"}}, \"header\": {\"fill\": {\"color\": \"#C8D4E3\"}, \"line\": {\"color\": \"white\"}}, \"type\": \"table\"}]}, \"layout\": {\"annotationdefaults\": {\"arrowcolor\": \"#2a3f5f\", \"arrowhead\": 0, \"arrowwidth\": 1}, \"autotypenumbers\": \"strict\", \"coloraxis\": {\"colorbar\": {\"outlinewidth\": 0, \"ticks\": \"\"}}, \"colorscale\": {\"diverging\": [[0, \"#8e0152\"], [0.1, \"#c51b7d\"], [0.2, \"#de77ae\"], [0.3, \"#f1b6da\"], [0.4, \"#fde0ef\"], [0.5, \"#f7f7f7\"], [0.6, \"#e6f5d0\"], [0.7, \"#b8e186\"], [0.8, \"#7fbc41\"], [0.9, \"#4d9221\"], [1, \"#276419\"]], \"sequential\": [[0.0, \"#0d0887\"], [0.1111111111111111, \"#46039f\"], [0.2222222222222222, \"#7201a8\"], [0.3333333333333333, \"#9c179e\"], [0.4444444444444444, \"#bd3786\"], [0.5555555555555556, \"#d8576b\"], [0.6666666666666666, \"#ed7953\"], [0.7777777777777778, \"#fb9f3a\"], [0.8888888888888888, \"#fdca26\"], [1.0, \"#f0f921\"]], \"sequentialminus\": [[0.0, \"#0d0887\"], [0.1111111111111111, \"#46039f\"], [0.2222222222222222, \"#7201a8\"], [0.3333333333333333, \"#9c179e\"], [0.4444444444444444, \"#bd3786\"], [0.5555555555555556, \"#d8576b\"], [0.6666666666666666, \"#ed7953\"], [0.7777777777777778, \"#fb9f3a\"], [0.8888888888888888, \"#fdca26\"], [1.0, \"#f0f921\"]]}, \"colorway\": [\"#636efa\", \"#EF553B\", \"#00cc96\", \"#ab63fa\", \"#FFA15A\", \"#19d3f3\", \"#FF6692\", \"#B6E880\", \"#FF97FF\", \"#FECB52\"], \"font\": {\"color\": \"#2a3f5f\"}, \"geo\": {\"bgcolor\": \"white\", \"lakecolor\": \"white\", \"landcolor\": \"#E5ECF6\", \"showlakes\": true, \"showland\": true, \"subunitcolor\": \"white\"}, \"hoverlabel\": {\"align\": \"left\"}, \"hovermode\": \"closest\", \"mapbox\": {\"style\": \"light\"}, \"paper_bgcolor\": \"white\", \"plot_bgcolor\": \"#E5ECF6\", \"polar\": {\"angularaxis\": {\"gridcolor\": \"white\", \"linecolor\": \"white\", \"ticks\": \"\"}, \"bgcolor\": \"#E5ECF6\", \"radialaxis\": {\"gridcolor\": \"white\", \"linecolor\": \"white\", \"ticks\": \"\"}}, \"scene\": {\"xaxis\": {\"backgroundcolor\": \"#E5ECF6\", \"gridcolor\": \"white\", \"gridwidth\": 2, \"linecolor\": \"white\", \"showbackground\": true, \"ticks\": \"\", \"zerolinecolor\": \"white\"}, \"yaxis\": {\"backgroundcolor\": \"#E5ECF6\", \"gridcolor\": \"white\", \"gridwidth\": 2, \"linecolor\": \"white\", \"showbackground\": true, \"ticks\": \"\", \"zerolinecolor\": \"white\"}, \"zaxis\": {\"backgroundcolor\": \"#E5ECF6\", \"gridcolor\": \"white\", \"gridwidth\": 2, \"linecolor\": \"white\", \"showbackground\": true, \"ticks\": \"\", \"zerolinecolor\": \"white\"}}, \"shapedefaults\": {\"line\": {\"color\": \"#2a3f5f\"}}, \"ternary\": {\"aaxis\": {\"gridcolor\": \"white\", \"linecolor\": \"white\", \"ticks\": \"\"}, \"baxis\": {\"gridcolor\": \"white\", \"linecolor\": \"white\", \"ticks\": \"\"}, \"bgcolor\": \"#E5ECF6\", \"caxis\": {\"gridcolor\": \"white\", \"linecolor\": \"white\", \"ticks\": \"\"}}, \"title\": {\"x\": 0.05}, \"xaxis\": {\"automargin\": true, \"gridcolor\": \"white\", \"linecolor\": \"white\", \"ticks\": \"\", \"title\": {\"standoff\": 15}, \"zerolinecolor\": \"white\", \"zerolinewidth\": 2}, \"yaxis\": {\"automargin\": true, \"gridcolor\": \"white\", \"linecolor\": \"white\", \"ticks\": \"\", \"title\": {\"standoff\": 15}, \"zerolinecolor\": \"white\", \"zerolinewidth\": 2}}}, \"title\": {\"font\": {\"color\": \"#4D5663\"}}, \"xaxis\": {\"gridcolor\": \"#E1E5ED\", \"showgrid\": true, \"tickfont\": {\"color\": \"#4D5663\"}, \"title\": {\"font\": {\"color\": \"#4D5663\"}, \"text\": \"\"}, \"zerolinecolor\": \"#E1E5ED\"}, \"yaxis\": {\"gridcolor\": \"#E1E5ED\", \"showgrid\": true, \"tickfont\": {\"color\": \"#4D5663\"}, \"title\": {\"font\": {\"color\": \"#4D5663\"}, \"text\": \"\"}, \"zerolinecolor\": \"#E1E5ED\"}},                        {\"showLink\": true, \"linkText\": \"Export to plot.ly\", \"plotlyServerURL\": \"https://plot.ly\", \"responsive\": true}                    ).then(function(){\n",
       "                            \n",
       "var gd = document.getElementById('3b7cdbe0-a0fb-41cb-9ac5-63356735ca3b');\n",
       "var x = new MutationObserver(function (mutations, observer) {{\n",
       "        var display = window.getComputedStyle(gd).display;\n",
       "        if (!display || display === 'none') {{\n",
       "            console.log([gd, 'removed!']);\n",
       "            Plotly.purge(gd);\n",
       "            observer.disconnect();\n",
       "        }}\n",
       "}});\n",
       "\n",
       "// Listen for the removal of the full notebook cells\n",
       "var notebookContainer = gd.closest('#notebook-container');\n",
       "if (notebookContainer) {{\n",
       "    x.observe(notebookContainer, {childList: true});\n",
       "}}\n",
       "\n",
       "// Listen for the clearing of the current output cell\n",
       "var outputEl = gd.closest('.output');\n",
       "if (outputEl) {{\n",
       "    x.observe(outputEl, {childList: true});\n",
       "}}\n",
       "\n",
       "                        })                };                });            </script>        </div>"
      ]
     },
     "metadata": {},
     "output_type": "display_data"
    }
   ],
   "source": [
    "df.iplot(kind='scatter',x='A',y='B',mode='markers',size=10)"
   ]
  },
  {
   "cell_type": "markdown",
   "metadata": {},
   "source": [
    "## Bar Plots"
   ]
  },
  {
   "cell_type": "code",
   "execution_count": 13,
   "metadata": {},
   "outputs": [
    {
     "data": {
      "application/vnd.plotly.v1+json": {
       "config": {
        "linkText": "Export to plot.ly",
        "plotlyServerURL": "https://plot.ly",
        "showLink": true
       },
       "data": [
        {
         "marker": {
          "color": "rgba(255, 153, 51, 0.6)",
          "line": {
           "color": "rgba(255, 153, 51, 1.0)",
           "width": 1
          }
         },
         "name": "Values",
         "orientation": "v",
         "text": "",
         "type": "bar",
         "x": [
          "A",
          "B",
          "C"
         ],
         "y": [
          32,
          43,
          50
         ]
        }
       ],
       "layout": {
        "legend": {
         "bgcolor": "#F5F6F9",
         "font": {
          "color": "#4D5663"
         }
        },
        "paper_bgcolor": "#F5F6F9",
        "plot_bgcolor": "#F5F6F9",
        "template": {
         "data": {
          "bar": [
           {
            "error_x": {
             "color": "#2a3f5f"
            },
            "error_y": {
             "color": "#2a3f5f"
            },
            "marker": {
             "line": {
              "color": "#E5ECF6",
              "width": 0.5
             }
            },
            "type": "bar"
           }
          ],
          "barpolar": [
           {
            "marker": {
             "line": {
              "color": "#E5ECF6",
              "width": 0.5
             }
            },
            "type": "barpolar"
           }
          ],
          "carpet": [
           {
            "aaxis": {
             "endlinecolor": "#2a3f5f",
             "gridcolor": "white",
             "linecolor": "white",
             "minorgridcolor": "white",
             "startlinecolor": "#2a3f5f"
            },
            "baxis": {
             "endlinecolor": "#2a3f5f",
             "gridcolor": "white",
             "linecolor": "white",
             "minorgridcolor": "white",
             "startlinecolor": "#2a3f5f"
            },
            "type": "carpet"
           }
          ],
          "choropleth": [
           {
            "colorbar": {
             "outlinewidth": 0,
             "ticks": ""
            },
            "type": "choropleth"
           }
          ],
          "contour": [
           {
            "colorbar": {
             "outlinewidth": 0,
             "ticks": ""
            },
            "colorscale": [
             [
              0,
              "#0d0887"
             ],
             [
              0.1111111111111111,
              "#46039f"
             ],
             [
              0.2222222222222222,
              "#7201a8"
             ],
             [
              0.3333333333333333,
              "#9c179e"
             ],
             [
              0.4444444444444444,
              "#bd3786"
             ],
             [
              0.5555555555555556,
              "#d8576b"
             ],
             [
              0.6666666666666666,
              "#ed7953"
             ],
             [
              0.7777777777777778,
              "#fb9f3a"
             ],
             [
              0.8888888888888888,
              "#fdca26"
             ],
             [
              1,
              "#f0f921"
             ]
            ],
            "type": "contour"
           }
          ],
          "contourcarpet": [
           {
            "colorbar": {
             "outlinewidth": 0,
             "ticks": ""
            },
            "type": "contourcarpet"
           }
          ],
          "heatmap": [
           {
            "colorbar": {
             "outlinewidth": 0,
             "ticks": ""
            },
            "colorscale": [
             [
              0,
              "#0d0887"
             ],
             [
              0.1111111111111111,
              "#46039f"
             ],
             [
              0.2222222222222222,
              "#7201a8"
             ],
             [
              0.3333333333333333,
              "#9c179e"
             ],
             [
              0.4444444444444444,
              "#bd3786"
             ],
             [
              0.5555555555555556,
              "#d8576b"
             ],
             [
              0.6666666666666666,
              "#ed7953"
             ],
             [
              0.7777777777777778,
              "#fb9f3a"
             ],
             [
              0.8888888888888888,
              "#fdca26"
             ],
             [
              1,
              "#f0f921"
             ]
            ],
            "type": "heatmap"
           }
          ],
          "heatmapgl": [
           {
            "colorbar": {
             "outlinewidth": 0,
             "ticks": ""
            },
            "colorscale": [
             [
              0,
              "#0d0887"
             ],
             [
              0.1111111111111111,
              "#46039f"
             ],
             [
              0.2222222222222222,
              "#7201a8"
             ],
             [
              0.3333333333333333,
              "#9c179e"
             ],
             [
              0.4444444444444444,
              "#bd3786"
             ],
             [
              0.5555555555555556,
              "#d8576b"
             ],
             [
              0.6666666666666666,
              "#ed7953"
             ],
             [
              0.7777777777777778,
              "#fb9f3a"
             ],
             [
              0.8888888888888888,
              "#fdca26"
             ],
             [
              1,
              "#f0f921"
             ]
            ],
            "type": "heatmapgl"
           }
          ],
          "histogram": [
           {
            "marker": {
             "colorbar": {
              "outlinewidth": 0,
              "ticks": ""
             }
            },
            "type": "histogram"
           }
          ],
          "histogram2d": [
           {
            "colorbar": {
             "outlinewidth": 0,
             "ticks": ""
            },
            "colorscale": [
             [
              0,
              "#0d0887"
             ],
             [
              0.1111111111111111,
              "#46039f"
             ],
             [
              0.2222222222222222,
              "#7201a8"
             ],
             [
              0.3333333333333333,
              "#9c179e"
             ],
             [
              0.4444444444444444,
              "#bd3786"
             ],
             [
              0.5555555555555556,
              "#d8576b"
             ],
             [
              0.6666666666666666,
              "#ed7953"
             ],
             [
              0.7777777777777778,
              "#fb9f3a"
             ],
             [
              0.8888888888888888,
              "#fdca26"
             ],
             [
              1,
              "#f0f921"
             ]
            ],
            "type": "histogram2d"
           }
          ],
          "histogram2dcontour": [
           {
            "colorbar": {
             "outlinewidth": 0,
             "ticks": ""
            },
            "colorscale": [
             [
              0,
              "#0d0887"
             ],
             [
              0.1111111111111111,
              "#46039f"
             ],
             [
              0.2222222222222222,
              "#7201a8"
             ],
             [
              0.3333333333333333,
              "#9c179e"
             ],
             [
              0.4444444444444444,
              "#bd3786"
             ],
             [
              0.5555555555555556,
              "#d8576b"
             ],
             [
              0.6666666666666666,
              "#ed7953"
             ],
             [
              0.7777777777777778,
              "#fb9f3a"
             ],
             [
              0.8888888888888888,
              "#fdca26"
             ],
             [
              1,
              "#f0f921"
             ]
            ],
            "type": "histogram2dcontour"
           }
          ],
          "mesh3d": [
           {
            "colorbar": {
             "outlinewidth": 0,
             "ticks": ""
            },
            "type": "mesh3d"
           }
          ],
          "parcoords": [
           {
            "line": {
             "colorbar": {
              "outlinewidth": 0,
              "ticks": ""
             }
            },
            "type": "parcoords"
           }
          ],
          "pie": [
           {
            "automargin": true,
            "type": "pie"
           }
          ],
          "scatter": [
           {
            "marker": {
             "colorbar": {
              "outlinewidth": 0,
              "ticks": ""
             }
            },
            "type": "scatter"
           }
          ],
          "scatter3d": [
           {
            "line": {
             "colorbar": {
              "outlinewidth": 0,
              "ticks": ""
             }
            },
            "marker": {
             "colorbar": {
              "outlinewidth": 0,
              "ticks": ""
             }
            },
            "type": "scatter3d"
           }
          ],
          "scattercarpet": [
           {
            "marker": {
             "colorbar": {
              "outlinewidth": 0,
              "ticks": ""
             }
            },
            "type": "scattercarpet"
           }
          ],
          "scattergeo": [
           {
            "marker": {
             "colorbar": {
              "outlinewidth": 0,
              "ticks": ""
             }
            },
            "type": "scattergeo"
           }
          ],
          "scattergl": [
           {
            "marker": {
             "colorbar": {
              "outlinewidth": 0,
              "ticks": ""
             }
            },
            "type": "scattergl"
           }
          ],
          "scattermapbox": [
           {
            "marker": {
             "colorbar": {
              "outlinewidth": 0,
              "ticks": ""
             }
            },
            "type": "scattermapbox"
           }
          ],
          "scatterpolar": [
           {
            "marker": {
             "colorbar": {
              "outlinewidth": 0,
              "ticks": ""
             }
            },
            "type": "scatterpolar"
           }
          ],
          "scatterpolargl": [
           {
            "marker": {
             "colorbar": {
              "outlinewidth": 0,
              "ticks": ""
             }
            },
            "type": "scatterpolargl"
           }
          ],
          "scatterternary": [
           {
            "marker": {
             "colorbar": {
              "outlinewidth": 0,
              "ticks": ""
             }
            },
            "type": "scatterternary"
           }
          ],
          "surface": [
           {
            "colorbar": {
             "outlinewidth": 0,
             "ticks": ""
            },
            "colorscale": [
             [
              0,
              "#0d0887"
             ],
             [
              0.1111111111111111,
              "#46039f"
             ],
             [
              0.2222222222222222,
              "#7201a8"
             ],
             [
              0.3333333333333333,
              "#9c179e"
             ],
             [
              0.4444444444444444,
              "#bd3786"
             ],
             [
              0.5555555555555556,
              "#d8576b"
             ],
             [
              0.6666666666666666,
              "#ed7953"
             ],
             [
              0.7777777777777778,
              "#fb9f3a"
             ],
             [
              0.8888888888888888,
              "#fdca26"
             ],
             [
              1,
              "#f0f921"
             ]
            ],
            "type": "surface"
           }
          ],
          "table": [
           {
            "cells": {
             "fill": {
              "color": "#EBF0F8"
             },
             "line": {
              "color": "white"
             }
            },
            "header": {
             "fill": {
              "color": "#C8D4E3"
             },
             "line": {
              "color": "white"
             }
            },
            "type": "table"
           }
          ]
         },
         "layout": {
          "annotationdefaults": {
           "arrowcolor": "#2a3f5f",
           "arrowhead": 0,
           "arrowwidth": 1
          },
          "autotypenumbers": "strict",
          "coloraxis": {
           "colorbar": {
            "outlinewidth": 0,
            "ticks": ""
           }
          },
          "colorscale": {
           "diverging": [
            [
             0,
             "#8e0152"
            ],
            [
             0.1,
             "#c51b7d"
            ],
            [
             0.2,
             "#de77ae"
            ],
            [
             0.3,
             "#f1b6da"
            ],
            [
             0.4,
             "#fde0ef"
            ],
            [
             0.5,
             "#f7f7f7"
            ],
            [
             0.6,
             "#e6f5d0"
            ],
            [
             0.7,
             "#b8e186"
            ],
            [
             0.8,
             "#7fbc41"
            ],
            [
             0.9,
             "#4d9221"
            ],
            [
             1,
             "#276419"
            ]
           ],
           "sequential": [
            [
             0,
             "#0d0887"
            ],
            [
             0.1111111111111111,
             "#46039f"
            ],
            [
             0.2222222222222222,
             "#7201a8"
            ],
            [
             0.3333333333333333,
             "#9c179e"
            ],
            [
             0.4444444444444444,
             "#bd3786"
            ],
            [
             0.5555555555555556,
             "#d8576b"
            ],
            [
             0.6666666666666666,
             "#ed7953"
            ],
            [
             0.7777777777777778,
             "#fb9f3a"
            ],
            [
             0.8888888888888888,
             "#fdca26"
            ],
            [
             1,
             "#f0f921"
            ]
           ],
           "sequentialminus": [
            [
             0,
             "#0d0887"
            ],
            [
             0.1111111111111111,
             "#46039f"
            ],
            [
             0.2222222222222222,
             "#7201a8"
            ],
            [
             0.3333333333333333,
             "#9c179e"
            ],
            [
             0.4444444444444444,
             "#bd3786"
            ],
            [
             0.5555555555555556,
             "#d8576b"
            ],
            [
             0.6666666666666666,
             "#ed7953"
            ],
            [
             0.7777777777777778,
             "#fb9f3a"
            ],
            [
             0.8888888888888888,
             "#fdca26"
            ],
            [
             1,
             "#f0f921"
            ]
           ]
          },
          "colorway": [
           "#636efa",
           "#EF553B",
           "#00cc96",
           "#ab63fa",
           "#FFA15A",
           "#19d3f3",
           "#FF6692",
           "#B6E880",
           "#FF97FF",
           "#FECB52"
          ],
          "font": {
           "color": "#2a3f5f"
          },
          "geo": {
           "bgcolor": "white",
           "lakecolor": "white",
           "landcolor": "#E5ECF6",
           "showlakes": true,
           "showland": true,
           "subunitcolor": "white"
          },
          "hoverlabel": {
           "align": "left"
          },
          "hovermode": "closest",
          "mapbox": {
           "style": "light"
          },
          "paper_bgcolor": "white",
          "plot_bgcolor": "#E5ECF6",
          "polar": {
           "angularaxis": {
            "gridcolor": "white",
            "linecolor": "white",
            "ticks": ""
           },
           "bgcolor": "#E5ECF6",
           "radialaxis": {
            "gridcolor": "white",
            "linecolor": "white",
            "ticks": ""
           }
          },
          "scene": {
           "xaxis": {
            "backgroundcolor": "#E5ECF6",
            "gridcolor": "white",
            "gridwidth": 2,
            "linecolor": "white",
            "showbackground": true,
            "ticks": "",
            "zerolinecolor": "white"
           },
           "yaxis": {
            "backgroundcolor": "#E5ECF6",
            "gridcolor": "white",
            "gridwidth": 2,
            "linecolor": "white",
            "showbackground": true,
            "ticks": "",
            "zerolinecolor": "white"
           },
           "zaxis": {
            "backgroundcolor": "#E5ECF6",
            "gridcolor": "white",
            "gridwidth": 2,
            "linecolor": "white",
            "showbackground": true,
            "ticks": "",
            "zerolinecolor": "white"
           }
          },
          "shapedefaults": {
           "line": {
            "color": "#2a3f5f"
           }
          },
          "ternary": {
           "aaxis": {
            "gridcolor": "white",
            "linecolor": "white",
            "ticks": ""
           },
           "baxis": {
            "gridcolor": "white",
            "linecolor": "white",
            "ticks": ""
           },
           "bgcolor": "#E5ECF6",
           "caxis": {
            "gridcolor": "white",
            "linecolor": "white",
            "ticks": ""
           }
          },
          "title": {
           "x": 0.05
          },
          "xaxis": {
           "automargin": true,
           "gridcolor": "white",
           "linecolor": "white",
           "ticks": "",
           "title": {
            "standoff": 15
           },
           "zerolinecolor": "white",
           "zerolinewidth": 2
          },
          "yaxis": {
           "automargin": true,
           "gridcolor": "white",
           "linecolor": "white",
           "ticks": "",
           "title": {
            "standoff": 15
           },
           "zerolinecolor": "white",
           "zerolinewidth": 2
          }
         }
        },
        "title": {
         "font": {
          "color": "#4D5663"
         }
        },
        "xaxis": {
         "gridcolor": "#E1E5ED",
         "showgrid": true,
         "tickfont": {
          "color": "#4D5663"
         },
         "title": {
          "font": {
           "color": "#4D5663"
          },
          "text": ""
         },
         "zerolinecolor": "#E1E5ED"
        },
        "yaxis": {
         "gridcolor": "#E1E5ED",
         "showgrid": true,
         "tickfont": {
          "color": "#4D5663"
         },
         "title": {
          "font": {
           "color": "#4D5663"
          },
          "text": ""
         },
         "zerolinecolor": "#E1E5ED"
        }
       }
      },
      "text/html": [
       "<div>                            <div id=\"ca56a2d9-af69-4245-b738-61c591321e36\" class=\"plotly-graph-div\" style=\"height:525px; width:100%;\"></div>            <script type=\"text/javascript\">                require([\"plotly\"], function(Plotly) {                    window.PLOTLYENV=window.PLOTLYENV || {};\n",
       "                    window.PLOTLYENV.BASE_URL='https://plot.ly';                                    if (document.getElementById(\"ca56a2d9-af69-4245-b738-61c591321e36\")) {                    Plotly.newPlot(                        \"ca56a2d9-af69-4245-b738-61c591321e36\",                        [{\"marker\": {\"color\": \"rgba(255, 153, 51, 0.6)\", \"line\": {\"color\": \"rgba(255, 153, 51, 1.0)\", \"width\": 1}}, \"name\": \"Values\", \"orientation\": \"v\", \"text\": \"\", \"type\": \"bar\", \"x\": [\"A\", \"B\", \"C\"], \"y\": [32, 43, 50]}],                        {\"legend\": {\"bgcolor\": \"#F5F6F9\", \"font\": {\"color\": \"#4D5663\"}}, \"paper_bgcolor\": \"#F5F6F9\", \"plot_bgcolor\": \"#F5F6F9\", \"template\": {\"data\": {\"bar\": [{\"error_x\": {\"color\": \"#2a3f5f\"}, \"error_y\": {\"color\": \"#2a3f5f\"}, \"marker\": {\"line\": {\"color\": \"#E5ECF6\", \"width\": 0.5}}, \"type\": \"bar\"}], \"barpolar\": [{\"marker\": {\"line\": {\"color\": \"#E5ECF6\", \"width\": 0.5}}, \"type\": \"barpolar\"}], \"carpet\": [{\"aaxis\": {\"endlinecolor\": \"#2a3f5f\", \"gridcolor\": \"white\", \"linecolor\": \"white\", \"minorgridcolor\": \"white\", \"startlinecolor\": \"#2a3f5f\"}, \"baxis\": {\"endlinecolor\": \"#2a3f5f\", \"gridcolor\": \"white\", \"linecolor\": \"white\", \"minorgridcolor\": \"white\", \"startlinecolor\": \"#2a3f5f\"}, \"type\": \"carpet\"}], \"choropleth\": [{\"colorbar\": {\"outlinewidth\": 0, \"ticks\": \"\"}, \"type\": \"choropleth\"}], \"contour\": [{\"colorbar\": {\"outlinewidth\": 0, \"ticks\": \"\"}, \"colorscale\": [[0.0, \"#0d0887\"], [0.1111111111111111, \"#46039f\"], [0.2222222222222222, \"#7201a8\"], [0.3333333333333333, \"#9c179e\"], [0.4444444444444444, \"#bd3786\"], [0.5555555555555556, \"#d8576b\"], [0.6666666666666666, \"#ed7953\"], [0.7777777777777778, \"#fb9f3a\"], [0.8888888888888888, \"#fdca26\"], [1.0, \"#f0f921\"]], \"type\": \"contour\"}], \"contourcarpet\": [{\"colorbar\": {\"outlinewidth\": 0, \"ticks\": \"\"}, \"type\": \"contourcarpet\"}], \"heatmap\": [{\"colorbar\": {\"outlinewidth\": 0, \"ticks\": \"\"}, \"colorscale\": [[0.0, \"#0d0887\"], [0.1111111111111111, \"#46039f\"], [0.2222222222222222, \"#7201a8\"], [0.3333333333333333, \"#9c179e\"], [0.4444444444444444, \"#bd3786\"], [0.5555555555555556, \"#d8576b\"], [0.6666666666666666, \"#ed7953\"], [0.7777777777777778, \"#fb9f3a\"], [0.8888888888888888, \"#fdca26\"], [1.0, \"#f0f921\"]], \"type\": \"heatmap\"}], \"heatmapgl\": [{\"colorbar\": {\"outlinewidth\": 0, \"ticks\": \"\"}, \"colorscale\": [[0.0, \"#0d0887\"], [0.1111111111111111, \"#46039f\"], [0.2222222222222222, \"#7201a8\"], [0.3333333333333333, \"#9c179e\"], [0.4444444444444444, \"#bd3786\"], [0.5555555555555556, \"#d8576b\"], [0.6666666666666666, \"#ed7953\"], [0.7777777777777778, \"#fb9f3a\"], [0.8888888888888888, \"#fdca26\"], [1.0, \"#f0f921\"]], \"type\": \"heatmapgl\"}], \"histogram\": [{\"marker\": {\"colorbar\": {\"outlinewidth\": 0, \"ticks\": \"\"}}, \"type\": \"histogram\"}], \"histogram2d\": [{\"colorbar\": {\"outlinewidth\": 0, \"ticks\": \"\"}, \"colorscale\": [[0.0, \"#0d0887\"], [0.1111111111111111, \"#46039f\"], [0.2222222222222222, \"#7201a8\"], [0.3333333333333333, \"#9c179e\"], [0.4444444444444444, \"#bd3786\"], [0.5555555555555556, \"#d8576b\"], [0.6666666666666666, \"#ed7953\"], [0.7777777777777778, \"#fb9f3a\"], [0.8888888888888888, \"#fdca26\"], [1.0, \"#f0f921\"]], \"type\": \"histogram2d\"}], \"histogram2dcontour\": [{\"colorbar\": {\"outlinewidth\": 0, \"ticks\": \"\"}, \"colorscale\": [[0.0, \"#0d0887\"], [0.1111111111111111, \"#46039f\"], [0.2222222222222222, \"#7201a8\"], [0.3333333333333333, \"#9c179e\"], [0.4444444444444444, \"#bd3786\"], [0.5555555555555556, \"#d8576b\"], [0.6666666666666666, \"#ed7953\"], [0.7777777777777778, \"#fb9f3a\"], [0.8888888888888888, \"#fdca26\"], [1.0, \"#f0f921\"]], \"type\": \"histogram2dcontour\"}], \"mesh3d\": [{\"colorbar\": {\"outlinewidth\": 0, \"ticks\": \"\"}, \"type\": \"mesh3d\"}], \"parcoords\": [{\"line\": {\"colorbar\": {\"outlinewidth\": 0, \"ticks\": \"\"}}, \"type\": \"parcoords\"}], \"pie\": [{\"automargin\": true, \"type\": \"pie\"}], \"scatter\": [{\"marker\": {\"colorbar\": {\"outlinewidth\": 0, \"ticks\": \"\"}}, \"type\": \"scatter\"}], \"scatter3d\": [{\"line\": {\"colorbar\": {\"outlinewidth\": 0, \"ticks\": \"\"}}, \"marker\": {\"colorbar\": {\"outlinewidth\": 0, \"ticks\": \"\"}}, \"type\": \"scatter3d\"}], \"scattercarpet\": [{\"marker\": {\"colorbar\": {\"outlinewidth\": 0, \"ticks\": \"\"}}, \"type\": \"scattercarpet\"}], \"scattergeo\": [{\"marker\": {\"colorbar\": {\"outlinewidth\": 0, \"ticks\": \"\"}}, \"type\": \"scattergeo\"}], \"scattergl\": [{\"marker\": {\"colorbar\": {\"outlinewidth\": 0, \"ticks\": \"\"}}, \"type\": \"scattergl\"}], \"scattermapbox\": [{\"marker\": {\"colorbar\": {\"outlinewidth\": 0, \"ticks\": \"\"}}, \"type\": \"scattermapbox\"}], \"scatterpolar\": [{\"marker\": {\"colorbar\": {\"outlinewidth\": 0, \"ticks\": \"\"}}, \"type\": \"scatterpolar\"}], \"scatterpolargl\": [{\"marker\": {\"colorbar\": {\"outlinewidth\": 0, \"ticks\": \"\"}}, \"type\": \"scatterpolargl\"}], \"scatterternary\": [{\"marker\": {\"colorbar\": {\"outlinewidth\": 0, \"ticks\": \"\"}}, \"type\": \"scatterternary\"}], \"surface\": [{\"colorbar\": {\"outlinewidth\": 0, \"ticks\": \"\"}, \"colorscale\": [[0.0, \"#0d0887\"], [0.1111111111111111, \"#46039f\"], [0.2222222222222222, \"#7201a8\"], [0.3333333333333333, \"#9c179e\"], [0.4444444444444444, \"#bd3786\"], [0.5555555555555556, \"#d8576b\"], [0.6666666666666666, \"#ed7953\"], [0.7777777777777778, \"#fb9f3a\"], [0.8888888888888888, \"#fdca26\"], [1.0, \"#f0f921\"]], \"type\": \"surface\"}], \"table\": [{\"cells\": {\"fill\": {\"color\": \"#EBF0F8\"}, \"line\": {\"color\": \"white\"}}, \"header\": {\"fill\": {\"color\": \"#C8D4E3\"}, \"line\": {\"color\": \"white\"}}, \"type\": \"table\"}]}, \"layout\": {\"annotationdefaults\": {\"arrowcolor\": \"#2a3f5f\", \"arrowhead\": 0, \"arrowwidth\": 1}, \"autotypenumbers\": \"strict\", \"coloraxis\": {\"colorbar\": {\"outlinewidth\": 0, \"ticks\": \"\"}}, \"colorscale\": {\"diverging\": [[0, \"#8e0152\"], [0.1, \"#c51b7d\"], [0.2, \"#de77ae\"], [0.3, \"#f1b6da\"], [0.4, \"#fde0ef\"], [0.5, \"#f7f7f7\"], [0.6, \"#e6f5d0\"], [0.7, \"#b8e186\"], [0.8, \"#7fbc41\"], [0.9, \"#4d9221\"], [1, \"#276419\"]], \"sequential\": [[0.0, \"#0d0887\"], [0.1111111111111111, \"#46039f\"], [0.2222222222222222, \"#7201a8\"], [0.3333333333333333, \"#9c179e\"], [0.4444444444444444, \"#bd3786\"], [0.5555555555555556, \"#d8576b\"], [0.6666666666666666, \"#ed7953\"], [0.7777777777777778, \"#fb9f3a\"], [0.8888888888888888, \"#fdca26\"], [1.0, \"#f0f921\"]], \"sequentialminus\": [[0.0, \"#0d0887\"], [0.1111111111111111, \"#46039f\"], [0.2222222222222222, \"#7201a8\"], [0.3333333333333333, \"#9c179e\"], [0.4444444444444444, \"#bd3786\"], [0.5555555555555556, \"#d8576b\"], [0.6666666666666666, \"#ed7953\"], [0.7777777777777778, \"#fb9f3a\"], [0.8888888888888888, \"#fdca26\"], [1.0, \"#f0f921\"]]}, \"colorway\": [\"#636efa\", \"#EF553B\", \"#00cc96\", \"#ab63fa\", \"#FFA15A\", \"#19d3f3\", \"#FF6692\", \"#B6E880\", \"#FF97FF\", \"#FECB52\"], \"font\": {\"color\": \"#2a3f5f\"}, \"geo\": {\"bgcolor\": \"white\", \"lakecolor\": \"white\", \"landcolor\": \"#E5ECF6\", \"showlakes\": true, \"showland\": true, \"subunitcolor\": \"white\"}, \"hoverlabel\": {\"align\": \"left\"}, \"hovermode\": \"closest\", \"mapbox\": {\"style\": \"light\"}, \"paper_bgcolor\": \"white\", \"plot_bgcolor\": \"#E5ECF6\", \"polar\": {\"angularaxis\": {\"gridcolor\": \"white\", \"linecolor\": \"white\", \"ticks\": \"\"}, \"bgcolor\": \"#E5ECF6\", \"radialaxis\": {\"gridcolor\": \"white\", \"linecolor\": \"white\", \"ticks\": \"\"}}, \"scene\": {\"xaxis\": {\"backgroundcolor\": \"#E5ECF6\", \"gridcolor\": \"white\", \"gridwidth\": 2, \"linecolor\": \"white\", \"showbackground\": true, \"ticks\": \"\", \"zerolinecolor\": \"white\"}, \"yaxis\": {\"backgroundcolor\": \"#E5ECF6\", \"gridcolor\": \"white\", \"gridwidth\": 2, \"linecolor\": \"white\", \"showbackground\": true, \"ticks\": \"\", \"zerolinecolor\": \"white\"}, \"zaxis\": {\"backgroundcolor\": \"#E5ECF6\", \"gridcolor\": \"white\", \"gridwidth\": 2, \"linecolor\": \"white\", \"showbackground\": true, \"ticks\": \"\", \"zerolinecolor\": \"white\"}}, \"shapedefaults\": {\"line\": {\"color\": \"#2a3f5f\"}}, \"ternary\": {\"aaxis\": {\"gridcolor\": \"white\", \"linecolor\": \"white\", \"ticks\": \"\"}, \"baxis\": {\"gridcolor\": \"white\", \"linecolor\": \"white\", \"ticks\": \"\"}, \"bgcolor\": \"#E5ECF6\", \"caxis\": {\"gridcolor\": \"white\", \"linecolor\": \"white\", \"ticks\": \"\"}}, \"title\": {\"x\": 0.05}, \"xaxis\": {\"automargin\": true, \"gridcolor\": \"white\", \"linecolor\": \"white\", \"ticks\": \"\", \"title\": {\"standoff\": 15}, \"zerolinecolor\": \"white\", \"zerolinewidth\": 2}, \"yaxis\": {\"automargin\": true, \"gridcolor\": \"white\", \"linecolor\": \"white\", \"ticks\": \"\", \"title\": {\"standoff\": 15}, \"zerolinecolor\": \"white\", \"zerolinewidth\": 2}}}, \"title\": {\"font\": {\"color\": \"#4D5663\"}}, \"xaxis\": {\"gridcolor\": \"#E1E5ED\", \"showgrid\": true, \"tickfont\": {\"color\": \"#4D5663\"}, \"title\": {\"font\": {\"color\": \"#4D5663\"}, \"text\": \"\"}, \"zerolinecolor\": \"#E1E5ED\"}, \"yaxis\": {\"gridcolor\": \"#E1E5ED\", \"showgrid\": true, \"tickfont\": {\"color\": \"#4D5663\"}, \"title\": {\"font\": {\"color\": \"#4D5663\"}, \"text\": \"\"}, \"zerolinecolor\": \"#E1E5ED\"}},                        {\"showLink\": true, \"linkText\": \"Export to plot.ly\", \"plotlyServerURL\": \"https://plot.ly\", \"responsive\": true}                    ).then(function(){\n",
       "                            \n",
       "var gd = document.getElementById('ca56a2d9-af69-4245-b738-61c591321e36');\n",
       "var x = new MutationObserver(function (mutations, observer) {{\n",
       "        var display = window.getComputedStyle(gd).display;\n",
       "        if (!display || display === 'none') {{\n",
       "            console.log([gd, 'removed!']);\n",
       "            Plotly.purge(gd);\n",
       "            observer.disconnect();\n",
       "        }}\n",
       "}});\n",
       "\n",
       "// Listen for the removal of the full notebook cells\n",
       "var notebookContainer = gd.closest('#notebook-container');\n",
       "if (notebookContainer) {{\n",
       "    x.observe(notebookContainer, {childList: true});\n",
       "}}\n",
       "\n",
       "// Listen for the clearing of the current output cell\n",
       "var outputEl = gd.closest('.output');\n",
       "if (outputEl) {{\n",
       "    x.observe(outputEl, {childList: true});\n",
       "}}\n",
       "\n",
       "                        })                };                });            </script>        </div>"
      ]
     },
     "metadata": {},
     "output_type": "display_data"
    }
   ],
   "source": [
    "df2.iplot(kind='bar',x='Category',y='Values')"
   ]
  },
  {
   "cell_type": "code",
   "execution_count": 14,
   "metadata": {},
   "outputs": [
    {
     "data": {
      "application/vnd.plotly.v1+json": {
       "config": {
        "linkText": "Export to plot.ly",
        "plotlyServerURL": "https://plot.ly",
        "showLink": true
       },
       "data": [
        {
         "marker": {
          "color": "rgba(255, 153, 51, 0.6)",
          "line": {
           "color": "rgba(255, 153, 51, 1.0)",
           "width": 1
          }
         },
         "name": "None",
         "orientation": "v",
         "text": "",
         "type": "bar",
         "x": [
          "A",
          "B",
          "C",
          "D"
         ],
         "y": [
          100,
          100,
          100,
          100
         ]
        }
       ],
       "layout": {
        "legend": {
         "bgcolor": "#F5F6F9",
         "font": {
          "color": "#4D5663"
         }
        },
        "paper_bgcolor": "#F5F6F9",
        "plot_bgcolor": "#F5F6F9",
        "template": {
         "data": {
          "bar": [
           {
            "error_x": {
             "color": "#2a3f5f"
            },
            "error_y": {
             "color": "#2a3f5f"
            },
            "marker": {
             "line": {
              "color": "#E5ECF6",
              "width": 0.5
             }
            },
            "type": "bar"
           }
          ],
          "barpolar": [
           {
            "marker": {
             "line": {
              "color": "#E5ECF6",
              "width": 0.5
             }
            },
            "type": "barpolar"
           }
          ],
          "carpet": [
           {
            "aaxis": {
             "endlinecolor": "#2a3f5f",
             "gridcolor": "white",
             "linecolor": "white",
             "minorgridcolor": "white",
             "startlinecolor": "#2a3f5f"
            },
            "baxis": {
             "endlinecolor": "#2a3f5f",
             "gridcolor": "white",
             "linecolor": "white",
             "minorgridcolor": "white",
             "startlinecolor": "#2a3f5f"
            },
            "type": "carpet"
           }
          ],
          "choropleth": [
           {
            "colorbar": {
             "outlinewidth": 0,
             "ticks": ""
            },
            "type": "choropleth"
           }
          ],
          "contour": [
           {
            "colorbar": {
             "outlinewidth": 0,
             "ticks": ""
            },
            "colorscale": [
             [
              0,
              "#0d0887"
             ],
             [
              0.1111111111111111,
              "#46039f"
             ],
             [
              0.2222222222222222,
              "#7201a8"
             ],
             [
              0.3333333333333333,
              "#9c179e"
             ],
             [
              0.4444444444444444,
              "#bd3786"
             ],
             [
              0.5555555555555556,
              "#d8576b"
             ],
             [
              0.6666666666666666,
              "#ed7953"
             ],
             [
              0.7777777777777778,
              "#fb9f3a"
             ],
             [
              0.8888888888888888,
              "#fdca26"
             ],
             [
              1,
              "#f0f921"
             ]
            ],
            "type": "contour"
           }
          ],
          "contourcarpet": [
           {
            "colorbar": {
             "outlinewidth": 0,
             "ticks": ""
            },
            "type": "contourcarpet"
           }
          ],
          "heatmap": [
           {
            "colorbar": {
             "outlinewidth": 0,
             "ticks": ""
            },
            "colorscale": [
             [
              0,
              "#0d0887"
             ],
             [
              0.1111111111111111,
              "#46039f"
             ],
             [
              0.2222222222222222,
              "#7201a8"
             ],
             [
              0.3333333333333333,
              "#9c179e"
             ],
             [
              0.4444444444444444,
              "#bd3786"
             ],
             [
              0.5555555555555556,
              "#d8576b"
             ],
             [
              0.6666666666666666,
              "#ed7953"
             ],
             [
              0.7777777777777778,
              "#fb9f3a"
             ],
             [
              0.8888888888888888,
              "#fdca26"
             ],
             [
              1,
              "#f0f921"
             ]
            ],
            "type": "heatmap"
           }
          ],
          "heatmapgl": [
           {
            "colorbar": {
             "outlinewidth": 0,
             "ticks": ""
            },
            "colorscale": [
             [
              0,
              "#0d0887"
             ],
             [
              0.1111111111111111,
              "#46039f"
             ],
             [
              0.2222222222222222,
              "#7201a8"
             ],
             [
              0.3333333333333333,
              "#9c179e"
             ],
             [
              0.4444444444444444,
              "#bd3786"
             ],
             [
              0.5555555555555556,
              "#d8576b"
             ],
             [
              0.6666666666666666,
              "#ed7953"
             ],
             [
              0.7777777777777778,
              "#fb9f3a"
             ],
             [
              0.8888888888888888,
              "#fdca26"
             ],
             [
              1,
              "#f0f921"
             ]
            ],
            "type": "heatmapgl"
           }
          ],
          "histogram": [
           {
            "marker": {
             "colorbar": {
              "outlinewidth": 0,
              "ticks": ""
             }
            },
            "type": "histogram"
           }
          ],
          "histogram2d": [
           {
            "colorbar": {
             "outlinewidth": 0,
             "ticks": ""
            },
            "colorscale": [
             [
              0,
              "#0d0887"
             ],
             [
              0.1111111111111111,
              "#46039f"
             ],
             [
              0.2222222222222222,
              "#7201a8"
             ],
             [
              0.3333333333333333,
              "#9c179e"
             ],
             [
              0.4444444444444444,
              "#bd3786"
             ],
             [
              0.5555555555555556,
              "#d8576b"
             ],
             [
              0.6666666666666666,
              "#ed7953"
             ],
             [
              0.7777777777777778,
              "#fb9f3a"
             ],
             [
              0.8888888888888888,
              "#fdca26"
             ],
             [
              1,
              "#f0f921"
             ]
            ],
            "type": "histogram2d"
           }
          ],
          "histogram2dcontour": [
           {
            "colorbar": {
             "outlinewidth": 0,
             "ticks": ""
            },
            "colorscale": [
             [
              0,
              "#0d0887"
             ],
             [
              0.1111111111111111,
              "#46039f"
             ],
             [
              0.2222222222222222,
              "#7201a8"
             ],
             [
              0.3333333333333333,
              "#9c179e"
             ],
             [
              0.4444444444444444,
              "#bd3786"
             ],
             [
              0.5555555555555556,
              "#d8576b"
             ],
             [
              0.6666666666666666,
              "#ed7953"
             ],
             [
              0.7777777777777778,
              "#fb9f3a"
             ],
             [
              0.8888888888888888,
              "#fdca26"
             ],
             [
              1,
              "#f0f921"
             ]
            ],
            "type": "histogram2dcontour"
           }
          ],
          "mesh3d": [
           {
            "colorbar": {
             "outlinewidth": 0,
             "ticks": ""
            },
            "type": "mesh3d"
           }
          ],
          "parcoords": [
           {
            "line": {
             "colorbar": {
              "outlinewidth": 0,
              "ticks": ""
             }
            },
            "type": "parcoords"
           }
          ],
          "pie": [
           {
            "automargin": true,
            "type": "pie"
           }
          ],
          "scatter": [
           {
            "marker": {
             "colorbar": {
              "outlinewidth": 0,
              "ticks": ""
             }
            },
            "type": "scatter"
           }
          ],
          "scatter3d": [
           {
            "line": {
             "colorbar": {
              "outlinewidth": 0,
              "ticks": ""
             }
            },
            "marker": {
             "colorbar": {
              "outlinewidth": 0,
              "ticks": ""
             }
            },
            "type": "scatter3d"
           }
          ],
          "scattercarpet": [
           {
            "marker": {
             "colorbar": {
              "outlinewidth": 0,
              "ticks": ""
             }
            },
            "type": "scattercarpet"
           }
          ],
          "scattergeo": [
           {
            "marker": {
             "colorbar": {
              "outlinewidth": 0,
              "ticks": ""
             }
            },
            "type": "scattergeo"
           }
          ],
          "scattergl": [
           {
            "marker": {
             "colorbar": {
              "outlinewidth": 0,
              "ticks": ""
             }
            },
            "type": "scattergl"
           }
          ],
          "scattermapbox": [
           {
            "marker": {
             "colorbar": {
              "outlinewidth": 0,
              "ticks": ""
             }
            },
            "type": "scattermapbox"
           }
          ],
          "scatterpolar": [
           {
            "marker": {
             "colorbar": {
              "outlinewidth": 0,
              "ticks": ""
             }
            },
            "type": "scatterpolar"
           }
          ],
          "scatterpolargl": [
           {
            "marker": {
             "colorbar": {
              "outlinewidth": 0,
              "ticks": ""
             }
            },
            "type": "scatterpolargl"
           }
          ],
          "scatterternary": [
           {
            "marker": {
             "colorbar": {
              "outlinewidth": 0,
              "ticks": ""
             }
            },
            "type": "scatterternary"
           }
          ],
          "surface": [
           {
            "colorbar": {
             "outlinewidth": 0,
             "ticks": ""
            },
            "colorscale": [
             [
              0,
              "#0d0887"
             ],
             [
              0.1111111111111111,
              "#46039f"
             ],
             [
              0.2222222222222222,
              "#7201a8"
             ],
             [
              0.3333333333333333,
              "#9c179e"
             ],
             [
              0.4444444444444444,
              "#bd3786"
             ],
             [
              0.5555555555555556,
              "#d8576b"
             ],
             [
              0.6666666666666666,
              "#ed7953"
             ],
             [
              0.7777777777777778,
              "#fb9f3a"
             ],
             [
              0.8888888888888888,
              "#fdca26"
             ],
             [
              1,
              "#f0f921"
             ]
            ],
            "type": "surface"
           }
          ],
          "table": [
           {
            "cells": {
             "fill": {
              "color": "#EBF0F8"
             },
             "line": {
              "color": "white"
             }
            },
            "header": {
             "fill": {
              "color": "#C8D4E3"
             },
             "line": {
              "color": "white"
             }
            },
            "type": "table"
           }
          ]
         },
         "layout": {
          "annotationdefaults": {
           "arrowcolor": "#2a3f5f",
           "arrowhead": 0,
           "arrowwidth": 1
          },
          "autotypenumbers": "strict",
          "coloraxis": {
           "colorbar": {
            "outlinewidth": 0,
            "ticks": ""
           }
          },
          "colorscale": {
           "diverging": [
            [
             0,
             "#8e0152"
            ],
            [
             0.1,
             "#c51b7d"
            ],
            [
             0.2,
             "#de77ae"
            ],
            [
             0.3,
             "#f1b6da"
            ],
            [
             0.4,
             "#fde0ef"
            ],
            [
             0.5,
             "#f7f7f7"
            ],
            [
             0.6,
             "#e6f5d0"
            ],
            [
             0.7,
             "#b8e186"
            ],
            [
             0.8,
             "#7fbc41"
            ],
            [
             0.9,
             "#4d9221"
            ],
            [
             1,
             "#276419"
            ]
           ],
           "sequential": [
            [
             0,
             "#0d0887"
            ],
            [
             0.1111111111111111,
             "#46039f"
            ],
            [
             0.2222222222222222,
             "#7201a8"
            ],
            [
             0.3333333333333333,
             "#9c179e"
            ],
            [
             0.4444444444444444,
             "#bd3786"
            ],
            [
             0.5555555555555556,
             "#d8576b"
            ],
            [
             0.6666666666666666,
             "#ed7953"
            ],
            [
             0.7777777777777778,
             "#fb9f3a"
            ],
            [
             0.8888888888888888,
             "#fdca26"
            ],
            [
             1,
             "#f0f921"
            ]
           ],
           "sequentialminus": [
            [
             0,
             "#0d0887"
            ],
            [
             0.1111111111111111,
             "#46039f"
            ],
            [
             0.2222222222222222,
             "#7201a8"
            ],
            [
             0.3333333333333333,
             "#9c179e"
            ],
            [
             0.4444444444444444,
             "#bd3786"
            ],
            [
             0.5555555555555556,
             "#d8576b"
            ],
            [
             0.6666666666666666,
             "#ed7953"
            ],
            [
             0.7777777777777778,
             "#fb9f3a"
            ],
            [
             0.8888888888888888,
             "#fdca26"
            ],
            [
             1,
             "#f0f921"
            ]
           ]
          },
          "colorway": [
           "#636efa",
           "#EF553B",
           "#00cc96",
           "#ab63fa",
           "#FFA15A",
           "#19d3f3",
           "#FF6692",
           "#B6E880",
           "#FF97FF",
           "#FECB52"
          ],
          "font": {
           "color": "#2a3f5f"
          },
          "geo": {
           "bgcolor": "white",
           "lakecolor": "white",
           "landcolor": "#E5ECF6",
           "showlakes": true,
           "showland": true,
           "subunitcolor": "white"
          },
          "hoverlabel": {
           "align": "left"
          },
          "hovermode": "closest",
          "mapbox": {
           "style": "light"
          },
          "paper_bgcolor": "white",
          "plot_bgcolor": "#E5ECF6",
          "polar": {
           "angularaxis": {
            "gridcolor": "white",
            "linecolor": "white",
            "ticks": ""
           },
           "bgcolor": "#E5ECF6",
           "radialaxis": {
            "gridcolor": "white",
            "linecolor": "white",
            "ticks": ""
           }
          },
          "scene": {
           "xaxis": {
            "backgroundcolor": "#E5ECF6",
            "gridcolor": "white",
            "gridwidth": 2,
            "linecolor": "white",
            "showbackground": true,
            "ticks": "",
            "zerolinecolor": "white"
           },
           "yaxis": {
            "backgroundcolor": "#E5ECF6",
            "gridcolor": "white",
            "gridwidth": 2,
            "linecolor": "white",
            "showbackground": true,
            "ticks": "",
            "zerolinecolor": "white"
           },
           "zaxis": {
            "backgroundcolor": "#E5ECF6",
            "gridcolor": "white",
            "gridwidth": 2,
            "linecolor": "white",
            "showbackground": true,
            "ticks": "",
            "zerolinecolor": "white"
           }
          },
          "shapedefaults": {
           "line": {
            "color": "#2a3f5f"
           }
          },
          "ternary": {
           "aaxis": {
            "gridcolor": "white",
            "linecolor": "white",
            "ticks": ""
           },
           "baxis": {
            "gridcolor": "white",
            "linecolor": "white",
            "ticks": ""
           },
           "bgcolor": "#E5ECF6",
           "caxis": {
            "gridcolor": "white",
            "linecolor": "white",
            "ticks": ""
           }
          },
          "title": {
           "x": 0.05
          },
          "xaxis": {
           "automargin": true,
           "gridcolor": "white",
           "linecolor": "white",
           "ticks": "",
           "title": {
            "standoff": 15
           },
           "zerolinecolor": "white",
           "zerolinewidth": 2
          },
          "yaxis": {
           "automargin": true,
           "gridcolor": "white",
           "linecolor": "white",
           "ticks": "",
           "title": {
            "standoff": 15
           },
           "zerolinecolor": "white",
           "zerolinewidth": 2
          }
         }
        },
        "title": {
         "font": {
          "color": "#4D5663"
         }
        },
        "xaxis": {
         "gridcolor": "#E1E5ED",
         "showgrid": true,
         "tickfont": {
          "color": "#4D5663"
         },
         "title": {
          "font": {
           "color": "#4D5663"
          },
          "text": ""
         },
         "zerolinecolor": "#E1E5ED"
        },
        "yaxis": {
         "gridcolor": "#E1E5ED",
         "showgrid": true,
         "tickfont": {
          "color": "#4D5663"
         },
         "title": {
          "font": {
           "color": "#4D5663"
          },
          "text": ""
         },
         "zerolinecolor": "#E1E5ED"
        }
       }
      },
      "text/html": [
       "<div>                            <div id=\"307ea12a-35dc-413b-a533-d52dc2aac959\" class=\"plotly-graph-div\" style=\"height:525px; width:100%;\"></div>            <script type=\"text/javascript\">                require([\"plotly\"], function(Plotly) {                    window.PLOTLYENV=window.PLOTLYENV || {};\n",
       "                    window.PLOTLYENV.BASE_URL='https://plot.ly';                                    if (document.getElementById(\"307ea12a-35dc-413b-a533-d52dc2aac959\")) {                    Plotly.newPlot(                        \"307ea12a-35dc-413b-a533-d52dc2aac959\",                        [{\"marker\": {\"color\": \"rgba(255, 153, 51, 0.6)\", \"line\": {\"color\": \"rgba(255, 153, 51, 1.0)\", \"width\": 1}}, \"name\": \"None\", \"orientation\": \"v\", \"text\": \"\", \"type\": \"bar\", \"x\": [\"A\", \"B\", \"C\", \"D\"], \"y\": [100, 100, 100, 100]}],                        {\"legend\": {\"bgcolor\": \"#F5F6F9\", \"font\": {\"color\": \"#4D5663\"}}, \"paper_bgcolor\": \"#F5F6F9\", \"plot_bgcolor\": \"#F5F6F9\", \"template\": {\"data\": {\"bar\": [{\"error_x\": {\"color\": \"#2a3f5f\"}, \"error_y\": {\"color\": \"#2a3f5f\"}, \"marker\": {\"line\": {\"color\": \"#E5ECF6\", \"width\": 0.5}}, \"type\": \"bar\"}], \"barpolar\": [{\"marker\": {\"line\": {\"color\": \"#E5ECF6\", \"width\": 0.5}}, \"type\": \"barpolar\"}], \"carpet\": [{\"aaxis\": {\"endlinecolor\": \"#2a3f5f\", \"gridcolor\": \"white\", \"linecolor\": \"white\", \"minorgridcolor\": \"white\", \"startlinecolor\": \"#2a3f5f\"}, \"baxis\": {\"endlinecolor\": \"#2a3f5f\", \"gridcolor\": \"white\", \"linecolor\": \"white\", \"minorgridcolor\": \"white\", \"startlinecolor\": \"#2a3f5f\"}, \"type\": \"carpet\"}], \"choropleth\": [{\"colorbar\": {\"outlinewidth\": 0, \"ticks\": \"\"}, \"type\": \"choropleth\"}], \"contour\": [{\"colorbar\": {\"outlinewidth\": 0, \"ticks\": \"\"}, \"colorscale\": [[0.0, \"#0d0887\"], [0.1111111111111111, \"#46039f\"], [0.2222222222222222, \"#7201a8\"], [0.3333333333333333, \"#9c179e\"], [0.4444444444444444, \"#bd3786\"], [0.5555555555555556, \"#d8576b\"], [0.6666666666666666, \"#ed7953\"], [0.7777777777777778, \"#fb9f3a\"], [0.8888888888888888, \"#fdca26\"], [1.0, \"#f0f921\"]], \"type\": \"contour\"}], \"contourcarpet\": [{\"colorbar\": {\"outlinewidth\": 0, \"ticks\": \"\"}, \"type\": \"contourcarpet\"}], \"heatmap\": [{\"colorbar\": {\"outlinewidth\": 0, \"ticks\": \"\"}, \"colorscale\": [[0.0, \"#0d0887\"], [0.1111111111111111, \"#46039f\"], [0.2222222222222222, \"#7201a8\"], [0.3333333333333333, \"#9c179e\"], [0.4444444444444444, \"#bd3786\"], [0.5555555555555556, \"#d8576b\"], [0.6666666666666666, \"#ed7953\"], [0.7777777777777778, \"#fb9f3a\"], [0.8888888888888888, \"#fdca26\"], [1.0, \"#f0f921\"]], \"type\": \"heatmap\"}], \"heatmapgl\": [{\"colorbar\": {\"outlinewidth\": 0, \"ticks\": \"\"}, \"colorscale\": [[0.0, \"#0d0887\"], [0.1111111111111111, \"#46039f\"], [0.2222222222222222, \"#7201a8\"], [0.3333333333333333, \"#9c179e\"], [0.4444444444444444, \"#bd3786\"], [0.5555555555555556, \"#d8576b\"], [0.6666666666666666, \"#ed7953\"], [0.7777777777777778, \"#fb9f3a\"], [0.8888888888888888, \"#fdca26\"], [1.0, \"#f0f921\"]], \"type\": \"heatmapgl\"}], \"histogram\": [{\"marker\": {\"colorbar\": {\"outlinewidth\": 0, \"ticks\": \"\"}}, \"type\": \"histogram\"}], \"histogram2d\": [{\"colorbar\": {\"outlinewidth\": 0, \"ticks\": \"\"}, \"colorscale\": [[0.0, \"#0d0887\"], [0.1111111111111111, \"#46039f\"], [0.2222222222222222, \"#7201a8\"], [0.3333333333333333, \"#9c179e\"], [0.4444444444444444, \"#bd3786\"], [0.5555555555555556, \"#d8576b\"], [0.6666666666666666, \"#ed7953\"], [0.7777777777777778, \"#fb9f3a\"], [0.8888888888888888, \"#fdca26\"], [1.0, \"#f0f921\"]], \"type\": \"histogram2d\"}], \"histogram2dcontour\": [{\"colorbar\": {\"outlinewidth\": 0, \"ticks\": \"\"}, \"colorscale\": [[0.0, \"#0d0887\"], [0.1111111111111111, \"#46039f\"], [0.2222222222222222, \"#7201a8\"], [0.3333333333333333, \"#9c179e\"], [0.4444444444444444, \"#bd3786\"], [0.5555555555555556, \"#d8576b\"], [0.6666666666666666, \"#ed7953\"], [0.7777777777777778, \"#fb9f3a\"], [0.8888888888888888, \"#fdca26\"], [1.0, \"#f0f921\"]], \"type\": \"histogram2dcontour\"}], \"mesh3d\": [{\"colorbar\": {\"outlinewidth\": 0, \"ticks\": \"\"}, \"type\": \"mesh3d\"}], \"parcoords\": [{\"line\": {\"colorbar\": {\"outlinewidth\": 0, \"ticks\": \"\"}}, \"type\": \"parcoords\"}], \"pie\": [{\"automargin\": true, \"type\": \"pie\"}], \"scatter\": [{\"marker\": {\"colorbar\": {\"outlinewidth\": 0, \"ticks\": \"\"}}, \"type\": \"scatter\"}], \"scatter3d\": [{\"line\": {\"colorbar\": {\"outlinewidth\": 0, \"ticks\": \"\"}}, \"marker\": {\"colorbar\": {\"outlinewidth\": 0, \"ticks\": \"\"}}, \"type\": \"scatter3d\"}], \"scattercarpet\": [{\"marker\": {\"colorbar\": {\"outlinewidth\": 0, \"ticks\": \"\"}}, \"type\": \"scattercarpet\"}], \"scattergeo\": [{\"marker\": {\"colorbar\": {\"outlinewidth\": 0, \"ticks\": \"\"}}, \"type\": \"scattergeo\"}], \"scattergl\": [{\"marker\": {\"colorbar\": {\"outlinewidth\": 0, \"ticks\": \"\"}}, \"type\": \"scattergl\"}], \"scattermapbox\": [{\"marker\": {\"colorbar\": {\"outlinewidth\": 0, \"ticks\": \"\"}}, \"type\": \"scattermapbox\"}], \"scatterpolar\": [{\"marker\": {\"colorbar\": {\"outlinewidth\": 0, \"ticks\": \"\"}}, \"type\": \"scatterpolar\"}], \"scatterpolargl\": [{\"marker\": {\"colorbar\": {\"outlinewidth\": 0, \"ticks\": \"\"}}, \"type\": \"scatterpolargl\"}], \"scatterternary\": [{\"marker\": {\"colorbar\": {\"outlinewidth\": 0, \"ticks\": \"\"}}, \"type\": \"scatterternary\"}], \"surface\": [{\"colorbar\": {\"outlinewidth\": 0, \"ticks\": \"\"}, \"colorscale\": [[0.0, \"#0d0887\"], [0.1111111111111111, \"#46039f\"], [0.2222222222222222, \"#7201a8\"], [0.3333333333333333, \"#9c179e\"], [0.4444444444444444, \"#bd3786\"], [0.5555555555555556, \"#d8576b\"], [0.6666666666666666, \"#ed7953\"], [0.7777777777777778, \"#fb9f3a\"], [0.8888888888888888, \"#fdca26\"], [1.0, \"#f0f921\"]], \"type\": \"surface\"}], \"table\": [{\"cells\": {\"fill\": {\"color\": \"#EBF0F8\"}, \"line\": {\"color\": \"white\"}}, \"header\": {\"fill\": {\"color\": \"#C8D4E3\"}, \"line\": {\"color\": \"white\"}}, \"type\": \"table\"}]}, \"layout\": {\"annotationdefaults\": {\"arrowcolor\": \"#2a3f5f\", \"arrowhead\": 0, \"arrowwidth\": 1}, \"autotypenumbers\": \"strict\", \"coloraxis\": {\"colorbar\": {\"outlinewidth\": 0, \"ticks\": \"\"}}, \"colorscale\": {\"diverging\": [[0, \"#8e0152\"], [0.1, \"#c51b7d\"], [0.2, \"#de77ae\"], [0.3, \"#f1b6da\"], [0.4, \"#fde0ef\"], [0.5, \"#f7f7f7\"], [0.6, \"#e6f5d0\"], [0.7, \"#b8e186\"], [0.8, \"#7fbc41\"], [0.9, \"#4d9221\"], [1, \"#276419\"]], \"sequential\": [[0.0, \"#0d0887\"], [0.1111111111111111, \"#46039f\"], [0.2222222222222222, \"#7201a8\"], [0.3333333333333333, \"#9c179e\"], [0.4444444444444444, \"#bd3786\"], [0.5555555555555556, \"#d8576b\"], [0.6666666666666666, \"#ed7953\"], [0.7777777777777778, \"#fb9f3a\"], [0.8888888888888888, \"#fdca26\"], [1.0, \"#f0f921\"]], \"sequentialminus\": [[0.0, \"#0d0887\"], [0.1111111111111111, \"#46039f\"], [0.2222222222222222, \"#7201a8\"], [0.3333333333333333, \"#9c179e\"], [0.4444444444444444, \"#bd3786\"], [0.5555555555555556, \"#d8576b\"], [0.6666666666666666, \"#ed7953\"], [0.7777777777777778, \"#fb9f3a\"], [0.8888888888888888, \"#fdca26\"], [1.0, \"#f0f921\"]]}, \"colorway\": [\"#636efa\", \"#EF553B\", \"#00cc96\", \"#ab63fa\", \"#FFA15A\", \"#19d3f3\", \"#FF6692\", \"#B6E880\", \"#FF97FF\", \"#FECB52\"], \"font\": {\"color\": \"#2a3f5f\"}, \"geo\": {\"bgcolor\": \"white\", \"lakecolor\": \"white\", \"landcolor\": \"#E5ECF6\", \"showlakes\": true, \"showland\": true, \"subunitcolor\": \"white\"}, \"hoverlabel\": {\"align\": \"left\"}, \"hovermode\": \"closest\", \"mapbox\": {\"style\": \"light\"}, \"paper_bgcolor\": \"white\", \"plot_bgcolor\": \"#E5ECF6\", \"polar\": {\"angularaxis\": {\"gridcolor\": \"white\", \"linecolor\": \"white\", \"ticks\": \"\"}, \"bgcolor\": \"#E5ECF6\", \"radialaxis\": {\"gridcolor\": \"white\", \"linecolor\": \"white\", \"ticks\": \"\"}}, \"scene\": {\"xaxis\": {\"backgroundcolor\": \"#E5ECF6\", \"gridcolor\": \"white\", \"gridwidth\": 2, \"linecolor\": \"white\", \"showbackground\": true, \"ticks\": \"\", \"zerolinecolor\": \"white\"}, \"yaxis\": {\"backgroundcolor\": \"#E5ECF6\", \"gridcolor\": \"white\", \"gridwidth\": 2, \"linecolor\": \"white\", \"showbackground\": true, \"ticks\": \"\", \"zerolinecolor\": \"white\"}, \"zaxis\": {\"backgroundcolor\": \"#E5ECF6\", \"gridcolor\": \"white\", \"gridwidth\": 2, \"linecolor\": \"white\", \"showbackground\": true, \"ticks\": \"\", \"zerolinecolor\": \"white\"}}, \"shapedefaults\": {\"line\": {\"color\": \"#2a3f5f\"}}, \"ternary\": {\"aaxis\": {\"gridcolor\": \"white\", \"linecolor\": \"white\", \"ticks\": \"\"}, \"baxis\": {\"gridcolor\": \"white\", \"linecolor\": \"white\", \"ticks\": \"\"}, \"bgcolor\": \"#E5ECF6\", \"caxis\": {\"gridcolor\": \"white\", \"linecolor\": \"white\", \"ticks\": \"\"}}, \"title\": {\"x\": 0.05}, \"xaxis\": {\"automargin\": true, \"gridcolor\": \"white\", \"linecolor\": \"white\", \"ticks\": \"\", \"title\": {\"standoff\": 15}, \"zerolinecolor\": \"white\", \"zerolinewidth\": 2}, \"yaxis\": {\"automargin\": true, \"gridcolor\": \"white\", \"linecolor\": \"white\", \"ticks\": \"\", \"title\": {\"standoff\": 15}, \"zerolinecolor\": \"white\", \"zerolinewidth\": 2}}}, \"title\": {\"font\": {\"color\": \"#4D5663\"}}, \"xaxis\": {\"gridcolor\": \"#E1E5ED\", \"showgrid\": true, \"tickfont\": {\"color\": \"#4D5663\"}, \"title\": {\"font\": {\"color\": \"#4D5663\"}, \"text\": \"\"}, \"zerolinecolor\": \"#E1E5ED\"}, \"yaxis\": {\"gridcolor\": \"#E1E5ED\", \"showgrid\": true, \"tickfont\": {\"color\": \"#4D5663\"}, \"title\": {\"font\": {\"color\": \"#4D5663\"}, \"text\": \"\"}, \"zerolinecolor\": \"#E1E5ED\"}},                        {\"showLink\": true, \"linkText\": \"Export to plot.ly\", \"plotlyServerURL\": \"https://plot.ly\", \"responsive\": true}                    ).then(function(){\n",
       "                            \n",
       "var gd = document.getElementById('307ea12a-35dc-413b-a533-d52dc2aac959');\n",
       "var x = new MutationObserver(function (mutations, observer) {{\n",
       "        var display = window.getComputedStyle(gd).display;\n",
       "        if (!display || display === 'none') {{\n",
       "            console.log([gd, 'removed!']);\n",
       "            Plotly.purge(gd);\n",
       "            observer.disconnect();\n",
       "        }}\n",
       "}});\n",
       "\n",
       "// Listen for the removal of the full notebook cells\n",
       "var notebookContainer = gd.closest('#notebook-container');\n",
       "if (notebookContainer) {{\n",
       "    x.observe(notebookContainer, {childList: true});\n",
       "}}\n",
       "\n",
       "// Listen for the clearing of the current output cell\n",
       "var outputEl = gd.closest('.output');\n",
       "if (outputEl) {{\n",
       "    x.observe(outputEl, {childList: true});\n",
       "}}\n",
       "\n",
       "                        })                };                });            </script>        </div>"
      ]
     },
     "metadata": {},
     "output_type": "display_data"
    }
   ],
   "source": [
    "df.count().iplot(kind='bar')"
   ]
  },
  {
   "cell_type": "markdown",
   "metadata": {},
   "source": [
    "## Boxplots"
   ]
  },
  {
   "cell_type": "code",
   "execution_count": 15,
   "metadata": {},
   "outputs": [
    {
     "data": {
      "application/vnd.plotly.v1+json": {
       "config": {
        "linkText": "Export to plot.ly",
        "plotlyServerURL": "https://plot.ly",
        "showLink": true
       },
       "data": [
        {
         "boxpoints": false,
         "line": {
          "width": 1.3
         },
         "marker": {
          "color": "rgba(255, 153, 51, 1.0)"
         },
         "name": "A",
         "orientation": "v",
         "type": "box",
         "y": [
          0.8225286437416501,
          1.7906518177693165,
          -0.4252650252772421,
          -0.11410539779221635,
          0.7794333388601931,
          0.5003190132121949,
          0.2018489181641643,
          -0.5146250488763782,
          0.3188360196714971,
          -0.5408247176895304,
          0.22587083856421108,
          -0.6974670580084895,
          0.5771703678093689,
          -0.013976202921457752,
          0.8783343452604568,
          -1.614949706939007,
          0.19153236329955206,
          -1.5765158215202855,
          -0.4112903516874633,
          -1.092087010716353,
          1.33599345630096,
          1.4351531348939572,
          -1.2848571383638239,
          -1.7510693502903472,
          0.8075813530347192,
          -0.5470180608654744,
          -0.28413980500001806,
          0.20961814337947923,
          -0.02959907422165152,
          0.9547946370028454,
          -0.4789236470968032,
          -0.5970003307837691,
          -0.39385277023122905,
          0.11981370704438987,
          0.9871751876769622,
          0.31853744701880177,
          -0.3657065423701585,
          0.37725580911967876,
          -0.18348735017904264,
          1.6081305852347272,
          0.1731427842198789,
          1.7563528761773035,
          -1.9242694093670059,
          0.15322007858144676,
          0.3694726518707792,
          1.1238409758155203,
          -0.47236617294136934,
          -2.2054955020266758,
          -0.038750514669134865,
          0.6406891232053674,
          -0.5122664102800992,
          0.4403463452002344,
          0.12621387719415295,
          0.11548873258660677,
          -0.5566016986744087,
          -0.013768255762175781,
          0.8952226489212914,
          0.9118298889268938,
          0.569114211520104,
          0.024437122932751843,
          1.701500345824061,
          0.2251987043144141,
          -0.24188881465420595,
          1.3250447913362182,
          0.360446668523524,
          0.17515640035608626,
          -1.704366488761559,
          -1.5158347740723928,
          0.4902716968708798,
          0.6453474335949971,
          -0.7399554958505687,
          1.8131232768603385,
          -0.12291573819921484,
          0.4669552405324629,
          -0.2938506167449886,
          0.40228120830014147,
          -2.149327520203454,
          -0.6866806942881285,
          -0.2927811094268949,
          0.5042300314844698,
          0.6555808286390054,
          -0.9279139834900973,
          -0.08543978812480418,
          -0.04796523223752661,
          0.0746435164054404,
          0.2307148975501273,
          -2.027424116120096,
          0.3450571253534357,
          -1.1612443444561293,
          -0.3726671090762646,
          -2.976221788193337,
          -2.1117101596495687,
          -0.6985426135652383,
          1.1965258562450305,
          -1.0459953031714726,
          1.976436641953744,
          -1.1349899468640317,
          0.3040281001626459,
          -1.8846583680508304,
          0.47535347700831315
         ]
        },
        {
         "boxpoints": false,
         "line": {
          "width": 1.3
         },
         "marker": {
          "color": "rgba(55, 128, 191, 1.0)"
         },
         "name": "B",
         "orientation": "v",
         "type": "box",
         "y": [
          0.9798422876110087,
          -0.07739040844163653,
          0.199140992111598,
          -1.2143268018612448,
          0.14285538470625045,
          -0.941613979403886,
          -0.5179651092895884,
          -2.9720401690748086,
          -0.9025695839599948,
          0.7070161377970824,
          0.6226851269936455,
          1.7220710947919995,
          2.421389113461388,
          -0.15836707680921455,
          -0.00824513735289978,
          -2.4502263963546427,
          0.32938834873258654,
          0.43268652790313156,
          -0.07647046488415142,
          0.16117870564803655,
          0.5719563509363634,
          0.6489901001574245,
          0.9376314079451413,
          -0.5772109776816116,
          0.43940958062906715,
          0.27942060999655977,
          -0.9424446593446479,
          -1.486525613267546,
          1.6312084499589516,
          -0.07507516007927825,
          0.12760269243775124,
          0.05373579584888705,
          0.1379571283605871,
          -0.8678493687113031,
          -0.43134562129715953,
          0.6545365996125828,
          -0.6271866565552896,
          -0.13713206936808897,
          1.2742682936024408,
          -0.8413247811888707,
          -0.7302648312780448,
          -0.6117741047846332,
          -1.210299969457778,
          -0.3801376853687354,
          -0.48236709698927316,
          1.6101057259159142,
          0.018396524012302493,
          3.02256317083536,
          2.5691163423097496,
          -0.8487428166948513,
          -0.10164929522395912,
          0.8273933294947996,
          -0.4641358512359839,
          1.0174474127248259,
          -0.6615304859327857,
          -1.8869319213356825,
          0.4677487870018134,
          -0.9766521809572346,
          0.4424919332422819,
          -3.1831759316713057,
          0.2283009026441312,
          0.36950934843910815,
          0.5369686034283853,
          0.2983504233853764,
          -0.004378996737566833,
          1.0592911293848593,
          1.6451075032610067,
          0.29029878762587735,
          -0.4609110721334788,
          0.4378794865441988,
          -1.4283048764958761,
          0.40738608837815354,
          0.7625659313961809,
          -1.4172139471023841,
          -0.10136148568438476,
          0.15838136839989114,
          -1.3580445071102318,
          -1.1087998884123191,
          0.05526415914038533,
          0.9883265678290705,
          -0.03771628428204599,
          0.26505609003670605,
          1.0489263265095015,
          2.2480644236455434,
          -0.39604599179023386,
          -2.0576074336266377,
          1.6418210719318171,
          -2.064000840790136,
          0.18340752558238735,
          0.3708702460919371,
          0.7564073758273471,
          0.5622132114774402,
          -0.8681703206538972,
          -0.5457892288792988,
          0.6462776058743678,
          -1.388235965781543,
          -1.403310739967856,
          -0.5048268930823668,
          -0.008940855983669326,
          0.2678190263167388
         ]
        },
        {
         "boxpoints": false,
         "line": {
          "width": 1.3
         },
         "marker": {
          "color": "rgba(50, 171, 96, 1.0)"
         },
         "name": "C",
         "orientation": "v",
         "type": "box",
         "y": [
          -1.8480792642687225,
          -1.5073073535465948,
          2.7517654569167695,
          -0.38327103028951126,
          0.5009825141133978,
          1.6406970586771368,
          -0.4703423325300513,
          1.6732929780811643,
          1.040691617332396,
          -0.24934723356129274,
          0.021997793443517558,
          0.8989515894069274,
          -0.5759127056740482,
          -0.7026023917505589,
          0.4692670581087731,
          1.3432700680140337,
          -0.6302423602368482,
          -0.3430283873498759,
          -1.9842157127662723,
          0.8747110508926359,
          -0.536771359647505,
          -0.392777577430483,
          -1.562564782209207,
          -0.5789699061718163,
          -0.18425013950555968,
          -2.781707116519058,
          -0.3326259378263187,
          0.14046861390619358,
          0.2825429570639549,
          0.6455258517208611,
          -1.6008958628410894,
          -0.10415536268299172,
          -0.04942963249814989,
          -0.057694290388260364,
          0.6441468014185162,
          -2.034107270522385,
          -1.1483600538743746,
          1.018752499138132,
          1.3317430124284058,
          -1.2716276574812149,
          -1.3634771643011692,
          -0.957455471343282,
          1.5406821339565229,
          -0.8136926628981285,
          0.20331805933592634,
          -0.19583194140407134,
          0.438566315735824,
          -0.7209994885802788,
          -0.8708784981578558,
          -1.1736760477006345,
          0.6346372161806274,
          0.5888789566851989,
          -0.9906076677698165,
          0.8429137123211539,
          -0.3225613770362344,
          0.5574676068308833,
          1.5137393249018745,
          0.5990314390706959,
          -2.0311028340275383,
          0.19943009806824033,
          0.19858460431477792,
          1.1068472715939244,
          0.10825003056178664,
          0.5042905887109416,
          1.2784751811154476,
          -1.2413104655095704,
          -0.7452347282645956,
          -2.37917618199128,
          1.0289070853370523,
          0.0214791390140893,
          1.0561661050786486,
          0.7704785454045623,
          0.6512151145097241,
          -0.7142081747361737,
          -0.8660196572140212,
          1.2596409014371919,
          2.3085583909486043,
          -0.6680875046149289,
          0.17983813934028284,
          -0.8132098447949029,
          -0.35154183701587355,
          1.8946547667964537,
          -0.5797419991317809,
          0.2977343502603907,
          1.7853093441655918,
          0.43633592987243625,
          -0.06958166697044685,
          0.405908894081575,
          -0.1207519711284738,
          -0.37308888981591537,
          0.6656125172898189,
          0.2557200855428001,
          0.3879497447859884,
          0.8648525072029724,
          0.8089907397609084,
          -1.6592657349829343,
          3.6772934789250584,
          -1.2565801865321515,
          0.8742079794998128,
          0.6252070910695261
         ]
        },
        {
         "boxpoints": false,
         "line": {
          "width": 1.3
         },
         "marker": {
          "color": "rgba(128, 0, 128, 1.0)"
         },
         "name": "D",
         "orientation": "v",
         "type": "box",
         "y": [
          1.2461613479122662,
          0.35511800548024297,
          -0.18595130532212353,
          -0.348331163680514,
          0.8883225848929086,
          1.325522461427812,
          0.33941433827540657,
          -1.289307385363924,
          0.836862655748313,
          -1.2422626539014314,
          -0.23785040361169305,
          0.3575269752162909,
          -0.7833919368145021,
          1.1763170251412371,
          -0.1677199907341728,
          0.27484576363007573,
          -1.0069717384662105,
          0.7708681903388637,
          0.6903328280340865,
          -0.8041460697190717,
          -0.2871373624581198,
          2.8865703671670517,
          -1.5073499977394755,
          -1.5104117495595408,
          -1.8284078692508576,
          0.44508890690435504,
          0.9976528054356555,
          2.0279348439902147,
          1.0079852619223597,
          1.8536471888100592,
          1.7237696979830333,
          3.2616116359118283,
          -0.536553899835727,
          -2.0994790085645345,
          0.32554727073493106,
          1.001866910570493,
          0.3008991637173061,
          1.3980933011136987,
          0.4424802548737084,
          -1.9162143140789858,
          0.7535022360168819,
          0.4637547908724944,
          1.2695675454936253,
          0.2143156473794342,
          -0.40273638642765425,
          -0.9751938301266283,
          0.19198349123128594,
          -0.8163761336130206,
          -0.39588730360168306,
          0.6025822854472339,
          -1.6070876356004293,
          -0.4585112767016043,
          0.41357374145394177,
          -2.0584106363496675,
          -1.369515148049161,
          -0.41506667194947483,
          1.3730855774331134,
          -0.5827679154831228,
          0.14545215524503116,
          -0.6477717707128196,
          -0.8670042367262016,
          -1.128949227213457,
          1.0919228258049016,
          -0.6723324865602892,
          0.4517926883766421,
          -0.9932631897954536,
          -1.1092038143237628,
          -1.3135606732741665,
          0.19915148247209244,
          0.394242138169024,
          0.5671088500644987,
          0.13051813365402196,
          0.2828258647116239,
          0.9074373682123189,
          0.3320813900935964,
          0.9595519376518364,
          -0.3226788065780816,
          -0.3888252901605881,
          -0.7910071392137611,
          -0.8335444556133729,
          -0.3667057294077533,
          -0.06166309697020302,
          -0.20983506066863242,
          -0.0855614824397043,
          0.986974212938496,
          -0.5755739123029241,
          0.20911732239975067,
          -1.562580385161062,
          -0.3848144850911858,
          0.03184790743238982,
          1.4231806709385606,
          2.0984386482051756,
          0.19805084510560408,
          0.4249594577983598,
          0.09895821649664918,
          2.9840712563417626,
          -0.8858519487006972,
          -1.100877755934475,
          0.0646238193759247,
          0.5576473470735078
         ]
        }
       ],
       "layout": {
        "legend": {
         "bgcolor": "#F5F6F9",
         "font": {
          "color": "#4D5663"
         }
        },
        "paper_bgcolor": "#F5F6F9",
        "plot_bgcolor": "#F5F6F9",
        "template": {
         "data": {
          "bar": [
           {
            "error_x": {
             "color": "#2a3f5f"
            },
            "error_y": {
             "color": "#2a3f5f"
            },
            "marker": {
             "line": {
              "color": "#E5ECF6",
              "width": 0.5
             }
            },
            "type": "bar"
           }
          ],
          "barpolar": [
           {
            "marker": {
             "line": {
              "color": "#E5ECF6",
              "width": 0.5
             }
            },
            "type": "barpolar"
           }
          ],
          "carpet": [
           {
            "aaxis": {
             "endlinecolor": "#2a3f5f",
             "gridcolor": "white",
             "linecolor": "white",
             "minorgridcolor": "white",
             "startlinecolor": "#2a3f5f"
            },
            "baxis": {
             "endlinecolor": "#2a3f5f",
             "gridcolor": "white",
             "linecolor": "white",
             "minorgridcolor": "white",
             "startlinecolor": "#2a3f5f"
            },
            "type": "carpet"
           }
          ],
          "choropleth": [
           {
            "colorbar": {
             "outlinewidth": 0,
             "ticks": ""
            },
            "type": "choropleth"
           }
          ],
          "contour": [
           {
            "colorbar": {
             "outlinewidth": 0,
             "ticks": ""
            },
            "colorscale": [
             [
              0,
              "#0d0887"
             ],
             [
              0.1111111111111111,
              "#46039f"
             ],
             [
              0.2222222222222222,
              "#7201a8"
             ],
             [
              0.3333333333333333,
              "#9c179e"
             ],
             [
              0.4444444444444444,
              "#bd3786"
             ],
             [
              0.5555555555555556,
              "#d8576b"
             ],
             [
              0.6666666666666666,
              "#ed7953"
             ],
             [
              0.7777777777777778,
              "#fb9f3a"
             ],
             [
              0.8888888888888888,
              "#fdca26"
             ],
             [
              1,
              "#f0f921"
             ]
            ],
            "type": "contour"
           }
          ],
          "contourcarpet": [
           {
            "colorbar": {
             "outlinewidth": 0,
             "ticks": ""
            },
            "type": "contourcarpet"
           }
          ],
          "heatmap": [
           {
            "colorbar": {
             "outlinewidth": 0,
             "ticks": ""
            },
            "colorscale": [
             [
              0,
              "#0d0887"
             ],
             [
              0.1111111111111111,
              "#46039f"
             ],
             [
              0.2222222222222222,
              "#7201a8"
             ],
             [
              0.3333333333333333,
              "#9c179e"
             ],
             [
              0.4444444444444444,
              "#bd3786"
             ],
             [
              0.5555555555555556,
              "#d8576b"
             ],
             [
              0.6666666666666666,
              "#ed7953"
             ],
             [
              0.7777777777777778,
              "#fb9f3a"
             ],
             [
              0.8888888888888888,
              "#fdca26"
             ],
             [
              1,
              "#f0f921"
             ]
            ],
            "type": "heatmap"
           }
          ],
          "heatmapgl": [
           {
            "colorbar": {
             "outlinewidth": 0,
             "ticks": ""
            },
            "colorscale": [
             [
              0,
              "#0d0887"
             ],
             [
              0.1111111111111111,
              "#46039f"
             ],
             [
              0.2222222222222222,
              "#7201a8"
             ],
             [
              0.3333333333333333,
              "#9c179e"
             ],
             [
              0.4444444444444444,
              "#bd3786"
             ],
             [
              0.5555555555555556,
              "#d8576b"
             ],
             [
              0.6666666666666666,
              "#ed7953"
             ],
             [
              0.7777777777777778,
              "#fb9f3a"
             ],
             [
              0.8888888888888888,
              "#fdca26"
             ],
             [
              1,
              "#f0f921"
             ]
            ],
            "type": "heatmapgl"
           }
          ],
          "histogram": [
           {
            "marker": {
             "colorbar": {
              "outlinewidth": 0,
              "ticks": ""
             }
            },
            "type": "histogram"
           }
          ],
          "histogram2d": [
           {
            "colorbar": {
             "outlinewidth": 0,
             "ticks": ""
            },
            "colorscale": [
             [
              0,
              "#0d0887"
             ],
             [
              0.1111111111111111,
              "#46039f"
             ],
             [
              0.2222222222222222,
              "#7201a8"
             ],
             [
              0.3333333333333333,
              "#9c179e"
             ],
             [
              0.4444444444444444,
              "#bd3786"
             ],
             [
              0.5555555555555556,
              "#d8576b"
             ],
             [
              0.6666666666666666,
              "#ed7953"
             ],
             [
              0.7777777777777778,
              "#fb9f3a"
             ],
             [
              0.8888888888888888,
              "#fdca26"
             ],
             [
              1,
              "#f0f921"
             ]
            ],
            "type": "histogram2d"
           }
          ],
          "histogram2dcontour": [
           {
            "colorbar": {
             "outlinewidth": 0,
             "ticks": ""
            },
            "colorscale": [
             [
              0,
              "#0d0887"
             ],
             [
              0.1111111111111111,
              "#46039f"
             ],
             [
              0.2222222222222222,
              "#7201a8"
             ],
             [
              0.3333333333333333,
              "#9c179e"
             ],
             [
              0.4444444444444444,
              "#bd3786"
             ],
             [
              0.5555555555555556,
              "#d8576b"
             ],
             [
              0.6666666666666666,
              "#ed7953"
             ],
             [
              0.7777777777777778,
              "#fb9f3a"
             ],
             [
              0.8888888888888888,
              "#fdca26"
             ],
             [
              1,
              "#f0f921"
             ]
            ],
            "type": "histogram2dcontour"
           }
          ],
          "mesh3d": [
           {
            "colorbar": {
             "outlinewidth": 0,
             "ticks": ""
            },
            "type": "mesh3d"
           }
          ],
          "parcoords": [
           {
            "line": {
             "colorbar": {
              "outlinewidth": 0,
              "ticks": ""
             }
            },
            "type": "parcoords"
           }
          ],
          "pie": [
           {
            "automargin": true,
            "type": "pie"
           }
          ],
          "scatter": [
           {
            "marker": {
             "colorbar": {
              "outlinewidth": 0,
              "ticks": ""
             }
            },
            "type": "scatter"
           }
          ],
          "scatter3d": [
           {
            "line": {
             "colorbar": {
              "outlinewidth": 0,
              "ticks": ""
             }
            },
            "marker": {
             "colorbar": {
              "outlinewidth": 0,
              "ticks": ""
             }
            },
            "type": "scatter3d"
           }
          ],
          "scattercarpet": [
           {
            "marker": {
             "colorbar": {
              "outlinewidth": 0,
              "ticks": ""
             }
            },
            "type": "scattercarpet"
           }
          ],
          "scattergeo": [
           {
            "marker": {
             "colorbar": {
              "outlinewidth": 0,
              "ticks": ""
             }
            },
            "type": "scattergeo"
           }
          ],
          "scattergl": [
           {
            "marker": {
             "colorbar": {
              "outlinewidth": 0,
              "ticks": ""
             }
            },
            "type": "scattergl"
           }
          ],
          "scattermapbox": [
           {
            "marker": {
             "colorbar": {
              "outlinewidth": 0,
              "ticks": ""
             }
            },
            "type": "scattermapbox"
           }
          ],
          "scatterpolar": [
           {
            "marker": {
             "colorbar": {
              "outlinewidth": 0,
              "ticks": ""
             }
            },
            "type": "scatterpolar"
           }
          ],
          "scatterpolargl": [
           {
            "marker": {
             "colorbar": {
              "outlinewidth": 0,
              "ticks": ""
             }
            },
            "type": "scatterpolargl"
           }
          ],
          "scatterternary": [
           {
            "marker": {
             "colorbar": {
              "outlinewidth": 0,
              "ticks": ""
             }
            },
            "type": "scatterternary"
           }
          ],
          "surface": [
           {
            "colorbar": {
             "outlinewidth": 0,
             "ticks": ""
            },
            "colorscale": [
             [
              0,
              "#0d0887"
             ],
             [
              0.1111111111111111,
              "#46039f"
             ],
             [
              0.2222222222222222,
              "#7201a8"
             ],
             [
              0.3333333333333333,
              "#9c179e"
             ],
             [
              0.4444444444444444,
              "#bd3786"
             ],
             [
              0.5555555555555556,
              "#d8576b"
             ],
             [
              0.6666666666666666,
              "#ed7953"
             ],
             [
              0.7777777777777778,
              "#fb9f3a"
             ],
             [
              0.8888888888888888,
              "#fdca26"
             ],
             [
              1,
              "#f0f921"
             ]
            ],
            "type": "surface"
           }
          ],
          "table": [
           {
            "cells": {
             "fill": {
              "color": "#EBF0F8"
             },
             "line": {
              "color": "white"
             }
            },
            "header": {
             "fill": {
              "color": "#C8D4E3"
             },
             "line": {
              "color": "white"
             }
            },
            "type": "table"
           }
          ]
         },
         "layout": {
          "annotationdefaults": {
           "arrowcolor": "#2a3f5f",
           "arrowhead": 0,
           "arrowwidth": 1
          },
          "autotypenumbers": "strict",
          "coloraxis": {
           "colorbar": {
            "outlinewidth": 0,
            "ticks": ""
           }
          },
          "colorscale": {
           "diverging": [
            [
             0,
             "#8e0152"
            ],
            [
             0.1,
             "#c51b7d"
            ],
            [
             0.2,
             "#de77ae"
            ],
            [
             0.3,
             "#f1b6da"
            ],
            [
             0.4,
             "#fde0ef"
            ],
            [
             0.5,
             "#f7f7f7"
            ],
            [
             0.6,
             "#e6f5d0"
            ],
            [
             0.7,
             "#b8e186"
            ],
            [
             0.8,
             "#7fbc41"
            ],
            [
             0.9,
             "#4d9221"
            ],
            [
             1,
             "#276419"
            ]
           ],
           "sequential": [
            [
             0,
             "#0d0887"
            ],
            [
             0.1111111111111111,
             "#46039f"
            ],
            [
             0.2222222222222222,
             "#7201a8"
            ],
            [
             0.3333333333333333,
             "#9c179e"
            ],
            [
             0.4444444444444444,
             "#bd3786"
            ],
            [
             0.5555555555555556,
             "#d8576b"
            ],
            [
             0.6666666666666666,
             "#ed7953"
            ],
            [
             0.7777777777777778,
             "#fb9f3a"
            ],
            [
             0.8888888888888888,
             "#fdca26"
            ],
            [
             1,
             "#f0f921"
            ]
           ],
           "sequentialminus": [
            [
             0,
             "#0d0887"
            ],
            [
             0.1111111111111111,
             "#46039f"
            ],
            [
             0.2222222222222222,
             "#7201a8"
            ],
            [
             0.3333333333333333,
             "#9c179e"
            ],
            [
             0.4444444444444444,
             "#bd3786"
            ],
            [
             0.5555555555555556,
             "#d8576b"
            ],
            [
             0.6666666666666666,
             "#ed7953"
            ],
            [
             0.7777777777777778,
             "#fb9f3a"
            ],
            [
             0.8888888888888888,
             "#fdca26"
            ],
            [
             1,
             "#f0f921"
            ]
           ]
          },
          "colorway": [
           "#636efa",
           "#EF553B",
           "#00cc96",
           "#ab63fa",
           "#FFA15A",
           "#19d3f3",
           "#FF6692",
           "#B6E880",
           "#FF97FF",
           "#FECB52"
          ],
          "font": {
           "color": "#2a3f5f"
          },
          "geo": {
           "bgcolor": "white",
           "lakecolor": "white",
           "landcolor": "#E5ECF6",
           "showlakes": true,
           "showland": true,
           "subunitcolor": "white"
          },
          "hoverlabel": {
           "align": "left"
          },
          "hovermode": "closest",
          "mapbox": {
           "style": "light"
          },
          "paper_bgcolor": "white",
          "plot_bgcolor": "#E5ECF6",
          "polar": {
           "angularaxis": {
            "gridcolor": "white",
            "linecolor": "white",
            "ticks": ""
           },
           "bgcolor": "#E5ECF6",
           "radialaxis": {
            "gridcolor": "white",
            "linecolor": "white",
            "ticks": ""
           }
          },
          "scene": {
           "xaxis": {
            "backgroundcolor": "#E5ECF6",
            "gridcolor": "white",
            "gridwidth": 2,
            "linecolor": "white",
            "showbackground": true,
            "ticks": "",
            "zerolinecolor": "white"
           },
           "yaxis": {
            "backgroundcolor": "#E5ECF6",
            "gridcolor": "white",
            "gridwidth": 2,
            "linecolor": "white",
            "showbackground": true,
            "ticks": "",
            "zerolinecolor": "white"
           },
           "zaxis": {
            "backgroundcolor": "#E5ECF6",
            "gridcolor": "white",
            "gridwidth": 2,
            "linecolor": "white",
            "showbackground": true,
            "ticks": "",
            "zerolinecolor": "white"
           }
          },
          "shapedefaults": {
           "line": {
            "color": "#2a3f5f"
           }
          },
          "ternary": {
           "aaxis": {
            "gridcolor": "white",
            "linecolor": "white",
            "ticks": ""
           },
           "baxis": {
            "gridcolor": "white",
            "linecolor": "white",
            "ticks": ""
           },
           "bgcolor": "#E5ECF6",
           "caxis": {
            "gridcolor": "white",
            "linecolor": "white",
            "ticks": ""
           }
          },
          "title": {
           "x": 0.05
          },
          "xaxis": {
           "automargin": true,
           "gridcolor": "white",
           "linecolor": "white",
           "ticks": "",
           "title": {
            "standoff": 15
           },
           "zerolinecolor": "white",
           "zerolinewidth": 2
          },
          "yaxis": {
           "automargin": true,
           "gridcolor": "white",
           "linecolor": "white",
           "ticks": "",
           "title": {
            "standoff": 15
           },
           "zerolinecolor": "white",
           "zerolinewidth": 2
          }
         }
        },
        "title": {
         "font": {
          "color": "#4D5663"
         }
        },
        "xaxis": {
         "gridcolor": "#E1E5ED",
         "showgrid": true,
         "tickfont": {
          "color": "#4D5663"
         },
         "title": {
          "font": {
           "color": "#4D5663"
          },
          "text": ""
         },
         "zerolinecolor": "#E1E5ED"
        },
        "yaxis": {
         "gridcolor": "#E1E5ED",
         "showgrid": true,
         "tickfont": {
          "color": "#4D5663"
         },
         "title": {
          "font": {
           "color": "#4D5663"
          },
          "text": ""
         },
         "zerolinecolor": "#E1E5ED"
        }
       }
      },
      "text/html": [
       "<div>                            <div id=\"7b6ea7ce-0d65-436b-b3d4-c3c6309c9830\" class=\"plotly-graph-div\" style=\"height:525px; width:100%;\"></div>            <script type=\"text/javascript\">                require([\"plotly\"], function(Plotly) {                    window.PLOTLYENV=window.PLOTLYENV || {};\n",
       "                    window.PLOTLYENV.BASE_URL='https://plot.ly';                                    if (document.getElementById(\"7b6ea7ce-0d65-436b-b3d4-c3c6309c9830\")) {                    Plotly.newPlot(                        \"7b6ea7ce-0d65-436b-b3d4-c3c6309c9830\",                        [{\"boxpoints\": false, \"line\": {\"width\": 1.3}, \"marker\": {\"color\": \"rgba(255, 153, 51, 1.0)\"}, \"name\": \"A\", \"orientation\": \"v\", \"type\": \"box\", \"y\": [0.8225286437416501, 1.7906518177693165, -0.4252650252772421, -0.11410539779221635, 0.7794333388601931, 0.5003190132121949, 0.2018489181641643, -0.5146250488763782, 0.3188360196714971, -0.5408247176895304, 0.22587083856421108, -0.6974670580084895, 0.5771703678093689, -0.013976202921457752, 0.8783343452604568, -1.614949706939007, 0.19153236329955206, -1.5765158215202855, -0.4112903516874633, -1.092087010716353, 1.33599345630096, 1.4351531348939572, -1.2848571383638239, -1.7510693502903472, 0.8075813530347192, -0.5470180608654744, -0.28413980500001806, 0.20961814337947923, -0.02959907422165152, 0.9547946370028454, -0.4789236470968032, -0.5970003307837691, -0.39385277023122905, 0.11981370704438987, 0.9871751876769622, 0.31853744701880177, -0.3657065423701585, 0.37725580911967876, -0.18348735017904264, 1.6081305852347272, 0.1731427842198789, 1.7563528761773035, -1.9242694093670059, 0.15322007858144676, 0.3694726518707792, 1.1238409758155203, -0.47236617294136934, -2.2054955020266758, -0.038750514669134865, 0.6406891232053674, -0.5122664102800992, 0.4403463452002344, 0.12621387719415295, 0.11548873258660677, -0.5566016986744087, -0.013768255762175781, 0.8952226489212914, 0.9118298889268938, 0.569114211520104, 0.024437122932751843, 1.701500345824061, 0.2251987043144141, -0.24188881465420595, 1.3250447913362182, 0.360446668523524, 0.17515640035608626, -1.704366488761559, -1.5158347740723928, 0.4902716968708798, 0.6453474335949971, -0.7399554958505687, 1.8131232768603385, -0.12291573819921484, 0.4669552405324629, -0.2938506167449886, 0.40228120830014147, -2.149327520203454, -0.6866806942881285, -0.2927811094268949, 0.5042300314844698, 0.6555808286390054, -0.9279139834900973, -0.08543978812480418, -0.04796523223752661, 0.0746435164054404, 0.2307148975501273, -2.027424116120096, 0.3450571253534357, -1.1612443444561293, -0.3726671090762646, -2.976221788193337, -2.1117101596495687, -0.6985426135652383, 1.1965258562450305, -1.0459953031714726, 1.976436641953744, -1.1349899468640317, 0.3040281001626459, -1.8846583680508304, 0.47535347700831315]}, {\"boxpoints\": false, \"line\": {\"width\": 1.3}, \"marker\": {\"color\": \"rgba(55, 128, 191, 1.0)\"}, \"name\": \"B\", \"orientation\": \"v\", \"type\": \"box\", \"y\": [0.9798422876110087, -0.07739040844163653, 0.199140992111598, -1.2143268018612448, 0.14285538470625045, -0.941613979403886, -0.5179651092895884, -2.9720401690748086, -0.9025695839599948, 0.7070161377970824, 0.6226851269936455, 1.7220710947919995, 2.421389113461388, -0.15836707680921455, -0.00824513735289978, -2.4502263963546427, 0.32938834873258654, 0.43268652790313156, -0.07647046488415142, 0.16117870564803655, 0.5719563509363634, 0.6489901001574245, 0.9376314079451413, -0.5772109776816116, 0.43940958062906715, 0.27942060999655977, -0.9424446593446479, -1.486525613267546, 1.6312084499589516, -0.07507516007927825, 0.12760269243775124, 0.05373579584888705, 0.1379571283605871, -0.8678493687113031, -0.43134562129715953, 0.6545365996125828, -0.6271866565552896, -0.13713206936808897, 1.2742682936024408, -0.8413247811888707, -0.7302648312780448, -0.6117741047846332, -1.210299969457778, -0.3801376853687354, -0.48236709698927316, 1.6101057259159142, 0.018396524012302493, 3.02256317083536, 2.5691163423097496, -0.8487428166948513, -0.10164929522395912, 0.8273933294947996, -0.4641358512359839, 1.0174474127248259, -0.6615304859327857, -1.8869319213356825, 0.4677487870018134, -0.9766521809572346, 0.4424919332422819, -3.1831759316713057, 0.2283009026441312, 0.36950934843910815, 0.5369686034283853, 0.2983504233853764, -0.004378996737566833, 1.0592911293848593, 1.6451075032610067, 0.29029878762587735, -0.4609110721334788, 0.4378794865441988, -1.4283048764958761, 0.40738608837815354, 0.7625659313961809, -1.4172139471023841, -0.10136148568438476, 0.15838136839989114, -1.3580445071102318, -1.1087998884123191, 0.05526415914038533, 0.9883265678290705, -0.03771628428204599, 0.26505609003670605, 1.0489263265095015, 2.2480644236455434, -0.39604599179023386, -2.0576074336266377, 1.6418210719318171, -2.064000840790136, 0.18340752558238735, 0.3708702460919371, 0.7564073758273471, 0.5622132114774402, -0.8681703206538972, -0.5457892288792988, 0.6462776058743678, -1.388235965781543, -1.403310739967856, -0.5048268930823668, -0.008940855983669326, 0.2678190263167388]}, {\"boxpoints\": false, \"line\": {\"width\": 1.3}, \"marker\": {\"color\": \"rgba(50, 171, 96, 1.0)\"}, \"name\": \"C\", \"orientation\": \"v\", \"type\": \"box\", \"y\": [-1.8480792642687225, -1.5073073535465948, 2.7517654569167695, -0.38327103028951126, 0.5009825141133978, 1.6406970586771368, -0.4703423325300513, 1.6732929780811643, 1.040691617332396, -0.24934723356129274, 0.021997793443517558, 0.8989515894069274, -0.5759127056740482, -0.7026023917505589, 0.4692670581087731, 1.3432700680140337, -0.6302423602368482, -0.3430283873498759, -1.9842157127662723, 0.8747110508926359, -0.536771359647505, -0.392777577430483, -1.562564782209207, -0.5789699061718163, -0.18425013950555968, -2.781707116519058, -0.3326259378263187, 0.14046861390619358, 0.2825429570639549, 0.6455258517208611, -1.6008958628410894, -0.10415536268299172, -0.04942963249814989, -0.057694290388260364, 0.6441468014185162, -2.034107270522385, -1.1483600538743746, 1.018752499138132, 1.3317430124284058, -1.2716276574812149, -1.3634771643011692, -0.957455471343282, 1.5406821339565229, -0.8136926628981285, 0.20331805933592634, -0.19583194140407134, 0.438566315735824, -0.7209994885802788, -0.8708784981578558, -1.1736760477006345, 0.6346372161806274, 0.5888789566851989, -0.9906076677698165, 0.8429137123211539, -0.3225613770362344, 0.5574676068308833, 1.5137393249018745, 0.5990314390706959, -2.0311028340275383, 0.19943009806824033, 0.19858460431477792, 1.1068472715939244, 0.10825003056178664, 0.5042905887109416, 1.2784751811154476, -1.2413104655095704, -0.7452347282645956, -2.37917618199128, 1.0289070853370523, 0.0214791390140893, 1.0561661050786486, 0.7704785454045623, 0.6512151145097241, -0.7142081747361737, -0.8660196572140212, 1.2596409014371919, 2.3085583909486043, -0.6680875046149289, 0.17983813934028284, -0.8132098447949029, -0.35154183701587355, 1.8946547667964537, -0.5797419991317809, 0.2977343502603907, 1.7853093441655918, 0.43633592987243625, -0.06958166697044685, 0.405908894081575, -0.1207519711284738, -0.37308888981591537, 0.6656125172898189, 0.2557200855428001, 0.3879497447859884, 0.8648525072029724, 0.8089907397609084, -1.6592657349829343, 3.6772934789250584, -1.2565801865321515, 0.8742079794998128, 0.6252070910695261]}, {\"boxpoints\": false, \"line\": {\"width\": 1.3}, \"marker\": {\"color\": \"rgba(128, 0, 128, 1.0)\"}, \"name\": \"D\", \"orientation\": \"v\", \"type\": \"box\", \"y\": [1.2461613479122662, 0.35511800548024297, -0.18595130532212353, -0.348331163680514, 0.8883225848929086, 1.325522461427812, 0.33941433827540657, -1.289307385363924, 0.836862655748313, -1.2422626539014314, -0.23785040361169305, 0.3575269752162909, -0.7833919368145021, 1.1763170251412371, -0.1677199907341728, 0.27484576363007573, -1.0069717384662105, 0.7708681903388637, 0.6903328280340865, -0.8041460697190717, -0.2871373624581198, 2.8865703671670517, -1.5073499977394755, -1.5104117495595408, -1.8284078692508576, 0.44508890690435504, 0.9976528054356555, 2.0279348439902147, 1.0079852619223597, 1.8536471888100592, 1.7237696979830333, 3.2616116359118283, -0.536553899835727, -2.0994790085645345, 0.32554727073493106, 1.001866910570493, 0.3008991637173061, 1.3980933011136987, 0.4424802548737084, -1.9162143140789858, 0.7535022360168819, 0.4637547908724944, 1.2695675454936253, 0.2143156473794342, -0.40273638642765425, -0.9751938301266283, 0.19198349123128594, -0.8163761336130206, -0.39588730360168306, 0.6025822854472339, -1.6070876356004293, -0.4585112767016043, 0.41357374145394177, -2.0584106363496675, -1.369515148049161, -0.41506667194947483, 1.3730855774331134, -0.5827679154831228, 0.14545215524503116, -0.6477717707128196, -0.8670042367262016, -1.128949227213457, 1.0919228258049016, -0.6723324865602892, 0.4517926883766421, -0.9932631897954536, -1.1092038143237628, -1.3135606732741665, 0.19915148247209244, 0.394242138169024, 0.5671088500644987, 0.13051813365402196, 0.2828258647116239, 0.9074373682123189, 0.3320813900935964, 0.9595519376518364, -0.3226788065780816, -0.3888252901605881, -0.7910071392137611, -0.8335444556133729, -0.3667057294077533, -0.06166309697020302, -0.20983506066863242, -0.0855614824397043, 0.986974212938496, -0.5755739123029241, 0.20911732239975067, -1.562580385161062, -0.3848144850911858, 0.03184790743238982, 1.4231806709385606, 2.0984386482051756, 0.19805084510560408, 0.4249594577983598, 0.09895821649664918, 2.9840712563417626, -0.8858519487006972, -1.100877755934475, 0.0646238193759247, 0.5576473470735078]}],                        {\"legend\": {\"bgcolor\": \"#F5F6F9\", \"font\": {\"color\": \"#4D5663\"}}, \"paper_bgcolor\": \"#F5F6F9\", \"plot_bgcolor\": \"#F5F6F9\", \"template\": {\"data\": {\"bar\": [{\"error_x\": {\"color\": \"#2a3f5f\"}, \"error_y\": {\"color\": \"#2a3f5f\"}, \"marker\": {\"line\": {\"color\": \"#E5ECF6\", \"width\": 0.5}}, \"type\": \"bar\"}], \"barpolar\": [{\"marker\": {\"line\": {\"color\": \"#E5ECF6\", \"width\": 0.5}}, \"type\": \"barpolar\"}], \"carpet\": [{\"aaxis\": {\"endlinecolor\": \"#2a3f5f\", \"gridcolor\": \"white\", \"linecolor\": \"white\", \"minorgridcolor\": \"white\", \"startlinecolor\": \"#2a3f5f\"}, \"baxis\": {\"endlinecolor\": \"#2a3f5f\", \"gridcolor\": \"white\", \"linecolor\": \"white\", \"minorgridcolor\": \"white\", \"startlinecolor\": \"#2a3f5f\"}, \"type\": \"carpet\"}], \"choropleth\": [{\"colorbar\": {\"outlinewidth\": 0, \"ticks\": \"\"}, \"type\": \"choropleth\"}], \"contour\": [{\"colorbar\": {\"outlinewidth\": 0, \"ticks\": \"\"}, \"colorscale\": [[0.0, \"#0d0887\"], [0.1111111111111111, \"#46039f\"], [0.2222222222222222, \"#7201a8\"], [0.3333333333333333, \"#9c179e\"], [0.4444444444444444, \"#bd3786\"], [0.5555555555555556, \"#d8576b\"], [0.6666666666666666, \"#ed7953\"], [0.7777777777777778, \"#fb9f3a\"], [0.8888888888888888, \"#fdca26\"], [1.0, \"#f0f921\"]], \"type\": \"contour\"}], \"contourcarpet\": [{\"colorbar\": {\"outlinewidth\": 0, \"ticks\": \"\"}, \"type\": \"contourcarpet\"}], \"heatmap\": [{\"colorbar\": {\"outlinewidth\": 0, \"ticks\": \"\"}, \"colorscale\": [[0.0, \"#0d0887\"], [0.1111111111111111, \"#46039f\"], [0.2222222222222222, \"#7201a8\"], [0.3333333333333333, \"#9c179e\"], [0.4444444444444444, \"#bd3786\"], [0.5555555555555556, \"#d8576b\"], [0.6666666666666666, \"#ed7953\"], [0.7777777777777778, \"#fb9f3a\"], [0.8888888888888888, \"#fdca26\"], [1.0, \"#f0f921\"]], \"type\": \"heatmap\"}], \"heatmapgl\": [{\"colorbar\": {\"outlinewidth\": 0, \"ticks\": \"\"}, \"colorscale\": [[0.0, \"#0d0887\"], [0.1111111111111111, \"#46039f\"], [0.2222222222222222, \"#7201a8\"], [0.3333333333333333, \"#9c179e\"], [0.4444444444444444, \"#bd3786\"], [0.5555555555555556, \"#d8576b\"], [0.6666666666666666, \"#ed7953\"], [0.7777777777777778, \"#fb9f3a\"], [0.8888888888888888, \"#fdca26\"], [1.0, \"#f0f921\"]], \"type\": \"heatmapgl\"}], \"histogram\": [{\"marker\": {\"colorbar\": {\"outlinewidth\": 0, \"ticks\": \"\"}}, \"type\": \"histogram\"}], \"histogram2d\": [{\"colorbar\": {\"outlinewidth\": 0, \"ticks\": \"\"}, \"colorscale\": [[0.0, \"#0d0887\"], [0.1111111111111111, \"#46039f\"], [0.2222222222222222, \"#7201a8\"], [0.3333333333333333, \"#9c179e\"], [0.4444444444444444, \"#bd3786\"], [0.5555555555555556, \"#d8576b\"], [0.6666666666666666, \"#ed7953\"], [0.7777777777777778, \"#fb9f3a\"], [0.8888888888888888, \"#fdca26\"], [1.0, \"#f0f921\"]], \"type\": \"histogram2d\"}], \"histogram2dcontour\": [{\"colorbar\": {\"outlinewidth\": 0, \"ticks\": \"\"}, \"colorscale\": [[0.0, \"#0d0887\"], [0.1111111111111111, \"#46039f\"], [0.2222222222222222, \"#7201a8\"], [0.3333333333333333, \"#9c179e\"], [0.4444444444444444, \"#bd3786\"], [0.5555555555555556, \"#d8576b\"], [0.6666666666666666, \"#ed7953\"], [0.7777777777777778, \"#fb9f3a\"], [0.8888888888888888, \"#fdca26\"], [1.0, \"#f0f921\"]], \"type\": \"histogram2dcontour\"}], \"mesh3d\": [{\"colorbar\": {\"outlinewidth\": 0, \"ticks\": \"\"}, \"type\": \"mesh3d\"}], \"parcoords\": [{\"line\": {\"colorbar\": {\"outlinewidth\": 0, \"ticks\": \"\"}}, \"type\": \"parcoords\"}], \"pie\": [{\"automargin\": true, \"type\": \"pie\"}], \"scatter\": [{\"marker\": {\"colorbar\": {\"outlinewidth\": 0, \"ticks\": \"\"}}, \"type\": \"scatter\"}], \"scatter3d\": [{\"line\": {\"colorbar\": {\"outlinewidth\": 0, \"ticks\": \"\"}}, \"marker\": {\"colorbar\": {\"outlinewidth\": 0, \"ticks\": \"\"}}, \"type\": \"scatter3d\"}], \"scattercarpet\": [{\"marker\": {\"colorbar\": {\"outlinewidth\": 0, \"ticks\": \"\"}}, \"type\": \"scattercarpet\"}], \"scattergeo\": [{\"marker\": {\"colorbar\": {\"outlinewidth\": 0, \"ticks\": \"\"}}, \"type\": \"scattergeo\"}], \"scattergl\": [{\"marker\": {\"colorbar\": {\"outlinewidth\": 0, \"ticks\": \"\"}}, \"type\": \"scattergl\"}], \"scattermapbox\": [{\"marker\": {\"colorbar\": {\"outlinewidth\": 0, \"ticks\": \"\"}}, \"type\": \"scattermapbox\"}], \"scatterpolar\": [{\"marker\": {\"colorbar\": {\"outlinewidth\": 0, \"ticks\": \"\"}}, \"type\": \"scatterpolar\"}], \"scatterpolargl\": [{\"marker\": {\"colorbar\": {\"outlinewidth\": 0, \"ticks\": \"\"}}, \"type\": \"scatterpolargl\"}], \"scatterternary\": [{\"marker\": {\"colorbar\": {\"outlinewidth\": 0, \"ticks\": \"\"}}, \"type\": \"scatterternary\"}], \"surface\": [{\"colorbar\": {\"outlinewidth\": 0, \"ticks\": \"\"}, \"colorscale\": [[0.0, \"#0d0887\"], [0.1111111111111111, \"#46039f\"], [0.2222222222222222, \"#7201a8\"], [0.3333333333333333, \"#9c179e\"], [0.4444444444444444, \"#bd3786\"], [0.5555555555555556, \"#d8576b\"], [0.6666666666666666, \"#ed7953\"], [0.7777777777777778, \"#fb9f3a\"], [0.8888888888888888, \"#fdca26\"], [1.0, \"#f0f921\"]], \"type\": \"surface\"}], \"table\": [{\"cells\": {\"fill\": {\"color\": \"#EBF0F8\"}, \"line\": {\"color\": \"white\"}}, \"header\": {\"fill\": {\"color\": \"#C8D4E3\"}, \"line\": {\"color\": \"white\"}}, \"type\": \"table\"}]}, \"layout\": {\"annotationdefaults\": {\"arrowcolor\": \"#2a3f5f\", \"arrowhead\": 0, \"arrowwidth\": 1}, \"autotypenumbers\": \"strict\", \"coloraxis\": {\"colorbar\": {\"outlinewidth\": 0, \"ticks\": \"\"}}, \"colorscale\": {\"diverging\": [[0, \"#8e0152\"], [0.1, \"#c51b7d\"], [0.2, \"#de77ae\"], [0.3, \"#f1b6da\"], [0.4, \"#fde0ef\"], [0.5, \"#f7f7f7\"], [0.6, \"#e6f5d0\"], [0.7, \"#b8e186\"], [0.8, \"#7fbc41\"], [0.9, \"#4d9221\"], [1, \"#276419\"]], \"sequential\": [[0.0, \"#0d0887\"], [0.1111111111111111, \"#46039f\"], [0.2222222222222222, \"#7201a8\"], [0.3333333333333333, \"#9c179e\"], [0.4444444444444444, \"#bd3786\"], [0.5555555555555556, \"#d8576b\"], [0.6666666666666666, \"#ed7953\"], [0.7777777777777778, \"#fb9f3a\"], [0.8888888888888888, \"#fdca26\"], [1.0, \"#f0f921\"]], \"sequentialminus\": [[0.0, \"#0d0887\"], [0.1111111111111111, \"#46039f\"], [0.2222222222222222, \"#7201a8\"], [0.3333333333333333, \"#9c179e\"], [0.4444444444444444, \"#bd3786\"], [0.5555555555555556, \"#d8576b\"], [0.6666666666666666, \"#ed7953\"], [0.7777777777777778, \"#fb9f3a\"], [0.8888888888888888, \"#fdca26\"], [1.0, \"#f0f921\"]]}, \"colorway\": [\"#636efa\", \"#EF553B\", \"#00cc96\", \"#ab63fa\", \"#FFA15A\", \"#19d3f3\", \"#FF6692\", \"#B6E880\", \"#FF97FF\", \"#FECB52\"], \"font\": {\"color\": \"#2a3f5f\"}, \"geo\": {\"bgcolor\": \"white\", \"lakecolor\": \"white\", \"landcolor\": \"#E5ECF6\", \"showlakes\": true, \"showland\": true, \"subunitcolor\": \"white\"}, \"hoverlabel\": {\"align\": \"left\"}, \"hovermode\": \"closest\", \"mapbox\": {\"style\": \"light\"}, \"paper_bgcolor\": \"white\", \"plot_bgcolor\": \"#E5ECF6\", \"polar\": {\"angularaxis\": {\"gridcolor\": \"white\", \"linecolor\": \"white\", \"ticks\": \"\"}, \"bgcolor\": \"#E5ECF6\", \"radialaxis\": {\"gridcolor\": \"white\", \"linecolor\": \"white\", \"ticks\": \"\"}}, \"scene\": {\"xaxis\": {\"backgroundcolor\": \"#E5ECF6\", \"gridcolor\": \"white\", \"gridwidth\": 2, \"linecolor\": \"white\", \"showbackground\": true, \"ticks\": \"\", \"zerolinecolor\": \"white\"}, \"yaxis\": {\"backgroundcolor\": \"#E5ECF6\", \"gridcolor\": \"white\", \"gridwidth\": 2, \"linecolor\": \"white\", \"showbackground\": true, \"ticks\": \"\", \"zerolinecolor\": \"white\"}, \"zaxis\": {\"backgroundcolor\": \"#E5ECF6\", \"gridcolor\": \"white\", \"gridwidth\": 2, \"linecolor\": \"white\", \"showbackground\": true, \"ticks\": \"\", \"zerolinecolor\": \"white\"}}, \"shapedefaults\": {\"line\": {\"color\": \"#2a3f5f\"}}, \"ternary\": {\"aaxis\": {\"gridcolor\": \"white\", \"linecolor\": \"white\", \"ticks\": \"\"}, \"baxis\": {\"gridcolor\": \"white\", \"linecolor\": \"white\", \"ticks\": \"\"}, \"bgcolor\": \"#E5ECF6\", \"caxis\": {\"gridcolor\": \"white\", \"linecolor\": \"white\", \"ticks\": \"\"}}, \"title\": {\"x\": 0.05}, \"xaxis\": {\"automargin\": true, \"gridcolor\": \"white\", \"linecolor\": \"white\", \"ticks\": \"\", \"title\": {\"standoff\": 15}, \"zerolinecolor\": \"white\", \"zerolinewidth\": 2}, \"yaxis\": {\"automargin\": true, \"gridcolor\": \"white\", \"linecolor\": \"white\", \"ticks\": \"\", \"title\": {\"standoff\": 15}, \"zerolinecolor\": \"white\", \"zerolinewidth\": 2}}}, \"title\": {\"font\": {\"color\": \"#4D5663\"}}, \"xaxis\": {\"gridcolor\": \"#E1E5ED\", \"showgrid\": true, \"tickfont\": {\"color\": \"#4D5663\"}, \"title\": {\"font\": {\"color\": \"#4D5663\"}, \"text\": \"\"}, \"zerolinecolor\": \"#E1E5ED\"}, \"yaxis\": {\"gridcolor\": \"#E1E5ED\", \"showgrid\": true, \"tickfont\": {\"color\": \"#4D5663\"}, \"title\": {\"font\": {\"color\": \"#4D5663\"}, \"text\": \"\"}, \"zerolinecolor\": \"#E1E5ED\"}},                        {\"showLink\": true, \"linkText\": \"Export to plot.ly\", \"plotlyServerURL\": \"https://plot.ly\", \"responsive\": true}                    ).then(function(){\n",
       "                            \n",
       "var gd = document.getElementById('7b6ea7ce-0d65-436b-b3d4-c3c6309c9830');\n",
       "var x = new MutationObserver(function (mutations, observer) {{\n",
       "        var display = window.getComputedStyle(gd).display;\n",
       "        if (!display || display === 'none') {{\n",
       "            console.log([gd, 'removed!']);\n",
       "            Plotly.purge(gd);\n",
       "            observer.disconnect();\n",
       "        }}\n",
       "}});\n",
       "\n",
       "// Listen for the removal of the full notebook cells\n",
       "var notebookContainer = gd.closest('#notebook-container');\n",
       "if (notebookContainer) {{\n",
       "    x.observe(notebookContainer, {childList: true});\n",
       "}}\n",
       "\n",
       "// Listen for the clearing of the current output cell\n",
       "var outputEl = gd.closest('.output');\n",
       "if (outputEl) {{\n",
       "    x.observe(outputEl, {childList: true});\n",
       "}}\n",
       "\n",
       "                        })                };                });            </script>        </div>"
      ]
     },
     "metadata": {},
     "output_type": "display_data"
    }
   ],
   "source": [
    "df.iplot(kind='box')"
   ]
  },
  {
   "cell_type": "markdown",
   "metadata": {},
   "source": [
    "## 3d Surface"
   ]
  },
  {
   "cell_type": "code",
   "execution_count": 21,
   "metadata": {},
   "outputs": [
    {
     "data": {
      "application/vnd.plotly.v1+json": {
       "config": {
        "linkText": "Export to plot.ly",
        "plotlyServerURL": "https://plot.ly",
        "showLink": true
       },
       "data": [
        {
         "colorscale": [
          [
           0,
           "rgb(165,0,38)"
          ],
          [
           0.1,
           "rgb(215,48,39)"
          ],
          [
           0.2,
           "rgb(244,109,67)"
          ],
          [
           0.3,
           "rgb(253,174,97)"
          ],
          [
           0.4,
           "rgb(254,224,144)"
          ],
          [
           0.5,
           "rgb(255,255,191)"
          ],
          [
           0.6,
           "rgb(224,243,248)"
          ],
          [
           0.7,
           "rgb(171,217,233)"
          ],
          [
           0.8,
           "rgb(116,173,209)"
          ],
          [
           0.9,
           "rgb(69,117,180)"
          ],
          [
           1,
           "rgb(49,54,149)"
          ]
         ],
         "type": "surface",
         "x": [
          0,
          1,
          2,
          3,
          4
         ],
         "y": [
          "x",
          "y",
          "z"
         ],
         "z": [
          [
           1,
           2,
           3,
           4,
           5
          ],
          [
           10,
           20,
           30,
           20,
           10
          ],
          [
           5,
           4,
           3,
           2,
           1
          ]
         ]
        }
       ],
       "layout": {
        "legend": {
         "bgcolor": "#F5F6F9",
         "font": {
          "color": "#4D5663"
         }
        },
        "paper_bgcolor": "#F5F6F9",
        "plot_bgcolor": "#F5F6F9",
        "template": {
         "data": {
          "bar": [
           {
            "error_x": {
             "color": "#2a3f5f"
            },
            "error_y": {
             "color": "#2a3f5f"
            },
            "marker": {
             "line": {
              "color": "#E5ECF6",
              "width": 0.5
             }
            },
            "type": "bar"
           }
          ],
          "barpolar": [
           {
            "marker": {
             "line": {
              "color": "#E5ECF6",
              "width": 0.5
             }
            },
            "type": "barpolar"
           }
          ],
          "carpet": [
           {
            "aaxis": {
             "endlinecolor": "#2a3f5f",
             "gridcolor": "white",
             "linecolor": "white",
             "minorgridcolor": "white",
             "startlinecolor": "#2a3f5f"
            },
            "baxis": {
             "endlinecolor": "#2a3f5f",
             "gridcolor": "white",
             "linecolor": "white",
             "minorgridcolor": "white",
             "startlinecolor": "#2a3f5f"
            },
            "type": "carpet"
           }
          ],
          "choropleth": [
           {
            "colorbar": {
             "outlinewidth": 0,
             "ticks": ""
            },
            "type": "choropleth"
           }
          ],
          "contour": [
           {
            "colorbar": {
             "outlinewidth": 0,
             "ticks": ""
            },
            "colorscale": [
             [
              0,
              "#0d0887"
             ],
             [
              0.1111111111111111,
              "#46039f"
             ],
             [
              0.2222222222222222,
              "#7201a8"
             ],
             [
              0.3333333333333333,
              "#9c179e"
             ],
             [
              0.4444444444444444,
              "#bd3786"
             ],
             [
              0.5555555555555556,
              "#d8576b"
             ],
             [
              0.6666666666666666,
              "#ed7953"
             ],
             [
              0.7777777777777778,
              "#fb9f3a"
             ],
             [
              0.8888888888888888,
              "#fdca26"
             ],
             [
              1,
              "#f0f921"
             ]
            ],
            "type": "contour"
           }
          ],
          "contourcarpet": [
           {
            "colorbar": {
             "outlinewidth": 0,
             "ticks": ""
            },
            "type": "contourcarpet"
           }
          ],
          "heatmap": [
           {
            "colorbar": {
             "outlinewidth": 0,
             "ticks": ""
            },
            "colorscale": [
             [
              0,
              "#0d0887"
             ],
             [
              0.1111111111111111,
              "#46039f"
             ],
             [
              0.2222222222222222,
              "#7201a8"
             ],
             [
              0.3333333333333333,
              "#9c179e"
             ],
             [
              0.4444444444444444,
              "#bd3786"
             ],
             [
              0.5555555555555556,
              "#d8576b"
             ],
             [
              0.6666666666666666,
              "#ed7953"
             ],
             [
              0.7777777777777778,
              "#fb9f3a"
             ],
             [
              0.8888888888888888,
              "#fdca26"
             ],
             [
              1,
              "#f0f921"
             ]
            ],
            "type": "heatmap"
           }
          ],
          "heatmapgl": [
           {
            "colorbar": {
             "outlinewidth": 0,
             "ticks": ""
            },
            "colorscale": [
             [
              0,
              "#0d0887"
             ],
             [
              0.1111111111111111,
              "#46039f"
             ],
             [
              0.2222222222222222,
              "#7201a8"
             ],
             [
              0.3333333333333333,
              "#9c179e"
             ],
             [
              0.4444444444444444,
              "#bd3786"
             ],
             [
              0.5555555555555556,
              "#d8576b"
             ],
             [
              0.6666666666666666,
              "#ed7953"
             ],
             [
              0.7777777777777778,
              "#fb9f3a"
             ],
             [
              0.8888888888888888,
              "#fdca26"
             ],
             [
              1,
              "#f0f921"
             ]
            ],
            "type": "heatmapgl"
           }
          ],
          "histogram": [
           {
            "marker": {
             "colorbar": {
              "outlinewidth": 0,
              "ticks": ""
             }
            },
            "type": "histogram"
           }
          ],
          "histogram2d": [
           {
            "colorbar": {
             "outlinewidth": 0,
             "ticks": ""
            },
            "colorscale": [
             [
              0,
              "#0d0887"
             ],
             [
              0.1111111111111111,
              "#46039f"
             ],
             [
              0.2222222222222222,
              "#7201a8"
             ],
             [
              0.3333333333333333,
              "#9c179e"
             ],
             [
              0.4444444444444444,
              "#bd3786"
             ],
             [
              0.5555555555555556,
              "#d8576b"
             ],
             [
              0.6666666666666666,
              "#ed7953"
             ],
             [
              0.7777777777777778,
              "#fb9f3a"
             ],
             [
              0.8888888888888888,
              "#fdca26"
             ],
             [
              1,
              "#f0f921"
             ]
            ],
            "type": "histogram2d"
           }
          ],
          "histogram2dcontour": [
           {
            "colorbar": {
             "outlinewidth": 0,
             "ticks": ""
            },
            "colorscale": [
             [
              0,
              "#0d0887"
             ],
             [
              0.1111111111111111,
              "#46039f"
             ],
             [
              0.2222222222222222,
              "#7201a8"
             ],
             [
              0.3333333333333333,
              "#9c179e"
             ],
             [
              0.4444444444444444,
              "#bd3786"
             ],
             [
              0.5555555555555556,
              "#d8576b"
             ],
             [
              0.6666666666666666,
              "#ed7953"
             ],
             [
              0.7777777777777778,
              "#fb9f3a"
             ],
             [
              0.8888888888888888,
              "#fdca26"
             ],
             [
              1,
              "#f0f921"
             ]
            ],
            "type": "histogram2dcontour"
           }
          ],
          "mesh3d": [
           {
            "colorbar": {
             "outlinewidth": 0,
             "ticks": ""
            },
            "type": "mesh3d"
           }
          ],
          "parcoords": [
           {
            "line": {
             "colorbar": {
              "outlinewidth": 0,
              "ticks": ""
             }
            },
            "type": "parcoords"
           }
          ],
          "pie": [
           {
            "automargin": true,
            "type": "pie"
           }
          ],
          "scatter": [
           {
            "marker": {
             "colorbar": {
              "outlinewidth": 0,
              "ticks": ""
             }
            },
            "type": "scatter"
           }
          ],
          "scatter3d": [
           {
            "line": {
             "colorbar": {
              "outlinewidth": 0,
              "ticks": ""
             }
            },
            "marker": {
             "colorbar": {
              "outlinewidth": 0,
              "ticks": ""
             }
            },
            "type": "scatter3d"
           }
          ],
          "scattercarpet": [
           {
            "marker": {
             "colorbar": {
              "outlinewidth": 0,
              "ticks": ""
             }
            },
            "type": "scattercarpet"
           }
          ],
          "scattergeo": [
           {
            "marker": {
             "colorbar": {
              "outlinewidth": 0,
              "ticks": ""
             }
            },
            "type": "scattergeo"
           }
          ],
          "scattergl": [
           {
            "marker": {
             "colorbar": {
              "outlinewidth": 0,
              "ticks": ""
             }
            },
            "type": "scattergl"
           }
          ],
          "scattermapbox": [
           {
            "marker": {
             "colorbar": {
              "outlinewidth": 0,
              "ticks": ""
             }
            },
            "type": "scattermapbox"
           }
          ],
          "scatterpolar": [
           {
            "marker": {
             "colorbar": {
              "outlinewidth": 0,
              "ticks": ""
             }
            },
            "type": "scatterpolar"
           }
          ],
          "scatterpolargl": [
           {
            "marker": {
             "colorbar": {
              "outlinewidth": 0,
              "ticks": ""
             }
            },
            "type": "scatterpolargl"
           }
          ],
          "scatterternary": [
           {
            "marker": {
             "colorbar": {
              "outlinewidth": 0,
              "ticks": ""
             }
            },
            "type": "scatterternary"
           }
          ],
          "surface": [
           {
            "colorbar": {
             "outlinewidth": 0,
             "ticks": ""
            },
            "colorscale": [
             [
              0,
              "#0d0887"
             ],
             [
              0.1111111111111111,
              "#46039f"
             ],
             [
              0.2222222222222222,
              "#7201a8"
             ],
             [
              0.3333333333333333,
              "#9c179e"
             ],
             [
              0.4444444444444444,
              "#bd3786"
             ],
             [
              0.5555555555555556,
              "#d8576b"
             ],
             [
              0.6666666666666666,
              "#ed7953"
             ],
             [
              0.7777777777777778,
              "#fb9f3a"
             ],
             [
              0.8888888888888888,
              "#fdca26"
             ],
             [
              1,
              "#f0f921"
             ]
            ],
            "type": "surface"
           }
          ],
          "table": [
           {
            "cells": {
             "fill": {
              "color": "#EBF0F8"
             },
             "line": {
              "color": "white"
             }
            },
            "header": {
             "fill": {
              "color": "#C8D4E3"
             },
             "line": {
              "color": "white"
             }
            },
            "type": "table"
           }
          ]
         },
         "layout": {
          "annotationdefaults": {
           "arrowcolor": "#2a3f5f",
           "arrowhead": 0,
           "arrowwidth": 1
          },
          "autotypenumbers": "strict",
          "coloraxis": {
           "colorbar": {
            "outlinewidth": 0,
            "ticks": ""
           }
          },
          "colorscale": {
           "diverging": [
            [
             0,
             "#8e0152"
            ],
            [
             0.1,
             "#c51b7d"
            ],
            [
             0.2,
             "#de77ae"
            ],
            [
             0.3,
             "#f1b6da"
            ],
            [
             0.4,
             "#fde0ef"
            ],
            [
             0.5,
             "#f7f7f7"
            ],
            [
             0.6,
             "#e6f5d0"
            ],
            [
             0.7,
             "#b8e186"
            ],
            [
             0.8,
             "#7fbc41"
            ],
            [
             0.9,
             "#4d9221"
            ],
            [
             1,
             "#276419"
            ]
           ],
           "sequential": [
            [
             0,
             "#0d0887"
            ],
            [
             0.1111111111111111,
             "#46039f"
            ],
            [
             0.2222222222222222,
             "#7201a8"
            ],
            [
             0.3333333333333333,
             "#9c179e"
            ],
            [
             0.4444444444444444,
             "#bd3786"
            ],
            [
             0.5555555555555556,
             "#d8576b"
            ],
            [
             0.6666666666666666,
             "#ed7953"
            ],
            [
             0.7777777777777778,
             "#fb9f3a"
            ],
            [
             0.8888888888888888,
             "#fdca26"
            ],
            [
             1,
             "#f0f921"
            ]
           ],
           "sequentialminus": [
            [
             0,
             "#0d0887"
            ],
            [
             0.1111111111111111,
             "#46039f"
            ],
            [
             0.2222222222222222,
             "#7201a8"
            ],
            [
             0.3333333333333333,
             "#9c179e"
            ],
            [
             0.4444444444444444,
             "#bd3786"
            ],
            [
             0.5555555555555556,
             "#d8576b"
            ],
            [
             0.6666666666666666,
             "#ed7953"
            ],
            [
             0.7777777777777778,
             "#fb9f3a"
            ],
            [
             0.8888888888888888,
             "#fdca26"
            ],
            [
             1,
             "#f0f921"
            ]
           ]
          },
          "colorway": [
           "#636efa",
           "#EF553B",
           "#00cc96",
           "#ab63fa",
           "#FFA15A",
           "#19d3f3",
           "#FF6692",
           "#B6E880",
           "#FF97FF",
           "#FECB52"
          ],
          "font": {
           "color": "#2a3f5f"
          },
          "geo": {
           "bgcolor": "white",
           "lakecolor": "white",
           "landcolor": "#E5ECF6",
           "showlakes": true,
           "showland": true,
           "subunitcolor": "white"
          },
          "hoverlabel": {
           "align": "left"
          },
          "hovermode": "closest",
          "mapbox": {
           "style": "light"
          },
          "paper_bgcolor": "white",
          "plot_bgcolor": "#E5ECF6",
          "polar": {
           "angularaxis": {
            "gridcolor": "white",
            "linecolor": "white",
            "ticks": ""
           },
           "bgcolor": "#E5ECF6",
           "radialaxis": {
            "gridcolor": "white",
            "linecolor": "white",
            "ticks": ""
           }
          },
          "scene": {
           "xaxis": {
            "backgroundcolor": "#E5ECF6",
            "gridcolor": "white",
            "gridwidth": 2,
            "linecolor": "white",
            "showbackground": true,
            "ticks": "",
            "zerolinecolor": "white"
           },
           "yaxis": {
            "backgroundcolor": "#E5ECF6",
            "gridcolor": "white",
            "gridwidth": 2,
            "linecolor": "white",
            "showbackground": true,
            "ticks": "",
            "zerolinecolor": "white"
           },
           "zaxis": {
            "backgroundcolor": "#E5ECF6",
            "gridcolor": "white",
            "gridwidth": 2,
            "linecolor": "white",
            "showbackground": true,
            "ticks": "",
            "zerolinecolor": "white"
           }
          },
          "shapedefaults": {
           "line": {
            "color": "#2a3f5f"
           }
          },
          "ternary": {
           "aaxis": {
            "gridcolor": "white",
            "linecolor": "white",
            "ticks": ""
           },
           "baxis": {
            "gridcolor": "white",
            "linecolor": "white",
            "ticks": ""
           },
           "bgcolor": "#E5ECF6",
           "caxis": {
            "gridcolor": "white",
            "linecolor": "white",
            "ticks": ""
           }
          },
          "title": {
           "x": 0.05
          },
          "xaxis": {
           "automargin": true,
           "gridcolor": "white",
           "linecolor": "white",
           "ticks": "",
           "title": {
            "standoff": 15
           },
           "zerolinecolor": "white",
           "zerolinewidth": 2
          },
          "yaxis": {
           "automargin": true,
           "gridcolor": "white",
           "linecolor": "white",
           "ticks": "",
           "title": {
            "standoff": 15
           },
           "zerolinecolor": "white",
           "zerolinewidth": 2
          }
         }
        },
        "title": {
         "font": {
          "color": "#4D5663"
         }
        },
        "xaxis": {
         "gridcolor": "#E1E5ED",
         "showgrid": true,
         "tickfont": {
          "color": "#4D5663"
         },
         "title": {
          "font": {
           "color": "#4D5663"
          },
          "text": ""
         },
         "zerolinecolor": "#E1E5ED"
        },
        "yaxis": {
         "gridcolor": "#E1E5ED",
         "showgrid": true,
         "tickfont": {
          "color": "#4D5663"
         },
         "title": {
          "font": {
           "color": "#4D5663"
          },
          "text": ""
         },
         "zerolinecolor": "#E1E5ED"
        }
       }
      },
      "text/html": [
       "<div>                            <div id=\"83f6dfc1-f820-4769-86eb-8a24db932048\" class=\"plotly-graph-div\" style=\"height:525px; width:100%;\"></div>            <script type=\"text/javascript\">                require([\"plotly\"], function(Plotly) {                    window.PLOTLYENV=window.PLOTLYENV || {};\n",
       "                    window.PLOTLYENV.BASE_URL='https://plot.ly';                                    if (document.getElementById(\"83f6dfc1-f820-4769-86eb-8a24db932048\")) {                    Plotly.newPlot(                        \"83f6dfc1-f820-4769-86eb-8a24db932048\",                        [{\"colorscale\": [[0.0, \"rgb(165,0,38)\"], [0.1, \"rgb(215,48,39)\"], [0.2, \"rgb(244,109,67)\"], [0.3, \"rgb(253,174,97)\"], [0.4, \"rgb(254,224,144)\"], [0.5, \"rgb(255,255,191)\"], [0.6, \"rgb(224,243,248)\"], [0.7, \"rgb(171,217,233)\"], [0.8, \"rgb(116,173,209)\"], [0.9, \"rgb(69,117,180)\"], [1.0, \"rgb(49,54,149)\"]], \"type\": \"surface\", \"x\": [0, 1, 2, 3, 4], \"y\": [\"x\", \"y\", \"z\"], \"z\": [[1, 2, 3, 4, 5], [10, 20, 30, 20, 10], [5, 4, 3, 2, 1]]}],                        {\"legend\": {\"bgcolor\": \"#F5F6F9\", \"font\": {\"color\": \"#4D5663\"}}, \"paper_bgcolor\": \"#F5F6F9\", \"plot_bgcolor\": \"#F5F6F9\", \"template\": {\"data\": {\"bar\": [{\"error_x\": {\"color\": \"#2a3f5f\"}, \"error_y\": {\"color\": \"#2a3f5f\"}, \"marker\": {\"line\": {\"color\": \"#E5ECF6\", \"width\": 0.5}}, \"type\": \"bar\"}], \"barpolar\": [{\"marker\": {\"line\": {\"color\": \"#E5ECF6\", \"width\": 0.5}}, \"type\": \"barpolar\"}], \"carpet\": [{\"aaxis\": {\"endlinecolor\": \"#2a3f5f\", \"gridcolor\": \"white\", \"linecolor\": \"white\", \"minorgridcolor\": \"white\", \"startlinecolor\": \"#2a3f5f\"}, \"baxis\": {\"endlinecolor\": \"#2a3f5f\", \"gridcolor\": \"white\", \"linecolor\": \"white\", \"minorgridcolor\": \"white\", \"startlinecolor\": \"#2a3f5f\"}, \"type\": \"carpet\"}], \"choropleth\": [{\"colorbar\": {\"outlinewidth\": 0, \"ticks\": \"\"}, \"type\": \"choropleth\"}], \"contour\": [{\"colorbar\": {\"outlinewidth\": 0, \"ticks\": \"\"}, \"colorscale\": [[0.0, \"#0d0887\"], [0.1111111111111111, \"#46039f\"], [0.2222222222222222, \"#7201a8\"], [0.3333333333333333, \"#9c179e\"], [0.4444444444444444, \"#bd3786\"], [0.5555555555555556, \"#d8576b\"], [0.6666666666666666, \"#ed7953\"], [0.7777777777777778, \"#fb9f3a\"], [0.8888888888888888, \"#fdca26\"], [1.0, \"#f0f921\"]], \"type\": \"contour\"}], \"contourcarpet\": [{\"colorbar\": {\"outlinewidth\": 0, \"ticks\": \"\"}, \"type\": \"contourcarpet\"}], \"heatmap\": [{\"colorbar\": {\"outlinewidth\": 0, \"ticks\": \"\"}, \"colorscale\": [[0.0, \"#0d0887\"], [0.1111111111111111, \"#46039f\"], [0.2222222222222222, \"#7201a8\"], [0.3333333333333333, \"#9c179e\"], [0.4444444444444444, \"#bd3786\"], [0.5555555555555556, \"#d8576b\"], [0.6666666666666666, \"#ed7953\"], [0.7777777777777778, \"#fb9f3a\"], [0.8888888888888888, \"#fdca26\"], [1.0, \"#f0f921\"]], \"type\": \"heatmap\"}], \"heatmapgl\": [{\"colorbar\": {\"outlinewidth\": 0, \"ticks\": \"\"}, \"colorscale\": [[0.0, \"#0d0887\"], [0.1111111111111111, \"#46039f\"], [0.2222222222222222, \"#7201a8\"], [0.3333333333333333, \"#9c179e\"], [0.4444444444444444, \"#bd3786\"], [0.5555555555555556, \"#d8576b\"], [0.6666666666666666, \"#ed7953\"], [0.7777777777777778, \"#fb9f3a\"], [0.8888888888888888, \"#fdca26\"], [1.0, \"#f0f921\"]], \"type\": \"heatmapgl\"}], \"histogram\": [{\"marker\": {\"colorbar\": {\"outlinewidth\": 0, \"ticks\": \"\"}}, \"type\": \"histogram\"}], \"histogram2d\": [{\"colorbar\": {\"outlinewidth\": 0, \"ticks\": \"\"}, \"colorscale\": [[0.0, \"#0d0887\"], [0.1111111111111111, \"#46039f\"], [0.2222222222222222, \"#7201a8\"], [0.3333333333333333, \"#9c179e\"], [0.4444444444444444, \"#bd3786\"], [0.5555555555555556, \"#d8576b\"], [0.6666666666666666, \"#ed7953\"], [0.7777777777777778, \"#fb9f3a\"], [0.8888888888888888, \"#fdca26\"], [1.0, \"#f0f921\"]], \"type\": \"histogram2d\"}], \"histogram2dcontour\": [{\"colorbar\": {\"outlinewidth\": 0, \"ticks\": \"\"}, \"colorscale\": [[0.0, \"#0d0887\"], [0.1111111111111111, \"#46039f\"], [0.2222222222222222, \"#7201a8\"], [0.3333333333333333, \"#9c179e\"], [0.4444444444444444, \"#bd3786\"], [0.5555555555555556, \"#d8576b\"], [0.6666666666666666, \"#ed7953\"], [0.7777777777777778, \"#fb9f3a\"], [0.8888888888888888, \"#fdca26\"], [1.0, \"#f0f921\"]], \"type\": \"histogram2dcontour\"}], \"mesh3d\": [{\"colorbar\": {\"outlinewidth\": 0, \"ticks\": \"\"}, \"type\": \"mesh3d\"}], \"parcoords\": [{\"line\": {\"colorbar\": {\"outlinewidth\": 0, \"ticks\": \"\"}}, \"type\": \"parcoords\"}], \"pie\": [{\"automargin\": true, \"type\": \"pie\"}], \"scatter\": [{\"marker\": {\"colorbar\": {\"outlinewidth\": 0, \"ticks\": \"\"}}, \"type\": \"scatter\"}], \"scatter3d\": [{\"line\": {\"colorbar\": {\"outlinewidth\": 0, \"ticks\": \"\"}}, \"marker\": {\"colorbar\": {\"outlinewidth\": 0, \"ticks\": \"\"}}, \"type\": \"scatter3d\"}], \"scattercarpet\": [{\"marker\": {\"colorbar\": {\"outlinewidth\": 0, \"ticks\": \"\"}}, \"type\": \"scattercarpet\"}], \"scattergeo\": [{\"marker\": {\"colorbar\": {\"outlinewidth\": 0, \"ticks\": \"\"}}, \"type\": \"scattergeo\"}], \"scattergl\": [{\"marker\": {\"colorbar\": {\"outlinewidth\": 0, \"ticks\": \"\"}}, \"type\": \"scattergl\"}], \"scattermapbox\": [{\"marker\": {\"colorbar\": {\"outlinewidth\": 0, \"ticks\": \"\"}}, \"type\": \"scattermapbox\"}], \"scatterpolar\": [{\"marker\": {\"colorbar\": {\"outlinewidth\": 0, \"ticks\": \"\"}}, \"type\": \"scatterpolar\"}], \"scatterpolargl\": [{\"marker\": {\"colorbar\": {\"outlinewidth\": 0, \"ticks\": \"\"}}, \"type\": \"scatterpolargl\"}], \"scatterternary\": [{\"marker\": {\"colorbar\": {\"outlinewidth\": 0, \"ticks\": \"\"}}, \"type\": \"scatterternary\"}], \"surface\": [{\"colorbar\": {\"outlinewidth\": 0, \"ticks\": \"\"}, \"colorscale\": [[0.0, \"#0d0887\"], [0.1111111111111111, \"#46039f\"], [0.2222222222222222, \"#7201a8\"], [0.3333333333333333, \"#9c179e\"], [0.4444444444444444, \"#bd3786\"], [0.5555555555555556, \"#d8576b\"], [0.6666666666666666, \"#ed7953\"], [0.7777777777777778, \"#fb9f3a\"], [0.8888888888888888, \"#fdca26\"], [1.0, \"#f0f921\"]], \"type\": \"surface\"}], \"table\": [{\"cells\": {\"fill\": {\"color\": \"#EBF0F8\"}, \"line\": {\"color\": \"white\"}}, \"header\": {\"fill\": {\"color\": \"#C8D4E3\"}, \"line\": {\"color\": \"white\"}}, \"type\": \"table\"}]}, \"layout\": {\"annotationdefaults\": {\"arrowcolor\": \"#2a3f5f\", \"arrowhead\": 0, \"arrowwidth\": 1}, \"autotypenumbers\": \"strict\", \"coloraxis\": {\"colorbar\": {\"outlinewidth\": 0, \"ticks\": \"\"}}, \"colorscale\": {\"diverging\": [[0, \"#8e0152\"], [0.1, \"#c51b7d\"], [0.2, \"#de77ae\"], [0.3, \"#f1b6da\"], [0.4, \"#fde0ef\"], [0.5, \"#f7f7f7\"], [0.6, \"#e6f5d0\"], [0.7, \"#b8e186\"], [0.8, \"#7fbc41\"], [0.9, \"#4d9221\"], [1, \"#276419\"]], \"sequential\": [[0.0, \"#0d0887\"], [0.1111111111111111, \"#46039f\"], [0.2222222222222222, \"#7201a8\"], [0.3333333333333333, \"#9c179e\"], [0.4444444444444444, \"#bd3786\"], [0.5555555555555556, \"#d8576b\"], [0.6666666666666666, \"#ed7953\"], [0.7777777777777778, \"#fb9f3a\"], [0.8888888888888888, \"#fdca26\"], [1.0, \"#f0f921\"]], \"sequentialminus\": [[0.0, \"#0d0887\"], [0.1111111111111111, \"#46039f\"], [0.2222222222222222, \"#7201a8\"], [0.3333333333333333, \"#9c179e\"], [0.4444444444444444, \"#bd3786\"], [0.5555555555555556, \"#d8576b\"], [0.6666666666666666, \"#ed7953\"], [0.7777777777777778, \"#fb9f3a\"], [0.8888888888888888, \"#fdca26\"], [1.0, \"#f0f921\"]]}, \"colorway\": [\"#636efa\", \"#EF553B\", \"#00cc96\", \"#ab63fa\", \"#FFA15A\", \"#19d3f3\", \"#FF6692\", \"#B6E880\", \"#FF97FF\", \"#FECB52\"], \"font\": {\"color\": \"#2a3f5f\"}, \"geo\": {\"bgcolor\": \"white\", \"lakecolor\": \"white\", \"landcolor\": \"#E5ECF6\", \"showlakes\": true, \"showland\": true, \"subunitcolor\": \"white\"}, \"hoverlabel\": {\"align\": \"left\"}, \"hovermode\": \"closest\", \"mapbox\": {\"style\": \"light\"}, \"paper_bgcolor\": \"white\", \"plot_bgcolor\": \"#E5ECF6\", \"polar\": {\"angularaxis\": {\"gridcolor\": \"white\", \"linecolor\": \"white\", \"ticks\": \"\"}, \"bgcolor\": \"#E5ECF6\", \"radialaxis\": {\"gridcolor\": \"white\", \"linecolor\": \"white\", \"ticks\": \"\"}}, \"scene\": {\"xaxis\": {\"backgroundcolor\": \"#E5ECF6\", \"gridcolor\": \"white\", \"gridwidth\": 2, \"linecolor\": \"white\", \"showbackground\": true, \"ticks\": \"\", \"zerolinecolor\": \"white\"}, \"yaxis\": {\"backgroundcolor\": \"#E5ECF6\", \"gridcolor\": \"white\", \"gridwidth\": 2, \"linecolor\": \"white\", \"showbackground\": true, \"ticks\": \"\", \"zerolinecolor\": \"white\"}, \"zaxis\": {\"backgroundcolor\": \"#E5ECF6\", \"gridcolor\": \"white\", \"gridwidth\": 2, \"linecolor\": \"white\", \"showbackground\": true, \"ticks\": \"\", \"zerolinecolor\": \"white\"}}, \"shapedefaults\": {\"line\": {\"color\": \"#2a3f5f\"}}, \"ternary\": {\"aaxis\": {\"gridcolor\": \"white\", \"linecolor\": \"white\", \"ticks\": \"\"}, \"baxis\": {\"gridcolor\": \"white\", \"linecolor\": \"white\", \"ticks\": \"\"}, \"bgcolor\": \"#E5ECF6\", \"caxis\": {\"gridcolor\": \"white\", \"linecolor\": \"white\", \"ticks\": \"\"}}, \"title\": {\"x\": 0.05}, \"xaxis\": {\"automargin\": true, \"gridcolor\": \"white\", \"linecolor\": \"white\", \"ticks\": \"\", \"title\": {\"standoff\": 15}, \"zerolinecolor\": \"white\", \"zerolinewidth\": 2}, \"yaxis\": {\"automargin\": true, \"gridcolor\": \"white\", \"linecolor\": \"white\", \"ticks\": \"\", \"title\": {\"standoff\": 15}, \"zerolinecolor\": \"white\", \"zerolinewidth\": 2}}}, \"title\": {\"font\": {\"color\": \"#4D5663\"}}, \"xaxis\": {\"gridcolor\": \"#E1E5ED\", \"showgrid\": true, \"tickfont\": {\"color\": \"#4D5663\"}, \"title\": {\"font\": {\"color\": \"#4D5663\"}, \"text\": \"\"}, \"zerolinecolor\": \"#E1E5ED\"}, \"yaxis\": {\"gridcolor\": \"#E1E5ED\", \"showgrid\": true, \"tickfont\": {\"color\": \"#4D5663\"}, \"title\": {\"font\": {\"color\": \"#4D5663\"}, \"text\": \"\"}, \"zerolinecolor\": \"#E1E5ED\"}},                        {\"showLink\": true, \"linkText\": \"Export to plot.ly\", \"plotlyServerURL\": \"https://plot.ly\", \"responsive\": true}                    ).then(function(){\n",
       "                            \n",
       "var gd = document.getElementById('83f6dfc1-f820-4769-86eb-8a24db932048');\n",
       "var x = new MutationObserver(function (mutations, observer) {{\n",
       "        var display = window.getComputedStyle(gd).display;\n",
       "        if (!display || display === 'none') {{\n",
       "            console.log([gd, 'removed!']);\n",
       "            Plotly.purge(gd);\n",
       "            observer.disconnect();\n",
       "        }}\n",
       "}});\n",
       "\n",
       "// Listen for the removal of the full notebook cells\n",
       "var notebookContainer = gd.closest('#notebook-container');\n",
       "if (notebookContainer) {{\n",
       "    x.observe(notebookContainer, {childList: true});\n",
       "}}\n",
       "\n",
       "// Listen for the clearing of the current output cell\n",
       "var outputEl = gd.closest('.output');\n",
       "if (outputEl) {{\n",
       "    x.observe(outputEl, {childList: true});\n",
       "}}\n",
       "\n",
       "                        })                };                });            </script>        </div>"
      ]
     },
     "metadata": {},
     "output_type": "display_data"
    }
   ],
   "source": [
    "df3 = pd.DataFrame({'x':[1,2,3,4,5],'y':[10,20,30,20,10],'z':[5,4,3,2,1]})\n",
    "df3.iplot(kind='surface',colorscale='rdylbu')"
   ]
  },
  {
   "cell_type": "markdown",
   "metadata": {},
   "source": [
    "## Spread"
   ]
  },
  {
   "cell_type": "code",
   "execution_count": 17,
   "metadata": {},
   "outputs": [
    {
     "data": {
      "application/vnd.plotly.v1+json": {
       "config": {
        "linkText": "Export to plot.ly",
        "plotlyServerURL": "https://plot.ly",
        "showLink": true
       },
       "data": [
        {
         "line": {
          "color": "rgba(255, 153, 51, 1.0)",
          "dash": "solid",
          "shape": "linear",
          "width": 1.3
         },
         "mode": "lines",
         "name": "A",
         "text": "",
         "type": "scatter",
         "x": [
          0,
          1,
          2,
          3,
          4,
          5,
          6,
          7,
          8,
          9,
          10,
          11,
          12,
          13,
          14,
          15,
          16,
          17,
          18,
          19,
          20,
          21,
          22,
          23,
          24,
          25,
          26,
          27,
          28,
          29,
          30,
          31,
          32,
          33,
          34,
          35,
          36,
          37,
          38,
          39,
          40,
          41,
          42,
          43,
          44,
          45,
          46,
          47,
          48,
          49,
          50,
          51,
          52,
          53,
          54,
          55,
          56,
          57,
          58,
          59,
          60,
          61,
          62,
          63,
          64,
          65,
          66,
          67,
          68,
          69,
          70,
          71,
          72,
          73,
          74,
          75,
          76,
          77,
          78,
          79,
          80,
          81,
          82,
          83,
          84,
          85,
          86,
          87,
          88,
          89,
          90,
          91,
          92,
          93,
          94,
          95,
          96,
          97,
          98,
          99
         ],
         "y": [
          0.8225286437416501,
          1.7906518177693165,
          -0.4252650252772421,
          -0.11410539779221635,
          0.7794333388601931,
          0.5003190132121949,
          0.2018489181641643,
          -0.5146250488763782,
          0.3188360196714971,
          -0.5408247176895304,
          0.22587083856421108,
          -0.6974670580084895,
          0.5771703678093689,
          -0.013976202921457752,
          0.8783343452604568,
          -1.614949706939007,
          0.19153236329955206,
          -1.5765158215202855,
          -0.4112903516874633,
          -1.092087010716353,
          1.33599345630096,
          1.4351531348939572,
          -1.2848571383638239,
          -1.7510693502903472,
          0.8075813530347192,
          -0.5470180608654744,
          -0.28413980500001806,
          0.20961814337947923,
          -0.02959907422165152,
          0.9547946370028454,
          -0.4789236470968032,
          -0.5970003307837691,
          -0.39385277023122905,
          0.11981370704438987,
          0.9871751876769622,
          0.31853744701880177,
          -0.3657065423701585,
          0.37725580911967876,
          -0.18348735017904264,
          1.6081305852347272,
          0.1731427842198789,
          1.7563528761773035,
          -1.9242694093670059,
          0.15322007858144676,
          0.3694726518707792,
          1.1238409758155203,
          -0.47236617294136934,
          -2.2054955020266758,
          -0.038750514669134865,
          0.6406891232053674,
          -0.5122664102800992,
          0.4403463452002344,
          0.12621387719415295,
          0.11548873258660677,
          -0.5566016986744087,
          -0.013768255762175781,
          0.8952226489212914,
          0.9118298889268938,
          0.569114211520104,
          0.024437122932751843,
          1.701500345824061,
          0.2251987043144141,
          -0.24188881465420595,
          1.3250447913362182,
          0.360446668523524,
          0.17515640035608626,
          -1.704366488761559,
          -1.5158347740723928,
          0.4902716968708798,
          0.6453474335949971,
          -0.7399554958505687,
          1.8131232768603385,
          -0.12291573819921484,
          0.4669552405324629,
          -0.2938506167449886,
          0.40228120830014147,
          -2.149327520203454,
          -0.6866806942881285,
          -0.2927811094268949,
          0.5042300314844698,
          0.6555808286390054,
          -0.9279139834900973,
          -0.08543978812480418,
          -0.04796523223752661,
          0.0746435164054404,
          0.2307148975501273,
          -2.027424116120096,
          0.3450571253534357,
          -1.1612443444561293,
          -0.3726671090762646,
          -2.976221788193337,
          -2.1117101596495687,
          -0.6985426135652383,
          1.1965258562450305,
          -1.0459953031714726,
          1.976436641953744,
          -1.1349899468640317,
          0.3040281001626459,
          -1.8846583680508304,
          0.47535347700831315
         ]
        },
        {
         "line": {
          "color": "rgba(55, 128, 191, 1.0)",
          "dash": "solid",
          "shape": "linear",
          "width": 1.3
         },
         "mode": "lines",
         "name": "B",
         "text": "",
         "type": "scatter",
         "x": [
          0,
          1,
          2,
          3,
          4,
          5,
          6,
          7,
          8,
          9,
          10,
          11,
          12,
          13,
          14,
          15,
          16,
          17,
          18,
          19,
          20,
          21,
          22,
          23,
          24,
          25,
          26,
          27,
          28,
          29,
          30,
          31,
          32,
          33,
          34,
          35,
          36,
          37,
          38,
          39,
          40,
          41,
          42,
          43,
          44,
          45,
          46,
          47,
          48,
          49,
          50,
          51,
          52,
          53,
          54,
          55,
          56,
          57,
          58,
          59,
          60,
          61,
          62,
          63,
          64,
          65,
          66,
          67,
          68,
          69,
          70,
          71,
          72,
          73,
          74,
          75,
          76,
          77,
          78,
          79,
          80,
          81,
          82,
          83,
          84,
          85,
          86,
          87,
          88,
          89,
          90,
          91,
          92,
          93,
          94,
          95,
          96,
          97,
          98,
          99
         ],
         "y": [
          0.9798422876110087,
          -0.07739040844163653,
          0.199140992111598,
          -1.2143268018612448,
          0.14285538470625045,
          -0.941613979403886,
          -0.5179651092895884,
          -2.9720401690748086,
          -0.9025695839599948,
          0.7070161377970824,
          0.6226851269936455,
          1.7220710947919995,
          2.421389113461388,
          -0.15836707680921455,
          -0.00824513735289978,
          -2.4502263963546427,
          0.32938834873258654,
          0.43268652790313156,
          -0.07647046488415142,
          0.16117870564803655,
          0.5719563509363634,
          0.6489901001574245,
          0.9376314079451413,
          -0.5772109776816116,
          0.43940958062906715,
          0.27942060999655977,
          -0.9424446593446479,
          -1.486525613267546,
          1.6312084499589516,
          -0.07507516007927825,
          0.12760269243775124,
          0.05373579584888705,
          0.1379571283605871,
          -0.8678493687113031,
          -0.43134562129715953,
          0.6545365996125828,
          -0.6271866565552896,
          -0.13713206936808897,
          1.2742682936024408,
          -0.8413247811888707,
          -0.7302648312780448,
          -0.6117741047846332,
          -1.210299969457778,
          -0.3801376853687354,
          -0.48236709698927316,
          1.6101057259159142,
          0.018396524012302493,
          3.02256317083536,
          2.5691163423097496,
          -0.8487428166948513,
          -0.10164929522395912,
          0.8273933294947996,
          -0.4641358512359839,
          1.0174474127248259,
          -0.6615304859327857,
          -1.8869319213356825,
          0.4677487870018134,
          -0.9766521809572346,
          0.4424919332422819,
          -3.1831759316713057,
          0.2283009026441312,
          0.36950934843910815,
          0.5369686034283853,
          0.2983504233853764,
          -0.004378996737566833,
          1.0592911293848593,
          1.6451075032610067,
          0.29029878762587735,
          -0.4609110721334788,
          0.4378794865441988,
          -1.4283048764958761,
          0.40738608837815354,
          0.7625659313961809,
          -1.4172139471023841,
          -0.10136148568438476,
          0.15838136839989114,
          -1.3580445071102318,
          -1.1087998884123191,
          0.05526415914038533,
          0.9883265678290705,
          -0.03771628428204599,
          0.26505609003670605,
          1.0489263265095015,
          2.2480644236455434,
          -0.39604599179023386,
          -2.0576074336266377,
          1.6418210719318171,
          -2.064000840790136,
          0.18340752558238735,
          0.3708702460919371,
          0.7564073758273471,
          0.5622132114774402,
          -0.8681703206538972,
          -0.5457892288792988,
          0.6462776058743678,
          -1.388235965781543,
          -1.403310739967856,
          -0.5048268930823668,
          -0.008940855983669326,
          0.2678190263167388
         ]
        },
        {
         "connectgaps": false,
         "fill": "tozeroy",
         "line": {
          "color": "green",
          "dash": "solid",
          "shape": "linear",
          "width": 0.5
         },
         "mode": "lines",
         "name": "Spread",
         "showlegend": false,
         "type": "scatter",
         "x": [
          0,
          1,
          2,
          3,
          4,
          5,
          6,
          7,
          8,
          9,
          10,
          11,
          12,
          13,
          14,
          15,
          16,
          17,
          18,
          19,
          20,
          21,
          22,
          23,
          24,
          25,
          26,
          27,
          28,
          29,
          30,
          31,
          32,
          33,
          34,
          35,
          36,
          37,
          38,
          39,
          40,
          41,
          42,
          43,
          44,
          45,
          46,
          47,
          48,
          49,
          50,
          51,
          52,
          53,
          54,
          55,
          56,
          57,
          58,
          59,
          60,
          61,
          62,
          63,
          64,
          65,
          66,
          67,
          68,
          69,
          70,
          71,
          72,
          73,
          74,
          75,
          76,
          77,
          78,
          79,
          80,
          81,
          82,
          83,
          84,
          85,
          86,
          87,
          88,
          89,
          90,
          91,
          92,
          93,
          94,
          95,
          96,
          97,
          98,
          99
         ],
         "xaxis": "x2",
         "y": [
          "",
          1.868042226210953,
          "",
          1.1002214040690284,
          0.6365779541539426,
          1.4419329926160809,
          0.7198140274537527,
          2.4574151201984304,
          1.2214056036314918,
          "",
          "",
          "",
          "",
          0.1443908738877568,
          0.8865794826133566,
          0.8352766894156356,
          "",
          "",
          "",
          "",
          0.7640371053645965,
          0.7861630347365327,
          "",
          "",
          0.3681717724056521,
          "",
          0.6583048543446299,
          1.6961437566470252,
          "",
          1.0298697970821236,
          "",
          "",
          "",
          0.987663075755693,
          1.4185208089741217,
          "",
          0.2614801141851311,
          0.5143878784877678,
          "",
          2.4494553664235976,
          0.9034076154979236,
          2.3681269809619367,
          "",
          0.5333577639501821,
          0.8518397488600524,
          "",
          "",
          "",
          "",
          1.4894319399002187,
          "",
          "",
          0.5903497284301369,
          "",
          0.10492878725837707,
          1.8731636655735067,
          0.42747386191947806,
          1.8884820698841285,
          0.12662227827782208,
          3.2076130546040575,
          1.4731994431799298,
          "",
          "",
          1.0266943679508418,
          0.36482566526109084,
          "",
          "",
          "",
          0.9511827690043586,
          0.20746794705079835,
          0.6883493806453074,
          1.405737188482185,
          "",
          1.884169187634847,
          "",
          0.24389983990025033,
          "",
          0.42211919412419063,
          "",
          "",
          0.6932971129210513,
          "",
          "",
          "",
          0.47068950819567423,
          2.288322331176765,
          "",
          2.4090579661435716,
          "",
          "",
          "",
          "",
          0.16962770708865893,
          1.7423150851243294,
          "",
          3.364672607735287,
          0.2683207931038243,
          0.8088549932450128,
          "",
          0.20753445069157433
         ],
         "yaxis": "y2"
        },
        {
         "connectgaps": false,
         "fill": "tozeroy",
         "line": {
          "color": "red",
          "dash": "solid",
          "shape": "linear",
          "width": 0.5
         },
         "mode": "lines",
         "name": "Spread",
         "showlegend": false,
         "type": "scatter",
         "x": [
          0,
          1,
          2,
          3,
          4,
          5,
          6,
          7,
          8,
          9,
          10,
          11,
          12,
          13,
          14,
          15,
          16,
          17,
          18,
          19,
          20,
          21,
          22,
          23,
          24,
          25,
          26,
          27,
          28,
          29,
          30,
          31,
          32,
          33,
          34,
          35,
          36,
          37,
          38,
          39,
          40,
          41,
          42,
          43,
          44,
          45,
          46,
          47,
          48,
          49,
          50,
          51,
          52,
          53,
          54,
          55,
          56,
          57,
          58,
          59,
          60,
          61,
          62,
          63,
          64,
          65,
          66,
          67,
          68,
          69,
          70,
          71,
          72,
          73,
          74,
          75,
          76,
          77,
          78,
          79,
          80,
          81,
          82,
          83,
          84,
          85,
          86,
          87,
          88,
          89,
          90,
          91,
          92,
          93,
          94,
          95,
          96,
          97,
          98,
          99
         ],
         "xaxis": "x2",
         "y": [
          -0.15731364386935853,
          "",
          -0.62440601738884,
          "",
          "",
          "",
          "",
          "",
          "",
          -1.2478408554866127,
          -0.39681428842943445,
          -2.419538152800489,
          -1.844218745652019,
          "",
          "",
          "",
          -0.13785598543303448,
          -2.009202349423417,
          -0.3348198868033119,
          -1.2532657163643894,
          "",
          "",
          -2.2224885463089654,
          -1.1738583726087355,
          "",
          -0.8264386708620342,
          "",
          "",
          -1.660807524180603,
          "",
          -0.6065263395345544,
          -0.6507361266326561,
          -0.5318098985918162,
          "",
          "",
          -0.33599915259378105,
          "",
          "",
          -1.4577556437814834,
          "",
          "",
          "",
          -0.7139694399092278,
          "",
          "",
          -0.4862647501003938,
          -0.49076269695367186,
          -5.228058672862035,
          -2.6078668569788843,
          "",
          -0.4106171150561401,
          -0.3870469842945652,
          "",
          -0.9019586801382191,
          "",
          "",
          "",
          "",
          "",
          "",
          "",
          -0.14431064412469405,
          -0.7788574180825912,
          "",
          "",
          -0.884134729028773,
          -3.349473992022566,
          -1.80613356169827,
          "",
          "",
          "",
          "",
          -0.8854816695953958,
          "",
          -0.19248913106060384,
          "",
          -0.7912830130932222,
          "",
          -0.34804526856728024,
          -0.4840965363446007,
          "",
          -1.1929700735268034,
          -1.1343661146343056,
          -2.29602965588307,
          "",
          "",
          -3.6692451880519132,
          "",
          -1.3446518700385166,
          -0.7435373551682016,
          -3.7326291640206843,
          -2.673923371127009,
          "",
          "",
          -1.6922729090458404,
          "",
          "",
          "",
          -1.8757175120671612,
          ""
         ],
         "yaxis": "y2"
        }
       ],
       "layout": {
        "hovermode": "x",
        "legend": {
         "bgcolor": "#F5F6F9",
         "font": {
          "color": "#4D5663"
         }
        },
        "paper_bgcolor": "#F5F6F9",
        "plot_bgcolor": "#F5F6F9",
        "template": {
         "data": {
          "bar": [
           {
            "error_x": {
             "color": "#2a3f5f"
            },
            "error_y": {
             "color": "#2a3f5f"
            },
            "marker": {
             "line": {
              "color": "#E5ECF6",
              "width": 0.5
             }
            },
            "type": "bar"
           }
          ],
          "barpolar": [
           {
            "marker": {
             "line": {
              "color": "#E5ECF6",
              "width": 0.5
             }
            },
            "type": "barpolar"
           }
          ],
          "carpet": [
           {
            "aaxis": {
             "endlinecolor": "#2a3f5f",
             "gridcolor": "white",
             "linecolor": "white",
             "minorgridcolor": "white",
             "startlinecolor": "#2a3f5f"
            },
            "baxis": {
             "endlinecolor": "#2a3f5f",
             "gridcolor": "white",
             "linecolor": "white",
             "minorgridcolor": "white",
             "startlinecolor": "#2a3f5f"
            },
            "type": "carpet"
           }
          ],
          "choropleth": [
           {
            "colorbar": {
             "outlinewidth": 0,
             "ticks": ""
            },
            "type": "choropleth"
           }
          ],
          "contour": [
           {
            "colorbar": {
             "outlinewidth": 0,
             "ticks": ""
            },
            "colorscale": [
             [
              0,
              "#0d0887"
             ],
             [
              0.1111111111111111,
              "#46039f"
             ],
             [
              0.2222222222222222,
              "#7201a8"
             ],
             [
              0.3333333333333333,
              "#9c179e"
             ],
             [
              0.4444444444444444,
              "#bd3786"
             ],
             [
              0.5555555555555556,
              "#d8576b"
             ],
             [
              0.6666666666666666,
              "#ed7953"
             ],
             [
              0.7777777777777778,
              "#fb9f3a"
             ],
             [
              0.8888888888888888,
              "#fdca26"
             ],
             [
              1,
              "#f0f921"
             ]
            ],
            "type": "contour"
           }
          ],
          "contourcarpet": [
           {
            "colorbar": {
             "outlinewidth": 0,
             "ticks": ""
            },
            "type": "contourcarpet"
           }
          ],
          "heatmap": [
           {
            "colorbar": {
             "outlinewidth": 0,
             "ticks": ""
            },
            "colorscale": [
             [
              0,
              "#0d0887"
             ],
             [
              0.1111111111111111,
              "#46039f"
             ],
             [
              0.2222222222222222,
              "#7201a8"
             ],
             [
              0.3333333333333333,
              "#9c179e"
             ],
             [
              0.4444444444444444,
              "#bd3786"
             ],
             [
              0.5555555555555556,
              "#d8576b"
             ],
             [
              0.6666666666666666,
              "#ed7953"
             ],
             [
              0.7777777777777778,
              "#fb9f3a"
             ],
             [
              0.8888888888888888,
              "#fdca26"
             ],
             [
              1,
              "#f0f921"
             ]
            ],
            "type": "heatmap"
           }
          ],
          "heatmapgl": [
           {
            "colorbar": {
             "outlinewidth": 0,
             "ticks": ""
            },
            "colorscale": [
             [
              0,
              "#0d0887"
             ],
             [
              0.1111111111111111,
              "#46039f"
             ],
             [
              0.2222222222222222,
              "#7201a8"
             ],
             [
              0.3333333333333333,
              "#9c179e"
             ],
             [
              0.4444444444444444,
              "#bd3786"
             ],
             [
              0.5555555555555556,
              "#d8576b"
             ],
             [
              0.6666666666666666,
              "#ed7953"
             ],
             [
              0.7777777777777778,
              "#fb9f3a"
             ],
             [
              0.8888888888888888,
              "#fdca26"
             ],
             [
              1,
              "#f0f921"
             ]
            ],
            "type": "heatmapgl"
           }
          ],
          "histogram": [
           {
            "marker": {
             "colorbar": {
              "outlinewidth": 0,
              "ticks": ""
             }
            },
            "type": "histogram"
           }
          ],
          "histogram2d": [
           {
            "colorbar": {
             "outlinewidth": 0,
             "ticks": ""
            },
            "colorscale": [
             [
              0,
              "#0d0887"
             ],
             [
              0.1111111111111111,
              "#46039f"
             ],
             [
              0.2222222222222222,
              "#7201a8"
             ],
             [
              0.3333333333333333,
              "#9c179e"
             ],
             [
              0.4444444444444444,
              "#bd3786"
             ],
             [
              0.5555555555555556,
              "#d8576b"
             ],
             [
              0.6666666666666666,
              "#ed7953"
             ],
             [
              0.7777777777777778,
              "#fb9f3a"
             ],
             [
              0.8888888888888888,
              "#fdca26"
             ],
             [
              1,
              "#f0f921"
             ]
            ],
            "type": "histogram2d"
           }
          ],
          "histogram2dcontour": [
           {
            "colorbar": {
             "outlinewidth": 0,
             "ticks": ""
            },
            "colorscale": [
             [
              0,
              "#0d0887"
             ],
             [
              0.1111111111111111,
              "#46039f"
             ],
             [
              0.2222222222222222,
              "#7201a8"
             ],
             [
              0.3333333333333333,
              "#9c179e"
             ],
             [
              0.4444444444444444,
              "#bd3786"
             ],
             [
              0.5555555555555556,
              "#d8576b"
             ],
             [
              0.6666666666666666,
              "#ed7953"
             ],
             [
              0.7777777777777778,
              "#fb9f3a"
             ],
             [
              0.8888888888888888,
              "#fdca26"
             ],
             [
              1,
              "#f0f921"
             ]
            ],
            "type": "histogram2dcontour"
           }
          ],
          "mesh3d": [
           {
            "colorbar": {
             "outlinewidth": 0,
             "ticks": ""
            },
            "type": "mesh3d"
           }
          ],
          "parcoords": [
           {
            "line": {
             "colorbar": {
              "outlinewidth": 0,
              "ticks": ""
             }
            },
            "type": "parcoords"
           }
          ],
          "pie": [
           {
            "automargin": true,
            "type": "pie"
           }
          ],
          "scatter": [
           {
            "marker": {
             "colorbar": {
              "outlinewidth": 0,
              "ticks": ""
             }
            },
            "type": "scatter"
           }
          ],
          "scatter3d": [
           {
            "line": {
             "colorbar": {
              "outlinewidth": 0,
              "ticks": ""
             }
            },
            "marker": {
             "colorbar": {
              "outlinewidth": 0,
              "ticks": ""
             }
            },
            "type": "scatter3d"
           }
          ],
          "scattercarpet": [
           {
            "marker": {
             "colorbar": {
              "outlinewidth": 0,
              "ticks": ""
             }
            },
            "type": "scattercarpet"
           }
          ],
          "scattergeo": [
           {
            "marker": {
             "colorbar": {
              "outlinewidth": 0,
              "ticks": ""
             }
            },
            "type": "scattergeo"
           }
          ],
          "scattergl": [
           {
            "marker": {
             "colorbar": {
              "outlinewidth": 0,
              "ticks": ""
             }
            },
            "type": "scattergl"
           }
          ],
          "scattermapbox": [
           {
            "marker": {
             "colorbar": {
              "outlinewidth": 0,
              "ticks": ""
             }
            },
            "type": "scattermapbox"
           }
          ],
          "scatterpolar": [
           {
            "marker": {
             "colorbar": {
              "outlinewidth": 0,
              "ticks": ""
             }
            },
            "type": "scatterpolar"
           }
          ],
          "scatterpolargl": [
           {
            "marker": {
             "colorbar": {
              "outlinewidth": 0,
              "ticks": ""
             }
            },
            "type": "scatterpolargl"
           }
          ],
          "scatterternary": [
           {
            "marker": {
             "colorbar": {
              "outlinewidth": 0,
              "ticks": ""
             }
            },
            "type": "scatterternary"
           }
          ],
          "surface": [
           {
            "colorbar": {
             "outlinewidth": 0,
             "ticks": ""
            },
            "colorscale": [
             [
              0,
              "#0d0887"
             ],
             [
              0.1111111111111111,
              "#46039f"
             ],
             [
              0.2222222222222222,
              "#7201a8"
             ],
             [
              0.3333333333333333,
              "#9c179e"
             ],
             [
              0.4444444444444444,
              "#bd3786"
             ],
             [
              0.5555555555555556,
              "#d8576b"
             ],
             [
              0.6666666666666666,
              "#ed7953"
             ],
             [
              0.7777777777777778,
              "#fb9f3a"
             ],
             [
              0.8888888888888888,
              "#fdca26"
             ],
             [
              1,
              "#f0f921"
             ]
            ],
            "type": "surface"
           }
          ],
          "table": [
           {
            "cells": {
             "fill": {
              "color": "#EBF0F8"
             },
             "line": {
              "color": "white"
             }
            },
            "header": {
             "fill": {
              "color": "#C8D4E3"
             },
             "line": {
              "color": "white"
             }
            },
            "type": "table"
           }
          ]
         },
         "layout": {
          "annotationdefaults": {
           "arrowcolor": "#2a3f5f",
           "arrowhead": 0,
           "arrowwidth": 1
          },
          "autotypenumbers": "strict",
          "coloraxis": {
           "colorbar": {
            "outlinewidth": 0,
            "ticks": ""
           }
          },
          "colorscale": {
           "diverging": [
            [
             0,
             "#8e0152"
            ],
            [
             0.1,
             "#c51b7d"
            ],
            [
             0.2,
             "#de77ae"
            ],
            [
             0.3,
             "#f1b6da"
            ],
            [
             0.4,
             "#fde0ef"
            ],
            [
             0.5,
             "#f7f7f7"
            ],
            [
             0.6,
             "#e6f5d0"
            ],
            [
             0.7,
             "#b8e186"
            ],
            [
             0.8,
             "#7fbc41"
            ],
            [
             0.9,
             "#4d9221"
            ],
            [
             1,
             "#276419"
            ]
           ],
           "sequential": [
            [
             0,
             "#0d0887"
            ],
            [
             0.1111111111111111,
             "#46039f"
            ],
            [
             0.2222222222222222,
             "#7201a8"
            ],
            [
             0.3333333333333333,
             "#9c179e"
            ],
            [
             0.4444444444444444,
             "#bd3786"
            ],
            [
             0.5555555555555556,
             "#d8576b"
            ],
            [
             0.6666666666666666,
             "#ed7953"
            ],
            [
             0.7777777777777778,
             "#fb9f3a"
            ],
            [
             0.8888888888888888,
             "#fdca26"
            ],
            [
             1,
             "#f0f921"
            ]
           ],
           "sequentialminus": [
            [
             0,
             "#0d0887"
            ],
            [
             0.1111111111111111,
             "#46039f"
            ],
            [
             0.2222222222222222,
             "#7201a8"
            ],
            [
             0.3333333333333333,
             "#9c179e"
            ],
            [
             0.4444444444444444,
             "#bd3786"
            ],
            [
             0.5555555555555556,
             "#d8576b"
            ],
            [
             0.6666666666666666,
             "#ed7953"
            ],
            [
             0.7777777777777778,
             "#fb9f3a"
            ],
            [
             0.8888888888888888,
             "#fdca26"
            ],
            [
             1,
             "#f0f921"
            ]
           ]
          },
          "colorway": [
           "#636efa",
           "#EF553B",
           "#00cc96",
           "#ab63fa",
           "#FFA15A",
           "#19d3f3",
           "#FF6692",
           "#B6E880",
           "#FF97FF",
           "#FECB52"
          ],
          "font": {
           "color": "#2a3f5f"
          },
          "geo": {
           "bgcolor": "white",
           "lakecolor": "white",
           "landcolor": "#E5ECF6",
           "showlakes": true,
           "showland": true,
           "subunitcolor": "white"
          },
          "hoverlabel": {
           "align": "left"
          },
          "hovermode": "closest",
          "mapbox": {
           "style": "light"
          },
          "paper_bgcolor": "white",
          "plot_bgcolor": "#E5ECF6",
          "polar": {
           "angularaxis": {
            "gridcolor": "white",
            "linecolor": "white",
            "ticks": ""
           },
           "bgcolor": "#E5ECF6",
           "radialaxis": {
            "gridcolor": "white",
            "linecolor": "white",
            "ticks": ""
           }
          },
          "scene": {
           "xaxis": {
            "backgroundcolor": "#E5ECF6",
            "gridcolor": "white",
            "gridwidth": 2,
            "linecolor": "white",
            "showbackground": true,
            "ticks": "",
            "zerolinecolor": "white"
           },
           "yaxis": {
            "backgroundcolor": "#E5ECF6",
            "gridcolor": "white",
            "gridwidth": 2,
            "linecolor": "white",
            "showbackground": true,
            "ticks": "",
            "zerolinecolor": "white"
           },
           "zaxis": {
            "backgroundcolor": "#E5ECF6",
            "gridcolor": "white",
            "gridwidth": 2,
            "linecolor": "white",
            "showbackground": true,
            "ticks": "",
            "zerolinecolor": "white"
           }
          },
          "shapedefaults": {
           "line": {
            "color": "#2a3f5f"
           }
          },
          "ternary": {
           "aaxis": {
            "gridcolor": "white",
            "linecolor": "white",
            "ticks": ""
           },
           "baxis": {
            "gridcolor": "white",
            "linecolor": "white",
            "ticks": ""
           },
           "bgcolor": "#E5ECF6",
           "caxis": {
            "gridcolor": "white",
            "linecolor": "white",
            "ticks": ""
           }
          },
          "title": {
           "x": 0.05
          },
          "xaxis": {
           "automargin": true,
           "gridcolor": "white",
           "linecolor": "white",
           "ticks": "",
           "title": {
            "standoff": 15
           },
           "zerolinecolor": "white",
           "zerolinewidth": 2
          },
          "yaxis": {
           "automargin": true,
           "gridcolor": "white",
           "linecolor": "white",
           "ticks": "",
           "title": {
            "standoff": 15
           },
           "zerolinecolor": "white",
           "zerolinewidth": 2
          }
         }
        },
        "title": {
         "font": {
          "color": "#4D5663"
         }
        },
        "xaxis": {
         "gridcolor": "#E1E5ED",
         "showgrid": true,
         "tickfont": {
          "color": "#4D5663"
         },
         "title": {
          "font": {
           "color": "#4D5663"
          },
          "text": ""
         },
         "zerolinecolor": "#E1E5ED"
        },
        "xaxis2": {
         "anchor": "y2",
         "gridcolor": "#E1E5ED",
         "showgrid": true,
         "showticklabels": false,
         "tickfont": {
          "color": "#4D5663"
         },
         "title": {
          "font": {
           "color": "#4D5663"
          },
          "text": ""
         },
         "zerolinecolor": "#E1E5ED"
        },
        "yaxis": {
         "domain": [
          0.3,
          1
         ],
         "gridcolor": "#E1E5ED",
         "showgrid": true,
         "tickfont": {
          "color": "#4D5663"
         },
         "title": {
          "font": {
           "color": "#4D5663"
          },
          "text": ""
         },
         "zerolinecolor": "#E1E5ED"
        },
        "yaxis2": {
         "domain": [
          0,
          0.25
         ],
         "gridcolor": "#E1E5ED",
         "showgrid": true,
         "tickfont": {
          "color": "#4D5663"
         },
         "title": {
          "font": {
           "color": "#4D5663"
          },
          "text": "Spread"
         },
         "zerolinecolor": "#E1E5ED"
        }
       }
      },
      "text/html": [
       "<div>                            <div id=\"f719831d-fec0-4d98-91f8-2333725c1a22\" class=\"plotly-graph-div\" style=\"height:525px; width:100%;\"></div>            <script type=\"text/javascript\">                require([\"plotly\"], function(Plotly) {                    window.PLOTLYENV=window.PLOTLYENV || {};\n",
       "                    window.PLOTLYENV.BASE_URL='https://plot.ly';                                    if (document.getElementById(\"f719831d-fec0-4d98-91f8-2333725c1a22\")) {                    Plotly.newPlot(                        \"f719831d-fec0-4d98-91f8-2333725c1a22\",                        [{\"line\": {\"color\": \"rgba(255, 153, 51, 1.0)\", \"dash\": \"solid\", \"shape\": \"linear\", \"width\": 1.3}, \"mode\": \"lines\", \"name\": \"A\", \"text\": \"\", \"type\": \"scatter\", \"x\": [0, 1, 2, 3, 4, 5, 6, 7, 8, 9, 10, 11, 12, 13, 14, 15, 16, 17, 18, 19, 20, 21, 22, 23, 24, 25, 26, 27, 28, 29, 30, 31, 32, 33, 34, 35, 36, 37, 38, 39, 40, 41, 42, 43, 44, 45, 46, 47, 48, 49, 50, 51, 52, 53, 54, 55, 56, 57, 58, 59, 60, 61, 62, 63, 64, 65, 66, 67, 68, 69, 70, 71, 72, 73, 74, 75, 76, 77, 78, 79, 80, 81, 82, 83, 84, 85, 86, 87, 88, 89, 90, 91, 92, 93, 94, 95, 96, 97, 98, 99], \"y\": [0.8225286437416501, 1.7906518177693165, -0.4252650252772421, -0.11410539779221635, 0.7794333388601931, 0.5003190132121949, 0.2018489181641643, -0.5146250488763782, 0.3188360196714971, -0.5408247176895304, 0.22587083856421108, -0.6974670580084895, 0.5771703678093689, -0.013976202921457752, 0.8783343452604568, -1.614949706939007, 0.19153236329955206, -1.5765158215202855, -0.4112903516874633, -1.092087010716353, 1.33599345630096, 1.4351531348939572, -1.2848571383638239, -1.7510693502903472, 0.8075813530347192, -0.5470180608654744, -0.28413980500001806, 0.20961814337947923, -0.02959907422165152, 0.9547946370028454, -0.4789236470968032, -0.5970003307837691, -0.39385277023122905, 0.11981370704438987, 0.9871751876769622, 0.31853744701880177, -0.3657065423701585, 0.37725580911967876, -0.18348735017904264, 1.6081305852347272, 0.1731427842198789, 1.7563528761773035, -1.9242694093670059, 0.15322007858144676, 0.3694726518707792, 1.1238409758155203, -0.47236617294136934, -2.2054955020266758, -0.038750514669134865, 0.6406891232053674, -0.5122664102800992, 0.4403463452002344, 0.12621387719415295, 0.11548873258660677, -0.5566016986744087, -0.013768255762175781, 0.8952226489212914, 0.9118298889268938, 0.569114211520104, 0.024437122932751843, 1.701500345824061, 0.2251987043144141, -0.24188881465420595, 1.3250447913362182, 0.360446668523524, 0.17515640035608626, -1.704366488761559, -1.5158347740723928, 0.4902716968708798, 0.6453474335949971, -0.7399554958505687, 1.8131232768603385, -0.12291573819921484, 0.4669552405324629, -0.2938506167449886, 0.40228120830014147, -2.149327520203454, -0.6866806942881285, -0.2927811094268949, 0.5042300314844698, 0.6555808286390054, -0.9279139834900973, -0.08543978812480418, -0.04796523223752661, 0.0746435164054404, 0.2307148975501273, -2.027424116120096, 0.3450571253534357, -1.1612443444561293, -0.3726671090762646, -2.976221788193337, -2.1117101596495687, -0.6985426135652383, 1.1965258562450305, -1.0459953031714726, 1.976436641953744, -1.1349899468640317, 0.3040281001626459, -1.8846583680508304, 0.47535347700831315]}, {\"line\": {\"color\": \"rgba(55, 128, 191, 1.0)\", \"dash\": \"solid\", \"shape\": \"linear\", \"width\": 1.3}, \"mode\": \"lines\", \"name\": \"B\", \"text\": \"\", \"type\": \"scatter\", \"x\": [0, 1, 2, 3, 4, 5, 6, 7, 8, 9, 10, 11, 12, 13, 14, 15, 16, 17, 18, 19, 20, 21, 22, 23, 24, 25, 26, 27, 28, 29, 30, 31, 32, 33, 34, 35, 36, 37, 38, 39, 40, 41, 42, 43, 44, 45, 46, 47, 48, 49, 50, 51, 52, 53, 54, 55, 56, 57, 58, 59, 60, 61, 62, 63, 64, 65, 66, 67, 68, 69, 70, 71, 72, 73, 74, 75, 76, 77, 78, 79, 80, 81, 82, 83, 84, 85, 86, 87, 88, 89, 90, 91, 92, 93, 94, 95, 96, 97, 98, 99], \"y\": [0.9798422876110087, -0.07739040844163653, 0.199140992111598, -1.2143268018612448, 0.14285538470625045, -0.941613979403886, -0.5179651092895884, -2.9720401690748086, -0.9025695839599948, 0.7070161377970824, 0.6226851269936455, 1.7220710947919995, 2.421389113461388, -0.15836707680921455, -0.00824513735289978, -2.4502263963546427, 0.32938834873258654, 0.43268652790313156, -0.07647046488415142, 0.16117870564803655, 0.5719563509363634, 0.6489901001574245, 0.9376314079451413, -0.5772109776816116, 0.43940958062906715, 0.27942060999655977, -0.9424446593446479, -1.486525613267546, 1.6312084499589516, -0.07507516007927825, 0.12760269243775124, 0.05373579584888705, 0.1379571283605871, -0.8678493687113031, -0.43134562129715953, 0.6545365996125828, -0.6271866565552896, -0.13713206936808897, 1.2742682936024408, -0.8413247811888707, -0.7302648312780448, -0.6117741047846332, -1.210299969457778, -0.3801376853687354, -0.48236709698927316, 1.6101057259159142, 0.018396524012302493, 3.02256317083536, 2.5691163423097496, -0.8487428166948513, -0.10164929522395912, 0.8273933294947996, -0.4641358512359839, 1.0174474127248259, -0.6615304859327857, -1.8869319213356825, 0.4677487870018134, -0.9766521809572346, 0.4424919332422819, -3.1831759316713057, 0.2283009026441312, 0.36950934843910815, 0.5369686034283853, 0.2983504233853764, -0.004378996737566833, 1.0592911293848593, 1.6451075032610067, 0.29029878762587735, -0.4609110721334788, 0.4378794865441988, -1.4283048764958761, 0.40738608837815354, 0.7625659313961809, -1.4172139471023841, -0.10136148568438476, 0.15838136839989114, -1.3580445071102318, -1.1087998884123191, 0.05526415914038533, 0.9883265678290705, -0.03771628428204599, 0.26505609003670605, 1.0489263265095015, 2.2480644236455434, -0.39604599179023386, -2.0576074336266377, 1.6418210719318171, -2.064000840790136, 0.18340752558238735, 0.3708702460919371, 0.7564073758273471, 0.5622132114774402, -0.8681703206538972, -0.5457892288792988, 0.6462776058743678, -1.388235965781543, -1.403310739967856, -0.5048268930823668, -0.008940855983669326, 0.2678190263167388]}, {\"connectgaps\": false, \"fill\": \"tozeroy\", \"line\": {\"color\": \"green\", \"dash\": \"solid\", \"shape\": \"linear\", \"width\": 0.5}, \"mode\": \"lines\", \"name\": \"Spread\", \"showlegend\": false, \"type\": \"scatter\", \"x\": [0, 1, 2, 3, 4, 5, 6, 7, 8, 9, 10, 11, 12, 13, 14, 15, 16, 17, 18, 19, 20, 21, 22, 23, 24, 25, 26, 27, 28, 29, 30, 31, 32, 33, 34, 35, 36, 37, 38, 39, 40, 41, 42, 43, 44, 45, 46, 47, 48, 49, 50, 51, 52, 53, 54, 55, 56, 57, 58, 59, 60, 61, 62, 63, 64, 65, 66, 67, 68, 69, 70, 71, 72, 73, 74, 75, 76, 77, 78, 79, 80, 81, 82, 83, 84, 85, 86, 87, 88, 89, 90, 91, 92, 93, 94, 95, 96, 97, 98, 99], \"xaxis\": \"x2\", \"y\": [\"\", 1.868042226210953, \"\", 1.1002214040690284, 0.6365779541539426, 1.4419329926160809, 0.7198140274537527, 2.4574151201984304, 1.2214056036314918, \"\", \"\", \"\", \"\", 0.1443908738877568, 0.8865794826133566, 0.8352766894156356, \"\", \"\", \"\", \"\", 0.7640371053645965, 0.7861630347365327, \"\", \"\", 0.3681717724056521, \"\", 0.6583048543446299, 1.6961437566470252, \"\", 1.0298697970821236, \"\", \"\", \"\", 0.987663075755693, 1.4185208089741217, \"\", 0.2614801141851311, 0.5143878784877678, \"\", 2.4494553664235976, 0.9034076154979236, 2.3681269809619367, \"\", 0.5333577639501821, 0.8518397488600524, \"\", \"\", \"\", \"\", 1.4894319399002187, \"\", \"\", 0.5903497284301369, \"\", 0.10492878725837707, 1.8731636655735067, 0.42747386191947806, 1.8884820698841285, 0.12662227827782208, 3.2076130546040575, 1.4731994431799298, \"\", \"\", 1.0266943679508418, 0.36482566526109084, \"\", \"\", \"\", 0.9511827690043586, 0.20746794705079835, 0.6883493806453074, 1.405737188482185, \"\", 1.884169187634847, \"\", 0.24389983990025033, \"\", 0.42211919412419063, \"\", \"\", 0.6932971129210513, \"\", \"\", \"\", 0.47068950819567423, 2.288322331176765, \"\", 2.4090579661435716, \"\", \"\", \"\", \"\", 0.16962770708865893, 1.7423150851243294, \"\", 3.364672607735287, 0.2683207931038243, 0.8088549932450128, \"\", 0.20753445069157433], \"yaxis\": \"y2\"}, {\"connectgaps\": false, \"fill\": \"tozeroy\", \"line\": {\"color\": \"red\", \"dash\": \"solid\", \"shape\": \"linear\", \"width\": 0.5}, \"mode\": \"lines\", \"name\": \"Spread\", \"showlegend\": false, \"type\": \"scatter\", \"x\": [0, 1, 2, 3, 4, 5, 6, 7, 8, 9, 10, 11, 12, 13, 14, 15, 16, 17, 18, 19, 20, 21, 22, 23, 24, 25, 26, 27, 28, 29, 30, 31, 32, 33, 34, 35, 36, 37, 38, 39, 40, 41, 42, 43, 44, 45, 46, 47, 48, 49, 50, 51, 52, 53, 54, 55, 56, 57, 58, 59, 60, 61, 62, 63, 64, 65, 66, 67, 68, 69, 70, 71, 72, 73, 74, 75, 76, 77, 78, 79, 80, 81, 82, 83, 84, 85, 86, 87, 88, 89, 90, 91, 92, 93, 94, 95, 96, 97, 98, 99], \"xaxis\": \"x2\", \"y\": [-0.15731364386935853, \"\", -0.62440601738884, \"\", \"\", \"\", \"\", \"\", \"\", -1.2478408554866127, -0.39681428842943445, -2.419538152800489, -1.844218745652019, \"\", \"\", \"\", -0.13785598543303448, -2.009202349423417, -0.3348198868033119, -1.2532657163643894, \"\", \"\", -2.2224885463089654, -1.1738583726087355, \"\", -0.8264386708620342, \"\", \"\", -1.660807524180603, \"\", -0.6065263395345544, -0.6507361266326561, -0.5318098985918162, \"\", \"\", -0.33599915259378105, \"\", \"\", -1.4577556437814834, \"\", \"\", \"\", -0.7139694399092278, \"\", \"\", -0.4862647501003938, -0.49076269695367186, -5.228058672862035, -2.6078668569788843, \"\", -0.4106171150561401, -0.3870469842945652, \"\", -0.9019586801382191, \"\", \"\", \"\", \"\", \"\", \"\", \"\", -0.14431064412469405, -0.7788574180825912, \"\", \"\", -0.884134729028773, -3.349473992022566, -1.80613356169827, \"\", \"\", \"\", \"\", -0.8854816695953958, \"\", -0.19248913106060384, \"\", -0.7912830130932222, \"\", -0.34804526856728024, -0.4840965363446007, \"\", -1.1929700735268034, -1.1343661146343056, -2.29602965588307, \"\", \"\", -3.6692451880519132, \"\", -1.3446518700385166, -0.7435373551682016, -3.7326291640206843, -2.673923371127009, \"\", \"\", -1.6922729090458404, \"\", \"\", \"\", -1.8757175120671612, \"\"], \"yaxis\": \"y2\"}],                        {\"hovermode\": \"x\", \"legend\": {\"bgcolor\": \"#F5F6F9\", \"font\": {\"color\": \"#4D5663\"}}, \"paper_bgcolor\": \"#F5F6F9\", \"plot_bgcolor\": \"#F5F6F9\", \"template\": {\"data\": {\"bar\": [{\"error_x\": {\"color\": \"#2a3f5f\"}, \"error_y\": {\"color\": \"#2a3f5f\"}, \"marker\": {\"line\": {\"color\": \"#E5ECF6\", \"width\": 0.5}}, \"type\": \"bar\"}], \"barpolar\": [{\"marker\": {\"line\": {\"color\": \"#E5ECF6\", \"width\": 0.5}}, \"type\": \"barpolar\"}], \"carpet\": [{\"aaxis\": {\"endlinecolor\": \"#2a3f5f\", \"gridcolor\": \"white\", \"linecolor\": \"white\", \"minorgridcolor\": \"white\", \"startlinecolor\": \"#2a3f5f\"}, \"baxis\": {\"endlinecolor\": \"#2a3f5f\", \"gridcolor\": \"white\", \"linecolor\": \"white\", \"minorgridcolor\": \"white\", \"startlinecolor\": \"#2a3f5f\"}, \"type\": \"carpet\"}], \"choropleth\": [{\"colorbar\": {\"outlinewidth\": 0, \"ticks\": \"\"}, \"type\": \"choropleth\"}], \"contour\": [{\"colorbar\": {\"outlinewidth\": 0, \"ticks\": \"\"}, \"colorscale\": [[0.0, \"#0d0887\"], [0.1111111111111111, \"#46039f\"], [0.2222222222222222, \"#7201a8\"], [0.3333333333333333, \"#9c179e\"], [0.4444444444444444, \"#bd3786\"], [0.5555555555555556, \"#d8576b\"], [0.6666666666666666, \"#ed7953\"], [0.7777777777777778, \"#fb9f3a\"], [0.8888888888888888, \"#fdca26\"], [1.0, \"#f0f921\"]], \"type\": \"contour\"}], \"contourcarpet\": [{\"colorbar\": {\"outlinewidth\": 0, \"ticks\": \"\"}, \"type\": \"contourcarpet\"}], \"heatmap\": [{\"colorbar\": {\"outlinewidth\": 0, \"ticks\": \"\"}, \"colorscale\": [[0.0, \"#0d0887\"], [0.1111111111111111, \"#46039f\"], [0.2222222222222222, \"#7201a8\"], [0.3333333333333333, \"#9c179e\"], [0.4444444444444444, \"#bd3786\"], [0.5555555555555556, \"#d8576b\"], [0.6666666666666666, \"#ed7953\"], [0.7777777777777778, \"#fb9f3a\"], [0.8888888888888888, \"#fdca26\"], [1.0, \"#f0f921\"]], \"type\": \"heatmap\"}], \"heatmapgl\": [{\"colorbar\": {\"outlinewidth\": 0, \"ticks\": \"\"}, \"colorscale\": [[0.0, \"#0d0887\"], [0.1111111111111111, \"#46039f\"], [0.2222222222222222, \"#7201a8\"], [0.3333333333333333, \"#9c179e\"], [0.4444444444444444, \"#bd3786\"], [0.5555555555555556, \"#d8576b\"], [0.6666666666666666, \"#ed7953\"], [0.7777777777777778, \"#fb9f3a\"], [0.8888888888888888, \"#fdca26\"], [1.0, \"#f0f921\"]], \"type\": \"heatmapgl\"}], \"histogram\": [{\"marker\": {\"colorbar\": {\"outlinewidth\": 0, \"ticks\": \"\"}}, \"type\": \"histogram\"}], \"histogram2d\": [{\"colorbar\": {\"outlinewidth\": 0, \"ticks\": \"\"}, \"colorscale\": [[0.0, \"#0d0887\"], [0.1111111111111111, \"#46039f\"], [0.2222222222222222, \"#7201a8\"], [0.3333333333333333, \"#9c179e\"], [0.4444444444444444, \"#bd3786\"], [0.5555555555555556, \"#d8576b\"], [0.6666666666666666, \"#ed7953\"], [0.7777777777777778, \"#fb9f3a\"], [0.8888888888888888, \"#fdca26\"], [1.0, \"#f0f921\"]], \"type\": \"histogram2d\"}], \"histogram2dcontour\": [{\"colorbar\": {\"outlinewidth\": 0, \"ticks\": \"\"}, \"colorscale\": [[0.0, \"#0d0887\"], [0.1111111111111111, \"#46039f\"], [0.2222222222222222, \"#7201a8\"], [0.3333333333333333, \"#9c179e\"], [0.4444444444444444, \"#bd3786\"], [0.5555555555555556, \"#d8576b\"], [0.6666666666666666, \"#ed7953\"], [0.7777777777777778, \"#fb9f3a\"], [0.8888888888888888, \"#fdca26\"], [1.0, \"#f0f921\"]], \"type\": \"histogram2dcontour\"}], \"mesh3d\": [{\"colorbar\": {\"outlinewidth\": 0, \"ticks\": \"\"}, \"type\": \"mesh3d\"}], \"parcoords\": [{\"line\": {\"colorbar\": {\"outlinewidth\": 0, \"ticks\": \"\"}}, \"type\": \"parcoords\"}], \"pie\": [{\"automargin\": true, \"type\": \"pie\"}], \"scatter\": [{\"marker\": {\"colorbar\": {\"outlinewidth\": 0, \"ticks\": \"\"}}, \"type\": \"scatter\"}], \"scatter3d\": [{\"line\": {\"colorbar\": {\"outlinewidth\": 0, \"ticks\": \"\"}}, \"marker\": {\"colorbar\": {\"outlinewidth\": 0, \"ticks\": \"\"}}, \"type\": \"scatter3d\"}], \"scattercarpet\": [{\"marker\": {\"colorbar\": {\"outlinewidth\": 0, \"ticks\": \"\"}}, \"type\": \"scattercarpet\"}], \"scattergeo\": [{\"marker\": {\"colorbar\": {\"outlinewidth\": 0, \"ticks\": \"\"}}, \"type\": \"scattergeo\"}], \"scattergl\": [{\"marker\": {\"colorbar\": {\"outlinewidth\": 0, \"ticks\": \"\"}}, \"type\": \"scattergl\"}], \"scattermapbox\": [{\"marker\": {\"colorbar\": {\"outlinewidth\": 0, \"ticks\": \"\"}}, \"type\": \"scattermapbox\"}], \"scatterpolar\": [{\"marker\": {\"colorbar\": {\"outlinewidth\": 0, \"ticks\": \"\"}}, \"type\": \"scatterpolar\"}], \"scatterpolargl\": [{\"marker\": {\"colorbar\": {\"outlinewidth\": 0, \"ticks\": \"\"}}, \"type\": \"scatterpolargl\"}], \"scatterternary\": [{\"marker\": {\"colorbar\": {\"outlinewidth\": 0, \"ticks\": \"\"}}, \"type\": \"scatterternary\"}], \"surface\": [{\"colorbar\": {\"outlinewidth\": 0, \"ticks\": \"\"}, \"colorscale\": [[0.0, \"#0d0887\"], [0.1111111111111111, \"#46039f\"], [0.2222222222222222, \"#7201a8\"], [0.3333333333333333, \"#9c179e\"], [0.4444444444444444, \"#bd3786\"], [0.5555555555555556, \"#d8576b\"], [0.6666666666666666, \"#ed7953\"], [0.7777777777777778, \"#fb9f3a\"], [0.8888888888888888, \"#fdca26\"], [1.0, \"#f0f921\"]], \"type\": \"surface\"}], \"table\": [{\"cells\": {\"fill\": {\"color\": \"#EBF0F8\"}, \"line\": {\"color\": \"white\"}}, \"header\": {\"fill\": {\"color\": \"#C8D4E3\"}, \"line\": {\"color\": \"white\"}}, \"type\": \"table\"}]}, \"layout\": {\"annotationdefaults\": {\"arrowcolor\": \"#2a3f5f\", \"arrowhead\": 0, \"arrowwidth\": 1}, \"autotypenumbers\": \"strict\", \"coloraxis\": {\"colorbar\": {\"outlinewidth\": 0, \"ticks\": \"\"}}, \"colorscale\": {\"diverging\": [[0, \"#8e0152\"], [0.1, \"#c51b7d\"], [0.2, \"#de77ae\"], [0.3, \"#f1b6da\"], [0.4, \"#fde0ef\"], [0.5, \"#f7f7f7\"], [0.6, \"#e6f5d0\"], [0.7, \"#b8e186\"], [0.8, \"#7fbc41\"], [0.9, \"#4d9221\"], [1, \"#276419\"]], \"sequential\": [[0.0, \"#0d0887\"], [0.1111111111111111, \"#46039f\"], [0.2222222222222222, \"#7201a8\"], [0.3333333333333333, \"#9c179e\"], [0.4444444444444444, \"#bd3786\"], [0.5555555555555556, \"#d8576b\"], [0.6666666666666666, \"#ed7953\"], [0.7777777777777778, \"#fb9f3a\"], [0.8888888888888888, \"#fdca26\"], [1.0, \"#f0f921\"]], \"sequentialminus\": [[0.0, \"#0d0887\"], [0.1111111111111111, \"#46039f\"], [0.2222222222222222, \"#7201a8\"], [0.3333333333333333, \"#9c179e\"], [0.4444444444444444, \"#bd3786\"], [0.5555555555555556, \"#d8576b\"], [0.6666666666666666, \"#ed7953\"], [0.7777777777777778, \"#fb9f3a\"], [0.8888888888888888, \"#fdca26\"], [1.0, \"#f0f921\"]]}, \"colorway\": [\"#636efa\", \"#EF553B\", \"#00cc96\", \"#ab63fa\", \"#FFA15A\", \"#19d3f3\", \"#FF6692\", \"#B6E880\", \"#FF97FF\", \"#FECB52\"], \"font\": {\"color\": \"#2a3f5f\"}, \"geo\": {\"bgcolor\": \"white\", \"lakecolor\": \"white\", \"landcolor\": \"#E5ECF6\", \"showlakes\": true, \"showland\": true, \"subunitcolor\": \"white\"}, \"hoverlabel\": {\"align\": \"left\"}, \"hovermode\": \"closest\", \"mapbox\": {\"style\": \"light\"}, \"paper_bgcolor\": \"white\", \"plot_bgcolor\": \"#E5ECF6\", \"polar\": {\"angularaxis\": {\"gridcolor\": \"white\", \"linecolor\": \"white\", \"ticks\": \"\"}, \"bgcolor\": \"#E5ECF6\", \"radialaxis\": {\"gridcolor\": \"white\", \"linecolor\": \"white\", \"ticks\": \"\"}}, \"scene\": {\"xaxis\": {\"backgroundcolor\": \"#E5ECF6\", \"gridcolor\": \"white\", \"gridwidth\": 2, \"linecolor\": \"white\", \"showbackground\": true, \"ticks\": \"\", \"zerolinecolor\": \"white\"}, \"yaxis\": {\"backgroundcolor\": \"#E5ECF6\", \"gridcolor\": \"white\", \"gridwidth\": 2, \"linecolor\": \"white\", \"showbackground\": true, \"ticks\": \"\", \"zerolinecolor\": \"white\"}, \"zaxis\": {\"backgroundcolor\": \"#E5ECF6\", \"gridcolor\": \"white\", \"gridwidth\": 2, \"linecolor\": \"white\", \"showbackground\": true, \"ticks\": \"\", \"zerolinecolor\": \"white\"}}, \"shapedefaults\": {\"line\": {\"color\": \"#2a3f5f\"}}, \"ternary\": {\"aaxis\": {\"gridcolor\": \"white\", \"linecolor\": \"white\", \"ticks\": \"\"}, \"baxis\": {\"gridcolor\": \"white\", \"linecolor\": \"white\", \"ticks\": \"\"}, \"bgcolor\": \"#E5ECF6\", \"caxis\": {\"gridcolor\": \"white\", \"linecolor\": \"white\", \"ticks\": \"\"}}, \"title\": {\"x\": 0.05}, \"xaxis\": {\"automargin\": true, \"gridcolor\": \"white\", \"linecolor\": \"white\", \"ticks\": \"\", \"title\": {\"standoff\": 15}, \"zerolinecolor\": \"white\", \"zerolinewidth\": 2}, \"yaxis\": {\"automargin\": true, \"gridcolor\": \"white\", \"linecolor\": \"white\", \"ticks\": \"\", \"title\": {\"standoff\": 15}, \"zerolinecolor\": \"white\", \"zerolinewidth\": 2}}}, \"title\": {\"font\": {\"color\": \"#4D5663\"}}, \"xaxis\": {\"gridcolor\": \"#E1E5ED\", \"showgrid\": true, \"tickfont\": {\"color\": \"#4D5663\"}, \"title\": {\"font\": {\"color\": \"#4D5663\"}, \"text\": \"\"}, \"zerolinecolor\": \"#E1E5ED\"}, \"xaxis2\": {\"anchor\": \"y2\", \"gridcolor\": \"#E1E5ED\", \"showgrid\": true, \"showticklabels\": false, \"tickfont\": {\"color\": \"#4D5663\"}, \"title\": {\"font\": {\"color\": \"#4D5663\"}, \"text\": \"\"}, \"zerolinecolor\": \"#E1E5ED\"}, \"yaxis\": {\"domain\": [0.3, 1], \"gridcolor\": \"#E1E5ED\", \"showgrid\": true, \"tickfont\": {\"color\": \"#4D5663\"}, \"title\": {\"font\": {\"color\": \"#4D5663\"}, \"text\": \"\"}, \"zerolinecolor\": \"#E1E5ED\"}, \"yaxis2\": {\"domain\": [0, 0.25], \"gridcolor\": \"#E1E5ED\", \"showgrid\": true, \"tickfont\": {\"color\": \"#4D5663\"}, \"title\": {\"font\": {\"color\": \"#4D5663\"}, \"text\": \"Spread\"}, \"zerolinecolor\": \"#E1E5ED\"}},                        {\"showLink\": true, \"linkText\": \"Export to plot.ly\", \"plotlyServerURL\": \"https://plot.ly\", \"responsive\": true}                    ).then(function(){\n",
       "                            \n",
       "var gd = document.getElementById('f719831d-fec0-4d98-91f8-2333725c1a22');\n",
       "var x = new MutationObserver(function (mutations, observer) {{\n",
       "        var display = window.getComputedStyle(gd).display;\n",
       "        if (!display || display === 'none') {{\n",
       "            console.log([gd, 'removed!']);\n",
       "            Plotly.purge(gd);\n",
       "            observer.disconnect();\n",
       "        }}\n",
       "}});\n",
       "\n",
       "// Listen for the removal of the full notebook cells\n",
       "var notebookContainer = gd.closest('#notebook-container');\n",
       "if (notebookContainer) {{\n",
       "    x.observe(notebookContainer, {childList: true});\n",
       "}}\n",
       "\n",
       "// Listen for the clearing of the current output cell\n",
       "var outputEl = gd.closest('.output');\n",
       "if (outputEl) {{\n",
       "    x.observe(outputEl, {childList: true});\n",
       "}}\n",
       "\n",
       "                        })                };                });            </script>        </div>"
      ]
     },
     "metadata": {},
     "output_type": "display_data"
    }
   ],
   "source": [
    "df[['A','B']].iplot(kind='spread')"
   ]
  },
  {
   "cell_type": "markdown",
   "metadata": {},
   "source": [
    "## histogram"
   ]
  },
  {
   "cell_type": "code",
   "execution_count": 18,
   "metadata": {},
   "outputs": [
    {
     "data": {
      "application/vnd.plotly.v1+json": {
       "config": {
        "linkText": "Export to plot.ly",
        "plotlyServerURL": "https://plot.ly",
        "showLink": true
       },
       "data": [
        {
         "histfunc": "count",
         "histnorm": "",
         "marker": {
          "color": "rgba(255, 153, 51, 1.0)",
          "line": {
           "color": "#4D5663",
           "width": 1.3
          }
         },
         "name": "A",
         "nbinsx": 25,
         "opacity": 0.8,
         "orientation": "v",
         "type": "histogram",
         "x": [
          0.8225286437416501,
          1.7906518177693165,
          -0.4252650252772421,
          -0.11410539779221635,
          0.7794333388601931,
          0.5003190132121949,
          0.2018489181641643,
          -0.5146250488763782,
          0.3188360196714971,
          -0.5408247176895304,
          0.22587083856421108,
          -0.6974670580084895,
          0.5771703678093689,
          -0.013976202921457752,
          0.8783343452604568,
          -1.614949706939007,
          0.19153236329955206,
          -1.5765158215202855,
          -0.4112903516874633,
          -1.092087010716353,
          1.33599345630096,
          1.4351531348939572,
          -1.2848571383638239,
          -1.7510693502903472,
          0.8075813530347192,
          -0.5470180608654744,
          -0.28413980500001806,
          0.20961814337947923,
          -0.02959907422165152,
          0.9547946370028454,
          -0.4789236470968032,
          -0.5970003307837691,
          -0.39385277023122905,
          0.11981370704438987,
          0.9871751876769622,
          0.31853744701880177,
          -0.3657065423701585,
          0.37725580911967876,
          -0.18348735017904264,
          1.6081305852347272,
          0.1731427842198789,
          1.7563528761773035,
          -1.9242694093670059,
          0.15322007858144676,
          0.3694726518707792,
          1.1238409758155203,
          -0.47236617294136934,
          -2.2054955020266758,
          -0.038750514669134865,
          0.6406891232053674,
          -0.5122664102800992,
          0.4403463452002344,
          0.12621387719415295,
          0.11548873258660677,
          -0.5566016986744087,
          -0.013768255762175781,
          0.8952226489212914,
          0.9118298889268938,
          0.569114211520104,
          0.024437122932751843,
          1.701500345824061,
          0.2251987043144141,
          -0.24188881465420595,
          1.3250447913362182,
          0.360446668523524,
          0.17515640035608626,
          -1.704366488761559,
          -1.5158347740723928,
          0.4902716968708798,
          0.6453474335949971,
          -0.7399554958505687,
          1.8131232768603385,
          -0.12291573819921484,
          0.4669552405324629,
          -0.2938506167449886,
          0.40228120830014147,
          -2.149327520203454,
          -0.6866806942881285,
          -0.2927811094268949,
          0.5042300314844698,
          0.6555808286390054,
          -0.9279139834900973,
          -0.08543978812480418,
          -0.04796523223752661,
          0.0746435164054404,
          0.2307148975501273,
          -2.027424116120096,
          0.3450571253534357,
          -1.1612443444561293,
          -0.3726671090762646,
          -2.976221788193337,
          -2.1117101596495687,
          -0.6985426135652383,
          1.1965258562450305,
          -1.0459953031714726,
          1.976436641953744,
          -1.1349899468640317,
          0.3040281001626459,
          -1.8846583680508304,
          0.47535347700831315
         ]
        }
       ],
       "layout": {
        "barmode": "overlay",
        "legend": {
         "bgcolor": "#F5F6F9",
         "font": {
          "color": "#4D5663"
         }
        },
        "paper_bgcolor": "#F5F6F9",
        "plot_bgcolor": "#F5F6F9",
        "template": {
         "data": {
          "bar": [
           {
            "error_x": {
             "color": "#2a3f5f"
            },
            "error_y": {
             "color": "#2a3f5f"
            },
            "marker": {
             "line": {
              "color": "#E5ECF6",
              "width": 0.5
             }
            },
            "type": "bar"
           }
          ],
          "barpolar": [
           {
            "marker": {
             "line": {
              "color": "#E5ECF6",
              "width": 0.5
             }
            },
            "type": "barpolar"
           }
          ],
          "carpet": [
           {
            "aaxis": {
             "endlinecolor": "#2a3f5f",
             "gridcolor": "white",
             "linecolor": "white",
             "minorgridcolor": "white",
             "startlinecolor": "#2a3f5f"
            },
            "baxis": {
             "endlinecolor": "#2a3f5f",
             "gridcolor": "white",
             "linecolor": "white",
             "minorgridcolor": "white",
             "startlinecolor": "#2a3f5f"
            },
            "type": "carpet"
           }
          ],
          "choropleth": [
           {
            "colorbar": {
             "outlinewidth": 0,
             "ticks": ""
            },
            "type": "choropleth"
           }
          ],
          "contour": [
           {
            "colorbar": {
             "outlinewidth": 0,
             "ticks": ""
            },
            "colorscale": [
             [
              0,
              "#0d0887"
             ],
             [
              0.1111111111111111,
              "#46039f"
             ],
             [
              0.2222222222222222,
              "#7201a8"
             ],
             [
              0.3333333333333333,
              "#9c179e"
             ],
             [
              0.4444444444444444,
              "#bd3786"
             ],
             [
              0.5555555555555556,
              "#d8576b"
             ],
             [
              0.6666666666666666,
              "#ed7953"
             ],
             [
              0.7777777777777778,
              "#fb9f3a"
             ],
             [
              0.8888888888888888,
              "#fdca26"
             ],
             [
              1,
              "#f0f921"
             ]
            ],
            "type": "contour"
           }
          ],
          "contourcarpet": [
           {
            "colorbar": {
             "outlinewidth": 0,
             "ticks": ""
            },
            "type": "contourcarpet"
           }
          ],
          "heatmap": [
           {
            "colorbar": {
             "outlinewidth": 0,
             "ticks": ""
            },
            "colorscale": [
             [
              0,
              "#0d0887"
             ],
             [
              0.1111111111111111,
              "#46039f"
             ],
             [
              0.2222222222222222,
              "#7201a8"
             ],
             [
              0.3333333333333333,
              "#9c179e"
             ],
             [
              0.4444444444444444,
              "#bd3786"
             ],
             [
              0.5555555555555556,
              "#d8576b"
             ],
             [
              0.6666666666666666,
              "#ed7953"
             ],
             [
              0.7777777777777778,
              "#fb9f3a"
             ],
             [
              0.8888888888888888,
              "#fdca26"
             ],
             [
              1,
              "#f0f921"
             ]
            ],
            "type": "heatmap"
           }
          ],
          "heatmapgl": [
           {
            "colorbar": {
             "outlinewidth": 0,
             "ticks": ""
            },
            "colorscale": [
             [
              0,
              "#0d0887"
             ],
             [
              0.1111111111111111,
              "#46039f"
             ],
             [
              0.2222222222222222,
              "#7201a8"
             ],
             [
              0.3333333333333333,
              "#9c179e"
             ],
             [
              0.4444444444444444,
              "#bd3786"
             ],
             [
              0.5555555555555556,
              "#d8576b"
             ],
             [
              0.6666666666666666,
              "#ed7953"
             ],
             [
              0.7777777777777778,
              "#fb9f3a"
             ],
             [
              0.8888888888888888,
              "#fdca26"
             ],
             [
              1,
              "#f0f921"
             ]
            ],
            "type": "heatmapgl"
           }
          ],
          "histogram": [
           {
            "marker": {
             "colorbar": {
              "outlinewidth": 0,
              "ticks": ""
             }
            },
            "type": "histogram"
           }
          ],
          "histogram2d": [
           {
            "colorbar": {
             "outlinewidth": 0,
             "ticks": ""
            },
            "colorscale": [
             [
              0,
              "#0d0887"
             ],
             [
              0.1111111111111111,
              "#46039f"
             ],
             [
              0.2222222222222222,
              "#7201a8"
             ],
             [
              0.3333333333333333,
              "#9c179e"
             ],
             [
              0.4444444444444444,
              "#bd3786"
             ],
             [
              0.5555555555555556,
              "#d8576b"
             ],
             [
              0.6666666666666666,
              "#ed7953"
             ],
             [
              0.7777777777777778,
              "#fb9f3a"
             ],
             [
              0.8888888888888888,
              "#fdca26"
             ],
             [
              1,
              "#f0f921"
             ]
            ],
            "type": "histogram2d"
           }
          ],
          "histogram2dcontour": [
           {
            "colorbar": {
             "outlinewidth": 0,
             "ticks": ""
            },
            "colorscale": [
             [
              0,
              "#0d0887"
             ],
             [
              0.1111111111111111,
              "#46039f"
             ],
             [
              0.2222222222222222,
              "#7201a8"
             ],
             [
              0.3333333333333333,
              "#9c179e"
             ],
             [
              0.4444444444444444,
              "#bd3786"
             ],
             [
              0.5555555555555556,
              "#d8576b"
             ],
             [
              0.6666666666666666,
              "#ed7953"
             ],
             [
              0.7777777777777778,
              "#fb9f3a"
             ],
             [
              0.8888888888888888,
              "#fdca26"
             ],
             [
              1,
              "#f0f921"
             ]
            ],
            "type": "histogram2dcontour"
           }
          ],
          "mesh3d": [
           {
            "colorbar": {
             "outlinewidth": 0,
             "ticks": ""
            },
            "type": "mesh3d"
           }
          ],
          "parcoords": [
           {
            "line": {
             "colorbar": {
              "outlinewidth": 0,
              "ticks": ""
             }
            },
            "type": "parcoords"
           }
          ],
          "pie": [
           {
            "automargin": true,
            "type": "pie"
           }
          ],
          "scatter": [
           {
            "marker": {
             "colorbar": {
              "outlinewidth": 0,
              "ticks": ""
             }
            },
            "type": "scatter"
           }
          ],
          "scatter3d": [
           {
            "line": {
             "colorbar": {
              "outlinewidth": 0,
              "ticks": ""
             }
            },
            "marker": {
             "colorbar": {
              "outlinewidth": 0,
              "ticks": ""
             }
            },
            "type": "scatter3d"
           }
          ],
          "scattercarpet": [
           {
            "marker": {
             "colorbar": {
              "outlinewidth": 0,
              "ticks": ""
             }
            },
            "type": "scattercarpet"
           }
          ],
          "scattergeo": [
           {
            "marker": {
             "colorbar": {
              "outlinewidth": 0,
              "ticks": ""
             }
            },
            "type": "scattergeo"
           }
          ],
          "scattergl": [
           {
            "marker": {
             "colorbar": {
              "outlinewidth": 0,
              "ticks": ""
             }
            },
            "type": "scattergl"
           }
          ],
          "scattermapbox": [
           {
            "marker": {
             "colorbar": {
              "outlinewidth": 0,
              "ticks": ""
             }
            },
            "type": "scattermapbox"
           }
          ],
          "scatterpolar": [
           {
            "marker": {
             "colorbar": {
              "outlinewidth": 0,
              "ticks": ""
             }
            },
            "type": "scatterpolar"
           }
          ],
          "scatterpolargl": [
           {
            "marker": {
             "colorbar": {
              "outlinewidth": 0,
              "ticks": ""
             }
            },
            "type": "scatterpolargl"
           }
          ],
          "scatterternary": [
           {
            "marker": {
             "colorbar": {
              "outlinewidth": 0,
              "ticks": ""
             }
            },
            "type": "scatterternary"
           }
          ],
          "surface": [
           {
            "colorbar": {
             "outlinewidth": 0,
             "ticks": ""
            },
            "colorscale": [
             [
              0,
              "#0d0887"
             ],
             [
              0.1111111111111111,
              "#46039f"
             ],
             [
              0.2222222222222222,
              "#7201a8"
             ],
             [
              0.3333333333333333,
              "#9c179e"
             ],
             [
              0.4444444444444444,
              "#bd3786"
             ],
             [
              0.5555555555555556,
              "#d8576b"
             ],
             [
              0.6666666666666666,
              "#ed7953"
             ],
             [
              0.7777777777777778,
              "#fb9f3a"
             ],
             [
              0.8888888888888888,
              "#fdca26"
             ],
             [
              1,
              "#f0f921"
             ]
            ],
            "type": "surface"
           }
          ],
          "table": [
           {
            "cells": {
             "fill": {
              "color": "#EBF0F8"
             },
             "line": {
              "color": "white"
             }
            },
            "header": {
             "fill": {
              "color": "#C8D4E3"
             },
             "line": {
              "color": "white"
             }
            },
            "type": "table"
           }
          ]
         },
         "layout": {
          "annotationdefaults": {
           "arrowcolor": "#2a3f5f",
           "arrowhead": 0,
           "arrowwidth": 1
          },
          "autotypenumbers": "strict",
          "coloraxis": {
           "colorbar": {
            "outlinewidth": 0,
            "ticks": ""
           }
          },
          "colorscale": {
           "diverging": [
            [
             0,
             "#8e0152"
            ],
            [
             0.1,
             "#c51b7d"
            ],
            [
             0.2,
             "#de77ae"
            ],
            [
             0.3,
             "#f1b6da"
            ],
            [
             0.4,
             "#fde0ef"
            ],
            [
             0.5,
             "#f7f7f7"
            ],
            [
             0.6,
             "#e6f5d0"
            ],
            [
             0.7,
             "#b8e186"
            ],
            [
             0.8,
             "#7fbc41"
            ],
            [
             0.9,
             "#4d9221"
            ],
            [
             1,
             "#276419"
            ]
           ],
           "sequential": [
            [
             0,
             "#0d0887"
            ],
            [
             0.1111111111111111,
             "#46039f"
            ],
            [
             0.2222222222222222,
             "#7201a8"
            ],
            [
             0.3333333333333333,
             "#9c179e"
            ],
            [
             0.4444444444444444,
             "#bd3786"
            ],
            [
             0.5555555555555556,
             "#d8576b"
            ],
            [
             0.6666666666666666,
             "#ed7953"
            ],
            [
             0.7777777777777778,
             "#fb9f3a"
            ],
            [
             0.8888888888888888,
             "#fdca26"
            ],
            [
             1,
             "#f0f921"
            ]
           ],
           "sequentialminus": [
            [
             0,
             "#0d0887"
            ],
            [
             0.1111111111111111,
             "#46039f"
            ],
            [
             0.2222222222222222,
             "#7201a8"
            ],
            [
             0.3333333333333333,
             "#9c179e"
            ],
            [
             0.4444444444444444,
             "#bd3786"
            ],
            [
             0.5555555555555556,
             "#d8576b"
            ],
            [
             0.6666666666666666,
             "#ed7953"
            ],
            [
             0.7777777777777778,
             "#fb9f3a"
            ],
            [
             0.8888888888888888,
             "#fdca26"
            ],
            [
             1,
             "#f0f921"
            ]
           ]
          },
          "colorway": [
           "#636efa",
           "#EF553B",
           "#00cc96",
           "#ab63fa",
           "#FFA15A",
           "#19d3f3",
           "#FF6692",
           "#B6E880",
           "#FF97FF",
           "#FECB52"
          ],
          "font": {
           "color": "#2a3f5f"
          },
          "geo": {
           "bgcolor": "white",
           "lakecolor": "white",
           "landcolor": "#E5ECF6",
           "showlakes": true,
           "showland": true,
           "subunitcolor": "white"
          },
          "hoverlabel": {
           "align": "left"
          },
          "hovermode": "closest",
          "mapbox": {
           "style": "light"
          },
          "paper_bgcolor": "white",
          "plot_bgcolor": "#E5ECF6",
          "polar": {
           "angularaxis": {
            "gridcolor": "white",
            "linecolor": "white",
            "ticks": ""
           },
           "bgcolor": "#E5ECF6",
           "radialaxis": {
            "gridcolor": "white",
            "linecolor": "white",
            "ticks": ""
           }
          },
          "scene": {
           "xaxis": {
            "backgroundcolor": "#E5ECF6",
            "gridcolor": "white",
            "gridwidth": 2,
            "linecolor": "white",
            "showbackground": true,
            "ticks": "",
            "zerolinecolor": "white"
           },
           "yaxis": {
            "backgroundcolor": "#E5ECF6",
            "gridcolor": "white",
            "gridwidth": 2,
            "linecolor": "white",
            "showbackground": true,
            "ticks": "",
            "zerolinecolor": "white"
           },
           "zaxis": {
            "backgroundcolor": "#E5ECF6",
            "gridcolor": "white",
            "gridwidth": 2,
            "linecolor": "white",
            "showbackground": true,
            "ticks": "",
            "zerolinecolor": "white"
           }
          },
          "shapedefaults": {
           "line": {
            "color": "#2a3f5f"
           }
          },
          "ternary": {
           "aaxis": {
            "gridcolor": "white",
            "linecolor": "white",
            "ticks": ""
           },
           "baxis": {
            "gridcolor": "white",
            "linecolor": "white",
            "ticks": ""
           },
           "bgcolor": "#E5ECF6",
           "caxis": {
            "gridcolor": "white",
            "linecolor": "white",
            "ticks": ""
           }
          },
          "title": {
           "x": 0.05
          },
          "xaxis": {
           "automargin": true,
           "gridcolor": "white",
           "linecolor": "white",
           "ticks": "",
           "title": {
            "standoff": 15
           },
           "zerolinecolor": "white",
           "zerolinewidth": 2
          },
          "yaxis": {
           "automargin": true,
           "gridcolor": "white",
           "linecolor": "white",
           "ticks": "",
           "title": {
            "standoff": 15
           },
           "zerolinecolor": "white",
           "zerolinewidth": 2
          }
         }
        },
        "title": {
         "font": {
          "color": "#4D5663"
         }
        },
        "xaxis": {
         "gridcolor": "#E1E5ED",
         "showgrid": true,
         "tickfont": {
          "color": "#4D5663"
         },
         "title": {
          "font": {
           "color": "#4D5663"
          },
          "text": ""
         },
         "zerolinecolor": "#E1E5ED"
        },
        "yaxis": {
         "gridcolor": "#E1E5ED",
         "showgrid": true,
         "tickfont": {
          "color": "#4D5663"
         },
         "title": {
          "font": {
           "color": "#4D5663"
          },
          "text": ""
         },
         "zerolinecolor": "#E1E5ED"
        }
       }
      },
      "text/html": [
       "<div>                            <div id=\"21af56c6-16e6-4517-a5e0-d5d88a9ba408\" class=\"plotly-graph-div\" style=\"height:525px; width:100%;\"></div>            <script type=\"text/javascript\">                require([\"plotly\"], function(Plotly) {                    window.PLOTLYENV=window.PLOTLYENV || {};\n",
       "                    window.PLOTLYENV.BASE_URL='https://plot.ly';                                    if (document.getElementById(\"21af56c6-16e6-4517-a5e0-d5d88a9ba408\")) {                    Plotly.newPlot(                        \"21af56c6-16e6-4517-a5e0-d5d88a9ba408\",                        [{\"histfunc\": \"count\", \"histnorm\": \"\", \"marker\": {\"color\": \"rgba(255, 153, 51, 1.0)\", \"line\": {\"color\": \"#4D5663\", \"width\": 1.3}}, \"name\": \"A\", \"nbinsx\": 25, \"opacity\": 0.8, \"orientation\": \"v\", \"type\": \"histogram\", \"x\": [0.8225286437416501, 1.7906518177693165, -0.4252650252772421, -0.11410539779221635, 0.7794333388601931, 0.5003190132121949, 0.2018489181641643, -0.5146250488763782, 0.3188360196714971, -0.5408247176895304, 0.22587083856421108, -0.6974670580084895, 0.5771703678093689, -0.013976202921457752, 0.8783343452604568, -1.614949706939007, 0.19153236329955206, -1.5765158215202855, -0.4112903516874633, -1.092087010716353, 1.33599345630096, 1.4351531348939572, -1.2848571383638239, -1.7510693502903472, 0.8075813530347192, -0.5470180608654744, -0.28413980500001806, 0.20961814337947923, -0.02959907422165152, 0.9547946370028454, -0.4789236470968032, -0.5970003307837691, -0.39385277023122905, 0.11981370704438987, 0.9871751876769622, 0.31853744701880177, -0.3657065423701585, 0.37725580911967876, -0.18348735017904264, 1.6081305852347272, 0.1731427842198789, 1.7563528761773035, -1.9242694093670059, 0.15322007858144676, 0.3694726518707792, 1.1238409758155203, -0.47236617294136934, -2.2054955020266758, -0.038750514669134865, 0.6406891232053674, -0.5122664102800992, 0.4403463452002344, 0.12621387719415295, 0.11548873258660677, -0.5566016986744087, -0.013768255762175781, 0.8952226489212914, 0.9118298889268938, 0.569114211520104, 0.024437122932751843, 1.701500345824061, 0.2251987043144141, -0.24188881465420595, 1.3250447913362182, 0.360446668523524, 0.17515640035608626, -1.704366488761559, -1.5158347740723928, 0.4902716968708798, 0.6453474335949971, -0.7399554958505687, 1.8131232768603385, -0.12291573819921484, 0.4669552405324629, -0.2938506167449886, 0.40228120830014147, -2.149327520203454, -0.6866806942881285, -0.2927811094268949, 0.5042300314844698, 0.6555808286390054, -0.9279139834900973, -0.08543978812480418, -0.04796523223752661, 0.0746435164054404, 0.2307148975501273, -2.027424116120096, 0.3450571253534357, -1.1612443444561293, -0.3726671090762646, -2.976221788193337, -2.1117101596495687, -0.6985426135652383, 1.1965258562450305, -1.0459953031714726, 1.976436641953744, -1.1349899468640317, 0.3040281001626459, -1.8846583680508304, 0.47535347700831315]}],                        {\"barmode\": \"overlay\", \"legend\": {\"bgcolor\": \"#F5F6F9\", \"font\": {\"color\": \"#4D5663\"}}, \"paper_bgcolor\": \"#F5F6F9\", \"plot_bgcolor\": \"#F5F6F9\", \"template\": {\"data\": {\"bar\": [{\"error_x\": {\"color\": \"#2a3f5f\"}, \"error_y\": {\"color\": \"#2a3f5f\"}, \"marker\": {\"line\": {\"color\": \"#E5ECF6\", \"width\": 0.5}}, \"type\": \"bar\"}], \"barpolar\": [{\"marker\": {\"line\": {\"color\": \"#E5ECF6\", \"width\": 0.5}}, \"type\": \"barpolar\"}], \"carpet\": [{\"aaxis\": {\"endlinecolor\": \"#2a3f5f\", \"gridcolor\": \"white\", \"linecolor\": \"white\", \"minorgridcolor\": \"white\", \"startlinecolor\": \"#2a3f5f\"}, \"baxis\": {\"endlinecolor\": \"#2a3f5f\", \"gridcolor\": \"white\", \"linecolor\": \"white\", \"minorgridcolor\": \"white\", \"startlinecolor\": \"#2a3f5f\"}, \"type\": \"carpet\"}], \"choropleth\": [{\"colorbar\": {\"outlinewidth\": 0, \"ticks\": \"\"}, \"type\": \"choropleth\"}], \"contour\": [{\"colorbar\": {\"outlinewidth\": 0, \"ticks\": \"\"}, \"colorscale\": [[0.0, \"#0d0887\"], [0.1111111111111111, \"#46039f\"], [0.2222222222222222, \"#7201a8\"], [0.3333333333333333, \"#9c179e\"], [0.4444444444444444, \"#bd3786\"], [0.5555555555555556, \"#d8576b\"], [0.6666666666666666, \"#ed7953\"], [0.7777777777777778, \"#fb9f3a\"], [0.8888888888888888, \"#fdca26\"], [1.0, \"#f0f921\"]], \"type\": \"contour\"}], \"contourcarpet\": [{\"colorbar\": {\"outlinewidth\": 0, \"ticks\": \"\"}, \"type\": \"contourcarpet\"}], \"heatmap\": [{\"colorbar\": {\"outlinewidth\": 0, \"ticks\": \"\"}, \"colorscale\": [[0.0, \"#0d0887\"], [0.1111111111111111, \"#46039f\"], [0.2222222222222222, \"#7201a8\"], [0.3333333333333333, \"#9c179e\"], [0.4444444444444444, \"#bd3786\"], [0.5555555555555556, \"#d8576b\"], [0.6666666666666666, \"#ed7953\"], [0.7777777777777778, \"#fb9f3a\"], [0.8888888888888888, \"#fdca26\"], [1.0, \"#f0f921\"]], \"type\": \"heatmap\"}], \"heatmapgl\": [{\"colorbar\": {\"outlinewidth\": 0, \"ticks\": \"\"}, \"colorscale\": [[0.0, \"#0d0887\"], [0.1111111111111111, \"#46039f\"], [0.2222222222222222, \"#7201a8\"], [0.3333333333333333, \"#9c179e\"], [0.4444444444444444, \"#bd3786\"], [0.5555555555555556, \"#d8576b\"], [0.6666666666666666, \"#ed7953\"], [0.7777777777777778, \"#fb9f3a\"], [0.8888888888888888, \"#fdca26\"], [1.0, \"#f0f921\"]], \"type\": \"heatmapgl\"}], \"histogram\": [{\"marker\": {\"colorbar\": {\"outlinewidth\": 0, \"ticks\": \"\"}}, \"type\": \"histogram\"}], \"histogram2d\": [{\"colorbar\": {\"outlinewidth\": 0, \"ticks\": \"\"}, \"colorscale\": [[0.0, \"#0d0887\"], [0.1111111111111111, \"#46039f\"], [0.2222222222222222, \"#7201a8\"], [0.3333333333333333, \"#9c179e\"], [0.4444444444444444, \"#bd3786\"], [0.5555555555555556, \"#d8576b\"], [0.6666666666666666, \"#ed7953\"], [0.7777777777777778, \"#fb9f3a\"], [0.8888888888888888, \"#fdca26\"], [1.0, \"#f0f921\"]], \"type\": \"histogram2d\"}], \"histogram2dcontour\": [{\"colorbar\": {\"outlinewidth\": 0, \"ticks\": \"\"}, \"colorscale\": [[0.0, \"#0d0887\"], [0.1111111111111111, \"#46039f\"], [0.2222222222222222, \"#7201a8\"], [0.3333333333333333, \"#9c179e\"], [0.4444444444444444, \"#bd3786\"], [0.5555555555555556, \"#d8576b\"], [0.6666666666666666, \"#ed7953\"], [0.7777777777777778, \"#fb9f3a\"], [0.8888888888888888, \"#fdca26\"], [1.0, \"#f0f921\"]], \"type\": \"histogram2dcontour\"}], \"mesh3d\": [{\"colorbar\": {\"outlinewidth\": 0, \"ticks\": \"\"}, \"type\": \"mesh3d\"}], \"parcoords\": [{\"line\": {\"colorbar\": {\"outlinewidth\": 0, \"ticks\": \"\"}}, \"type\": \"parcoords\"}], \"pie\": [{\"automargin\": true, \"type\": \"pie\"}], \"scatter\": [{\"marker\": {\"colorbar\": {\"outlinewidth\": 0, \"ticks\": \"\"}}, \"type\": \"scatter\"}], \"scatter3d\": [{\"line\": {\"colorbar\": {\"outlinewidth\": 0, \"ticks\": \"\"}}, \"marker\": {\"colorbar\": {\"outlinewidth\": 0, \"ticks\": \"\"}}, \"type\": \"scatter3d\"}], \"scattercarpet\": [{\"marker\": {\"colorbar\": {\"outlinewidth\": 0, \"ticks\": \"\"}}, \"type\": \"scattercarpet\"}], \"scattergeo\": [{\"marker\": {\"colorbar\": {\"outlinewidth\": 0, \"ticks\": \"\"}}, \"type\": \"scattergeo\"}], \"scattergl\": [{\"marker\": {\"colorbar\": {\"outlinewidth\": 0, \"ticks\": \"\"}}, \"type\": \"scattergl\"}], \"scattermapbox\": [{\"marker\": {\"colorbar\": {\"outlinewidth\": 0, \"ticks\": \"\"}}, \"type\": \"scattermapbox\"}], \"scatterpolar\": [{\"marker\": {\"colorbar\": {\"outlinewidth\": 0, \"ticks\": \"\"}}, \"type\": \"scatterpolar\"}], \"scatterpolargl\": [{\"marker\": {\"colorbar\": {\"outlinewidth\": 0, \"ticks\": \"\"}}, \"type\": \"scatterpolargl\"}], \"scatterternary\": [{\"marker\": {\"colorbar\": {\"outlinewidth\": 0, \"ticks\": \"\"}}, \"type\": \"scatterternary\"}], \"surface\": [{\"colorbar\": {\"outlinewidth\": 0, \"ticks\": \"\"}, \"colorscale\": [[0.0, \"#0d0887\"], [0.1111111111111111, \"#46039f\"], [0.2222222222222222, \"#7201a8\"], [0.3333333333333333, \"#9c179e\"], [0.4444444444444444, \"#bd3786\"], [0.5555555555555556, \"#d8576b\"], [0.6666666666666666, \"#ed7953\"], [0.7777777777777778, \"#fb9f3a\"], [0.8888888888888888, \"#fdca26\"], [1.0, \"#f0f921\"]], \"type\": \"surface\"}], \"table\": [{\"cells\": {\"fill\": {\"color\": \"#EBF0F8\"}, \"line\": {\"color\": \"white\"}}, \"header\": {\"fill\": {\"color\": \"#C8D4E3\"}, \"line\": {\"color\": \"white\"}}, \"type\": \"table\"}]}, \"layout\": {\"annotationdefaults\": {\"arrowcolor\": \"#2a3f5f\", \"arrowhead\": 0, \"arrowwidth\": 1}, \"autotypenumbers\": \"strict\", \"coloraxis\": {\"colorbar\": {\"outlinewidth\": 0, \"ticks\": \"\"}}, \"colorscale\": {\"diverging\": [[0, \"#8e0152\"], [0.1, \"#c51b7d\"], [0.2, \"#de77ae\"], [0.3, \"#f1b6da\"], [0.4, \"#fde0ef\"], [0.5, \"#f7f7f7\"], [0.6, \"#e6f5d0\"], [0.7, \"#b8e186\"], [0.8, \"#7fbc41\"], [0.9, \"#4d9221\"], [1, \"#276419\"]], \"sequential\": [[0.0, \"#0d0887\"], [0.1111111111111111, \"#46039f\"], [0.2222222222222222, \"#7201a8\"], [0.3333333333333333, \"#9c179e\"], [0.4444444444444444, \"#bd3786\"], [0.5555555555555556, \"#d8576b\"], [0.6666666666666666, \"#ed7953\"], [0.7777777777777778, \"#fb9f3a\"], [0.8888888888888888, \"#fdca26\"], [1.0, \"#f0f921\"]], \"sequentialminus\": [[0.0, \"#0d0887\"], [0.1111111111111111, \"#46039f\"], [0.2222222222222222, \"#7201a8\"], [0.3333333333333333, \"#9c179e\"], [0.4444444444444444, \"#bd3786\"], [0.5555555555555556, \"#d8576b\"], [0.6666666666666666, \"#ed7953\"], [0.7777777777777778, \"#fb9f3a\"], [0.8888888888888888, \"#fdca26\"], [1.0, \"#f0f921\"]]}, \"colorway\": [\"#636efa\", \"#EF553B\", \"#00cc96\", \"#ab63fa\", \"#FFA15A\", \"#19d3f3\", \"#FF6692\", \"#B6E880\", \"#FF97FF\", \"#FECB52\"], \"font\": {\"color\": \"#2a3f5f\"}, \"geo\": {\"bgcolor\": \"white\", \"lakecolor\": \"white\", \"landcolor\": \"#E5ECF6\", \"showlakes\": true, \"showland\": true, \"subunitcolor\": \"white\"}, \"hoverlabel\": {\"align\": \"left\"}, \"hovermode\": \"closest\", \"mapbox\": {\"style\": \"light\"}, \"paper_bgcolor\": \"white\", \"plot_bgcolor\": \"#E5ECF6\", \"polar\": {\"angularaxis\": {\"gridcolor\": \"white\", \"linecolor\": \"white\", \"ticks\": \"\"}, \"bgcolor\": \"#E5ECF6\", \"radialaxis\": {\"gridcolor\": \"white\", \"linecolor\": \"white\", \"ticks\": \"\"}}, \"scene\": {\"xaxis\": {\"backgroundcolor\": \"#E5ECF6\", \"gridcolor\": \"white\", \"gridwidth\": 2, \"linecolor\": \"white\", \"showbackground\": true, \"ticks\": \"\", \"zerolinecolor\": \"white\"}, \"yaxis\": {\"backgroundcolor\": \"#E5ECF6\", \"gridcolor\": \"white\", \"gridwidth\": 2, \"linecolor\": \"white\", \"showbackground\": true, \"ticks\": \"\", \"zerolinecolor\": \"white\"}, \"zaxis\": {\"backgroundcolor\": \"#E5ECF6\", \"gridcolor\": \"white\", \"gridwidth\": 2, \"linecolor\": \"white\", \"showbackground\": true, \"ticks\": \"\", \"zerolinecolor\": \"white\"}}, \"shapedefaults\": {\"line\": {\"color\": \"#2a3f5f\"}}, \"ternary\": {\"aaxis\": {\"gridcolor\": \"white\", \"linecolor\": \"white\", \"ticks\": \"\"}, \"baxis\": {\"gridcolor\": \"white\", \"linecolor\": \"white\", \"ticks\": \"\"}, \"bgcolor\": \"#E5ECF6\", \"caxis\": {\"gridcolor\": \"white\", \"linecolor\": \"white\", \"ticks\": \"\"}}, \"title\": {\"x\": 0.05}, \"xaxis\": {\"automargin\": true, \"gridcolor\": \"white\", \"linecolor\": \"white\", \"ticks\": \"\", \"title\": {\"standoff\": 15}, \"zerolinecolor\": \"white\", \"zerolinewidth\": 2}, \"yaxis\": {\"automargin\": true, \"gridcolor\": \"white\", \"linecolor\": \"white\", \"ticks\": \"\", \"title\": {\"standoff\": 15}, \"zerolinecolor\": \"white\", \"zerolinewidth\": 2}}}, \"title\": {\"font\": {\"color\": \"#4D5663\"}}, \"xaxis\": {\"gridcolor\": \"#E1E5ED\", \"showgrid\": true, \"tickfont\": {\"color\": \"#4D5663\"}, \"title\": {\"font\": {\"color\": \"#4D5663\"}, \"text\": \"\"}, \"zerolinecolor\": \"#E1E5ED\"}, \"yaxis\": {\"gridcolor\": \"#E1E5ED\", \"showgrid\": true, \"tickfont\": {\"color\": \"#4D5663\"}, \"title\": {\"font\": {\"color\": \"#4D5663\"}, \"text\": \"\"}, \"zerolinecolor\": \"#E1E5ED\"}},                        {\"showLink\": true, \"linkText\": \"Export to plot.ly\", \"plotlyServerURL\": \"https://plot.ly\", \"responsive\": true}                    ).then(function(){\n",
       "                            \n",
       "var gd = document.getElementById('21af56c6-16e6-4517-a5e0-d5d88a9ba408');\n",
       "var x = new MutationObserver(function (mutations, observer) {{\n",
       "        var display = window.getComputedStyle(gd).display;\n",
       "        if (!display || display === 'none') {{\n",
       "            console.log([gd, 'removed!']);\n",
       "            Plotly.purge(gd);\n",
       "            observer.disconnect();\n",
       "        }}\n",
       "}});\n",
       "\n",
       "// Listen for the removal of the full notebook cells\n",
       "var notebookContainer = gd.closest('#notebook-container');\n",
       "if (notebookContainer) {{\n",
       "    x.observe(notebookContainer, {childList: true});\n",
       "}}\n",
       "\n",
       "// Listen for the clearing of the current output cell\n",
       "var outputEl = gd.closest('.output');\n",
       "if (outputEl) {{\n",
       "    x.observe(outputEl, {childList: true});\n",
       "}}\n",
       "\n",
       "                        })                };                });            </script>        </div>"
      ]
     },
     "metadata": {},
     "output_type": "display_data"
    }
   ],
   "source": [
    "df['A'].iplot(kind='hist',bins=25)"
   ]
  },
  {
   "cell_type": "code",
   "execution_count": 19,
   "metadata": {},
   "outputs": [
    {
     "data": {
      "application/vnd.plotly.v1+json": {
       "config": {
        "linkText": "Export to plot.ly",
        "plotlyServerURL": "https://plot.ly",
        "showLink": true
       },
       "data": [
        {
         "marker": {
          "color": [
           "rgb(255, 153, 51)",
           "rgb(55, 128, 191)",
           "rgb(50, 171, 96)",
           "rgb(128, 0, 128)",
           "rgb(219, 64, 82)",
           "rgb(0, 128, 128)",
           "rgb(255, 255, 51)",
           "rgb(128, 128, 0)",
           "rgb(251, 128, 114)",
           "rgb(128, 177, 211)"
          ],
          "line": {
           "width": 1.3
          },
          "size": [
           26,
           31,
           97,
           49,
           62,
           80,
           47,
           80,
           71,
           51,
           55,
           68,
           46,
           44,
           62,
           75,
           45,
           49,
           24,
           68,
           46,
           48,
           30,
           46,
           52,
           12,
           49,
           57,
           59,
           65,
           30,
           53,
           54,
           54,
           65,
           23,
           37,
           70,
           75,
           35,
           33,
           40,
           78,
           42,
           58,
           52,
           61,
           43,
           41,
           36,
           64,
           64,
           39,
           68,
           50,
           63,
           78,
           64,
           23,
           58,
           58,
           72,
           56,
           62,
           74,
           35,
           43,
           18,
           70,
           55,
           71,
           66,
           65,
           44,
           41,
           74,
           90,
           44,
           57,
           42,
           49,
           84,
           46,
           59,
           82,
           61,
           53,
           61,
           53,
           49,
           65,
           59,
           61,
           68,
           67,
           29,
           112,
           35,
           68,
           64
          ],
          "symbol": "circle"
         },
         "mode": "markers",
         "text": "",
         "type": "scatter",
         "x": [
          0.8225286437416501,
          1.7906518177693165,
          -0.4252650252772421,
          -0.11410539779221635,
          0.7794333388601931,
          0.5003190132121949,
          0.2018489181641643,
          -0.5146250488763782,
          0.3188360196714971,
          -0.5408247176895304,
          0.22587083856421108,
          -0.6974670580084895,
          0.5771703678093689,
          -0.013976202921457752,
          0.8783343452604568,
          -1.614949706939007,
          0.19153236329955206,
          -1.5765158215202855,
          -0.4112903516874633,
          -1.092087010716353,
          1.33599345630096,
          1.4351531348939572,
          -1.2848571383638239,
          -1.7510693502903472,
          0.8075813530347192,
          -0.5470180608654744,
          -0.28413980500001806,
          0.20961814337947923,
          -0.02959907422165152,
          0.9547946370028454,
          -0.4789236470968032,
          -0.5970003307837691,
          -0.39385277023122905,
          0.11981370704438987,
          0.9871751876769622,
          0.31853744701880177,
          -0.3657065423701585,
          0.37725580911967876,
          -0.18348735017904264,
          1.6081305852347272,
          0.1731427842198789,
          1.7563528761773035,
          -1.9242694093670059,
          0.15322007858144676,
          0.3694726518707792,
          1.1238409758155203,
          -0.47236617294136934,
          -2.2054955020266758,
          -0.038750514669134865,
          0.6406891232053674,
          -0.5122664102800992,
          0.4403463452002344,
          0.12621387719415295,
          0.11548873258660677,
          -0.5566016986744087,
          -0.013768255762175781,
          0.8952226489212914,
          0.9118298889268938,
          0.569114211520104,
          0.024437122932751843,
          1.701500345824061,
          0.2251987043144141,
          -0.24188881465420595,
          1.3250447913362182,
          0.360446668523524,
          0.17515640035608626,
          -1.704366488761559,
          -1.5158347740723928,
          0.4902716968708798,
          0.6453474335949971,
          -0.7399554958505687,
          1.8131232768603385,
          -0.12291573819921484,
          0.4669552405324629,
          -0.2938506167449886,
          0.40228120830014147,
          -2.149327520203454,
          -0.6866806942881285,
          -0.2927811094268949,
          0.5042300314844698,
          0.6555808286390054,
          -0.9279139834900973,
          -0.08543978812480418,
          -0.04796523223752661,
          0.0746435164054404,
          0.2307148975501273,
          -2.027424116120096,
          0.3450571253534357,
          -1.1612443444561293,
          -0.3726671090762646,
          -2.976221788193337,
          -2.1117101596495687,
          -0.6985426135652383,
          1.1965258562450305,
          -1.0459953031714726,
          1.976436641953744,
          -1.1349899468640317,
          0.3040281001626459,
          -1.8846583680508304,
          0.47535347700831315
         ],
         "y": [
          0.9798422876110087,
          -0.07739040844163653,
          0.199140992111598,
          -1.2143268018612448,
          0.14285538470625045,
          -0.941613979403886,
          -0.5179651092895884,
          -2.9720401690748086,
          -0.9025695839599948,
          0.7070161377970824,
          0.6226851269936455,
          1.7220710947919995,
          2.421389113461388,
          -0.15836707680921455,
          -0.00824513735289978,
          -2.4502263963546427,
          0.32938834873258654,
          0.43268652790313156,
          -0.07647046488415142,
          0.16117870564803655,
          0.5719563509363634,
          0.6489901001574245,
          0.9376314079451413,
          -0.5772109776816116,
          0.43940958062906715,
          0.27942060999655977,
          -0.9424446593446479,
          -1.486525613267546,
          1.6312084499589516,
          -0.07507516007927825,
          0.12760269243775124,
          0.05373579584888705,
          0.1379571283605871,
          -0.8678493687113031,
          -0.43134562129715953,
          0.6545365996125828,
          -0.6271866565552896,
          -0.13713206936808897,
          1.2742682936024408,
          -0.8413247811888707,
          -0.7302648312780448,
          -0.6117741047846332,
          -1.210299969457778,
          -0.3801376853687354,
          -0.48236709698927316,
          1.6101057259159142,
          0.018396524012302493,
          3.02256317083536,
          2.5691163423097496,
          -0.8487428166948513,
          -0.10164929522395912,
          0.8273933294947996,
          -0.4641358512359839,
          1.0174474127248259,
          -0.6615304859327857,
          -1.8869319213356825,
          0.4677487870018134,
          -0.9766521809572346,
          0.4424919332422819,
          -3.1831759316713057,
          0.2283009026441312,
          0.36950934843910815,
          0.5369686034283853,
          0.2983504233853764,
          -0.004378996737566833,
          1.0592911293848593,
          1.6451075032610067,
          0.29029878762587735,
          -0.4609110721334788,
          0.4378794865441988,
          -1.4283048764958761,
          0.40738608837815354,
          0.7625659313961809,
          -1.4172139471023841,
          -0.10136148568438476,
          0.15838136839989114,
          -1.3580445071102318,
          -1.1087998884123191,
          0.05526415914038533,
          0.9883265678290705,
          -0.03771628428204599,
          0.26505609003670605,
          1.0489263265095015,
          2.2480644236455434,
          -0.39604599179023386,
          -2.0576074336266377,
          1.6418210719318171,
          -2.064000840790136,
          0.18340752558238735,
          0.3708702460919371,
          0.7564073758273471,
          0.5622132114774402,
          -0.8681703206538972,
          -0.5457892288792988,
          0.6462776058743678,
          -1.388235965781543,
          -1.403310739967856,
          -0.5048268930823668,
          -0.008940855983669326,
          0.2678190263167388
         ]
        }
       ],
       "layout": {
        "legend": {
         "bgcolor": "#F5F6F9",
         "font": {
          "color": "#4D5663"
         }
        },
        "paper_bgcolor": "#F5F6F9",
        "plot_bgcolor": "#F5F6F9",
        "template": {
         "data": {
          "bar": [
           {
            "error_x": {
             "color": "#2a3f5f"
            },
            "error_y": {
             "color": "#2a3f5f"
            },
            "marker": {
             "line": {
              "color": "#E5ECF6",
              "width": 0.5
             }
            },
            "type": "bar"
           }
          ],
          "barpolar": [
           {
            "marker": {
             "line": {
              "color": "#E5ECF6",
              "width": 0.5
             }
            },
            "type": "barpolar"
           }
          ],
          "carpet": [
           {
            "aaxis": {
             "endlinecolor": "#2a3f5f",
             "gridcolor": "white",
             "linecolor": "white",
             "minorgridcolor": "white",
             "startlinecolor": "#2a3f5f"
            },
            "baxis": {
             "endlinecolor": "#2a3f5f",
             "gridcolor": "white",
             "linecolor": "white",
             "minorgridcolor": "white",
             "startlinecolor": "#2a3f5f"
            },
            "type": "carpet"
           }
          ],
          "choropleth": [
           {
            "colorbar": {
             "outlinewidth": 0,
             "ticks": ""
            },
            "type": "choropleth"
           }
          ],
          "contour": [
           {
            "colorbar": {
             "outlinewidth": 0,
             "ticks": ""
            },
            "colorscale": [
             [
              0,
              "#0d0887"
             ],
             [
              0.1111111111111111,
              "#46039f"
             ],
             [
              0.2222222222222222,
              "#7201a8"
             ],
             [
              0.3333333333333333,
              "#9c179e"
             ],
             [
              0.4444444444444444,
              "#bd3786"
             ],
             [
              0.5555555555555556,
              "#d8576b"
             ],
             [
              0.6666666666666666,
              "#ed7953"
             ],
             [
              0.7777777777777778,
              "#fb9f3a"
             ],
             [
              0.8888888888888888,
              "#fdca26"
             ],
             [
              1,
              "#f0f921"
             ]
            ],
            "type": "contour"
           }
          ],
          "contourcarpet": [
           {
            "colorbar": {
             "outlinewidth": 0,
             "ticks": ""
            },
            "type": "contourcarpet"
           }
          ],
          "heatmap": [
           {
            "colorbar": {
             "outlinewidth": 0,
             "ticks": ""
            },
            "colorscale": [
             [
              0,
              "#0d0887"
             ],
             [
              0.1111111111111111,
              "#46039f"
             ],
             [
              0.2222222222222222,
              "#7201a8"
             ],
             [
              0.3333333333333333,
              "#9c179e"
             ],
             [
              0.4444444444444444,
              "#bd3786"
             ],
             [
              0.5555555555555556,
              "#d8576b"
             ],
             [
              0.6666666666666666,
              "#ed7953"
             ],
             [
              0.7777777777777778,
              "#fb9f3a"
             ],
             [
              0.8888888888888888,
              "#fdca26"
             ],
             [
              1,
              "#f0f921"
             ]
            ],
            "type": "heatmap"
           }
          ],
          "heatmapgl": [
           {
            "colorbar": {
             "outlinewidth": 0,
             "ticks": ""
            },
            "colorscale": [
             [
              0,
              "#0d0887"
             ],
             [
              0.1111111111111111,
              "#46039f"
             ],
             [
              0.2222222222222222,
              "#7201a8"
             ],
             [
              0.3333333333333333,
              "#9c179e"
             ],
             [
              0.4444444444444444,
              "#bd3786"
             ],
             [
              0.5555555555555556,
              "#d8576b"
             ],
             [
              0.6666666666666666,
              "#ed7953"
             ],
             [
              0.7777777777777778,
              "#fb9f3a"
             ],
             [
              0.8888888888888888,
              "#fdca26"
             ],
             [
              1,
              "#f0f921"
             ]
            ],
            "type": "heatmapgl"
           }
          ],
          "histogram": [
           {
            "marker": {
             "colorbar": {
              "outlinewidth": 0,
              "ticks": ""
             }
            },
            "type": "histogram"
           }
          ],
          "histogram2d": [
           {
            "colorbar": {
             "outlinewidth": 0,
             "ticks": ""
            },
            "colorscale": [
             [
              0,
              "#0d0887"
             ],
             [
              0.1111111111111111,
              "#46039f"
             ],
             [
              0.2222222222222222,
              "#7201a8"
             ],
             [
              0.3333333333333333,
              "#9c179e"
             ],
             [
              0.4444444444444444,
              "#bd3786"
             ],
             [
              0.5555555555555556,
              "#d8576b"
             ],
             [
              0.6666666666666666,
              "#ed7953"
             ],
             [
              0.7777777777777778,
              "#fb9f3a"
             ],
             [
              0.8888888888888888,
              "#fdca26"
             ],
             [
              1,
              "#f0f921"
             ]
            ],
            "type": "histogram2d"
           }
          ],
          "histogram2dcontour": [
           {
            "colorbar": {
             "outlinewidth": 0,
             "ticks": ""
            },
            "colorscale": [
             [
              0,
              "#0d0887"
             ],
             [
              0.1111111111111111,
              "#46039f"
             ],
             [
              0.2222222222222222,
              "#7201a8"
             ],
             [
              0.3333333333333333,
              "#9c179e"
             ],
             [
              0.4444444444444444,
              "#bd3786"
             ],
             [
              0.5555555555555556,
              "#d8576b"
             ],
             [
              0.6666666666666666,
              "#ed7953"
             ],
             [
              0.7777777777777778,
              "#fb9f3a"
             ],
             [
              0.8888888888888888,
              "#fdca26"
             ],
             [
              1,
              "#f0f921"
             ]
            ],
            "type": "histogram2dcontour"
           }
          ],
          "mesh3d": [
           {
            "colorbar": {
             "outlinewidth": 0,
             "ticks": ""
            },
            "type": "mesh3d"
           }
          ],
          "parcoords": [
           {
            "line": {
             "colorbar": {
              "outlinewidth": 0,
              "ticks": ""
             }
            },
            "type": "parcoords"
           }
          ],
          "pie": [
           {
            "automargin": true,
            "type": "pie"
           }
          ],
          "scatter": [
           {
            "marker": {
             "colorbar": {
              "outlinewidth": 0,
              "ticks": ""
             }
            },
            "type": "scatter"
           }
          ],
          "scatter3d": [
           {
            "line": {
             "colorbar": {
              "outlinewidth": 0,
              "ticks": ""
             }
            },
            "marker": {
             "colorbar": {
              "outlinewidth": 0,
              "ticks": ""
             }
            },
            "type": "scatter3d"
           }
          ],
          "scattercarpet": [
           {
            "marker": {
             "colorbar": {
              "outlinewidth": 0,
              "ticks": ""
             }
            },
            "type": "scattercarpet"
           }
          ],
          "scattergeo": [
           {
            "marker": {
             "colorbar": {
              "outlinewidth": 0,
              "ticks": ""
             }
            },
            "type": "scattergeo"
           }
          ],
          "scattergl": [
           {
            "marker": {
             "colorbar": {
              "outlinewidth": 0,
              "ticks": ""
             }
            },
            "type": "scattergl"
           }
          ],
          "scattermapbox": [
           {
            "marker": {
             "colorbar": {
              "outlinewidth": 0,
              "ticks": ""
             }
            },
            "type": "scattermapbox"
           }
          ],
          "scatterpolar": [
           {
            "marker": {
             "colorbar": {
              "outlinewidth": 0,
              "ticks": ""
             }
            },
            "type": "scatterpolar"
           }
          ],
          "scatterpolargl": [
           {
            "marker": {
             "colorbar": {
              "outlinewidth": 0,
              "ticks": ""
             }
            },
            "type": "scatterpolargl"
           }
          ],
          "scatterternary": [
           {
            "marker": {
             "colorbar": {
              "outlinewidth": 0,
              "ticks": ""
             }
            },
            "type": "scatterternary"
           }
          ],
          "surface": [
           {
            "colorbar": {
             "outlinewidth": 0,
             "ticks": ""
            },
            "colorscale": [
             [
              0,
              "#0d0887"
             ],
             [
              0.1111111111111111,
              "#46039f"
             ],
             [
              0.2222222222222222,
              "#7201a8"
             ],
             [
              0.3333333333333333,
              "#9c179e"
             ],
             [
              0.4444444444444444,
              "#bd3786"
             ],
             [
              0.5555555555555556,
              "#d8576b"
             ],
             [
              0.6666666666666666,
              "#ed7953"
             ],
             [
              0.7777777777777778,
              "#fb9f3a"
             ],
             [
              0.8888888888888888,
              "#fdca26"
             ],
             [
              1,
              "#f0f921"
             ]
            ],
            "type": "surface"
           }
          ],
          "table": [
           {
            "cells": {
             "fill": {
              "color": "#EBF0F8"
             },
             "line": {
              "color": "white"
             }
            },
            "header": {
             "fill": {
              "color": "#C8D4E3"
             },
             "line": {
              "color": "white"
             }
            },
            "type": "table"
           }
          ]
         },
         "layout": {
          "annotationdefaults": {
           "arrowcolor": "#2a3f5f",
           "arrowhead": 0,
           "arrowwidth": 1
          },
          "autotypenumbers": "strict",
          "coloraxis": {
           "colorbar": {
            "outlinewidth": 0,
            "ticks": ""
           }
          },
          "colorscale": {
           "diverging": [
            [
             0,
             "#8e0152"
            ],
            [
             0.1,
             "#c51b7d"
            ],
            [
             0.2,
             "#de77ae"
            ],
            [
             0.3,
             "#f1b6da"
            ],
            [
             0.4,
             "#fde0ef"
            ],
            [
             0.5,
             "#f7f7f7"
            ],
            [
             0.6,
             "#e6f5d0"
            ],
            [
             0.7,
             "#b8e186"
            ],
            [
             0.8,
             "#7fbc41"
            ],
            [
             0.9,
             "#4d9221"
            ],
            [
             1,
             "#276419"
            ]
           ],
           "sequential": [
            [
             0,
             "#0d0887"
            ],
            [
             0.1111111111111111,
             "#46039f"
            ],
            [
             0.2222222222222222,
             "#7201a8"
            ],
            [
             0.3333333333333333,
             "#9c179e"
            ],
            [
             0.4444444444444444,
             "#bd3786"
            ],
            [
             0.5555555555555556,
             "#d8576b"
            ],
            [
             0.6666666666666666,
             "#ed7953"
            ],
            [
             0.7777777777777778,
             "#fb9f3a"
            ],
            [
             0.8888888888888888,
             "#fdca26"
            ],
            [
             1,
             "#f0f921"
            ]
           ],
           "sequentialminus": [
            [
             0,
             "#0d0887"
            ],
            [
             0.1111111111111111,
             "#46039f"
            ],
            [
             0.2222222222222222,
             "#7201a8"
            ],
            [
             0.3333333333333333,
             "#9c179e"
            ],
            [
             0.4444444444444444,
             "#bd3786"
            ],
            [
             0.5555555555555556,
             "#d8576b"
            ],
            [
             0.6666666666666666,
             "#ed7953"
            ],
            [
             0.7777777777777778,
             "#fb9f3a"
            ],
            [
             0.8888888888888888,
             "#fdca26"
            ],
            [
             1,
             "#f0f921"
            ]
           ]
          },
          "colorway": [
           "#636efa",
           "#EF553B",
           "#00cc96",
           "#ab63fa",
           "#FFA15A",
           "#19d3f3",
           "#FF6692",
           "#B6E880",
           "#FF97FF",
           "#FECB52"
          ],
          "font": {
           "color": "#2a3f5f"
          },
          "geo": {
           "bgcolor": "white",
           "lakecolor": "white",
           "landcolor": "#E5ECF6",
           "showlakes": true,
           "showland": true,
           "subunitcolor": "white"
          },
          "hoverlabel": {
           "align": "left"
          },
          "hovermode": "closest",
          "mapbox": {
           "style": "light"
          },
          "paper_bgcolor": "white",
          "plot_bgcolor": "#E5ECF6",
          "polar": {
           "angularaxis": {
            "gridcolor": "white",
            "linecolor": "white",
            "ticks": ""
           },
           "bgcolor": "#E5ECF6",
           "radialaxis": {
            "gridcolor": "white",
            "linecolor": "white",
            "ticks": ""
           }
          },
          "scene": {
           "xaxis": {
            "backgroundcolor": "#E5ECF6",
            "gridcolor": "white",
            "gridwidth": 2,
            "linecolor": "white",
            "showbackground": true,
            "ticks": "",
            "zerolinecolor": "white"
           },
           "yaxis": {
            "backgroundcolor": "#E5ECF6",
            "gridcolor": "white",
            "gridwidth": 2,
            "linecolor": "white",
            "showbackground": true,
            "ticks": "",
            "zerolinecolor": "white"
           },
           "zaxis": {
            "backgroundcolor": "#E5ECF6",
            "gridcolor": "white",
            "gridwidth": 2,
            "linecolor": "white",
            "showbackground": true,
            "ticks": "",
            "zerolinecolor": "white"
           }
          },
          "shapedefaults": {
           "line": {
            "color": "#2a3f5f"
           }
          },
          "ternary": {
           "aaxis": {
            "gridcolor": "white",
            "linecolor": "white",
            "ticks": ""
           },
           "baxis": {
            "gridcolor": "white",
            "linecolor": "white",
            "ticks": ""
           },
           "bgcolor": "#E5ECF6",
           "caxis": {
            "gridcolor": "white",
            "linecolor": "white",
            "ticks": ""
           }
          },
          "title": {
           "x": 0.05
          },
          "xaxis": {
           "automargin": true,
           "gridcolor": "white",
           "linecolor": "white",
           "ticks": "",
           "title": {
            "standoff": 15
           },
           "zerolinecolor": "white",
           "zerolinewidth": 2
          },
          "yaxis": {
           "automargin": true,
           "gridcolor": "white",
           "linecolor": "white",
           "ticks": "",
           "title": {
            "standoff": 15
           },
           "zerolinecolor": "white",
           "zerolinewidth": 2
          }
         }
        },
        "title": {
         "font": {
          "color": "#4D5663"
         }
        },
        "xaxis": {
         "gridcolor": "#E1E5ED",
         "showgrid": true,
         "tickfont": {
          "color": "#4D5663"
         },
         "title": {
          "font": {
           "color": "#4D5663"
          },
          "text": ""
         },
         "zerolinecolor": "#E1E5ED"
        },
        "yaxis": {
         "gridcolor": "#E1E5ED",
         "showgrid": true,
         "tickfont": {
          "color": "#4D5663"
         },
         "title": {
          "font": {
           "color": "#4D5663"
          },
          "text": ""
         },
         "zerolinecolor": "#E1E5ED"
        }
       }
      },
      "text/html": [
       "<div>                            <div id=\"a07e3d91-2ac2-4641-9a04-65b055427999\" class=\"plotly-graph-div\" style=\"height:525px; width:100%;\"></div>            <script type=\"text/javascript\">                require([\"plotly\"], function(Plotly) {                    window.PLOTLYENV=window.PLOTLYENV || {};\n",
       "                    window.PLOTLYENV.BASE_URL='https://plot.ly';                                    if (document.getElementById(\"a07e3d91-2ac2-4641-9a04-65b055427999\")) {                    Plotly.newPlot(                        \"a07e3d91-2ac2-4641-9a04-65b055427999\",                        [{\"marker\": {\"color\": [\"rgb(255, 153, 51)\", \"rgb(55, 128, 191)\", \"rgb(50, 171, 96)\", \"rgb(128, 0, 128)\", \"rgb(219, 64, 82)\", \"rgb(0, 128, 128)\", \"rgb(255, 255, 51)\", \"rgb(128, 128, 0)\", \"rgb(251, 128, 114)\", \"rgb(128, 177, 211)\"], \"line\": {\"width\": 1.3}, \"size\": [26, 31, 97, 49, 62, 80, 47, 80, 71, 51, 55, 68, 46, 44, 62, 75, 45, 49, 24, 68, 46, 48, 30, 46, 52, 12, 49, 57, 59, 65, 30, 53, 54, 54, 65, 23, 37, 70, 75, 35, 33, 40, 78, 42, 58, 52, 61, 43, 41, 36, 64, 64, 39, 68, 50, 63, 78, 64, 23, 58, 58, 72, 56, 62, 74, 35, 43, 18, 70, 55, 71, 66, 65, 44, 41, 74, 90, 44, 57, 42, 49, 84, 46, 59, 82, 61, 53, 61, 53, 49, 65, 59, 61, 68, 67, 29, 112, 35, 68, 64], \"symbol\": \"circle\"}, \"mode\": \"markers\", \"text\": \"\", \"type\": \"scatter\", \"x\": [0.8225286437416501, 1.7906518177693165, -0.4252650252772421, -0.11410539779221635, 0.7794333388601931, 0.5003190132121949, 0.2018489181641643, -0.5146250488763782, 0.3188360196714971, -0.5408247176895304, 0.22587083856421108, -0.6974670580084895, 0.5771703678093689, -0.013976202921457752, 0.8783343452604568, -1.614949706939007, 0.19153236329955206, -1.5765158215202855, -0.4112903516874633, -1.092087010716353, 1.33599345630096, 1.4351531348939572, -1.2848571383638239, -1.7510693502903472, 0.8075813530347192, -0.5470180608654744, -0.28413980500001806, 0.20961814337947923, -0.02959907422165152, 0.9547946370028454, -0.4789236470968032, -0.5970003307837691, -0.39385277023122905, 0.11981370704438987, 0.9871751876769622, 0.31853744701880177, -0.3657065423701585, 0.37725580911967876, -0.18348735017904264, 1.6081305852347272, 0.1731427842198789, 1.7563528761773035, -1.9242694093670059, 0.15322007858144676, 0.3694726518707792, 1.1238409758155203, -0.47236617294136934, -2.2054955020266758, -0.038750514669134865, 0.6406891232053674, -0.5122664102800992, 0.4403463452002344, 0.12621387719415295, 0.11548873258660677, -0.5566016986744087, -0.013768255762175781, 0.8952226489212914, 0.9118298889268938, 0.569114211520104, 0.024437122932751843, 1.701500345824061, 0.2251987043144141, -0.24188881465420595, 1.3250447913362182, 0.360446668523524, 0.17515640035608626, -1.704366488761559, -1.5158347740723928, 0.4902716968708798, 0.6453474335949971, -0.7399554958505687, 1.8131232768603385, -0.12291573819921484, 0.4669552405324629, -0.2938506167449886, 0.40228120830014147, -2.149327520203454, -0.6866806942881285, -0.2927811094268949, 0.5042300314844698, 0.6555808286390054, -0.9279139834900973, -0.08543978812480418, -0.04796523223752661, 0.0746435164054404, 0.2307148975501273, -2.027424116120096, 0.3450571253534357, -1.1612443444561293, -0.3726671090762646, -2.976221788193337, -2.1117101596495687, -0.6985426135652383, 1.1965258562450305, -1.0459953031714726, 1.976436641953744, -1.1349899468640317, 0.3040281001626459, -1.8846583680508304, 0.47535347700831315], \"y\": [0.9798422876110087, -0.07739040844163653, 0.199140992111598, -1.2143268018612448, 0.14285538470625045, -0.941613979403886, -0.5179651092895884, -2.9720401690748086, -0.9025695839599948, 0.7070161377970824, 0.6226851269936455, 1.7220710947919995, 2.421389113461388, -0.15836707680921455, -0.00824513735289978, -2.4502263963546427, 0.32938834873258654, 0.43268652790313156, -0.07647046488415142, 0.16117870564803655, 0.5719563509363634, 0.6489901001574245, 0.9376314079451413, -0.5772109776816116, 0.43940958062906715, 0.27942060999655977, -0.9424446593446479, -1.486525613267546, 1.6312084499589516, -0.07507516007927825, 0.12760269243775124, 0.05373579584888705, 0.1379571283605871, -0.8678493687113031, -0.43134562129715953, 0.6545365996125828, -0.6271866565552896, -0.13713206936808897, 1.2742682936024408, -0.8413247811888707, -0.7302648312780448, -0.6117741047846332, -1.210299969457778, -0.3801376853687354, -0.48236709698927316, 1.6101057259159142, 0.018396524012302493, 3.02256317083536, 2.5691163423097496, -0.8487428166948513, -0.10164929522395912, 0.8273933294947996, -0.4641358512359839, 1.0174474127248259, -0.6615304859327857, -1.8869319213356825, 0.4677487870018134, -0.9766521809572346, 0.4424919332422819, -3.1831759316713057, 0.2283009026441312, 0.36950934843910815, 0.5369686034283853, 0.2983504233853764, -0.004378996737566833, 1.0592911293848593, 1.6451075032610067, 0.29029878762587735, -0.4609110721334788, 0.4378794865441988, -1.4283048764958761, 0.40738608837815354, 0.7625659313961809, -1.4172139471023841, -0.10136148568438476, 0.15838136839989114, -1.3580445071102318, -1.1087998884123191, 0.05526415914038533, 0.9883265678290705, -0.03771628428204599, 0.26505609003670605, 1.0489263265095015, 2.2480644236455434, -0.39604599179023386, -2.0576074336266377, 1.6418210719318171, -2.064000840790136, 0.18340752558238735, 0.3708702460919371, 0.7564073758273471, 0.5622132114774402, -0.8681703206538972, -0.5457892288792988, 0.6462776058743678, -1.388235965781543, -1.403310739967856, -0.5048268930823668, -0.008940855983669326, 0.2678190263167388]}],                        {\"legend\": {\"bgcolor\": \"#F5F6F9\", \"font\": {\"color\": \"#4D5663\"}}, \"paper_bgcolor\": \"#F5F6F9\", \"plot_bgcolor\": \"#F5F6F9\", \"template\": {\"data\": {\"bar\": [{\"error_x\": {\"color\": \"#2a3f5f\"}, \"error_y\": {\"color\": \"#2a3f5f\"}, \"marker\": {\"line\": {\"color\": \"#E5ECF6\", \"width\": 0.5}}, \"type\": \"bar\"}], \"barpolar\": [{\"marker\": {\"line\": {\"color\": \"#E5ECF6\", \"width\": 0.5}}, \"type\": \"barpolar\"}], \"carpet\": [{\"aaxis\": {\"endlinecolor\": \"#2a3f5f\", \"gridcolor\": \"white\", \"linecolor\": \"white\", \"minorgridcolor\": \"white\", \"startlinecolor\": \"#2a3f5f\"}, \"baxis\": {\"endlinecolor\": \"#2a3f5f\", \"gridcolor\": \"white\", \"linecolor\": \"white\", \"minorgridcolor\": \"white\", \"startlinecolor\": \"#2a3f5f\"}, \"type\": \"carpet\"}], \"choropleth\": [{\"colorbar\": {\"outlinewidth\": 0, \"ticks\": \"\"}, \"type\": \"choropleth\"}], \"contour\": [{\"colorbar\": {\"outlinewidth\": 0, \"ticks\": \"\"}, \"colorscale\": [[0.0, \"#0d0887\"], [0.1111111111111111, \"#46039f\"], [0.2222222222222222, \"#7201a8\"], [0.3333333333333333, \"#9c179e\"], [0.4444444444444444, \"#bd3786\"], [0.5555555555555556, \"#d8576b\"], [0.6666666666666666, \"#ed7953\"], [0.7777777777777778, \"#fb9f3a\"], [0.8888888888888888, \"#fdca26\"], [1.0, \"#f0f921\"]], \"type\": \"contour\"}], \"contourcarpet\": [{\"colorbar\": {\"outlinewidth\": 0, \"ticks\": \"\"}, \"type\": \"contourcarpet\"}], \"heatmap\": [{\"colorbar\": {\"outlinewidth\": 0, \"ticks\": \"\"}, \"colorscale\": [[0.0, \"#0d0887\"], [0.1111111111111111, \"#46039f\"], [0.2222222222222222, \"#7201a8\"], [0.3333333333333333, \"#9c179e\"], [0.4444444444444444, \"#bd3786\"], [0.5555555555555556, \"#d8576b\"], [0.6666666666666666, \"#ed7953\"], [0.7777777777777778, \"#fb9f3a\"], [0.8888888888888888, \"#fdca26\"], [1.0, \"#f0f921\"]], \"type\": \"heatmap\"}], \"heatmapgl\": [{\"colorbar\": {\"outlinewidth\": 0, \"ticks\": \"\"}, \"colorscale\": [[0.0, \"#0d0887\"], [0.1111111111111111, \"#46039f\"], [0.2222222222222222, \"#7201a8\"], [0.3333333333333333, \"#9c179e\"], [0.4444444444444444, \"#bd3786\"], [0.5555555555555556, \"#d8576b\"], [0.6666666666666666, \"#ed7953\"], [0.7777777777777778, \"#fb9f3a\"], [0.8888888888888888, \"#fdca26\"], [1.0, \"#f0f921\"]], \"type\": \"heatmapgl\"}], \"histogram\": [{\"marker\": {\"colorbar\": {\"outlinewidth\": 0, \"ticks\": \"\"}}, \"type\": \"histogram\"}], \"histogram2d\": [{\"colorbar\": {\"outlinewidth\": 0, \"ticks\": \"\"}, \"colorscale\": [[0.0, \"#0d0887\"], [0.1111111111111111, \"#46039f\"], [0.2222222222222222, \"#7201a8\"], [0.3333333333333333, \"#9c179e\"], [0.4444444444444444, \"#bd3786\"], [0.5555555555555556, \"#d8576b\"], [0.6666666666666666, \"#ed7953\"], [0.7777777777777778, \"#fb9f3a\"], [0.8888888888888888, \"#fdca26\"], [1.0, \"#f0f921\"]], \"type\": \"histogram2d\"}], \"histogram2dcontour\": [{\"colorbar\": {\"outlinewidth\": 0, \"ticks\": \"\"}, \"colorscale\": [[0.0, \"#0d0887\"], [0.1111111111111111, \"#46039f\"], [0.2222222222222222, \"#7201a8\"], [0.3333333333333333, \"#9c179e\"], [0.4444444444444444, \"#bd3786\"], [0.5555555555555556, \"#d8576b\"], [0.6666666666666666, \"#ed7953\"], [0.7777777777777778, \"#fb9f3a\"], [0.8888888888888888, \"#fdca26\"], [1.0, \"#f0f921\"]], \"type\": \"histogram2dcontour\"}], \"mesh3d\": [{\"colorbar\": {\"outlinewidth\": 0, \"ticks\": \"\"}, \"type\": \"mesh3d\"}], \"parcoords\": [{\"line\": {\"colorbar\": {\"outlinewidth\": 0, \"ticks\": \"\"}}, \"type\": \"parcoords\"}], \"pie\": [{\"automargin\": true, \"type\": \"pie\"}], \"scatter\": [{\"marker\": {\"colorbar\": {\"outlinewidth\": 0, \"ticks\": \"\"}}, \"type\": \"scatter\"}], \"scatter3d\": [{\"line\": {\"colorbar\": {\"outlinewidth\": 0, \"ticks\": \"\"}}, \"marker\": {\"colorbar\": {\"outlinewidth\": 0, \"ticks\": \"\"}}, \"type\": \"scatter3d\"}], \"scattercarpet\": [{\"marker\": {\"colorbar\": {\"outlinewidth\": 0, \"ticks\": \"\"}}, \"type\": \"scattercarpet\"}], \"scattergeo\": [{\"marker\": {\"colorbar\": {\"outlinewidth\": 0, \"ticks\": \"\"}}, \"type\": \"scattergeo\"}], \"scattergl\": [{\"marker\": {\"colorbar\": {\"outlinewidth\": 0, \"ticks\": \"\"}}, \"type\": \"scattergl\"}], \"scattermapbox\": [{\"marker\": {\"colorbar\": {\"outlinewidth\": 0, \"ticks\": \"\"}}, \"type\": \"scattermapbox\"}], \"scatterpolar\": [{\"marker\": {\"colorbar\": {\"outlinewidth\": 0, \"ticks\": \"\"}}, \"type\": \"scatterpolar\"}], \"scatterpolargl\": [{\"marker\": {\"colorbar\": {\"outlinewidth\": 0, \"ticks\": \"\"}}, \"type\": \"scatterpolargl\"}], \"scatterternary\": [{\"marker\": {\"colorbar\": {\"outlinewidth\": 0, \"ticks\": \"\"}}, \"type\": \"scatterternary\"}], \"surface\": [{\"colorbar\": {\"outlinewidth\": 0, \"ticks\": \"\"}, \"colorscale\": [[0.0, \"#0d0887\"], [0.1111111111111111, \"#46039f\"], [0.2222222222222222, \"#7201a8\"], [0.3333333333333333, \"#9c179e\"], [0.4444444444444444, \"#bd3786\"], [0.5555555555555556, \"#d8576b\"], [0.6666666666666666, \"#ed7953\"], [0.7777777777777778, \"#fb9f3a\"], [0.8888888888888888, \"#fdca26\"], [1.0, \"#f0f921\"]], \"type\": \"surface\"}], \"table\": [{\"cells\": {\"fill\": {\"color\": \"#EBF0F8\"}, \"line\": {\"color\": \"white\"}}, \"header\": {\"fill\": {\"color\": \"#C8D4E3\"}, \"line\": {\"color\": \"white\"}}, \"type\": \"table\"}]}, \"layout\": {\"annotationdefaults\": {\"arrowcolor\": \"#2a3f5f\", \"arrowhead\": 0, \"arrowwidth\": 1}, \"autotypenumbers\": \"strict\", \"coloraxis\": {\"colorbar\": {\"outlinewidth\": 0, \"ticks\": \"\"}}, \"colorscale\": {\"diverging\": [[0, \"#8e0152\"], [0.1, \"#c51b7d\"], [0.2, \"#de77ae\"], [0.3, \"#f1b6da\"], [0.4, \"#fde0ef\"], [0.5, \"#f7f7f7\"], [0.6, \"#e6f5d0\"], [0.7, \"#b8e186\"], [0.8, \"#7fbc41\"], [0.9, \"#4d9221\"], [1, \"#276419\"]], \"sequential\": [[0.0, \"#0d0887\"], [0.1111111111111111, \"#46039f\"], [0.2222222222222222, \"#7201a8\"], [0.3333333333333333, \"#9c179e\"], [0.4444444444444444, \"#bd3786\"], [0.5555555555555556, \"#d8576b\"], [0.6666666666666666, \"#ed7953\"], [0.7777777777777778, \"#fb9f3a\"], [0.8888888888888888, \"#fdca26\"], [1.0, \"#f0f921\"]], \"sequentialminus\": [[0.0, \"#0d0887\"], [0.1111111111111111, \"#46039f\"], [0.2222222222222222, \"#7201a8\"], [0.3333333333333333, \"#9c179e\"], [0.4444444444444444, \"#bd3786\"], [0.5555555555555556, \"#d8576b\"], [0.6666666666666666, \"#ed7953\"], [0.7777777777777778, \"#fb9f3a\"], [0.8888888888888888, \"#fdca26\"], [1.0, \"#f0f921\"]]}, \"colorway\": [\"#636efa\", \"#EF553B\", \"#00cc96\", \"#ab63fa\", \"#FFA15A\", \"#19d3f3\", \"#FF6692\", \"#B6E880\", \"#FF97FF\", \"#FECB52\"], \"font\": {\"color\": \"#2a3f5f\"}, \"geo\": {\"bgcolor\": \"white\", \"lakecolor\": \"white\", \"landcolor\": \"#E5ECF6\", \"showlakes\": true, \"showland\": true, \"subunitcolor\": \"white\"}, \"hoverlabel\": {\"align\": \"left\"}, \"hovermode\": \"closest\", \"mapbox\": {\"style\": \"light\"}, \"paper_bgcolor\": \"white\", \"plot_bgcolor\": \"#E5ECF6\", \"polar\": {\"angularaxis\": {\"gridcolor\": \"white\", \"linecolor\": \"white\", \"ticks\": \"\"}, \"bgcolor\": \"#E5ECF6\", \"radialaxis\": {\"gridcolor\": \"white\", \"linecolor\": \"white\", \"ticks\": \"\"}}, \"scene\": {\"xaxis\": {\"backgroundcolor\": \"#E5ECF6\", \"gridcolor\": \"white\", \"gridwidth\": 2, \"linecolor\": \"white\", \"showbackground\": true, \"ticks\": \"\", \"zerolinecolor\": \"white\"}, \"yaxis\": {\"backgroundcolor\": \"#E5ECF6\", \"gridcolor\": \"white\", \"gridwidth\": 2, \"linecolor\": \"white\", \"showbackground\": true, \"ticks\": \"\", \"zerolinecolor\": \"white\"}, \"zaxis\": {\"backgroundcolor\": \"#E5ECF6\", \"gridcolor\": \"white\", \"gridwidth\": 2, \"linecolor\": \"white\", \"showbackground\": true, \"ticks\": \"\", \"zerolinecolor\": \"white\"}}, \"shapedefaults\": {\"line\": {\"color\": \"#2a3f5f\"}}, \"ternary\": {\"aaxis\": {\"gridcolor\": \"white\", \"linecolor\": \"white\", \"ticks\": \"\"}, \"baxis\": {\"gridcolor\": \"white\", \"linecolor\": \"white\", \"ticks\": \"\"}, \"bgcolor\": \"#E5ECF6\", \"caxis\": {\"gridcolor\": \"white\", \"linecolor\": \"white\", \"ticks\": \"\"}}, \"title\": {\"x\": 0.05}, \"xaxis\": {\"automargin\": true, \"gridcolor\": \"white\", \"linecolor\": \"white\", \"ticks\": \"\", \"title\": {\"standoff\": 15}, \"zerolinecolor\": \"white\", \"zerolinewidth\": 2}, \"yaxis\": {\"automargin\": true, \"gridcolor\": \"white\", \"linecolor\": \"white\", \"ticks\": \"\", \"title\": {\"standoff\": 15}, \"zerolinecolor\": \"white\", \"zerolinewidth\": 2}}}, \"title\": {\"font\": {\"color\": \"#4D5663\"}}, \"xaxis\": {\"gridcolor\": \"#E1E5ED\", \"showgrid\": true, \"tickfont\": {\"color\": \"#4D5663\"}, \"title\": {\"font\": {\"color\": \"#4D5663\"}, \"text\": \"\"}, \"zerolinecolor\": \"#E1E5ED\"}, \"yaxis\": {\"gridcolor\": \"#E1E5ED\", \"showgrid\": true, \"tickfont\": {\"color\": \"#4D5663\"}, \"title\": {\"font\": {\"color\": \"#4D5663\"}, \"text\": \"\"}, \"zerolinecolor\": \"#E1E5ED\"}},                        {\"showLink\": true, \"linkText\": \"Export to plot.ly\", \"plotlyServerURL\": \"https://plot.ly\", \"responsive\": true}                    ).then(function(){\n",
       "                            \n",
       "var gd = document.getElementById('a07e3d91-2ac2-4641-9a04-65b055427999');\n",
       "var x = new MutationObserver(function (mutations, observer) {{\n",
       "        var display = window.getComputedStyle(gd).display;\n",
       "        if (!display || display === 'none') {{\n",
       "            console.log([gd, 'removed!']);\n",
       "            Plotly.purge(gd);\n",
       "            observer.disconnect();\n",
       "        }}\n",
       "}});\n",
       "\n",
       "// Listen for the removal of the full notebook cells\n",
       "var notebookContainer = gd.closest('#notebook-container');\n",
       "if (notebookContainer) {{\n",
       "    x.observe(notebookContainer, {childList: true});\n",
       "}}\n",
       "\n",
       "// Listen for the clearing of the current output cell\n",
       "var outputEl = gd.closest('.output');\n",
       "if (outputEl) {{\n",
       "    x.observe(outputEl, {childList: true});\n",
       "}}\n",
       "\n",
       "                        })                };                });            </script>        </div>"
      ]
     },
     "metadata": {},
     "output_type": "display_data"
    }
   ],
   "source": [
    "df.iplot(kind='bubble',x='A',y='B',size='C')"
   ]
  },
  {
   "cell_type": "markdown",
   "metadata": {},
   "source": [
    "## scatter_matrix()\n",
    "\n",
    "Similar to sns.pairplot()"
   ]
  },
  {
   "cell_type": "code",
   "execution_count": 20,
   "metadata": {},
   "outputs": [
    {
     "data": {
      "application/vnd.plotly.v1+json": {
       "config": {
        "linkText": "Export to plot.ly",
        "plotlyServerURL": "https://plot.ly",
        "showLink": true
       },
       "data": [
        {
         "histfunc": "count",
         "histnorm": "",
         "marker": {
          "color": "rgba(255, 153, 51, 1.0)",
          "line": {
           "color": "#4D5663",
           "width": 1.3
          }
         },
         "name": "A",
         "nbinsx": 10,
         "opacity": 0.8,
         "orientation": "v",
         "type": "histogram",
         "x": [
          0.8225286437416501,
          1.7906518177693165,
          -0.4252650252772421,
          -0.11410539779221635,
          0.7794333388601931,
          0.5003190132121949,
          0.2018489181641643,
          -0.5146250488763782,
          0.3188360196714971,
          -0.5408247176895304,
          0.22587083856421108,
          -0.6974670580084895,
          0.5771703678093689,
          -0.013976202921457752,
          0.8783343452604568,
          -1.614949706939007,
          0.19153236329955206,
          -1.5765158215202855,
          -0.4112903516874633,
          -1.092087010716353,
          1.33599345630096,
          1.4351531348939572,
          -1.2848571383638239,
          -1.7510693502903472,
          0.8075813530347192,
          -0.5470180608654744,
          -0.28413980500001806,
          0.20961814337947923,
          -0.02959907422165152,
          0.9547946370028454,
          -0.4789236470968032,
          -0.5970003307837691,
          -0.39385277023122905,
          0.11981370704438987,
          0.9871751876769622,
          0.31853744701880177,
          -0.3657065423701585,
          0.37725580911967876,
          -0.18348735017904264,
          1.6081305852347272,
          0.1731427842198789,
          1.7563528761773035,
          -1.9242694093670059,
          0.15322007858144676,
          0.3694726518707792,
          1.1238409758155203,
          -0.47236617294136934,
          -2.2054955020266758,
          -0.038750514669134865,
          0.6406891232053674,
          -0.5122664102800992,
          0.4403463452002344,
          0.12621387719415295,
          0.11548873258660677,
          -0.5566016986744087,
          -0.013768255762175781,
          0.8952226489212914,
          0.9118298889268938,
          0.569114211520104,
          0.024437122932751843,
          1.701500345824061,
          0.2251987043144141,
          -0.24188881465420595,
          1.3250447913362182,
          0.360446668523524,
          0.17515640035608626,
          -1.704366488761559,
          -1.5158347740723928,
          0.4902716968708798,
          0.6453474335949971,
          -0.7399554958505687,
          1.8131232768603385,
          -0.12291573819921484,
          0.4669552405324629,
          -0.2938506167449886,
          0.40228120830014147,
          -2.149327520203454,
          -0.6866806942881285,
          -0.2927811094268949,
          0.5042300314844698,
          0.6555808286390054,
          -0.9279139834900973,
          -0.08543978812480418,
          -0.04796523223752661,
          0.0746435164054404,
          0.2307148975501273,
          -2.027424116120096,
          0.3450571253534357,
          -1.1612443444561293,
          -0.3726671090762646,
          -2.976221788193337,
          -2.1117101596495687,
          -0.6985426135652383,
          1.1965258562450305,
          -1.0459953031714726,
          1.976436641953744,
          -1.1349899468640317,
          0.3040281001626459,
          -1.8846583680508304,
          0.47535347700831315
         ],
         "xaxis": "x",
         "yaxis": "y"
        },
        {
         "line": {
          "color": "rgba(128, 128, 128, 1.0)",
          "dash": "solid",
          "shape": "linear",
          "width": 1.3
         },
         "marker": {
          "size": 2,
          "symbol": "circle"
         },
         "mode": "markers",
         "name": "A",
         "text": "",
         "type": "scatter",
         "x": [
          0.9798422876110087,
          -0.07739040844163653,
          0.199140992111598,
          -1.2143268018612448,
          0.14285538470625045,
          -0.941613979403886,
          -0.5179651092895884,
          -2.9720401690748086,
          -0.9025695839599948,
          0.7070161377970824,
          0.6226851269936455,
          1.7220710947919995,
          2.421389113461388,
          -0.15836707680921455,
          -0.00824513735289978,
          -2.4502263963546427,
          0.32938834873258654,
          0.43268652790313156,
          -0.07647046488415142,
          0.16117870564803655,
          0.5719563509363634,
          0.6489901001574245,
          0.9376314079451413,
          -0.5772109776816116,
          0.43940958062906715,
          0.27942060999655977,
          -0.9424446593446479,
          -1.486525613267546,
          1.6312084499589516,
          -0.07507516007927825,
          0.12760269243775124,
          0.05373579584888705,
          0.1379571283605871,
          -0.8678493687113031,
          -0.43134562129715953,
          0.6545365996125828,
          -0.6271866565552896,
          -0.13713206936808897,
          1.2742682936024408,
          -0.8413247811888707,
          -0.7302648312780448,
          -0.6117741047846332,
          -1.210299969457778,
          -0.3801376853687354,
          -0.48236709698927316,
          1.6101057259159142,
          0.018396524012302493,
          3.02256317083536,
          2.5691163423097496,
          -0.8487428166948513,
          -0.10164929522395912,
          0.8273933294947996,
          -0.4641358512359839,
          1.0174474127248259,
          -0.6615304859327857,
          -1.8869319213356825,
          0.4677487870018134,
          -0.9766521809572346,
          0.4424919332422819,
          -3.1831759316713057,
          0.2283009026441312,
          0.36950934843910815,
          0.5369686034283853,
          0.2983504233853764,
          -0.004378996737566833,
          1.0592911293848593,
          1.6451075032610067,
          0.29029878762587735,
          -0.4609110721334788,
          0.4378794865441988,
          -1.4283048764958761,
          0.40738608837815354,
          0.7625659313961809,
          -1.4172139471023841,
          -0.10136148568438476,
          0.15838136839989114,
          -1.3580445071102318,
          -1.1087998884123191,
          0.05526415914038533,
          0.9883265678290705,
          -0.03771628428204599,
          0.26505609003670605,
          1.0489263265095015,
          2.2480644236455434,
          -0.39604599179023386,
          -2.0576074336266377,
          1.6418210719318171,
          -2.064000840790136,
          0.18340752558238735,
          0.3708702460919371,
          0.7564073758273471,
          0.5622132114774402,
          -0.8681703206538972,
          -0.5457892288792988,
          0.6462776058743678,
          -1.388235965781543,
          -1.403310739967856,
          -0.5048268930823668,
          -0.008940855983669326,
          0.2678190263167388
         ],
         "xaxis": "x2",
         "y": [
          0.8225286437416501,
          1.7906518177693165,
          -0.4252650252772421,
          -0.11410539779221635,
          0.7794333388601931,
          0.5003190132121949,
          0.2018489181641643,
          -0.5146250488763782,
          0.3188360196714971,
          -0.5408247176895304,
          0.22587083856421108,
          -0.6974670580084895,
          0.5771703678093689,
          -0.013976202921457752,
          0.8783343452604568,
          -1.614949706939007,
          0.19153236329955206,
          -1.5765158215202855,
          -0.4112903516874633,
          -1.092087010716353,
          1.33599345630096,
          1.4351531348939572,
          -1.2848571383638239,
          -1.7510693502903472,
          0.8075813530347192,
          -0.5470180608654744,
          -0.28413980500001806,
          0.20961814337947923,
          -0.02959907422165152,
          0.9547946370028454,
          -0.4789236470968032,
          -0.5970003307837691,
          -0.39385277023122905,
          0.11981370704438987,
          0.9871751876769622,
          0.31853744701880177,
          -0.3657065423701585,
          0.37725580911967876,
          -0.18348735017904264,
          1.6081305852347272,
          0.1731427842198789,
          1.7563528761773035,
          -1.9242694093670059,
          0.15322007858144676,
          0.3694726518707792,
          1.1238409758155203,
          -0.47236617294136934,
          -2.2054955020266758,
          -0.038750514669134865,
          0.6406891232053674,
          -0.5122664102800992,
          0.4403463452002344,
          0.12621387719415295,
          0.11548873258660677,
          -0.5566016986744087,
          -0.013768255762175781,
          0.8952226489212914,
          0.9118298889268938,
          0.569114211520104,
          0.024437122932751843,
          1.701500345824061,
          0.2251987043144141,
          -0.24188881465420595,
          1.3250447913362182,
          0.360446668523524,
          0.17515640035608626,
          -1.704366488761559,
          -1.5158347740723928,
          0.4902716968708798,
          0.6453474335949971,
          -0.7399554958505687,
          1.8131232768603385,
          -0.12291573819921484,
          0.4669552405324629,
          -0.2938506167449886,
          0.40228120830014147,
          -2.149327520203454,
          -0.6866806942881285,
          -0.2927811094268949,
          0.5042300314844698,
          0.6555808286390054,
          -0.9279139834900973,
          -0.08543978812480418,
          -0.04796523223752661,
          0.0746435164054404,
          0.2307148975501273,
          -2.027424116120096,
          0.3450571253534357,
          -1.1612443444561293,
          -0.3726671090762646,
          -2.976221788193337,
          -2.1117101596495687,
          -0.6985426135652383,
          1.1965258562450305,
          -1.0459953031714726,
          1.976436641953744,
          -1.1349899468640317,
          0.3040281001626459,
          -1.8846583680508304,
          0.47535347700831315
         ],
         "yaxis": "y2"
        },
        {
         "line": {
          "color": "rgba(128, 128, 128, 1.0)",
          "dash": "solid",
          "shape": "linear",
          "width": 1.3
         },
         "marker": {
          "size": 2,
          "symbol": "circle"
         },
         "mode": "markers",
         "name": "A",
         "text": "",
         "type": "scatter",
         "x": [
          -1.8480792642687225,
          -1.5073073535465948,
          2.7517654569167695,
          -0.38327103028951126,
          0.5009825141133978,
          1.6406970586771368,
          -0.4703423325300513,
          1.6732929780811643,
          1.040691617332396,
          -0.24934723356129274,
          0.021997793443517558,
          0.8989515894069274,
          -0.5759127056740482,
          -0.7026023917505589,
          0.4692670581087731,
          1.3432700680140337,
          -0.6302423602368482,
          -0.3430283873498759,
          -1.9842157127662723,
          0.8747110508926359,
          -0.536771359647505,
          -0.392777577430483,
          -1.562564782209207,
          -0.5789699061718163,
          -0.18425013950555968,
          -2.781707116519058,
          -0.3326259378263187,
          0.14046861390619358,
          0.2825429570639549,
          0.6455258517208611,
          -1.6008958628410894,
          -0.10415536268299172,
          -0.04942963249814989,
          -0.057694290388260364,
          0.6441468014185162,
          -2.034107270522385,
          -1.1483600538743746,
          1.018752499138132,
          1.3317430124284058,
          -1.2716276574812149,
          -1.3634771643011692,
          -0.957455471343282,
          1.5406821339565229,
          -0.8136926628981285,
          0.20331805933592634,
          -0.19583194140407134,
          0.438566315735824,
          -0.7209994885802788,
          -0.8708784981578558,
          -1.1736760477006345,
          0.6346372161806274,
          0.5888789566851989,
          -0.9906076677698165,
          0.8429137123211539,
          -0.3225613770362344,
          0.5574676068308833,
          1.5137393249018745,
          0.5990314390706959,
          -2.0311028340275383,
          0.19943009806824033,
          0.19858460431477792,
          1.1068472715939244,
          0.10825003056178664,
          0.5042905887109416,
          1.2784751811154476,
          -1.2413104655095704,
          -0.7452347282645956,
          -2.37917618199128,
          1.0289070853370523,
          0.0214791390140893,
          1.0561661050786486,
          0.7704785454045623,
          0.6512151145097241,
          -0.7142081747361737,
          -0.8660196572140212,
          1.2596409014371919,
          2.3085583909486043,
          -0.6680875046149289,
          0.17983813934028284,
          -0.8132098447949029,
          -0.35154183701587355,
          1.8946547667964537,
          -0.5797419991317809,
          0.2977343502603907,
          1.7853093441655918,
          0.43633592987243625,
          -0.06958166697044685,
          0.405908894081575,
          -0.1207519711284738,
          -0.37308888981591537,
          0.6656125172898189,
          0.2557200855428001,
          0.3879497447859884,
          0.8648525072029724,
          0.8089907397609084,
          -1.6592657349829343,
          3.6772934789250584,
          -1.2565801865321515,
          0.8742079794998128,
          0.6252070910695261
         ],
         "xaxis": "x3",
         "y": [
          0.8225286437416501,
          1.7906518177693165,
          -0.4252650252772421,
          -0.11410539779221635,
          0.7794333388601931,
          0.5003190132121949,
          0.2018489181641643,
          -0.5146250488763782,
          0.3188360196714971,
          -0.5408247176895304,
          0.22587083856421108,
          -0.6974670580084895,
          0.5771703678093689,
          -0.013976202921457752,
          0.8783343452604568,
          -1.614949706939007,
          0.19153236329955206,
          -1.5765158215202855,
          -0.4112903516874633,
          -1.092087010716353,
          1.33599345630096,
          1.4351531348939572,
          -1.2848571383638239,
          -1.7510693502903472,
          0.8075813530347192,
          -0.5470180608654744,
          -0.28413980500001806,
          0.20961814337947923,
          -0.02959907422165152,
          0.9547946370028454,
          -0.4789236470968032,
          -0.5970003307837691,
          -0.39385277023122905,
          0.11981370704438987,
          0.9871751876769622,
          0.31853744701880177,
          -0.3657065423701585,
          0.37725580911967876,
          -0.18348735017904264,
          1.6081305852347272,
          0.1731427842198789,
          1.7563528761773035,
          -1.9242694093670059,
          0.15322007858144676,
          0.3694726518707792,
          1.1238409758155203,
          -0.47236617294136934,
          -2.2054955020266758,
          -0.038750514669134865,
          0.6406891232053674,
          -0.5122664102800992,
          0.4403463452002344,
          0.12621387719415295,
          0.11548873258660677,
          -0.5566016986744087,
          -0.013768255762175781,
          0.8952226489212914,
          0.9118298889268938,
          0.569114211520104,
          0.024437122932751843,
          1.701500345824061,
          0.2251987043144141,
          -0.24188881465420595,
          1.3250447913362182,
          0.360446668523524,
          0.17515640035608626,
          -1.704366488761559,
          -1.5158347740723928,
          0.4902716968708798,
          0.6453474335949971,
          -0.7399554958505687,
          1.8131232768603385,
          -0.12291573819921484,
          0.4669552405324629,
          -0.2938506167449886,
          0.40228120830014147,
          -2.149327520203454,
          -0.6866806942881285,
          -0.2927811094268949,
          0.5042300314844698,
          0.6555808286390054,
          -0.9279139834900973,
          -0.08543978812480418,
          -0.04796523223752661,
          0.0746435164054404,
          0.2307148975501273,
          -2.027424116120096,
          0.3450571253534357,
          -1.1612443444561293,
          -0.3726671090762646,
          -2.976221788193337,
          -2.1117101596495687,
          -0.6985426135652383,
          1.1965258562450305,
          -1.0459953031714726,
          1.976436641953744,
          -1.1349899468640317,
          0.3040281001626459,
          -1.8846583680508304,
          0.47535347700831315
         ],
         "yaxis": "y3"
        },
        {
         "line": {
          "color": "rgba(128, 128, 128, 1.0)",
          "dash": "solid",
          "shape": "linear",
          "width": 1.3
         },
         "marker": {
          "size": 2,
          "symbol": "circle"
         },
         "mode": "markers",
         "name": "A",
         "text": "",
         "type": "scatter",
         "x": [
          1.2461613479122662,
          0.35511800548024297,
          -0.18595130532212353,
          -0.348331163680514,
          0.8883225848929086,
          1.325522461427812,
          0.33941433827540657,
          -1.289307385363924,
          0.836862655748313,
          -1.2422626539014314,
          -0.23785040361169305,
          0.3575269752162909,
          -0.7833919368145021,
          1.1763170251412371,
          -0.1677199907341728,
          0.27484576363007573,
          -1.0069717384662105,
          0.7708681903388637,
          0.6903328280340865,
          -0.8041460697190717,
          -0.2871373624581198,
          2.8865703671670517,
          -1.5073499977394755,
          -1.5104117495595408,
          -1.8284078692508576,
          0.44508890690435504,
          0.9976528054356555,
          2.0279348439902147,
          1.0079852619223597,
          1.8536471888100592,
          1.7237696979830333,
          3.2616116359118283,
          -0.536553899835727,
          -2.0994790085645345,
          0.32554727073493106,
          1.001866910570493,
          0.3008991637173061,
          1.3980933011136987,
          0.4424802548737084,
          -1.9162143140789858,
          0.7535022360168819,
          0.4637547908724944,
          1.2695675454936253,
          0.2143156473794342,
          -0.40273638642765425,
          -0.9751938301266283,
          0.19198349123128594,
          -0.8163761336130206,
          -0.39588730360168306,
          0.6025822854472339,
          -1.6070876356004293,
          -0.4585112767016043,
          0.41357374145394177,
          -2.0584106363496675,
          -1.369515148049161,
          -0.41506667194947483,
          1.3730855774331134,
          -0.5827679154831228,
          0.14545215524503116,
          -0.6477717707128196,
          -0.8670042367262016,
          -1.128949227213457,
          1.0919228258049016,
          -0.6723324865602892,
          0.4517926883766421,
          -0.9932631897954536,
          -1.1092038143237628,
          -1.3135606732741665,
          0.19915148247209244,
          0.394242138169024,
          0.5671088500644987,
          0.13051813365402196,
          0.2828258647116239,
          0.9074373682123189,
          0.3320813900935964,
          0.9595519376518364,
          -0.3226788065780816,
          -0.3888252901605881,
          -0.7910071392137611,
          -0.8335444556133729,
          -0.3667057294077533,
          -0.06166309697020302,
          -0.20983506066863242,
          -0.0855614824397043,
          0.986974212938496,
          -0.5755739123029241,
          0.20911732239975067,
          -1.562580385161062,
          -0.3848144850911858,
          0.03184790743238982,
          1.4231806709385606,
          2.0984386482051756,
          0.19805084510560408,
          0.4249594577983598,
          0.09895821649664918,
          2.9840712563417626,
          -0.8858519487006972,
          -1.100877755934475,
          0.0646238193759247,
          0.5576473470735078
         ],
         "xaxis": "x4",
         "y": [
          0.8225286437416501,
          1.7906518177693165,
          -0.4252650252772421,
          -0.11410539779221635,
          0.7794333388601931,
          0.5003190132121949,
          0.2018489181641643,
          -0.5146250488763782,
          0.3188360196714971,
          -0.5408247176895304,
          0.22587083856421108,
          -0.6974670580084895,
          0.5771703678093689,
          -0.013976202921457752,
          0.8783343452604568,
          -1.614949706939007,
          0.19153236329955206,
          -1.5765158215202855,
          -0.4112903516874633,
          -1.092087010716353,
          1.33599345630096,
          1.4351531348939572,
          -1.2848571383638239,
          -1.7510693502903472,
          0.8075813530347192,
          -0.5470180608654744,
          -0.28413980500001806,
          0.20961814337947923,
          -0.02959907422165152,
          0.9547946370028454,
          -0.4789236470968032,
          -0.5970003307837691,
          -0.39385277023122905,
          0.11981370704438987,
          0.9871751876769622,
          0.31853744701880177,
          -0.3657065423701585,
          0.37725580911967876,
          -0.18348735017904264,
          1.6081305852347272,
          0.1731427842198789,
          1.7563528761773035,
          -1.9242694093670059,
          0.15322007858144676,
          0.3694726518707792,
          1.1238409758155203,
          -0.47236617294136934,
          -2.2054955020266758,
          -0.038750514669134865,
          0.6406891232053674,
          -0.5122664102800992,
          0.4403463452002344,
          0.12621387719415295,
          0.11548873258660677,
          -0.5566016986744087,
          -0.013768255762175781,
          0.8952226489212914,
          0.9118298889268938,
          0.569114211520104,
          0.024437122932751843,
          1.701500345824061,
          0.2251987043144141,
          -0.24188881465420595,
          1.3250447913362182,
          0.360446668523524,
          0.17515640035608626,
          -1.704366488761559,
          -1.5158347740723928,
          0.4902716968708798,
          0.6453474335949971,
          -0.7399554958505687,
          1.8131232768603385,
          -0.12291573819921484,
          0.4669552405324629,
          -0.2938506167449886,
          0.40228120830014147,
          -2.149327520203454,
          -0.6866806942881285,
          -0.2927811094268949,
          0.5042300314844698,
          0.6555808286390054,
          -0.9279139834900973,
          -0.08543978812480418,
          -0.04796523223752661,
          0.0746435164054404,
          0.2307148975501273,
          -2.027424116120096,
          0.3450571253534357,
          -1.1612443444561293,
          -0.3726671090762646,
          -2.976221788193337,
          -2.1117101596495687,
          -0.6985426135652383,
          1.1965258562450305,
          -1.0459953031714726,
          1.976436641953744,
          -1.1349899468640317,
          0.3040281001626459,
          -1.8846583680508304,
          0.47535347700831315
         ],
         "yaxis": "y4"
        },
        {
         "line": {
          "color": "rgba(128, 128, 128, 1.0)",
          "dash": "solid",
          "shape": "linear",
          "width": 1.3
         },
         "marker": {
          "size": 2,
          "symbol": "circle"
         },
         "mode": "markers",
         "name": "B",
         "text": "",
         "type": "scatter",
         "x": [
          0.8225286437416501,
          1.7906518177693165,
          -0.4252650252772421,
          -0.11410539779221635,
          0.7794333388601931,
          0.5003190132121949,
          0.2018489181641643,
          -0.5146250488763782,
          0.3188360196714971,
          -0.5408247176895304,
          0.22587083856421108,
          -0.6974670580084895,
          0.5771703678093689,
          -0.013976202921457752,
          0.8783343452604568,
          -1.614949706939007,
          0.19153236329955206,
          -1.5765158215202855,
          -0.4112903516874633,
          -1.092087010716353,
          1.33599345630096,
          1.4351531348939572,
          -1.2848571383638239,
          -1.7510693502903472,
          0.8075813530347192,
          -0.5470180608654744,
          -0.28413980500001806,
          0.20961814337947923,
          -0.02959907422165152,
          0.9547946370028454,
          -0.4789236470968032,
          -0.5970003307837691,
          -0.39385277023122905,
          0.11981370704438987,
          0.9871751876769622,
          0.31853744701880177,
          -0.3657065423701585,
          0.37725580911967876,
          -0.18348735017904264,
          1.6081305852347272,
          0.1731427842198789,
          1.7563528761773035,
          -1.9242694093670059,
          0.15322007858144676,
          0.3694726518707792,
          1.1238409758155203,
          -0.47236617294136934,
          -2.2054955020266758,
          -0.038750514669134865,
          0.6406891232053674,
          -0.5122664102800992,
          0.4403463452002344,
          0.12621387719415295,
          0.11548873258660677,
          -0.5566016986744087,
          -0.013768255762175781,
          0.8952226489212914,
          0.9118298889268938,
          0.569114211520104,
          0.024437122932751843,
          1.701500345824061,
          0.2251987043144141,
          -0.24188881465420595,
          1.3250447913362182,
          0.360446668523524,
          0.17515640035608626,
          -1.704366488761559,
          -1.5158347740723928,
          0.4902716968708798,
          0.6453474335949971,
          -0.7399554958505687,
          1.8131232768603385,
          -0.12291573819921484,
          0.4669552405324629,
          -0.2938506167449886,
          0.40228120830014147,
          -2.149327520203454,
          -0.6866806942881285,
          -0.2927811094268949,
          0.5042300314844698,
          0.6555808286390054,
          -0.9279139834900973,
          -0.08543978812480418,
          -0.04796523223752661,
          0.0746435164054404,
          0.2307148975501273,
          -2.027424116120096,
          0.3450571253534357,
          -1.1612443444561293,
          -0.3726671090762646,
          -2.976221788193337,
          -2.1117101596495687,
          -0.6985426135652383,
          1.1965258562450305,
          -1.0459953031714726,
          1.976436641953744,
          -1.1349899468640317,
          0.3040281001626459,
          -1.8846583680508304,
          0.47535347700831315
         ],
         "xaxis": "x5",
         "y": [
          0.9798422876110087,
          -0.07739040844163653,
          0.199140992111598,
          -1.2143268018612448,
          0.14285538470625045,
          -0.941613979403886,
          -0.5179651092895884,
          -2.9720401690748086,
          -0.9025695839599948,
          0.7070161377970824,
          0.6226851269936455,
          1.7220710947919995,
          2.421389113461388,
          -0.15836707680921455,
          -0.00824513735289978,
          -2.4502263963546427,
          0.32938834873258654,
          0.43268652790313156,
          -0.07647046488415142,
          0.16117870564803655,
          0.5719563509363634,
          0.6489901001574245,
          0.9376314079451413,
          -0.5772109776816116,
          0.43940958062906715,
          0.27942060999655977,
          -0.9424446593446479,
          -1.486525613267546,
          1.6312084499589516,
          -0.07507516007927825,
          0.12760269243775124,
          0.05373579584888705,
          0.1379571283605871,
          -0.8678493687113031,
          -0.43134562129715953,
          0.6545365996125828,
          -0.6271866565552896,
          -0.13713206936808897,
          1.2742682936024408,
          -0.8413247811888707,
          -0.7302648312780448,
          -0.6117741047846332,
          -1.210299969457778,
          -0.3801376853687354,
          -0.48236709698927316,
          1.6101057259159142,
          0.018396524012302493,
          3.02256317083536,
          2.5691163423097496,
          -0.8487428166948513,
          -0.10164929522395912,
          0.8273933294947996,
          -0.4641358512359839,
          1.0174474127248259,
          -0.6615304859327857,
          -1.8869319213356825,
          0.4677487870018134,
          -0.9766521809572346,
          0.4424919332422819,
          -3.1831759316713057,
          0.2283009026441312,
          0.36950934843910815,
          0.5369686034283853,
          0.2983504233853764,
          -0.004378996737566833,
          1.0592911293848593,
          1.6451075032610067,
          0.29029878762587735,
          -0.4609110721334788,
          0.4378794865441988,
          -1.4283048764958761,
          0.40738608837815354,
          0.7625659313961809,
          -1.4172139471023841,
          -0.10136148568438476,
          0.15838136839989114,
          -1.3580445071102318,
          -1.1087998884123191,
          0.05526415914038533,
          0.9883265678290705,
          -0.03771628428204599,
          0.26505609003670605,
          1.0489263265095015,
          2.2480644236455434,
          -0.39604599179023386,
          -2.0576074336266377,
          1.6418210719318171,
          -2.064000840790136,
          0.18340752558238735,
          0.3708702460919371,
          0.7564073758273471,
          0.5622132114774402,
          -0.8681703206538972,
          -0.5457892288792988,
          0.6462776058743678,
          -1.388235965781543,
          -1.403310739967856,
          -0.5048268930823668,
          -0.008940855983669326,
          0.2678190263167388
         ],
         "yaxis": "y5"
        },
        {
         "histfunc": "count",
         "histnorm": "",
         "marker": {
          "color": "rgba(55, 128, 191, 1.0)",
          "line": {
           "color": "#4D5663",
           "width": 1.3
          }
         },
         "name": "B",
         "nbinsx": 10,
         "opacity": 0.8,
         "orientation": "v",
         "type": "histogram",
         "x": [
          0.9798422876110087,
          -0.07739040844163653,
          0.199140992111598,
          -1.2143268018612448,
          0.14285538470625045,
          -0.941613979403886,
          -0.5179651092895884,
          -2.9720401690748086,
          -0.9025695839599948,
          0.7070161377970824,
          0.6226851269936455,
          1.7220710947919995,
          2.421389113461388,
          -0.15836707680921455,
          -0.00824513735289978,
          -2.4502263963546427,
          0.32938834873258654,
          0.43268652790313156,
          -0.07647046488415142,
          0.16117870564803655,
          0.5719563509363634,
          0.6489901001574245,
          0.9376314079451413,
          -0.5772109776816116,
          0.43940958062906715,
          0.27942060999655977,
          -0.9424446593446479,
          -1.486525613267546,
          1.6312084499589516,
          -0.07507516007927825,
          0.12760269243775124,
          0.05373579584888705,
          0.1379571283605871,
          -0.8678493687113031,
          -0.43134562129715953,
          0.6545365996125828,
          -0.6271866565552896,
          -0.13713206936808897,
          1.2742682936024408,
          -0.8413247811888707,
          -0.7302648312780448,
          -0.6117741047846332,
          -1.210299969457778,
          -0.3801376853687354,
          -0.48236709698927316,
          1.6101057259159142,
          0.018396524012302493,
          3.02256317083536,
          2.5691163423097496,
          -0.8487428166948513,
          -0.10164929522395912,
          0.8273933294947996,
          -0.4641358512359839,
          1.0174474127248259,
          -0.6615304859327857,
          -1.8869319213356825,
          0.4677487870018134,
          -0.9766521809572346,
          0.4424919332422819,
          -3.1831759316713057,
          0.2283009026441312,
          0.36950934843910815,
          0.5369686034283853,
          0.2983504233853764,
          -0.004378996737566833,
          1.0592911293848593,
          1.6451075032610067,
          0.29029878762587735,
          -0.4609110721334788,
          0.4378794865441988,
          -1.4283048764958761,
          0.40738608837815354,
          0.7625659313961809,
          -1.4172139471023841,
          -0.10136148568438476,
          0.15838136839989114,
          -1.3580445071102318,
          -1.1087998884123191,
          0.05526415914038533,
          0.9883265678290705,
          -0.03771628428204599,
          0.26505609003670605,
          1.0489263265095015,
          2.2480644236455434,
          -0.39604599179023386,
          -2.0576074336266377,
          1.6418210719318171,
          -2.064000840790136,
          0.18340752558238735,
          0.3708702460919371,
          0.7564073758273471,
          0.5622132114774402,
          -0.8681703206538972,
          -0.5457892288792988,
          0.6462776058743678,
          -1.388235965781543,
          -1.403310739967856,
          -0.5048268930823668,
          -0.008940855983669326,
          0.2678190263167388
         ],
         "xaxis": "x6",
         "yaxis": "y6"
        },
        {
         "line": {
          "color": "rgba(128, 128, 128, 1.0)",
          "dash": "solid",
          "shape": "linear",
          "width": 1.3
         },
         "marker": {
          "size": 2,
          "symbol": "circle"
         },
         "mode": "markers",
         "name": "B",
         "text": "",
         "type": "scatter",
         "x": [
          -1.8480792642687225,
          -1.5073073535465948,
          2.7517654569167695,
          -0.38327103028951126,
          0.5009825141133978,
          1.6406970586771368,
          -0.4703423325300513,
          1.6732929780811643,
          1.040691617332396,
          -0.24934723356129274,
          0.021997793443517558,
          0.8989515894069274,
          -0.5759127056740482,
          -0.7026023917505589,
          0.4692670581087731,
          1.3432700680140337,
          -0.6302423602368482,
          -0.3430283873498759,
          -1.9842157127662723,
          0.8747110508926359,
          -0.536771359647505,
          -0.392777577430483,
          -1.562564782209207,
          -0.5789699061718163,
          -0.18425013950555968,
          -2.781707116519058,
          -0.3326259378263187,
          0.14046861390619358,
          0.2825429570639549,
          0.6455258517208611,
          -1.6008958628410894,
          -0.10415536268299172,
          -0.04942963249814989,
          -0.057694290388260364,
          0.6441468014185162,
          -2.034107270522385,
          -1.1483600538743746,
          1.018752499138132,
          1.3317430124284058,
          -1.2716276574812149,
          -1.3634771643011692,
          -0.957455471343282,
          1.5406821339565229,
          -0.8136926628981285,
          0.20331805933592634,
          -0.19583194140407134,
          0.438566315735824,
          -0.7209994885802788,
          -0.8708784981578558,
          -1.1736760477006345,
          0.6346372161806274,
          0.5888789566851989,
          -0.9906076677698165,
          0.8429137123211539,
          -0.3225613770362344,
          0.5574676068308833,
          1.5137393249018745,
          0.5990314390706959,
          -2.0311028340275383,
          0.19943009806824033,
          0.19858460431477792,
          1.1068472715939244,
          0.10825003056178664,
          0.5042905887109416,
          1.2784751811154476,
          -1.2413104655095704,
          -0.7452347282645956,
          -2.37917618199128,
          1.0289070853370523,
          0.0214791390140893,
          1.0561661050786486,
          0.7704785454045623,
          0.6512151145097241,
          -0.7142081747361737,
          -0.8660196572140212,
          1.2596409014371919,
          2.3085583909486043,
          -0.6680875046149289,
          0.17983813934028284,
          -0.8132098447949029,
          -0.35154183701587355,
          1.8946547667964537,
          -0.5797419991317809,
          0.2977343502603907,
          1.7853093441655918,
          0.43633592987243625,
          -0.06958166697044685,
          0.405908894081575,
          -0.1207519711284738,
          -0.37308888981591537,
          0.6656125172898189,
          0.2557200855428001,
          0.3879497447859884,
          0.8648525072029724,
          0.8089907397609084,
          -1.6592657349829343,
          3.6772934789250584,
          -1.2565801865321515,
          0.8742079794998128,
          0.6252070910695261
         ],
         "xaxis": "x7",
         "y": [
          0.9798422876110087,
          -0.07739040844163653,
          0.199140992111598,
          -1.2143268018612448,
          0.14285538470625045,
          -0.941613979403886,
          -0.5179651092895884,
          -2.9720401690748086,
          -0.9025695839599948,
          0.7070161377970824,
          0.6226851269936455,
          1.7220710947919995,
          2.421389113461388,
          -0.15836707680921455,
          -0.00824513735289978,
          -2.4502263963546427,
          0.32938834873258654,
          0.43268652790313156,
          -0.07647046488415142,
          0.16117870564803655,
          0.5719563509363634,
          0.6489901001574245,
          0.9376314079451413,
          -0.5772109776816116,
          0.43940958062906715,
          0.27942060999655977,
          -0.9424446593446479,
          -1.486525613267546,
          1.6312084499589516,
          -0.07507516007927825,
          0.12760269243775124,
          0.05373579584888705,
          0.1379571283605871,
          -0.8678493687113031,
          -0.43134562129715953,
          0.6545365996125828,
          -0.6271866565552896,
          -0.13713206936808897,
          1.2742682936024408,
          -0.8413247811888707,
          -0.7302648312780448,
          -0.6117741047846332,
          -1.210299969457778,
          -0.3801376853687354,
          -0.48236709698927316,
          1.6101057259159142,
          0.018396524012302493,
          3.02256317083536,
          2.5691163423097496,
          -0.8487428166948513,
          -0.10164929522395912,
          0.8273933294947996,
          -0.4641358512359839,
          1.0174474127248259,
          -0.6615304859327857,
          -1.8869319213356825,
          0.4677487870018134,
          -0.9766521809572346,
          0.4424919332422819,
          -3.1831759316713057,
          0.2283009026441312,
          0.36950934843910815,
          0.5369686034283853,
          0.2983504233853764,
          -0.004378996737566833,
          1.0592911293848593,
          1.6451075032610067,
          0.29029878762587735,
          -0.4609110721334788,
          0.4378794865441988,
          -1.4283048764958761,
          0.40738608837815354,
          0.7625659313961809,
          -1.4172139471023841,
          -0.10136148568438476,
          0.15838136839989114,
          -1.3580445071102318,
          -1.1087998884123191,
          0.05526415914038533,
          0.9883265678290705,
          -0.03771628428204599,
          0.26505609003670605,
          1.0489263265095015,
          2.2480644236455434,
          -0.39604599179023386,
          -2.0576074336266377,
          1.6418210719318171,
          -2.064000840790136,
          0.18340752558238735,
          0.3708702460919371,
          0.7564073758273471,
          0.5622132114774402,
          -0.8681703206538972,
          -0.5457892288792988,
          0.6462776058743678,
          -1.388235965781543,
          -1.403310739967856,
          -0.5048268930823668,
          -0.008940855983669326,
          0.2678190263167388
         ],
         "yaxis": "y7"
        },
        {
         "line": {
          "color": "rgba(128, 128, 128, 1.0)",
          "dash": "solid",
          "shape": "linear",
          "width": 1.3
         },
         "marker": {
          "size": 2,
          "symbol": "circle"
         },
         "mode": "markers",
         "name": "B",
         "text": "",
         "type": "scatter",
         "x": [
          1.2461613479122662,
          0.35511800548024297,
          -0.18595130532212353,
          -0.348331163680514,
          0.8883225848929086,
          1.325522461427812,
          0.33941433827540657,
          -1.289307385363924,
          0.836862655748313,
          -1.2422626539014314,
          -0.23785040361169305,
          0.3575269752162909,
          -0.7833919368145021,
          1.1763170251412371,
          -0.1677199907341728,
          0.27484576363007573,
          -1.0069717384662105,
          0.7708681903388637,
          0.6903328280340865,
          -0.8041460697190717,
          -0.2871373624581198,
          2.8865703671670517,
          -1.5073499977394755,
          -1.5104117495595408,
          -1.8284078692508576,
          0.44508890690435504,
          0.9976528054356555,
          2.0279348439902147,
          1.0079852619223597,
          1.8536471888100592,
          1.7237696979830333,
          3.2616116359118283,
          -0.536553899835727,
          -2.0994790085645345,
          0.32554727073493106,
          1.001866910570493,
          0.3008991637173061,
          1.3980933011136987,
          0.4424802548737084,
          -1.9162143140789858,
          0.7535022360168819,
          0.4637547908724944,
          1.2695675454936253,
          0.2143156473794342,
          -0.40273638642765425,
          -0.9751938301266283,
          0.19198349123128594,
          -0.8163761336130206,
          -0.39588730360168306,
          0.6025822854472339,
          -1.6070876356004293,
          -0.4585112767016043,
          0.41357374145394177,
          -2.0584106363496675,
          -1.369515148049161,
          -0.41506667194947483,
          1.3730855774331134,
          -0.5827679154831228,
          0.14545215524503116,
          -0.6477717707128196,
          -0.8670042367262016,
          -1.128949227213457,
          1.0919228258049016,
          -0.6723324865602892,
          0.4517926883766421,
          -0.9932631897954536,
          -1.1092038143237628,
          -1.3135606732741665,
          0.19915148247209244,
          0.394242138169024,
          0.5671088500644987,
          0.13051813365402196,
          0.2828258647116239,
          0.9074373682123189,
          0.3320813900935964,
          0.9595519376518364,
          -0.3226788065780816,
          -0.3888252901605881,
          -0.7910071392137611,
          -0.8335444556133729,
          -0.3667057294077533,
          -0.06166309697020302,
          -0.20983506066863242,
          -0.0855614824397043,
          0.986974212938496,
          -0.5755739123029241,
          0.20911732239975067,
          -1.562580385161062,
          -0.3848144850911858,
          0.03184790743238982,
          1.4231806709385606,
          2.0984386482051756,
          0.19805084510560408,
          0.4249594577983598,
          0.09895821649664918,
          2.9840712563417626,
          -0.8858519487006972,
          -1.100877755934475,
          0.0646238193759247,
          0.5576473470735078
         ],
         "xaxis": "x8",
         "y": [
          0.9798422876110087,
          -0.07739040844163653,
          0.199140992111598,
          -1.2143268018612448,
          0.14285538470625045,
          -0.941613979403886,
          -0.5179651092895884,
          -2.9720401690748086,
          -0.9025695839599948,
          0.7070161377970824,
          0.6226851269936455,
          1.7220710947919995,
          2.421389113461388,
          -0.15836707680921455,
          -0.00824513735289978,
          -2.4502263963546427,
          0.32938834873258654,
          0.43268652790313156,
          -0.07647046488415142,
          0.16117870564803655,
          0.5719563509363634,
          0.6489901001574245,
          0.9376314079451413,
          -0.5772109776816116,
          0.43940958062906715,
          0.27942060999655977,
          -0.9424446593446479,
          -1.486525613267546,
          1.6312084499589516,
          -0.07507516007927825,
          0.12760269243775124,
          0.05373579584888705,
          0.1379571283605871,
          -0.8678493687113031,
          -0.43134562129715953,
          0.6545365996125828,
          -0.6271866565552896,
          -0.13713206936808897,
          1.2742682936024408,
          -0.8413247811888707,
          -0.7302648312780448,
          -0.6117741047846332,
          -1.210299969457778,
          -0.3801376853687354,
          -0.48236709698927316,
          1.6101057259159142,
          0.018396524012302493,
          3.02256317083536,
          2.5691163423097496,
          -0.8487428166948513,
          -0.10164929522395912,
          0.8273933294947996,
          -0.4641358512359839,
          1.0174474127248259,
          -0.6615304859327857,
          -1.8869319213356825,
          0.4677487870018134,
          -0.9766521809572346,
          0.4424919332422819,
          -3.1831759316713057,
          0.2283009026441312,
          0.36950934843910815,
          0.5369686034283853,
          0.2983504233853764,
          -0.004378996737566833,
          1.0592911293848593,
          1.6451075032610067,
          0.29029878762587735,
          -0.4609110721334788,
          0.4378794865441988,
          -1.4283048764958761,
          0.40738608837815354,
          0.7625659313961809,
          -1.4172139471023841,
          -0.10136148568438476,
          0.15838136839989114,
          -1.3580445071102318,
          -1.1087998884123191,
          0.05526415914038533,
          0.9883265678290705,
          -0.03771628428204599,
          0.26505609003670605,
          1.0489263265095015,
          2.2480644236455434,
          -0.39604599179023386,
          -2.0576074336266377,
          1.6418210719318171,
          -2.064000840790136,
          0.18340752558238735,
          0.3708702460919371,
          0.7564073758273471,
          0.5622132114774402,
          -0.8681703206538972,
          -0.5457892288792988,
          0.6462776058743678,
          -1.388235965781543,
          -1.403310739967856,
          -0.5048268930823668,
          -0.008940855983669326,
          0.2678190263167388
         ],
         "yaxis": "y8"
        },
        {
         "line": {
          "color": "rgba(128, 128, 128, 1.0)",
          "dash": "solid",
          "shape": "linear",
          "width": 1.3
         },
         "marker": {
          "size": 2,
          "symbol": "circle"
         },
         "mode": "markers",
         "name": "C",
         "text": "",
         "type": "scatter",
         "x": [
          0.8225286437416501,
          1.7906518177693165,
          -0.4252650252772421,
          -0.11410539779221635,
          0.7794333388601931,
          0.5003190132121949,
          0.2018489181641643,
          -0.5146250488763782,
          0.3188360196714971,
          -0.5408247176895304,
          0.22587083856421108,
          -0.6974670580084895,
          0.5771703678093689,
          -0.013976202921457752,
          0.8783343452604568,
          -1.614949706939007,
          0.19153236329955206,
          -1.5765158215202855,
          -0.4112903516874633,
          -1.092087010716353,
          1.33599345630096,
          1.4351531348939572,
          -1.2848571383638239,
          -1.7510693502903472,
          0.8075813530347192,
          -0.5470180608654744,
          -0.28413980500001806,
          0.20961814337947923,
          -0.02959907422165152,
          0.9547946370028454,
          -0.4789236470968032,
          -0.5970003307837691,
          -0.39385277023122905,
          0.11981370704438987,
          0.9871751876769622,
          0.31853744701880177,
          -0.3657065423701585,
          0.37725580911967876,
          -0.18348735017904264,
          1.6081305852347272,
          0.1731427842198789,
          1.7563528761773035,
          -1.9242694093670059,
          0.15322007858144676,
          0.3694726518707792,
          1.1238409758155203,
          -0.47236617294136934,
          -2.2054955020266758,
          -0.038750514669134865,
          0.6406891232053674,
          -0.5122664102800992,
          0.4403463452002344,
          0.12621387719415295,
          0.11548873258660677,
          -0.5566016986744087,
          -0.013768255762175781,
          0.8952226489212914,
          0.9118298889268938,
          0.569114211520104,
          0.024437122932751843,
          1.701500345824061,
          0.2251987043144141,
          -0.24188881465420595,
          1.3250447913362182,
          0.360446668523524,
          0.17515640035608626,
          -1.704366488761559,
          -1.5158347740723928,
          0.4902716968708798,
          0.6453474335949971,
          -0.7399554958505687,
          1.8131232768603385,
          -0.12291573819921484,
          0.4669552405324629,
          -0.2938506167449886,
          0.40228120830014147,
          -2.149327520203454,
          -0.6866806942881285,
          -0.2927811094268949,
          0.5042300314844698,
          0.6555808286390054,
          -0.9279139834900973,
          -0.08543978812480418,
          -0.04796523223752661,
          0.0746435164054404,
          0.2307148975501273,
          -2.027424116120096,
          0.3450571253534357,
          -1.1612443444561293,
          -0.3726671090762646,
          -2.976221788193337,
          -2.1117101596495687,
          -0.6985426135652383,
          1.1965258562450305,
          -1.0459953031714726,
          1.976436641953744,
          -1.1349899468640317,
          0.3040281001626459,
          -1.8846583680508304,
          0.47535347700831315
         ],
         "xaxis": "x9",
         "y": [
          -1.8480792642687225,
          -1.5073073535465948,
          2.7517654569167695,
          -0.38327103028951126,
          0.5009825141133978,
          1.6406970586771368,
          -0.4703423325300513,
          1.6732929780811643,
          1.040691617332396,
          -0.24934723356129274,
          0.021997793443517558,
          0.8989515894069274,
          -0.5759127056740482,
          -0.7026023917505589,
          0.4692670581087731,
          1.3432700680140337,
          -0.6302423602368482,
          -0.3430283873498759,
          -1.9842157127662723,
          0.8747110508926359,
          -0.536771359647505,
          -0.392777577430483,
          -1.562564782209207,
          -0.5789699061718163,
          -0.18425013950555968,
          -2.781707116519058,
          -0.3326259378263187,
          0.14046861390619358,
          0.2825429570639549,
          0.6455258517208611,
          -1.6008958628410894,
          -0.10415536268299172,
          -0.04942963249814989,
          -0.057694290388260364,
          0.6441468014185162,
          -2.034107270522385,
          -1.1483600538743746,
          1.018752499138132,
          1.3317430124284058,
          -1.2716276574812149,
          -1.3634771643011692,
          -0.957455471343282,
          1.5406821339565229,
          -0.8136926628981285,
          0.20331805933592634,
          -0.19583194140407134,
          0.438566315735824,
          -0.7209994885802788,
          -0.8708784981578558,
          -1.1736760477006345,
          0.6346372161806274,
          0.5888789566851989,
          -0.9906076677698165,
          0.8429137123211539,
          -0.3225613770362344,
          0.5574676068308833,
          1.5137393249018745,
          0.5990314390706959,
          -2.0311028340275383,
          0.19943009806824033,
          0.19858460431477792,
          1.1068472715939244,
          0.10825003056178664,
          0.5042905887109416,
          1.2784751811154476,
          -1.2413104655095704,
          -0.7452347282645956,
          -2.37917618199128,
          1.0289070853370523,
          0.0214791390140893,
          1.0561661050786486,
          0.7704785454045623,
          0.6512151145097241,
          -0.7142081747361737,
          -0.8660196572140212,
          1.2596409014371919,
          2.3085583909486043,
          -0.6680875046149289,
          0.17983813934028284,
          -0.8132098447949029,
          -0.35154183701587355,
          1.8946547667964537,
          -0.5797419991317809,
          0.2977343502603907,
          1.7853093441655918,
          0.43633592987243625,
          -0.06958166697044685,
          0.405908894081575,
          -0.1207519711284738,
          -0.37308888981591537,
          0.6656125172898189,
          0.2557200855428001,
          0.3879497447859884,
          0.8648525072029724,
          0.8089907397609084,
          -1.6592657349829343,
          3.6772934789250584,
          -1.2565801865321515,
          0.8742079794998128,
          0.6252070910695261
         ],
         "yaxis": "y9"
        },
        {
         "line": {
          "color": "rgba(128, 128, 128, 1.0)",
          "dash": "solid",
          "shape": "linear",
          "width": 1.3
         },
         "marker": {
          "size": 2,
          "symbol": "circle"
         },
         "mode": "markers",
         "name": "C",
         "text": "",
         "type": "scatter",
         "x": [
          0.9798422876110087,
          -0.07739040844163653,
          0.199140992111598,
          -1.2143268018612448,
          0.14285538470625045,
          -0.941613979403886,
          -0.5179651092895884,
          -2.9720401690748086,
          -0.9025695839599948,
          0.7070161377970824,
          0.6226851269936455,
          1.7220710947919995,
          2.421389113461388,
          -0.15836707680921455,
          -0.00824513735289978,
          -2.4502263963546427,
          0.32938834873258654,
          0.43268652790313156,
          -0.07647046488415142,
          0.16117870564803655,
          0.5719563509363634,
          0.6489901001574245,
          0.9376314079451413,
          -0.5772109776816116,
          0.43940958062906715,
          0.27942060999655977,
          -0.9424446593446479,
          -1.486525613267546,
          1.6312084499589516,
          -0.07507516007927825,
          0.12760269243775124,
          0.05373579584888705,
          0.1379571283605871,
          -0.8678493687113031,
          -0.43134562129715953,
          0.6545365996125828,
          -0.6271866565552896,
          -0.13713206936808897,
          1.2742682936024408,
          -0.8413247811888707,
          -0.7302648312780448,
          -0.6117741047846332,
          -1.210299969457778,
          -0.3801376853687354,
          -0.48236709698927316,
          1.6101057259159142,
          0.018396524012302493,
          3.02256317083536,
          2.5691163423097496,
          -0.8487428166948513,
          -0.10164929522395912,
          0.8273933294947996,
          -0.4641358512359839,
          1.0174474127248259,
          -0.6615304859327857,
          -1.8869319213356825,
          0.4677487870018134,
          -0.9766521809572346,
          0.4424919332422819,
          -3.1831759316713057,
          0.2283009026441312,
          0.36950934843910815,
          0.5369686034283853,
          0.2983504233853764,
          -0.004378996737566833,
          1.0592911293848593,
          1.6451075032610067,
          0.29029878762587735,
          -0.4609110721334788,
          0.4378794865441988,
          -1.4283048764958761,
          0.40738608837815354,
          0.7625659313961809,
          -1.4172139471023841,
          -0.10136148568438476,
          0.15838136839989114,
          -1.3580445071102318,
          -1.1087998884123191,
          0.05526415914038533,
          0.9883265678290705,
          -0.03771628428204599,
          0.26505609003670605,
          1.0489263265095015,
          2.2480644236455434,
          -0.39604599179023386,
          -2.0576074336266377,
          1.6418210719318171,
          -2.064000840790136,
          0.18340752558238735,
          0.3708702460919371,
          0.7564073758273471,
          0.5622132114774402,
          -0.8681703206538972,
          -0.5457892288792988,
          0.6462776058743678,
          -1.388235965781543,
          -1.403310739967856,
          -0.5048268930823668,
          -0.008940855983669326,
          0.2678190263167388
         ],
         "xaxis": "x10",
         "y": [
          -1.8480792642687225,
          -1.5073073535465948,
          2.7517654569167695,
          -0.38327103028951126,
          0.5009825141133978,
          1.6406970586771368,
          -0.4703423325300513,
          1.6732929780811643,
          1.040691617332396,
          -0.24934723356129274,
          0.021997793443517558,
          0.8989515894069274,
          -0.5759127056740482,
          -0.7026023917505589,
          0.4692670581087731,
          1.3432700680140337,
          -0.6302423602368482,
          -0.3430283873498759,
          -1.9842157127662723,
          0.8747110508926359,
          -0.536771359647505,
          -0.392777577430483,
          -1.562564782209207,
          -0.5789699061718163,
          -0.18425013950555968,
          -2.781707116519058,
          -0.3326259378263187,
          0.14046861390619358,
          0.2825429570639549,
          0.6455258517208611,
          -1.6008958628410894,
          -0.10415536268299172,
          -0.04942963249814989,
          -0.057694290388260364,
          0.6441468014185162,
          -2.034107270522385,
          -1.1483600538743746,
          1.018752499138132,
          1.3317430124284058,
          -1.2716276574812149,
          -1.3634771643011692,
          -0.957455471343282,
          1.5406821339565229,
          -0.8136926628981285,
          0.20331805933592634,
          -0.19583194140407134,
          0.438566315735824,
          -0.7209994885802788,
          -0.8708784981578558,
          -1.1736760477006345,
          0.6346372161806274,
          0.5888789566851989,
          -0.9906076677698165,
          0.8429137123211539,
          -0.3225613770362344,
          0.5574676068308833,
          1.5137393249018745,
          0.5990314390706959,
          -2.0311028340275383,
          0.19943009806824033,
          0.19858460431477792,
          1.1068472715939244,
          0.10825003056178664,
          0.5042905887109416,
          1.2784751811154476,
          -1.2413104655095704,
          -0.7452347282645956,
          -2.37917618199128,
          1.0289070853370523,
          0.0214791390140893,
          1.0561661050786486,
          0.7704785454045623,
          0.6512151145097241,
          -0.7142081747361737,
          -0.8660196572140212,
          1.2596409014371919,
          2.3085583909486043,
          -0.6680875046149289,
          0.17983813934028284,
          -0.8132098447949029,
          -0.35154183701587355,
          1.8946547667964537,
          -0.5797419991317809,
          0.2977343502603907,
          1.7853093441655918,
          0.43633592987243625,
          -0.06958166697044685,
          0.405908894081575,
          -0.1207519711284738,
          -0.37308888981591537,
          0.6656125172898189,
          0.2557200855428001,
          0.3879497447859884,
          0.8648525072029724,
          0.8089907397609084,
          -1.6592657349829343,
          3.6772934789250584,
          -1.2565801865321515,
          0.8742079794998128,
          0.6252070910695261
         ],
         "yaxis": "y10"
        },
        {
         "histfunc": "count",
         "histnorm": "",
         "marker": {
          "color": "rgba(50, 171, 96, 1.0)",
          "line": {
           "color": "#4D5663",
           "width": 1.3
          }
         },
         "name": "C",
         "nbinsx": 10,
         "opacity": 0.8,
         "orientation": "v",
         "type": "histogram",
         "x": [
          -1.8480792642687225,
          -1.5073073535465948,
          2.7517654569167695,
          -0.38327103028951126,
          0.5009825141133978,
          1.6406970586771368,
          -0.4703423325300513,
          1.6732929780811643,
          1.040691617332396,
          -0.24934723356129274,
          0.021997793443517558,
          0.8989515894069274,
          -0.5759127056740482,
          -0.7026023917505589,
          0.4692670581087731,
          1.3432700680140337,
          -0.6302423602368482,
          -0.3430283873498759,
          -1.9842157127662723,
          0.8747110508926359,
          -0.536771359647505,
          -0.392777577430483,
          -1.562564782209207,
          -0.5789699061718163,
          -0.18425013950555968,
          -2.781707116519058,
          -0.3326259378263187,
          0.14046861390619358,
          0.2825429570639549,
          0.6455258517208611,
          -1.6008958628410894,
          -0.10415536268299172,
          -0.04942963249814989,
          -0.057694290388260364,
          0.6441468014185162,
          -2.034107270522385,
          -1.1483600538743746,
          1.018752499138132,
          1.3317430124284058,
          -1.2716276574812149,
          -1.3634771643011692,
          -0.957455471343282,
          1.5406821339565229,
          -0.8136926628981285,
          0.20331805933592634,
          -0.19583194140407134,
          0.438566315735824,
          -0.7209994885802788,
          -0.8708784981578558,
          -1.1736760477006345,
          0.6346372161806274,
          0.5888789566851989,
          -0.9906076677698165,
          0.8429137123211539,
          -0.3225613770362344,
          0.5574676068308833,
          1.5137393249018745,
          0.5990314390706959,
          -2.0311028340275383,
          0.19943009806824033,
          0.19858460431477792,
          1.1068472715939244,
          0.10825003056178664,
          0.5042905887109416,
          1.2784751811154476,
          -1.2413104655095704,
          -0.7452347282645956,
          -2.37917618199128,
          1.0289070853370523,
          0.0214791390140893,
          1.0561661050786486,
          0.7704785454045623,
          0.6512151145097241,
          -0.7142081747361737,
          -0.8660196572140212,
          1.2596409014371919,
          2.3085583909486043,
          -0.6680875046149289,
          0.17983813934028284,
          -0.8132098447949029,
          -0.35154183701587355,
          1.8946547667964537,
          -0.5797419991317809,
          0.2977343502603907,
          1.7853093441655918,
          0.43633592987243625,
          -0.06958166697044685,
          0.405908894081575,
          -0.1207519711284738,
          -0.37308888981591537,
          0.6656125172898189,
          0.2557200855428001,
          0.3879497447859884,
          0.8648525072029724,
          0.8089907397609084,
          -1.6592657349829343,
          3.6772934789250584,
          -1.2565801865321515,
          0.8742079794998128,
          0.6252070910695261
         ],
         "xaxis": "x11",
         "yaxis": "y11"
        },
        {
         "line": {
          "color": "rgba(128, 128, 128, 1.0)",
          "dash": "solid",
          "shape": "linear",
          "width": 1.3
         },
         "marker": {
          "size": 2,
          "symbol": "circle"
         },
         "mode": "markers",
         "name": "C",
         "text": "",
         "type": "scatter",
         "x": [
          1.2461613479122662,
          0.35511800548024297,
          -0.18595130532212353,
          -0.348331163680514,
          0.8883225848929086,
          1.325522461427812,
          0.33941433827540657,
          -1.289307385363924,
          0.836862655748313,
          -1.2422626539014314,
          -0.23785040361169305,
          0.3575269752162909,
          -0.7833919368145021,
          1.1763170251412371,
          -0.1677199907341728,
          0.27484576363007573,
          -1.0069717384662105,
          0.7708681903388637,
          0.6903328280340865,
          -0.8041460697190717,
          -0.2871373624581198,
          2.8865703671670517,
          -1.5073499977394755,
          -1.5104117495595408,
          -1.8284078692508576,
          0.44508890690435504,
          0.9976528054356555,
          2.0279348439902147,
          1.0079852619223597,
          1.8536471888100592,
          1.7237696979830333,
          3.2616116359118283,
          -0.536553899835727,
          -2.0994790085645345,
          0.32554727073493106,
          1.001866910570493,
          0.3008991637173061,
          1.3980933011136987,
          0.4424802548737084,
          -1.9162143140789858,
          0.7535022360168819,
          0.4637547908724944,
          1.2695675454936253,
          0.2143156473794342,
          -0.40273638642765425,
          -0.9751938301266283,
          0.19198349123128594,
          -0.8163761336130206,
          -0.39588730360168306,
          0.6025822854472339,
          -1.6070876356004293,
          -0.4585112767016043,
          0.41357374145394177,
          -2.0584106363496675,
          -1.369515148049161,
          -0.41506667194947483,
          1.3730855774331134,
          -0.5827679154831228,
          0.14545215524503116,
          -0.6477717707128196,
          -0.8670042367262016,
          -1.128949227213457,
          1.0919228258049016,
          -0.6723324865602892,
          0.4517926883766421,
          -0.9932631897954536,
          -1.1092038143237628,
          -1.3135606732741665,
          0.19915148247209244,
          0.394242138169024,
          0.5671088500644987,
          0.13051813365402196,
          0.2828258647116239,
          0.9074373682123189,
          0.3320813900935964,
          0.9595519376518364,
          -0.3226788065780816,
          -0.3888252901605881,
          -0.7910071392137611,
          -0.8335444556133729,
          -0.3667057294077533,
          -0.06166309697020302,
          -0.20983506066863242,
          -0.0855614824397043,
          0.986974212938496,
          -0.5755739123029241,
          0.20911732239975067,
          -1.562580385161062,
          -0.3848144850911858,
          0.03184790743238982,
          1.4231806709385606,
          2.0984386482051756,
          0.19805084510560408,
          0.4249594577983598,
          0.09895821649664918,
          2.9840712563417626,
          -0.8858519487006972,
          -1.100877755934475,
          0.0646238193759247,
          0.5576473470735078
         ],
         "xaxis": "x12",
         "y": [
          -1.8480792642687225,
          -1.5073073535465948,
          2.7517654569167695,
          -0.38327103028951126,
          0.5009825141133978,
          1.6406970586771368,
          -0.4703423325300513,
          1.6732929780811643,
          1.040691617332396,
          -0.24934723356129274,
          0.021997793443517558,
          0.8989515894069274,
          -0.5759127056740482,
          -0.7026023917505589,
          0.4692670581087731,
          1.3432700680140337,
          -0.6302423602368482,
          -0.3430283873498759,
          -1.9842157127662723,
          0.8747110508926359,
          -0.536771359647505,
          -0.392777577430483,
          -1.562564782209207,
          -0.5789699061718163,
          -0.18425013950555968,
          -2.781707116519058,
          -0.3326259378263187,
          0.14046861390619358,
          0.2825429570639549,
          0.6455258517208611,
          -1.6008958628410894,
          -0.10415536268299172,
          -0.04942963249814989,
          -0.057694290388260364,
          0.6441468014185162,
          -2.034107270522385,
          -1.1483600538743746,
          1.018752499138132,
          1.3317430124284058,
          -1.2716276574812149,
          -1.3634771643011692,
          -0.957455471343282,
          1.5406821339565229,
          -0.8136926628981285,
          0.20331805933592634,
          -0.19583194140407134,
          0.438566315735824,
          -0.7209994885802788,
          -0.8708784981578558,
          -1.1736760477006345,
          0.6346372161806274,
          0.5888789566851989,
          -0.9906076677698165,
          0.8429137123211539,
          -0.3225613770362344,
          0.5574676068308833,
          1.5137393249018745,
          0.5990314390706959,
          -2.0311028340275383,
          0.19943009806824033,
          0.19858460431477792,
          1.1068472715939244,
          0.10825003056178664,
          0.5042905887109416,
          1.2784751811154476,
          -1.2413104655095704,
          -0.7452347282645956,
          -2.37917618199128,
          1.0289070853370523,
          0.0214791390140893,
          1.0561661050786486,
          0.7704785454045623,
          0.6512151145097241,
          -0.7142081747361737,
          -0.8660196572140212,
          1.2596409014371919,
          2.3085583909486043,
          -0.6680875046149289,
          0.17983813934028284,
          -0.8132098447949029,
          -0.35154183701587355,
          1.8946547667964537,
          -0.5797419991317809,
          0.2977343502603907,
          1.7853093441655918,
          0.43633592987243625,
          -0.06958166697044685,
          0.405908894081575,
          -0.1207519711284738,
          -0.37308888981591537,
          0.6656125172898189,
          0.2557200855428001,
          0.3879497447859884,
          0.8648525072029724,
          0.8089907397609084,
          -1.6592657349829343,
          3.6772934789250584,
          -1.2565801865321515,
          0.8742079794998128,
          0.6252070910695261
         ],
         "yaxis": "y12"
        },
        {
         "line": {
          "color": "rgba(128, 128, 128, 1.0)",
          "dash": "solid",
          "shape": "linear",
          "width": 1.3
         },
         "marker": {
          "size": 2,
          "symbol": "circle"
         },
         "mode": "markers",
         "name": "D",
         "text": "",
         "type": "scatter",
         "x": [
          0.8225286437416501,
          1.7906518177693165,
          -0.4252650252772421,
          -0.11410539779221635,
          0.7794333388601931,
          0.5003190132121949,
          0.2018489181641643,
          -0.5146250488763782,
          0.3188360196714971,
          -0.5408247176895304,
          0.22587083856421108,
          -0.6974670580084895,
          0.5771703678093689,
          -0.013976202921457752,
          0.8783343452604568,
          -1.614949706939007,
          0.19153236329955206,
          -1.5765158215202855,
          -0.4112903516874633,
          -1.092087010716353,
          1.33599345630096,
          1.4351531348939572,
          -1.2848571383638239,
          -1.7510693502903472,
          0.8075813530347192,
          -0.5470180608654744,
          -0.28413980500001806,
          0.20961814337947923,
          -0.02959907422165152,
          0.9547946370028454,
          -0.4789236470968032,
          -0.5970003307837691,
          -0.39385277023122905,
          0.11981370704438987,
          0.9871751876769622,
          0.31853744701880177,
          -0.3657065423701585,
          0.37725580911967876,
          -0.18348735017904264,
          1.6081305852347272,
          0.1731427842198789,
          1.7563528761773035,
          -1.9242694093670059,
          0.15322007858144676,
          0.3694726518707792,
          1.1238409758155203,
          -0.47236617294136934,
          -2.2054955020266758,
          -0.038750514669134865,
          0.6406891232053674,
          -0.5122664102800992,
          0.4403463452002344,
          0.12621387719415295,
          0.11548873258660677,
          -0.5566016986744087,
          -0.013768255762175781,
          0.8952226489212914,
          0.9118298889268938,
          0.569114211520104,
          0.024437122932751843,
          1.701500345824061,
          0.2251987043144141,
          -0.24188881465420595,
          1.3250447913362182,
          0.360446668523524,
          0.17515640035608626,
          -1.704366488761559,
          -1.5158347740723928,
          0.4902716968708798,
          0.6453474335949971,
          -0.7399554958505687,
          1.8131232768603385,
          -0.12291573819921484,
          0.4669552405324629,
          -0.2938506167449886,
          0.40228120830014147,
          -2.149327520203454,
          -0.6866806942881285,
          -0.2927811094268949,
          0.5042300314844698,
          0.6555808286390054,
          -0.9279139834900973,
          -0.08543978812480418,
          -0.04796523223752661,
          0.0746435164054404,
          0.2307148975501273,
          -2.027424116120096,
          0.3450571253534357,
          -1.1612443444561293,
          -0.3726671090762646,
          -2.976221788193337,
          -2.1117101596495687,
          -0.6985426135652383,
          1.1965258562450305,
          -1.0459953031714726,
          1.976436641953744,
          -1.1349899468640317,
          0.3040281001626459,
          -1.8846583680508304,
          0.47535347700831315
         ],
         "xaxis": "x13",
         "y": [
          1.2461613479122662,
          0.35511800548024297,
          -0.18595130532212353,
          -0.348331163680514,
          0.8883225848929086,
          1.325522461427812,
          0.33941433827540657,
          -1.289307385363924,
          0.836862655748313,
          -1.2422626539014314,
          -0.23785040361169305,
          0.3575269752162909,
          -0.7833919368145021,
          1.1763170251412371,
          -0.1677199907341728,
          0.27484576363007573,
          -1.0069717384662105,
          0.7708681903388637,
          0.6903328280340865,
          -0.8041460697190717,
          -0.2871373624581198,
          2.8865703671670517,
          -1.5073499977394755,
          -1.5104117495595408,
          -1.8284078692508576,
          0.44508890690435504,
          0.9976528054356555,
          2.0279348439902147,
          1.0079852619223597,
          1.8536471888100592,
          1.7237696979830333,
          3.2616116359118283,
          -0.536553899835727,
          -2.0994790085645345,
          0.32554727073493106,
          1.001866910570493,
          0.3008991637173061,
          1.3980933011136987,
          0.4424802548737084,
          -1.9162143140789858,
          0.7535022360168819,
          0.4637547908724944,
          1.2695675454936253,
          0.2143156473794342,
          -0.40273638642765425,
          -0.9751938301266283,
          0.19198349123128594,
          -0.8163761336130206,
          -0.39588730360168306,
          0.6025822854472339,
          -1.6070876356004293,
          -0.4585112767016043,
          0.41357374145394177,
          -2.0584106363496675,
          -1.369515148049161,
          -0.41506667194947483,
          1.3730855774331134,
          -0.5827679154831228,
          0.14545215524503116,
          -0.6477717707128196,
          -0.8670042367262016,
          -1.128949227213457,
          1.0919228258049016,
          -0.6723324865602892,
          0.4517926883766421,
          -0.9932631897954536,
          -1.1092038143237628,
          -1.3135606732741665,
          0.19915148247209244,
          0.394242138169024,
          0.5671088500644987,
          0.13051813365402196,
          0.2828258647116239,
          0.9074373682123189,
          0.3320813900935964,
          0.9595519376518364,
          -0.3226788065780816,
          -0.3888252901605881,
          -0.7910071392137611,
          -0.8335444556133729,
          -0.3667057294077533,
          -0.06166309697020302,
          -0.20983506066863242,
          -0.0855614824397043,
          0.986974212938496,
          -0.5755739123029241,
          0.20911732239975067,
          -1.562580385161062,
          -0.3848144850911858,
          0.03184790743238982,
          1.4231806709385606,
          2.0984386482051756,
          0.19805084510560408,
          0.4249594577983598,
          0.09895821649664918,
          2.9840712563417626,
          -0.8858519487006972,
          -1.100877755934475,
          0.0646238193759247,
          0.5576473470735078
         ],
         "yaxis": "y13"
        },
        {
         "line": {
          "color": "rgba(128, 128, 128, 1.0)",
          "dash": "solid",
          "shape": "linear",
          "width": 1.3
         },
         "marker": {
          "size": 2,
          "symbol": "circle"
         },
         "mode": "markers",
         "name": "D",
         "text": "",
         "type": "scatter",
         "x": [
          0.9798422876110087,
          -0.07739040844163653,
          0.199140992111598,
          -1.2143268018612448,
          0.14285538470625045,
          -0.941613979403886,
          -0.5179651092895884,
          -2.9720401690748086,
          -0.9025695839599948,
          0.7070161377970824,
          0.6226851269936455,
          1.7220710947919995,
          2.421389113461388,
          -0.15836707680921455,
          -0.00824513735289978,
          -2.4502263963546427,
          0.32938834873258654,
          0.43268652790313156,
          -0.07647046488415142,
          0.16117870564803655,
          0.5719563509363634,
          0.6489901001574245,
          0.9376314079451413,
          -0.5772109776816116,
          0.43940958062906715,
          0.27942060999655977,
          -0.9424446593446479,
          -1.486525613267546,
          1.6312084499589516,
          -0.07507516007927825,
          0.12760269243775124,
          0.05373579584888705,
          0.1379571283605871,
          -0.8678493687113031,
          -0.43134562129715953,
          0.6545365996125828,
          -0.6271866565552896,
          -0.13713206936808897,
          1.2742682936024408,
          -0.8413247811888707,
          -0.7302648312780448,
          -0.6117741047846332,
          -1.210299969457778,
          -0.3801376853687354,
          -0.48236709698927316,
          1.6101057259159142,
          0.018396524012302493,
          3.02256317083536,
          2.5691163423097496,
          -0.8487428166948513,
          -0.10164929522395912,
          0.8273933294947996,
          -0.4641358512359839,
          1.0174474127248259,
          -0.6615304859327857,
          -1.8869319213356825,
          0.4677487870018134,
          -0.9766521809572346,
          0.4424919332422819,
          -3.1831759316713057,
          0.2283009026441312,
          0.36950934843910815,
          0.5369686034283853,
          0.2983504233853764,
          -0.004378996737566833,
          1.0592911293848593,
          1.6451075032610067,
          0.29029878762587735,
          -0.4609110721334788,
          0.4378794865441988,
          -1.4283048764958761,
          0.40738608837815354,
          0.7625659313961809,
          -1.4172139471023841,
          -0.10136148568438476,
          0.15838136839989114,
          -1.3580445071102318,
          -1.1087998884123191,
          0.05526415914038533,
          0.9883265678290705,
          -0.03771628428204599,
          0.26505609003670605,
          1.0489263265095015,
          2.2480644236455434,
          -0.39604599179023386,
          -2.0576074336266377,
          1.6418210719318171,
          -2.064000840790136,
          0.18340752558238735,
          0.3708702460919371,
          0.7564073758273471,
          0.5622132114774402,
          -0.8681703206538972,
          -0.5457892288792988,
          0.6462776058743678,
          -1.388235965781543,
          -1.403310739967856,
          -0.5048268930823668,
          -0.008940855983669326,
          0.2678190263167388
         ],
         "xaxis": "x14",
         "y": [
          1.2461613479122662,
          0.35511800548024297,
          -0.18595130532212353,
          -0.348331163680514,
          0.8883225848929086,
          1.325522461427812,
          0.33941433827540657,
          -1.289307385363924,
          0.836862655748313,
          -1.2422626539014314,
          -0.23785040361169305,
          0.3575269752162909,
          -0.7833919368145021,
          1.1763170251412371,
          -0.1677199907341728,
          0.27484576363007573,
          -1.0069717384662105,
          0.7708681903388637,
          0.6903328280340865,
          -0.8041460697190717,
          -0.2871373624581198,
          2.8865703671670517,
          -1.5073499977394755,
          -1.5104117495595408,
          -1.8284078692508576,
          0.44508890690435504,
          0.9976528054356555,
          2.0279348439902147,
          1.0079852619223597,
          1.8536471888100592,
          1.7237696979830333,
          3.2616116359118283,
          -0.536553899835727,
          -2.0994790085645345,
          0.32554727073493106,
          1.001866910570493,
          0.3008991637173061,
          1.3980933011136987,
          0.4424802548737084,
          -1.9162143140789858,
          0.7535022360168819,
          0.4637547908724944,
          1.2695675454936253,
          0.2143156473794342,
          -0.40273638642765425,
          -0.9751938301266283,
          0.19198349123128594,
          -0.8163761336130206,
          -0.39588730360168306,
          0.6025822854472339,
          -1.6070876356004293,
          -0.4585112767016043,
          0.41357374145394177,
          -2.0584106363496675,
          -1.369515148049161,
          -0.41506667194947483,
          1.3730855774331134,
          -0.5827679154831228,
          0.14545215524503116,
          -0.6477717707128196,
          -0.8670042367262016,
          -1.128949227213457,
          1.0919228258049016,
          -0.6723324865602892,
          0.4517926883766421,
          -0.9932631897954536,
          -1.1092038143237628,
          -1.3135606732741665,
          0.19915148247209244,
          0.394242138169024,
          0.5671088500644987,
          0.13051813365402196,
          0.2828258647116239,
          0.9074373682123189,
          0.3320813900935964,
          0.9595519376518364,
          -0.3226788065780816,
          -0.3888252901605881,
          -0.7910071392137611,
          -0.8335444556133729,
          -0.3667057294077533,
          -0.06166309697020302,
          -0.20983506066863242,
          -0.0855614824397043,
          0.986974212938496,
          -0.5755739123029241,
          0.20911732239975067,
          -1.562580385161062,
          -0.3848144850911858,
          0.03184790743238982,
          1.4231806709385606,
          2.0984386482051756,
          0.19805084510560408,
          0.4249594577983598,
          0.09895821649664918,
          2.9840712563417626,
          -0.8858519487006972,
          -1.100877755934475,
          0.0646238193759247,
          0.5576473470735078
         ],
         "yaxis": "y14"
        },
        {
         "line": {
          "color": "rgba(128, 128, 128, 1.0)",
          "dash": "solid",
          "shape": "linear",
          "width": 1.3
         },
         "marker": {
          "size": 2,
          "symbol": "circle"
         },
         "mode": "markers",
         "name": "D",
         "text": "",
         "type": "scatter",
         "x": [
          -1.8480792642687225,
          -1.5073073535465948,
          2.7517654569167695,
          -0.38327103028951126,
          0.5009825141133978,
          1.6406970586771368,
          -0.4703423325300513,
          1.6732929780811643,
          1.040691617332396,
          -0.24934723356129274,
          0.021997793443517558,
          0.8989515894069274,
          -0.5759127056740482,
          -0.7026023917505589,
          0.4692670581087731,
          1.3432700680140337,
          -0.6302423602368482,
          -0.3430283873498759,
          -1.9842157127662723,
          0.8747110508926359,
          -0.536771359647505,
          -0.392777577430483,
          -1.562564782209207,
          -0.5789699061718163,
          -0.18425013950555968,
          -2.781707116519058,
          -0.3326259378263187,
          0.14046861390619358,
          0.2825429570639549,
          0.6455258517208611,
          -1.6008958628410894,
          -0.10415536268299172,
          -0.04942963249814989,
          -0.057694290388260364,
          0.6441468014185162,
          -2.034107270522385,
          -1.1483600538743746,
          1.018752499138132,
          1.3317430124284058,
          -1.2716276574812149,
          -1.3634771643011692,
          -0.957455471343282,
          1.5406821339565229,
          -0.8136926628981285,
          0.20331805933592634,
          -0.19583194140407134,
          0.438566315735824,
          -0.7209994885802788,
          -0.8708784981578558,
          -1.1736760477006345,
          0.6346372161806274,
          0.5888789566851989,
          -0.9906076677698165,
          0.8429137123211539,
          -0.3225613770362344,
          0.5574676068308833,
          1.5137393249018745,
          0.5990314390706959,
          -2.0311028340275383,
          0.19943009806824033,
          0.19858460431477792,
          1.1068472715939244,
          0.10825003056178664,
          0.5042905887109416,
          1.2784751811154476,
          -1.2413104655095704,
          -0.7452347282645956,
          -2.37917618199128,
          1.0289070853370523,
          0.0214791390140893,
          1.0561661050786486,
          0.7704785454045623,
          0.6512151145097241,
          -0.7142081747361737,
          -0.8660196572140212,
          1.2596409014371919,
          2.3085583909486043,
          -0.6680875046149289,
          0.17983813934028284,
          -0.8132098447949029,
          -0.35154183701587355,
          1.8946547667964537,
          -0.5797419991317809,
          0.2977343502603907,
          1.7853093441655918,
          0.43633592987243625,
          -0.06958166697044685,
          0.405908894081575,
          -0.1207519711284738,
          -0.37308888981591537,
          0.6656125172898189,
          0.2557200855428001,
          0.3879497447859884,
          0.8648525072029724,
          0.8089907397609084,
          -1.6592657349829343,
          3.6772934789250584,
          -1.2565801865321515,
          0.8742079794998128,
          0.6252070910695261
         ],
         "xaxis": "x15",
         "y": [
          1.2461613479122662,
          0.35511800548024297,
          -0.18595130532212353,
          -0.348331163680514,
          0.8883225848929086,
          1.325522461427812,
          0.33941433827540657,
          -1.289307385363924,
          0.836862655748313,
          -1.2422626539014314,
          -0.23785040361169305,
          0.3575269752162909,
          -0.7833919368145021,
          1.1763170251412371,
          -0.1677199907341728,
          0.27484576363007573,
          -1.0069717384662105,
          0.7708681903388637,
          0.6903328280340865,
          -0.8041460697190717,
          -0.2871373624581198,
          2.8865703671670517,
          -1.5073499977394755,
          -1.5104117495595408,
          -1.8284078692508576,
          0.44508890690435504,
          0.9976528054356555,
          2.0279348439902147,
          1.0079852619223597,
          1.8536471888100592,
          1.7237696979830333,
          3.2616116359118283,
          -0.536553899835727,
          -2.0994790085645345,
          0.32554727073493106,
          1.001866910570493,
          0.3008991637173061,
          1.3980933011136987,
          0.4424802548737084,
          -1.9162143140789858,
          0.7535022360168819,
          0.4637547908724944,
          1.2695675454936253,
          0.2143156473794342,
          -0.40273638642765425,
          -0.9751938301266283,
          0.19198349123128594,
          -0.8163761336130206,
          -0.39588730360168306,
          0.6025822854472339,
          -1.6070876356004293,
          -0.4585112767016043,
          0.41357374145394177,
          -2.0584106363496675,
          -1.369515148049161,
          -0.41506667194947483,
          1.3730855774331134,
          -0.5827679154831228,
          0.14545215524503116,
          -0.6477717707128196,
          -0.8670042367262016,
          -1.128949227213457,
          1.0919228258049016,
          -0.6723324865602892,
          0.4517926883766421,
          -0.9932631897954536,
          -1.1092038143237628,
          -1.3135606732741665,
          0.19915148247209244,
          0.394242138169024,
          0.5671088500644987,
          0.13051813365402196,
          0.2828258647116239,
          0.9074373682123189,
          0.3320813900935964,
          0.9595519376518364,
          -0.3226788065780816,
          -0.3888252901605881,
          -0.7910071392137611,
          -0.8335444556133729,
          -0.3667057294077533,
          -0.06166309697020302,
          -0.20983506066863242,
          -0.0855614824397043,
          0.986974212938496,
          -0.5755739123029241,
          0.20911732239975067,
          -1.562580385161062,
          -0.3848144850911858,
          0.03184790743238982,
          1.4231806709385606,
          2.0984386482051756,
          0.19805084510560408,
          0.4249594577983598,
          0.09895821649664918,
          2.9840712563417626,
          -0.8858519487006972,
          -1.100877755934475,
          0.0646238193759247,
          0.5576473470735078
         ],
         "yaxis": "y15"
        },
        {
         "histfunc": "count",
         "histnorm": "",
         "marker": {
          "color": "rgba(128, 0, 128, 1.0)",
          "line": {
           "color": "#4D5663",
           "width": 1.3
          }
         },
         "name": "D",
         "nbinsx": 10,
         "opacity": 0.8,
         "orientation": "v",
         "type": "histogram",
         "x": [
          1.2461613479122662,
          0.35511800548024297,
          -0.18595130532212353,
          -0.348331163680514,
          0.8883225848929086,
          1.325522461427812,
          0.33941433827540657,
          -1.289307385363924,
          0.836862655748313,
          -1.2422626539014314,
          -0.23785040361169305,
          0.3575269752162909,
          -0.7833919368145021,
          1.1763170251412371,
          -0.1677199907341728,
          0.27484576363007573,
          -1.0069717384662105,
          0.7708681903388637,
          0.6903328280340865,
          -0.8041460697190717,
          -0.2871373624581198,
          2.8865703671670517,
          -1.5073499977394755,
          -1.5104117495595408,
          -1.8284078692508576,
          0.44508890690435504,
          0.9976528054356555,
          2.0279348439902147,
          1.0079852619223597,
          1.8536471888100592,
          1.7237696979830333,
          3.2616116359118283,
          -0.536553899835727,
          -2.0994790085645345,
          0.32554727073493106,
          1.001866910570493,
          0.3008991637173061,
          1.3980933011136987,
          0.4424802548737084,
          -1.9162143140789858,
          0.7535022360168819,
          0.4637547908724944,
          1.2695675454936253,
          0.2143156473794342,
          -0.40273638642765425,
          -0.9751938301266283,
          0.19198349123128594,
          -0.8163761336130206,
          -0.39588730360168306,
          0.6025822854472339,
          -1.6070876356004293,
          -0.4585112767016043,
          0.41357374145394177,
          -2.0584106363496675,
          -1.369515148049161,
          -0.41506667194947483,
          1.3730855774331134,
          -0.5827679154831228,
          0.14545215524503116,
          -0.6477717707128196,
          -0.8670042367262016,
          -1.128949227213457,
          1.0919228258049016,
          -0.6723324865602892,
          0.4517926883766421,
          -0.9932631897954536,
          -1.1092038143237628,
          -1.3135606732741665,
          0.19915148247209244,
          0.394242138169024,
          0.5671088500644987,
          0.13051813365402196,
          0.2828258647116239,
          0.9074373682123189,
          0.3320813900935964,
          0.9595519376518364,
          -0.3226788065780816,
          -0.3888252901605881,
          -0.7910071392137611,
          -0.8335444556133729,
          -0.3667057294077533,
          -0.06166309697020302,
          -0.20983506066863242,
          -0.0855614824397043,
          0.986974212938496,
          -0.5755739123029241,
          0.20911732239975067,
          -1.562580385161062,
          -0.3848144850911858,
          0.03184790743238982,
          1.4231806709385606,
          2.0984386482051756,
          0.19805084510560408,
          0.4249594577983598,
          0.09895821649664918,
          2.9840712563417626,
          -0.8858519487006972,
          -1.100877755934475,
          0.0646238193759247,
          0.5576473470735078
         ],
         "xaxis": "x16",
         "yaxis": "y16"
        }
       ],
       "layout": {
        "bargap": 0.02,
        "legend": {
         "bgcolor": "#F5F6F9",
         "font": {
          "color": "#4D5663"
         }
        },
        "paper_bgcolor": "#F5F6F9",
        "plot_bgcolor": "#F5F6F9",
        "showlegend": false,
        "template": {
         "data": {
          "bar": [
           {
            "error_x": {
             "color": "#2a3f5f"
            },
            "error_y": {
             "color": "#2a3f5f"
            },
            "marker": {
             "line": {
              "color": "#E5ECF6",
              "width": 0.5
             }
            },
            "type": "bar"
           }
          ],
          "barpolar": [
           {
            "marker": {
             "line": {
              "color": "#E5ECF6",
              "width": 0.5
             }
            },
            "type": "barpolar"
           }
          ],
          "carpet": [
           {
            "aaxis": {
             "endlinecolor": "#2a3f5f",
             "gridcolor": "white",
             "linecolor": "white",
             "minorgridcolor": "white",
             "startlinecolor": "#2a3f5f"
            },
            "baxis": {
             "endlinecolor": "#2a3f5f",
             "gridcolor": "white",
             "linecolor": "white",
             "minorgridcolor": "white",
             "startlinecolor": "#2a3f5f"
            },
            "type": "carpet"
           }
          ],
          "choropleth": [
           {
            "colorbar": {
             "outlinewidth": 0,
             "ticks": ""
            },
            "type": "choropleth"
           }
          ],
          "contour": [
           {
            "colorbar": {
             "outlinewidth": 0,
             "ticks": ""
            },
            "colorscale": [
             [
              0,
              "#0d0887"
             ],
             [
              0.1111111111111111,
              "#46039f"
             ],
             [
              0.2222222222222222,
              "#7201a8"
             ],
             [
              0.3333333333333333,
              "#9c179e"
             ],
             [
              0.4444444444444444,
              "#bd3786"
             ],
             [
              0.5555555555555556,
              "#d8576b"
             ],
             [
              0.6666666666666666,
              "#ed7953"
             ],
             [
              0.7777777777777778,
              "#fb9f3a"
             ],
             [
              0.8888888888888888,
              "#fdca26"
             ],
             [
              1,
              "#f0f921"
             ]
            ],
            "type": "contour"
           }
          ],
          "contourcarpet": [
           {
            "colorbar": {
             "outlinewidth": 0,
             "ticks": ""
            },
            "type": "contourcarpet"
           }
          ],
          "heatmap": [
           {
            "colorbar": {
             "outlinewidth": 0,
             "ticks": ""
            },
            "colorscale": [
             [
              0,
              "#0d0887"
             ],
             [
              0.1111111111111111,
              "#46039f"
             ],
             [
              0.2222222222222222,
              "#7201a8"
             ],
             [
              0.3333333333333333,
              "#9c179e"
             ],
             [
              0.4444444444444444,
              "#bd3786"
             ],
             [
              0.5555555555555556,
              "#d8576b"
             ],
             [
              0.6666666666666666,
              "#ed7953"
             ],
             [
              0.7777777777777778,
              "#fb9f3a"
             ],
             [
              0.8888888888888888,
              "#fdca26"
             ],
             [
              1,
              "#f0f921"
             ]
            ],
            "type": "heatmap"
           }
          ],
          "heatmapgl": [
           {
            "colorbar": {
             "outlinewidth": 0,
             "ticks": ""
            },
            "colorscale": [
             [
              0,
              "#0d0887"
             ],
             [
              0.1111111111111111,
              "#46039f"
             ],
             [
              0.2222222222222222,
              "#7201a8"
             ],
             [
              0.3333333333333333,
              "#9c179e"
             ],
             [
              0.4444444444444444,
              "#bd3786"
             ],
             [
              0.5555555555555556,
              "#d8576b"
             ],
             [
              0.6666666666666666,
              "#ed7953"
             ],
             [
              0.7777777777777778,
              "#fb9f3a"
             ],
             [
              0.8888888888888888,
              "#fdca26"
             ],
             [
              1,
              "#f0f921"
             ]
            ],
            "type": "heatmapgl"
           }
          ],
          "histogram": [
           {
            "marker": {
             "colorbar": {
              "outlinewidth": 0,
              "ticks": ""
             }
            },
            "type": "histogram"
           }
          ],
          "histogram2d": [
           {
            "colorbar": {
             "outlinewidth": 0,
             "ticks": ""
            },
            "colorscale": [
             [
              0,
              "#0d0887"
             ],
             [
              0.1111111111111111,
              "#46039f"
             ],
             [
              0.2222222222222222,
              "#7201a8"
             ],
             [
              0.3333333333333333,
              "#9c179e"
             ],
             [
              0.4444444444444444,
              "#bd3786"
             ],
             [
              0.5555555555555556,
              "#d8576b"
             ],
             [
              0.6666666666666666,
              "#ed7953"
             ],
             [
              0.7777777777777778,
              "#fb9f3a"
             ],
             [
              0.8888888888888888,
              "#fdca26"
             ],
             [
              1,
              "#f0f921"
             ]
            ],
            "type": "histogram2d"
           }
          ],
          "histogram2dcontour": [
           {
            "colorbar": {
             "outlinewidth": 0,
             "ticks": ""
            },
            "colorscale": [
             [
              0,
              "#0d0887"
             ],
             [
              0.1111111111111111,
              "#46039f"
             ],
             [
              0.2222222222222222,
              "#7201a8"
             ],
             [
              0.3333333333333333,
              "#9c179e"
             ],
             [
              0.4444444444444444,
              "#bd3786"
             ],
             [
              0.5555555555555556,
              "#d8576b"
             ],
             [
              0.6666666666666666,
              "#ed7953"
             ],
             [
              0.7777777777777778,
              "#fb9f3a"
             ],
             [
              0.8888888888888888,
              "#fdca26"
             ],
             [
              1,
              "#f0f921"
             ]
            ],
            "type": "histogram2dcontour"
           }
          ],
          "mesh3d": [
           {
            "colorbar": {
             "outlinewidth": 0,
             "ticks": ""
            },
            "type": "mesh3d"
           }
          ],
          "parcoords": [
           {
            "line": {
             "colorbar": {
              "outlinewidth": 0,
              "ticks": ""
             }
            },
            "type": "parcoords"
           }
          ],
          "pie": [
           {
            "automargin": true,
            "type": "pie"
           }
          ],
          "scatter": [
           {
            "marker": {
             "colorbar": {
              "outlinewidth": 0,
              "ticks": ""
             }
            },
            "type": "scatter"
           }
          ],
          "scatter3d": [
           {
            "line": {
             "colorbar": {
              "outlinewidth": 0,
              "ticks": ""
             }
            },
            "marker": {
             "colorbar": {
              "outlinewidth": 0,
              "ticks": ""
             }
            },
            "type": "scatter3d"
           }
          ],
          "scattercarpet": [
           {
            "marker": {
             "colorbar": {
              "outlinewidth": 0,
              "ticks": ""
             }
            },
            "type": "scattercarpet"
           }
          ],
          "scattergeo": [
           {
            "marker": {
             "colorbar": {
              "outlinewidth": 0,
              "ticks": ""
             }
            },
            "type": "scattergeo"
           }
          ],
          "scattergl": [
           {
            "marker": {
             "colorbar": {
              "outlinewidth": 0,
              "ticks": ""
             }
            },
            "type": "scattergl"
           }
          ],
          "scattermapbox": [
           {
            "marker": {
             "colorbar": {
              "outlinewidth": 0,
              "ticks": ""
             }
            },
            "type": "scattermapbox"
           }
          ],
          "scatterpolar": [
           {
            "marker": {
             "colorbar": {
              "outlinewidth": 0,
              "ticks": ""
             }
            },
            "type": "scatterpolar"
           }
          ],
          "scatterpolargl": [
           {
            "marker": {
             "colorbar": {
              "outlinewidth": 0,
              "ticks": ""
             }
            },
            "type": "scatterpolargl"
           }
          ],
          "scatterternary": [
           {
            "marker": {
             "colorbar": {
              "outlinewidth": 0,
              "ticks": ""
             }
            },
            "type": "scatterternary"
           }
          ],
          "surface": [
           {
            "colorbar": {
             "outlinewidth": 0,
             "ticks": ""
            },
            "colorscale": [
             [
              0,
              "#0d0887"
             ],
             [
              0.1111111111111111,
              "#46039f"
             ],
             [
              0.2222222222222222,
              "#7201a8"
             ],
             [
              0.3333333333333333,
              "#9c179e"
             ],
             [
              0.4444444444444444,
              "#bd3786"
             ],
             [
              0.5555555555555556,
              "#d8576b"
             ],
             [
              0.6666666666666666,
              "#ed7953"
             ],
             [
              0.7777777777777778,
              "#fb9f3a"
             ],
             [
              0.8888888888888888,
              "#fdca26"
             ],
             [
              1,
              "#f0f921"
             ]
            ],
            "type": "surface"
           }
          ],
          "table": [
           {
            "cells": {
             "fill": {
              "color": "#EBF0F8"
             },
             "line": {
              "color": "white"
             }
            },
            "header": {
             "fill": {
              "color": "#C8D4E3"
             },
             "line": {
              "color": "white"
             }
            },
            "type": "table"
           }
          ]
         },
         "layout": {
          "annotationdefaults": {
           "arrowcolor": "#2a3f5f",
           "arrowhead": 0,
           "arrowwidth": 1
          },
          "autotypenumbers": "strict",
          "coloraxis": {
           "colorbar": {
            "outlinewidth": 0,
            "ticks": ""
           }
          },
          "colorscale": {
           "diverging": [
            [
             0,
             "#8e0152"
            ],
            [
             0.1,
             "#c51b7d"
            ],
            [
             0.2,
             "#de77ae"
            ],
            [
             0.3,
             "#f1b6da"
            ],
            [
             0.4,
             "#fde0ef"
            ],
            [
             0.5,
             "#f7f7f7"
            ],
            [
             0.6,
             "#e6f5d0"
            ],
            [
             0.7,
             "#b8e186"
            ],
            [
             0.8,
             "#7fbc41"
            ],
            [
             0.9,
             "#4d9221"
            ],
            [
             1,
             "#276419"
            ]
           ],
           "sequential": [
            [
             0,
             "#0d0887"
            ],
            [
             0.1111111111111111,
             "#46039f"
            ],
            [
             0.2222222222222222,
             "#7201a8"
            ],
            [
             0.3333333333333333,
             "#9c179e"
            ],
            [
             0.4444444444444444,
             "#bd3786"
            ],
            [
             0.5555555555555556,
             "#d8576b"
            ],
            [
             0.6666666666666666,
             "#ed7953"
            ],
            [
             0.7777777777777778,
             "#fb9f3a"
            ],
            [
             0.8888888888888888,
             "#fdca26"
            ],
            [
             1,
             "#f0f921"
            ]
           ],
           "sequentialminus": [
            [
             0,
             "#0d0887"
            ],
            [
             0.1111111111111111,
             "#46039f"
            ],
            [
             0.2222222222222222,
             "#7201a8"
            ],
            [
             0.3333333333333333,
             "#9c179e"
            ],
            [
             0.4444444444444444,
             "#bd3786"
            ],
            [
             0.5555555555555556,
             "#d8576b"
            ],
            [
             0.6666666666666666,
             "#ed7953"
            ],
            [
             0.7777777777777778,
             "#fb9f3a"
            ],
            [
             0.8888888888888888,
             "#fdca26"
            ],
            [
             1,
             "#f0f921"
            ]
           ]
          },
          "colorway": [
           "#636efa",
           "#EF553B",
           "#00cc96",
           "#ab63fa",
           "#FFA15A",
           "#19d3f3",
           "#FF6692",
           "#B6E880",
           "#FF97FF",
           "#FECB52"
          ],
          "font": {
           "color": "#2a3f5f"
          },
          "geo": {
           "bgcolor": "white",
           "lakecolor": "white",
           "landcolor": "#E5ECF6",
           "showlakes": true,
           "showland": true,
           "subunitcolor": "white"
          },
          "hoverlabel": {
           "align": "left"
          },
          "hovermode": "closest",
          "mapbox": {
           "style": "light"
          },
          "paper_bgcolor": "white",
          "plot_bgcolor": "#E5ECF6",
          "polar": {
           "angularaxis": {
            "gridcolor": "white",
            "linecolor": "white",
            "ticks": ""
           },
           "bgcolor": "#E5ECF6",
           "radialaxis": {
            "gridcolor": "white",
            "linecolor": "white",
            "ticks": ""
           }
          },
          "scene": {
           "xaxis": {
            "backgroundcolor": "#E5ECF6",
            "gridcolor": "white",
            "gridwidth": 2,
            "linecolor": "white",
            "showbackground": true,
            "ticks": "",
            "zerolinecolor": "white"
           },
           "yaxis": {
            "backgroundcolor": "#E5ECF6",
            "gridcolor": "white",
            "gridwidth": 2,
            "linecolor": "white",
            "showbackground": true,
            "ticks": "",
            "zerolinecolor": "white"
           },
           "zaxis": {
            "backgroundcolor": "#E5ECF6",
            "gridcolor": "white",
            "gridwidth": 2,
            "linecolor": "white",
            "showbackground": true,
            "ticks": "",
            "zerolinecolor": "white"
           }
          },
          "shapedefaults": {
           "line": {
            "color": "#2a3f5f"
           }
          },
          "ternary": {
           "aaxis": {
            "gridcolor": "white",
            "linecolor": "white",
            "ticks": ""
           },
           "baxis": {
            "gridcolor": "white",
            "linecolor": "white",
            "ticks": ""
           },
           "bgcolor": "#E5ECF6",
           "caxis": {
            "gridcolor": "white",
            "linecolor": "white",
            "ticks": ""
           }
          },
          "title": {
           "x": 0.05
          },
          "xaxis": {
           "automargin": true,
           "gridcolor": "white",
           "linecolor": "white",
           "ticks": "",
           "title": {
            "standoff": 15
           },
           "zerolinecolor": "white",
           "zerolinewidth": 2
          },
          "yaxis": {
           "automargin": true,
           "gridcolor": "white",
           "linecolor": "white",
           "ticks": "",
           "title": {
            "standoff": 15
           },
           "zerolinecolor": "white",
           "zerolinewidth": 2
          }
         }
        },
        "title": {
         "font": {
          "color": "#4D5663"
         }
        },
        "xaxis": {
         "anchor": "y",
         "domain": [
          0,
          0.2125
         ],
         "gridcolor": "#E1E5ED",
         "showgrid": false,
         "tickfont": {
          "color": "#4D5663"
         },
         "title": {
          "font": {
           "color": "#4D5663"
          },
          "text": ""
         },
         "zerolinecolor": "#E1E5ED"
        },
        "xaxis10": {
         "anchor": "y10",
         "domain": [
          0.2625,
          0.475
         ],
         "gridcolor": "#E1E5ED",
         "showgrid": false,
         "tickfont": {
          "color": "#4D5663"
         },
         "title": {
          "font": {
           "color": "#4D5663"
          },
          "text": ""
         },
         "zerolinecolor": "#E1E5ED"
        },
        "xaxis11": {
         "anchor": "y11",
         "domain": [
          0.525,
          0.7375
         ],
         "gridcolor": "#E1E5ED",
         "showgrid": false,
         "tickfont": {
          "color": "#4D5663"
         },
         "title": {
          "font": {
           "color": "#4D5663"
          },
          "text": ""
         },
         "zerolinecolor": "#E1E5ED"
        },
        "xaxis12": {
         "anchor": "y12",
         "domain": [
          0.7875,
          1
         ],
         "gridcolor": "#E1E5ED",
         "showgrid": false,
         "tickfont": {
          "color": "#4D5663"
         },
         "title": {
          "font": {
           "color": "#4D5663"
          },
          "text": ""
         },
         "zerolinecolor": "#E1E5ED"
        },
        "xaxis13": {
         "anchor": "y13",
         "domain": [
          0,
          0.2125
         ],
         "gridcolor": "#E1E5ED",
         "showgrid": false,
         "tickfont": {
          "color": "#4D5663"
         },
         "title": {
          "font": {
           "color": "#4D5663"
          },
          "text": ""
         },
         "zerolinecolor": "#E1E5ED"
        },
        "xaxis14": {
         "anchor": "y14",
         "domain": [
          0.2625,
          0.475
         ],
         "gridcolor": "#E1E5ED",
         "showgrid": false,
         "tickfont": {
          "color": "#4D5663"
         },
         "title": {
          "font": {
           "color": "#4D5663"
          },
          "text": ""
         },
         "zerolinecolor": "#E1E5ED"
        },
        "xaxis15": {
         "anchor": "y15",
         "domain": [
          0.525,
          0.7375
         ],
         "gridcolor": "#E1E5ED",
         "showgrid": false,
         "tickfont": {
          "color": "#4D5663"
         },
         "title": {
          "font": {
           "color": "#4D5663"
          },
          "text": ""
         },
         "zerolinecolor": "#E1E5ED"
        },
        "xaxis16": {
         "anchor": "y16",
         "domain": [
          0.7875,
          1
         ],
         "gridcolor": "#E1E5ED",
         "showgrid": false,
         "tickfont": {
          "color": "#4D5663"
         },
         "title": {
          "font": {
           "color": "#4D5663"
          },
          "text": ""
         },
         "zerolinecolor": "#E1E5ED"
        },
        "xaxis2": {
         "anchor": "y2",
         "domain": [
          0.2625,
          0.475
         ],
         "gridcolor": "#E1E5ED",
         "showgrid": false,
         "tickfont": {
          "color": "#4D5663"
         },
         "title": {
          "font": {
           "color": "#4D5663"
          },
          "text": ""
         },
         "zerolinecolor": "#E1E5ED"
        },
        "xaxis3": {
         "anchor": "y3",
         "domain": [
          0.525,
          0.7375
         ],
         "gridcolor": "#E1E5ED",
         "showgrid": false,
         "tickfont": {
          "color": "#4D5663"
         },
         "title": {
          "font": {
           "color": "#4D5663"
          },
          "text": ""
         },
         "zerolinecolor": "#E1E5ED"
        },
        "xaxis4": {
         "anchor": "y4",
         "domain": [
          0.7875,
          1
         ],
         "gridcolor": "#E1E5ED",
         "showgrid": false,
         "tickfont": {
          "color": "#4D5663"
         },
         "title": {
          "font": {
           "color": "#4D5663"
          },
          "text": ""
         },
         "zerolinecolor": "#E1E5ED"
        },
        "xaxis5": {
         "anchor": "y5",
         "domain": [
          0,
          0.2125
         ],
         "gridcolor": "#E1E5ED",
         "showgrid": false,
         "tickfont": {
          "color": "#4D5663"
         },
         "title": {
          "font": {
           "color": "#4D5663"
          },
          "text": ""
         },
         "zerolinecolor": "#E1E5ED"
        },
        "xaxis6": {
         "anchor": "y6",
         "domain": [
          0.2625,
          0.475
         ],
         "gridcolor": "#E1E5ED",
         "showgrid": false,
         "tickfont": {
          "color": "#4D5663"
         },
         "title": {
          "font": {
           "color": "#4D5663"
          },
          "text": ""
         },
         "zerolinecolor": "#E1E5ED"
        },
        "xaxis7": {
         "anchor": "y7",
         "domain": [
          0.525,
          0.7375
         ],
         "gridcolor": "#E1E5ED",
         "showgrid": false,
         "tickfont": {
          "color": "#4D5663"
         },
         "title": {
          "font": {
           "color": "#4D5663"
          },
          "text": ""
         },
         "zerolinecolor": "#E1E5ED"
        },
        "xaxis8": {
         "anchor": "y8",
         "domain": [
          0.7875,
          1
         ],
         "gridcolor": "#E1E5ED",
         "showgrid": false,
         "tickfont": {
          "color": "#4D5663"
         },
         "title": {
          "font": {
           "color": "#4D5663"
          },
          "text": ""
         },
         "zerolinecolor": "#E1E5ED"
        },
        "xaxis9": {
         "anchor": "y9",
         "domain": [
          0,
          0.2125
         ],
         "gridcolor": "#E1E5ED",
         "showgrid": false,
         "tickfont": {
          "color": "#4D5663"
         },
         "title": {
          "font": {
           "color": "#4D5663"
          },
          "text": ""
         },
         "zerolinecolor": "#E1E5ED"
        },
        "yaxis": {
         "anchor": "x",
         "domain": [
          0.8025,
          1
         ],
         "gridcolor": "#E1E5ED",
         "showgrid": false,
         "tickfont": {
          "color": "#4D5663"
         },
         "title": {
          "font": {
           "color": "#4D5663"
          },
          "text": ""
         },
         "zerolinecolor": "#E1E5ED"
        },
        "yaxis10": {
         "anchor": "x10",
         "domain": [
          0.2675,
          0.465
         ],
         "gridcolor": "#E1E5ED",
         "showgrid": false,
         "tickfont": {
          "color": "#4D5663"
         },
         "title": {
          "font": {
           "color": "#4D5663"
          },
          "text": ""
         },
         "zerolinecolor": "#E1E5ED"
        },
        "yaxis11": {
         "anchor": "x11",
         "domain": [
          0.2675,
          0.465
         ],
         "gridcolor": "#E1E5ED",
         "showgrid": false,
         "tickfont": {
          "color": "#4D5663"
         },
         "title": {
          "font": {
           "color": "#4D5663"
          },
          "text": ""
         },
         "zerolinecolor": "#E1E5ED"
        },
        "yaxis12": {
         "anchor": "x12",
         "domain": [
          0.2675,
          0.465
         ],
         "gridcolor": "#E1E5ED",
         "showgrid": false,
         "tickfont": {
          "color": "#4D5663"
         },
         "title": {
          "font": {
           "color": "#4D5663"
          },
          "text": ""
         },
         "zerolinecolor": "#E1E5ED"
        },
        "yaxis13": {
         "anchor": "x13",
         "domain": [
          0,
          0.1975
         ],
         "gridcolor": "#E1E5ED",
         "showgrid": false,
         "tickfont": {
          "color": "#4D5663"
         },
         "title": {
          "font": {
           "color": "#4D5663"
          },
          "text": ""
         },
         "zerolinecolor": "#E1E5ED"
        },
        "yaxis14": {
         "anchor": "x14",
         "domain": [
          0,
          0.1975
         ],
         "gridcolor": "#E1E5ED",
         "showgrid": false,
         "tickfont": {
          "color": "#4D5663"
         },
         "title": {
          "font": {
           "color": "#4D5663"
          },
          "text": ""
         },
         "zerolinecolor": "#E1E5ED"
        },
        "yaxis15": {
         "anchor": "x15",
         "domain": [
          0,
          0.1975
         ],
         "gridcolor": "#E1E5ED",
         "showgrid": false,
         "tickfont": {
          "color": "#4D5663"
         },
         "title": {
          "font": {
           "color": "#4D5663"
          },
          "text": ""
         },
         "zerolinecolor": "#E1E5ED"
        },
        "yaxis16": {
         "anchor": "x16",
         "domain": [
          0,
          0.1975
         ],
         "gridcolor": "#E1E5ED",
         "showgrid": false,
         "tickfont": {
          "color": "#4D5663"
         },
         "title": {
          "font": {
           "color": "#4D5663"
          },
          "text": ""
         },
         "zerolinecolor": "#E1E5ED"
        },
        "yaxis2": {
         "anchor": "x2",
         "domain": [
          0.8025,
          1
         ],
         "gridcolor": "#E1E5ED",
         "showgrid": false,
         "tickfont": {
          "color": "#4D5663"
         },
         "title": {
          "font": {
           "color": "#4D5663"
          },
          "text": ""
         },
         "zerolinecolor": "#E1E5ED"
        },
        "yaxis3": {
         "anchor": "x3",
         "domain": [
          0.8025,
          1
         ],
         "gridcolor": "#E1E5ED",
         "showgrid": false,
         "tickfont": {
          "color": "#4D5663"
         },
         "title": {
          "font": {
           "color": "#4D5663"
          },
          "text": ""
         },
         "zerolinecolor": "#E1E5ED"
        },
        "yaxis4": {
         "anchor": "x4",
         "domain": [
          0.8025,
          1
         ],
         "gridcolor": "#E1E5ED",
         "showgrid": false,
         "tickfont": {
          "color": "#4D5663"
         },
         "title": {
          "font": {
           "color": "#4D5663"
          },
          "text": ""
         },
         "zerolinecolor": "#E1E5ED"
        },
        "yaxis5": {
         "anchor": "x5",
         "domain": [
          0.535,
          0.7325
         ],
         "gridcolor": "#E1E5ED",
         "showgrid": false,
         "tickfont": {
          "color": "#4D5663"
         },
         "title": {
          "font": {
           "color": "#4D5663"
          },
          "text": ""
         },
         "zerolinecolor": "#E1E5ED"
        },
        "yaxis6": {
         "anchor": "x6",
         "domain": [
          0.535,
          0.7325
         ],
         "gridcolor": "#E1E5ED",
         "showgrid": false,
         "tickfont": {
          "color": "#4D5663"
         },
         "title": {
          "font": {
           "color": "#4D5663"
          },
          "text": ""
         },
         "zerolinecolor": "#E1E5ED"
        },
        "yaxis7": {
         "anchor": "x7",
         "domain": [
          0.535,
          0.7325
         ],
         "gridcolor": "#E1E5ED",
         "showgrid": false,
         "tickfont": {
          "color": "#4D5663"
         },
         "title": {
          "font": {
           "color": "#4D5663"
          },
          "text": ""
         },
         "zerolinecolor": "#E1E5ED"
        },
        "yaxis8": {
         "anchor": "x8",
         "domain": [
          0.535,
          0.7325
         ],
         "gridcolor": "#E1E5ED",
         "showgrid": false,
         "tickfont": {
          "color": "#4D5663"
         },
         "title": {
          "font": {
           "color": "#4D5663"
          },
          "text": ""
         },
         "zerolinecolor": "#E1E5ED"
        },
        "yaxis9": {
         "anchor": "x9",
         "domain": [
          0.2675,
          0.465
         ],
         "gridcolor": "#E1E5ED",
         "showgrid": false,
         "tickfont": {
          "color": "#4D5663"
         },
         "title": {
          "font": {
           "color": "#4D5663"
          },
          "text": ""
         },
         "zerolinecolor": "#E1E5ED"
        }
       }
      },
      "text/html": [
       "<div>                            <div id=\"7d6b8fde-6430-4bf6-8fbd-15970d647e64\" class=\"plotly-graph-div\" style=\"height:525px; width:100%;\"></div>            <script type=\"text/javascript\">                require([\"plotly\"], function(Plotly) {                    window.PLOTLYENV=window.PLOTLYENV || {};\n",
       "                    window.PLOTLYENV.BASE_URL='https://plot.ly';                                    if (document.getElementById(\"7d6b8fde-6430-4bf6-8fbd-15970d647e64\")) {                    Plotly.newPlot(                        \"7d6b8fde-6430-4bf6-8fbd-15970d647e64\",                        [{\"histfunc\": \"count\", \"histnorm\": \"\", \"marker\": {\"color\": \"rgba(255, 153, 51, 1.0)\", \"line\": {\"color\": \"#4D5663\", \"width\": 1.3}}, \"name\": \"A\", \"nbinsx\": 10, \"opacity\": 0.8, \"orientation\": \"v\", \"type\": \"histogram\", \"x\": [0.8225286437416501, 1.7906518177693165, -0.4252650252772421, -0.11410539779221635, 0.7794333388601931, 0.5003190132121949, 0.2018489181641643, -0.5146250488763782, 0.3188360196714971, -0.5408247176895304, 0.22587083856421108, -0.6974670580084895, 0.5771703678093689, -0.013976202921457752, 0.8783343452604568, -1.614949706939007, 0.19153236329955206, -1.5765158215202855, -0.4112903516874633, -1.092087010716353, 1.33599345630096, 1.4351531348939572, -1.2848571383638239, -1.7510693502903472, 0.8075813530347192, -0.5470180608654744, -0.28413980500001806, 0.20961814337947923, -0.02959907422165152, 0.9547946370028454, -0.4789236470968032, -0.5970003307837691, -0.39385277023122905, 0.11981370704438987, 0.9871751876769622, 0.31853744701880177, -0.3657065423701585, 0.37725580911967876, -0.18348735017904264, 1.6081305852347272, 0.1731427842198789, 1.7563528761773035, -1.9242694093670059, 0.15322007858144676, 0.3694726518707792, 1.1238409758155203, -0.47236617294136934, -2.2054955020266758, -0.038750514669134865, 0.6406891232053674, -0.5122664102800992, 0.4403463452002344, 0.12621387719415295, 0.11548873258660677, -0.5566016986744087, -0.013768255762175781, 0.8952226489212914, 0.9118298889268938, 0.569114211520104, 0.024437122932751843, 1.701500345824061, 0.2251987043144141, -0.24188881465420595, 1.3250447913362182, 0.360446668523524, 0.17515640035608626, -1.704366488761559, -1.5158347740723928, 0.4902716968708798, 0.6453474335949971, -0.7399554958505687, 1.8131232768603385, -0.12291573819921484, 0.4669552405324629, -0.2938506167449886, 0.40228120830014147, -2.149327520203454, -0.6866806942881285, -0.2927811094268949, 0.5042300314844698, 0.6555808286390054, -0.9279139834900973, -0.08543978812480418, -0.04796523223752661, 0.0746435164054404, 0.2307148975501273, -2.027424116120096, 0.3450571253534357, -1.1612443444561293, -0.3726671090762646, -2.976221788193337, -2.1117101596495687, -0.6985426135652383, 1.1965258562450305, -1.0459953031714726, 1.976436641953744, -1.1349899468640317, 0.3040281001626459, -1.8846583680508304, 0.47535347700831315], \"xaxis\": \"x\", \"yaxis\": \"y\"}, {\"line\": {\"color\": \"rgba(128, 128, 128, 1.0)\", \"dash\": \"solid\", \"shape\": \"linear\", \"width\": 1.3}, \"marker\": {\"size\": 2, \"symbol\": \"circle\"}, \"mode\": \"markers\", \"name\": \"A\", \"text\": \"\", \"type\": \"scatter\", \"x\": [0.9798422876110087, -0.07739040844163653, 0.199140992111598, -1.2143268018612448, 0.14285538470625045, -0.941613979403886, -0.5179651092895884, -2.9720401690748086, -0.9025695839599948, 0.7070161377970824, 0.6226851269936455, 1.7220710947919995, 2.421389113461388, -0.15836707680921455, -0.00824513735289978, -2.4502263963546427, 0.32938834873258654, 0.43268652790313156, -0.07647046488415142, 0.16117870564803655, 0.5719563509363634, 0.6489901001574245, 0.9376314079451413, -0.5772109776816116, 0.43940958062906715, 0.27942060999655977, -0.9424446593446479, -1.486525613267546, 1.6312084499589516, -0.07507516007927825, 0.12760269243775124, 0.05373579584888705, 0.1379571283605871, -0.8678493687113031, -0.43134562129715953, 0.6545365996125828, -0.6271866565552896, -0.13713206936808897, 1.2742682936024408, -0.8413247811888707, -0.7302648312780448, -0.6117741047846332, -1.210299969457778, -0.3801376853687354, -0.48236709698927316, 1.6101057259159142, 0.018396524012302493, 3.02256317083536, 2.5691163423097496, -0.8487428166948513, -0.10164929522395912, 0.8273933294947996, -0.4641358512359839, 1.0174474127248259, -0.6615304859327857, -1.8869319213356825, 0.4677487870018134, -0.9766521809572346, 0.4424919332422819, -3.1831759316713057, 0.2283009026441312, 0.36950934843910815, 0.5369686034283853, 0.2983504233853764, -0.004378996737566833, 1.0592911293848593, 1.6451075032610067, 0.29029878762587735, -0.4609110721334788, 0.4378794865441988, -1.4283048764958761, 0.40738608837815354, 0.7625659313961809, -1.4172139471023841, -0.10136148568438476, 0.15838136839989114, -1.3580445071102318, -1.1087998884123191, 0.05526415914038533, 0.9883265678290705, -0.03771628428204599, 0.26505609003670605, 1.0489263265095015, 2.2480644236455434, -0.39604599179023386, -2.0576074336266377, 1.6418210719318171, -2.064000840790136, 0.18340752558238735, 0.3708702460919371, 0.7564073758273471, 0.5622132114774402, -0.8681703206538972, -0.5457892288792988, 0.6462776058743678, -1.388235965781543, -1.403310739967856, -0.5048268930823668, -0.008940855983669326, 0.2678190263167388], \"xaxis\": \"x2\", \"y\": [0.8225286437416501, 1.7906518177693165, -0.4252650252772421, -0.11410539779221635, 0.7794333388601931, 0.5003190132121949, 0.2018489181641643, -0.5146250488763782, 0.3188360196714971, -0.5408247176895304, 0.22587083856421108, -0.6974670580084895, 0.5771703678093689, -0.013976202921457752, 0.8783343452604568, -1.614949706939007, 0.19153236329955206, -1.5765158215202855, -0.4112903516874633, -1.092087010716353, 1.33599345630096, 1.4351531348939572, -1.2848571383638239, -1.7510693502903472, 0.8075813530347192, -0.5470180608654744, -0.28413980500001806, 0.20961814337947923, -0.02959907422165152, 0.9547946370028454, -0.4789236470968032, -0.5970003307837691, -0.39385277023122905, 0.11981370704438987, 0.9871751876769622, 0.31853744701880177, -0.3657065423701585, 0.37725580911967876, -0.18348735017904264, 1.6081305852347272, 0.1731427842198789, 1.7563528761773035, -1.9242694093670059, 0.15322007858144676, 0.3694726518707792, 1.1238409758155203, -0.47236617294136934, -2.2054955020266758, -0.038750514669134865, 0.6406891232053674, -0.5122664102800992, 0.4403463452002344, 0.12621387719415295, 0.11548873258660677, -0.5566016986744087, -0.013768255762175781, 0.8952226489212914, 0.9118298889268938, 0.569114211520104, 0.024437122932751843, 1.701500345824061, 0.2251987043144141, -0.24188881465420595, 1.3250447913362182, 0.360446668523524, 0.17515640035608626, -1.704366488761559, -1.5158347740723928, 0.4902716968708798, 0.6453474335949971, -0.7399554958505687, 1.8131232768603385, -0.12291573819921484, 0.4669552405324629, -0.2938506167449886, 0.40228120830014147, -2.149327520203454, -0.6866806942881285, -0.2927811094268949, 0.5042300314844698, 0.6555808286390054, -0.9279139834900973, -0.08543978812480418, -0.04796523223752661, 0.0746435164054404, 0.2307148975501273, -2.027424116120096, 0.3450571253534357, -1.1612443444561293, -0.3726671090762646, -2.976221788193337, -2.1117101596495687, -0.6985426135652383, 1.1965258562450305, -1.0459953031714726, 1.976436641953744, -1.1349899468640317, 0.3040281001626459, -1.8846583680508304, 0.47535347700831315], \"yaxis\": \"y2\"}, {\"line\": {\"color\": \"rgba(128, 128, 128, 1.0)\", \"dash\": \"solid\", \"shape\": \"linear\", \"width\": 1.3}, \"marker\": {\"size\": 2, \"symbol\": \"circle\"}, \"mode\": \"markers\", \"name\": \"A\", \"text\": \"\", \"type\": \"scatter\", \"x\": [-1.8480792642687225, -1.5073073535465948, 2.7517654569167695, -0.38327103028951126, 0.5009825141133978, 1.6406970586771368, -0.4703423325300513, 1.6732929780811643, 1.040691617332396, -0.24934723356129274, 0.021997793443517558, 0.8989515894069274, -0.5759127056740482, -0.7026023917505589, 0.4692670581087731, 1.3432700680140337, -0.6302423602368482, -0.3430283873498759, -1.9842157127662723, 0.8747110508926359, -0.536771359647505, -0.392777577430483, -1.562564782209207, -0.5789699061718163, -0.18425013950555968, -2.781707116519058, -0.3326259378263187, 0.14046861390619358, 0.2825429570639549, 0.6455258517208611, -1.6008958628410894, -0.10415536268299172, -0.04942963249814989, -0.057694290388260364, 0.6441468014185162, -2.034107270522385, -1.1483600538743746, 1.018752499138132, 1.3317430124284058, -1.2716276574812149, -1.3634771643011692, -0.957455471343282, 1.5406821339565229, -0.8136926628981285, 0.20331805933592634, -0.19583194140407134, 0.438566315735824, -0.7209994885802788, -0.8708784981578558, -1.1736760477006345, 0.6346372161806274, 0.5888789566851989, -0.9906076677698165, 0.8429137123211539, -0.3225613770362344, 0.5574676068308833, 1.5137393249018745, 0.5990314390706959, -2.0311028340275383, 0.19943009806824033, 0.19858460431477792, 1.1068472715939244, 0.10825003056178664, 0.5042905887109416, 1.2784751811154476, -1.2413104655095704, -0.7452347282645956, -2.37917618199128, 1.0289070853370523, 0.0214791390140893, 1.0561661050786486, 0.7704785454045623, 0.6512151145097241, -0.7142081747361737, -0.8660196572140212, 1.2596409014371919, 2.3085583909486043, -0.6680875046149289, 0.17983813934028284, -0.8132098447949029, -0.35154183701587355, 1.8946547667964537, -0.5797419991317809, 0.2977343502603907, 1.7853093441655918, 0.43633592987243625, -0.06958166697044685, 0.405908894081575, -0.1207519711284738, -0.37308888981591537, 0.6656125172898189, 0.2557200855428001, 0.3879497447859884, 0.8648525072029724, 0.8089907397609084, -1.6592657349829343, 3.6772934789250584, -1.2565801865321515, 0.8742079794998128, 0.6252070910695261], \"xaxis\": \"x3\", \"y\": [0.8225286437416501, 1.7906518177693165, -0.4252650252772421, -0.11410539779221635, 0.7794333388601931, 0.5003190132121949, 0.2018489181641643, -0.5146250488763782, 0.3188360196714971, -0.5408247176895304, 0.22587083856421108, -0.6974670580084895, 0.5771703678093689, -0.013976202921457752, 0.8783343452604568, -1.614949706939007, 0.19153236329955206, -1.5765158215202855, -0.4112903516874633, -1.092087010716353, 1.33599345630096, 1.4351531348939572, -1.2848571383638239, -1.7510693502903472, 0.8075813530347192, -0.5470180608654744, -0.28413980500001806, 0.20961814337947923, -0.02959907422165152, 0.9547946370028454, -0.4789236470968032, -0.5970003307837691, -0.39385277023122905, 0.11981370704438987, 0.9871751876769622, 0.31853744701880177, -0.3657065423701585, 0.37725580911967876, -0.18348735017904264, 1.6081305852347272, 0.1731427842198789, 1.7563528761773035, -1.9242694093670059, 0.15322007858144676, 0.3694726518707792, 1.1238409758155203, -0.47236617294136934, -2.2054955020266758, -0.038750514669134865, 0.6406891232053674, -0.5122664102800992, 0.4403463452002344, 0.12621387719415295, 0.11548873258660677, -0.5566016986744087, -0.013768255762175781, 0.8952226489212914, 0.9118298889268938, 0.569114211520104, 0.024437122932751843, 1.701500345824061, 0.2251987043144141, -0.24188881465420595, 1.3250447913362182, 0.360446668523524, 0.17515640035608626, -1.704366488761559, -1.5158347740723928, 0.4902716968708798, 0.6453474335949971, -0.7399554958505687, 1.8131232768603385, -0.12291573819921484, 0.4669552405324629, -0.2938506167449886, 0.40228120830014147, -2.149327520203454, -0.6866806942881285, -0.2927811094268949, 0.5042300314844698, 0.6555808286390054, -0.9279139834900973, -0.08543978812480418, -0.04796523223752661, 0.0746435164054404, 0.2307148975501273, -2.027424116120096, 0.3450571253534357, -1.1612443444561293, -0.3726671090762646, -2.976221788193337, -2.1117101596495687, -0.6985426135652383, 1.1965258562450305, -1.0459953031714726, 1.976436641953744, -1.1349899468640317, 0.3040281001626459, -1.8846583680508304, 0.47535347700831315], \"yaxis\": \"y3\"}, {\"line\": {\"color\": \"rgba(128, 128, 128, 1.0)\", \"dash\": \"solid\", \"shape\": \"linear\", \"width\": 1.3}, \"marker\": {\"size\": 2, \"symbol\": \"circle\"}, \"mode\": \"markers\", \"name\": \"A\", \"text\": \"\", \"type\": \"scatter\", \"x\": [1.2461613479122662, 0.35511800548024297, -0.18595130532212353, -0.348331163680514, 0.8883225848929086, 1.325522461427812, 0.33941433827540657, -1.289307385363924, 0.836862655748313, -1.2422626539014314, -0.23785040361169305, 0.3575269752162909, -0.7833919368145021, 1.1763170251412371, -0.1677199907341728, 0.27484576363007573, -1.0069717384662105, 0.7708681903388637, 0.6903328280340865, -0.8041460697190717, -0.2871373624581198, 2.8865703671670517, -1.5073499977394755, -1.5104117495595408, -1.8284078692508576, 0.44508890690435504, 0.9976528054356555, 2.0279348439902147, 1.0079852619223597, 1.8536471888100592, 1.7237696979830333, 3.2616116359118283, -0.536553899835727, -2.0994790085645345, 0.32554727073493106, 1.001866910570493, 0.3008991637173061, 1.3980933011136987, 0.4424802548737084, -1.9162143140789858, 0.7535022360168819, 0.4637547908724944, 1.2695675454936253, 0.2143156473794342, -0.40273638642765425, -0.9751938301266283, 0.19198349123128594, -0.8163761336130206, -0.39588730360168306, 0.6025822854472339, -1.6070876356004293, -0.4585112767016043, 0.41357374145394177, -2.0584106363496675, -1.369515148049161, -0.41506667194947483, 1.3730855774331134, -0.5827679154831228, 0.14545215524503116, -0.6477717707128196, -0.8670042367262016, -1.128949227213457, 1.0919228258049016, -0.6723324865602892, 0.4517926883766421, -0.9932631897954536, -1.1092038143237628, -1.3135606732741665, 0.19915148247209244, 0.394242138169024, 0.5671088500644987, 0.13051813365402196, 0.2828258647116239, 0.9074373682123189, 0.3320813900935964, 0.9595519376518364, -0.3226788065780816, -0.3888252901605881, -0.7910071392137611, -0.8335444556133729, -0.3667057294077533, -0.06166309697020302, -0.20983506066863242, -0.0855614824397043, 0.986974212938496, -0.5755739123029241, 0.20911732239975067, -1.562580385161062, -0.3848144850911858, 0.03184790743238982, 1.4231806709385606, 2.0984386482051756, 0.19805084510560408, 0.4249594577983598, 0.09895821649664918, 2.9840712563417626, -0.8858519487006972, -1.100877755934475, 0.0646238193759247, 0.5576473470735078], \"xaxis\": \"x4\", \"y\": [0.8225286437416501, 1.7906518177693165, -0.4252650252772421, -0.11410539779221635, 0.7794333388601931, 0.5003190132121949, 0.2018489181641643, -0.5146250488763782, 0.3188360196714971, -0.5408247176895304, 0.22587083856421108, -0.6974670580084895, 0.5771703678093689, -0.013976202921457752, 0.8783343452604568, -1.614949706939007, 0.19153236329955206, -1.5765158215202855, -0.4112903516874633, -1.092087010716353, 1.33599345630096, 1.4351531348939572, -1.2848571383638239, -1.7510693502903472, 0.8075813530347192, -0.5470180608654744, -0.28413980500001806, 0.20961814337947923, -0.02959907422165152, 0.9547946370028454, -0.4789236470968032, -0.5970003307837691, -0.39385277023122905, 0.11981370704438987, 0.9871751876769622, 0.31853744701880177, -0.3657065423701585, 0.37725580911967876, -0.18348735017904264, 1.6081305852347272, 0.1731427842198789, 1.7563528761773035, -1.9242694093670059, 0.15322007858144676, 0.3694726518707792, 1.1238409758155203, -0.47236617294136934, -2.2054955020266758, -0.038750514669134865, 0.6406891232053674, -0.5122664102800992, 0.4403463452002344, 0.12621387719415295, 0.11548873258660677, -0.5566016986744087, -0.013768255762175781, 0.8952226489212914, 0.9118298889268938, 0.569114211520104, 0.024437122932751843, 1.701500345824061, 0.2251987043144141, -0.24188881465420595, 1.3250447913362182, 0.360446668523524, 0.17515640035608626, -1.704366488761559, -1.5158347740723928, 0.4902716968708798, 0.6453474335949971, -0.7399554958505687, 1.8131232768603385, -0.12291573819921484, 0.4669552405324629, -0.2938506167449886, 0.40228120830014147, -2.149327520203454, -0.6866806942881285, -0.2927811094268949, 0.5042300314844698, 0.6555808286390054, -0.9279139834900973, -0.08543978812480418, -0.04796523223752661, 0.0746435164054404, 0.2307148975501273, -2.027424116120096, 0.3450571253534357, -1.1612443444561293, -0.3726671090762646, -2.976221788193337, -2.1117101596495687, -0.6985426135652383, 1.1965258562450305, -1.0459953031714726, 1.976436641953744, -1.1349899468640317, 0.3040281001626459, -1.8846583680508304, 0.47535347700831315], \"yaxis\": \"y4\"}, {\"line\": {\"color\": \"rgba(128, 128, 128, 1.0)\", \"dash\": \"solid\", \"shape\": \"linear\", \"width\": 1.3}, \"marker\": {\"size\": 2, \"symbol\": \"circle\"}, \"mode\": \"markers\", \"name\": \"B\", \"text\": \"\", \"type\": \"scatter\", \"x\": [0.8225286437416501, 1.7906518177693165, -0.4252650252772421, -0.11410539779221635, 0.7794333388601931, 0.5003190132121949, 0.2018489181641643, -0.5146250488763782, 0.3188360196714971, -0.5408247176895304, 0.22587083856421108, -0.6974670580084895, 0.5771703678093689, -0.013976202921457752, 0.8783343452604568, -1.614949706939007, 0.19153236329955206, -1.5765158215202855, -0.4112903516874633, -1.092087010716353, 1.33599345630096, 1.4351531348939572, -1.2848571383638239, -1.7510693502903472, 0.8075813530347192, -0.5470180608654744, -0.28413980500001806, 0.20961814337947923, -0.02959907422165152, 0.9547946370028454, -0.4789236470968032, -0.5970003307837691, -0.39385277023122905, 0.11981370704438987, 0.9871751876769622, 0.31853744701880177, -0.3657065423701585, 0.37725580911967876, -0.18348735017904264, 1.6081305852347272, 0.1731427842198789, 1.7563528761773035, -1.9242694093670059, 0.15322007858144676, 0.3694726518707792, 1.1238409758155203, -0.47236617294136934, -2.2054955020266758, -0.038750514669134865, 0.6406891232053674, -0.5122664102800992, 0.4403463452002344, 0.12621387719415295, 0.11548873258660677, -0.5566016986744087, -0.013768255762175781, 0.8952226489212914, 0.9118298889268938, 0.569114211520104, 0.024437122932751843, 1.701500345824061, 0.2251987043144141, -0.24188881465420595, 1.3250447913362182, 0.360446668523524, 0.17515640035608626, -1.704366488761559, -1.5158347740723928, 0.4902716968708798, 0.6453474335949971, -0.7399554958505687, 1.8131232768603385, -0.12291573819921484, 0.4669552405324629, -0.2938506167449886, 0.40228120830014147, -2.149327520203454, -0.6866806942881285, -0.2927811094268949, 0.5042300314844698, 0.6555808286390054, -0.9279139834900973, -0.08543978812480418, -0.04796523223752661, 0.0746435164054404, 0.2307148975501273, -2.027424116120096, 0.3450571253534357, -1.1612443444561293, -0.3726671090762646, -2.976221788193337, -2.1117101596495687, -0.6985426135652383, 1.1965258562450305, -1.0459953031714726, 1.976436641953744, -1.1349899468640317, 0.3040281001626459, -1.8846583680508304, 0.47535347700831315], \"xaxis\": \"x5\", \"y\": [0.9798422876110087, -0.07739040844163653, 0.199140992111598, -1.2143268018612448, 0.14285538470625045, -0.941613979403886, -0.5179651092895884, -2.9720401690748086, -0.9025695839599948, 0.7070161377970824, 0.6226851269936455, 1.7220710947919995, 2.421389113461388, -0.15836707680921455, -0.00824513735289978, -2.4502263963546427, 0.32938834873258654, 0.43268652790313156, -0.07647046488415142, 0.16117870564803655, 0.5719563509363634, 0.6489901001574245, 0.9376314079451413, -0.5772109776816116, 0.43940958062906715, 0.27942060999655977, -0.9424446593446479, -1.486525613267546, 1.6312084499589516, -0.07507516007927825, 0.12760269243775124, 0.05373579584888705, 0.1379571283605871, -0.8678493687113031, -0.43134562129715953, 0.6545365996125828, -0.6271866565552896, -0.13713206936808897, 1.2742682936024408, -0.8413247811888707, -0.7302648312780448, -0.6117741047846332, -1.210299969457778, -0.3801376853687354, -0.48236709698927316, 1.6101057259159142, 0.018396524012302493, 3.02256317083536, 2.5691163423097496, -0.8487428166948513, -0.10164929522395912, 0.8273933294947996, -0.4641358512359839, 1.0174474127248259, -0.6615304859327857, -1.8869319213356825, 0.4677487870018134, -0.9766521809572346, 0.4424919332422819, -3.1831759316713057, 0.2283009026441312, 0.36950934843910815, 0.5369686034283853, 0.2983504233853764, -0.004378996737566833, 1.0592911293848593, 1.6451075032610067, 0.29029878762587735, -0.4609110721334788, 0.4378794865441988, -1.4283048764958761, 0.40738608837815354, 0.7625659313961809, -1.4172139471023841, -0.10136148568438476, 0.15838136839989114, -1.3580445071102318, -1.1087998884123191, 0.05526415914038533, 0.9883265678290705, -0.03771628428204599, 0.26505609003670605, 1.0489263265095015, 2.2480644236455434, -0.39604599179023386, -2.0576074336266377, 1.6418210719318171, -2.064000840790136, 0.18340752558238735, 0.3708702460919371, 0.7564073758273471, 0.5622132114774402, -0.8681703206538972, -0.5457892288792988, 0.6462776058743678, -1.388235965781543, -1.403310739967856, -0.5048268930823668, -0.008940855983669326, 0.2678190263167388], \"yaxis\": \"y5\"}, {\"histfunc\": \"count\", \"histnorm\": \"\", \"marker\": {\"color\": \"rgba(55, 128, 191, 1.0)\", \"line\": {\"color\": \"#4D5663\", \"width\": 1.3}}, \"name\": \"B\", \"nbinsx\": 10, \"opacity\": 0.8, \"orientation\": \"v\", \"type\": \"histogram\", \"x\": [0.9798422876110087, -0.07739040844163653, 0.199140992111598, -1.2143268018612448, 0.14285538470625045, -0.941613979403886, -0.5179651092895884, -2.9720401690748086, -0.9025695839599948, 0.7070161377970824, 0.6226851269936455, 1.7220710947919995, 2.421389113461388, -0.15836707680921455, -0.00824513735289978, -2.4502263963546427, 0.32938834873258654, 0.43268652790313156, -0.07647046488415142, 0.16117870564803655, 0.5719563509363634, 0.6489901001574245, 0.9376314079451413, -0.5772109776816116, 0.43940958062906715, 0.27942060999655977, -0.9424446593446479, -1.486525613267546, 1.6312084499589516, -0.07507516007927825, 0.12760269243775124, 0.05373579584888705, 0.1379571283605871, -0.8678493687113031, -0.43134562129715953, 0.6545365996125828, -0.6271866565552896, -0.13713206936808897, 1.2742682936024408, -0.8413247811888707, -0.7302648312780448, -0.6117741047846332, -1.210299969457778, -0.3801376853687354, -0.48236709698927316, 1.6101057259159142, 0.018396524012302493, 3.02256317083536, 2.5691163423097496, -0.8487428166948513, -0.10164929522395912, 0.8273933294947996, -0.4641358512359839, 1.0174474127248259, -0.6615304859327857, -1.8869319213356825, 0.4677487870018134, -0.9766521809572346, 0.4424919332422819, -3.1831759316713057, 0.2283009026441312, 0.36950934843910815, 0.5369686034283853, 0.2983504233853764, -0.004378996737566833, 1.0592911293848593, 1.6451075032610067, 0.29029878762587735, -0.4609110721334788, 0.4378794865441988, -1.4283048764958761, 0.40738608837815354, 0.7625659313961809, -1.4172139471023841, -0.10136148568438476, 0.15838136839989114, -1.3580445071102318, -1.1087998884123191, 0.05526415914038533, 0.9883265678290705, -0.03771628428204599, 0.26505609003670605, 1.0489263265095015, 2.2480644236455434, -0.39604599179023386, -2.0576074336266377, 1.6418210719318171, -2.064000840790136, 0.18340752558238735, 0.3708702460919371, 0.7564073758273471, 0.5622132114774402, -0.8681703206538972, -0.5457892288792988, 0.6462776058743678, -1.388235965781543, -1.403310739967856, -0.5048268930823668, -0.008940855983669326, 0.2678190263167388], \"xaxis\": \"x6\", \"yaxis\": \"y6\"}, {\"line\": {\"color\": \"rgba(128, 128, 128, 1.0)\", \"dash\": \"solid\", \"shape\": \"linear\", \"width\": 1.3}, \"marker\": {\"size\": 2, \"symbol\": \"circle\"}, \"mode\": \"markers\", \"name\": \"B\", \"text\": \"\", \"type\": \"scatter\", \"x\": [-1.8480792642687225, -1.5073073535465948, 2.7517654569167695, -0.38327103028951126, 0.5009825141133978, 1.6406970586771368, -0.4703423325300513, 1.6732929780811643, 1.040691617332396, -0.24934723356129274, 0.021997793443517558, 0.8989515894069274, -0.5759127056740482, -0.7026023917505589, 0.4692670581087731, 1.3432700680140337, -0.6302423602368482, -0.3430283873498759, -1.9842157127662723, 0.8747110508926359, -0.536771359647505, -0.392777577430483, -1.562564782209207, -0.5789699061718163, -0.18425013950555968, -2.781707116519058, -0.3326259378263187, 0.14046861390619358, 0.2825429570639549, 0.6455258517208611, -1.6008958628410894, -0.10415536268299172, -0.04942963249814989, -0.057694290388260364, 0.6441468014185162, -2.034107270522385, -1.1483600538743746, 1.018752499138132, 1.3317430124284058, -1.2716276574812149, -1.3634771643011692, -0.957455471343282, 1.5406821339565229, -0.8136926628981285, 0.20331805933592634, -0.19583194140407134, 0.438566315735824, -0.7209994885802788, -0.8708784981578558, -1.1736760477006345, 0.6346372161806274, 0.5888789566851989, -0.9906076677698165, 0.8429137123211539, -0.3225613770362344, 0.5574676068308833, 1.5137393249018745, 0.5990314390706959, -2.0311028340275383, 0.19943009806824033, 0.19858460431477792, 1.1068472715939244, 0.10825003056178664, 0.5042905887109416, 1.2784751811154476, -1.2413104655095704, -0.7452347282645956, -2.37917618199128, 1.0289070853370523, 0.0214791390140893, 1.0561661050786486, 0.7704785454045623, 0.6512151145097241, -0.7142081747361737, -0.8660196572140212, 1.2596409014371919, 2.3085583909486043, -0.6680875046149289, 0.17983813934028284, -0.8132098447949029, -0.35154183701587355, 1.8946547667964537, -0.5797419991317809, 0.2977343502603907, 1.7853093441655918, 0.43633592987243625, -0.06958166697044685, 0.405908894081575, -0.1207519711284738, -0.37308888981591537, 0.6656125172898189, 0.2557200855428001, 0.3879497447859884, 0.8648525072029724, 0.8089907397609084, -1.6592657349829343, 3.6772934789250584, -1.2565801865321515, 0.8742079794998128, 0.6252070910695261], \"xaxis\": \"x7\", \"y\": [0.9798422876110087, -0.07739040844163653, 0.199140992111598, -1.2143268018612448, 0.14285538470625045, -0.941613979403886, -0.5179651092895884, -2.9720401690748086, -0.9025695839599948, 0.7070161377970824, 0.6226851269936455, 1.7220710947919995, 2.421389113461388, -0.15836707680921455, -0.00824513735289978, -2.4502263963546427, 0.32938834873258654, 0.43268652790313156, -0.07647046488415142, 0.16117870564803655, 0.5719563509363634, 0.6489901001574245, 0.9376314079451413, -0.5772109776816116, 0.43940958062906715, 0.27942060999655977, -0.9424446593446479, -1.486525613267546, 1.6312084499589516, -0.07507516007927825, 0.12760269243775124, 0.05373579584888705, 0.1379571283605871, -0.8678493687113031, -0.43134562129715953, 0.6545365996125828, -0.6271866565552896, -0.13713206936808897, 1.2742682936024408, -0.8413247811888707, -0.7302648312780448, -0.6117741047846332, -1.210299969457778, -0.3801376853687354, -0.48236709698927316, 1.6101057259159142, 0.018396524012302493, 3.02256317083536, 2.5691163423097496, -0.8487428166948513, -0.10164929522395912, 0.8273933294947996, -0.4641358512359839, 1.0174474127248259, -0.6615304859327857, -1.8869319213356825, 0.4677487870018134, -0.9766521809572346, 0.4424919332422819, -3.1831759316713057, 0.2283009026441312, 0.36950934843910815, 0.5369686034283853, 0.2983504233853764, -0.004378996737566833, 1.0592911293848593, 1.6451075032610067, 0.29029878762587735, -0.4609110721334788, 0.4378794865441988, -1.4283048764958761, 0.40738608837815354, 0.7625659313961809, -1.4172139471023841, -0.10136148568438476, 0.15838136839989114, -1.3580445071102318, -1.1087998884123191, 0.05526415914038533, 0.9883265678290705, -0.03771628428204599, 0.26505609003670605, 1.0489263265095015, 2.2480644236455434, -0.39604599179023386, -2.0576074336266377, 1.6418210719318171, -2.064000840790136, 0.18340752558238735, 0.3708702460919371, 0.7564073758273471, 0.5622132114774402, -0.8681703206538972, -0.5457892288792988, 0.6462776058743678, -1.388235965781543, -1.403310739967856, -0.5048268930823668, -0.008940855983669326, 0.2678190263167388], \"yaxis\": \"y7\"}, {\"line\": {\"color\": \"rgba(128, 128, 128, 1.0)\", \"dash\": \"solid\", \"shape\": \"linear\", \"width\": 1.3}, \"marker\": {\"size\": 2, \"symbol\": \"circle\"}, \"mode\": \"markers\", \"name\": \"B\", \"text\": \"\", \"type\": \"scatter\", \"x\": [1.2461613479122662, 0.35511800548024297, -0.18595130532212353, -0.348331163680514, 0.8883225848929086, 1.325522461427812, 0.33941433827540657, -1.289307385363924, 0.836862655748313, -1.2422626539014314, -0.23785040361169305, 0.3575269752162909, -0.7833919368145021, 1.1763170251412371, -0.1677199907341728, 0.27484576363007573, -1.0069717384662105, 0.7708681903388637, 0.6903328280340865, -0.8041460697190717, -0.2871373624581198, 2.8865703671670517, -1.5073499977394755, -1.5104117495595408, -1.8284078692508576, 0.44508890690435504, 0.9976528054356555, 2.0279348439902147, 1.0079852619223597, 1.8536471888100592, 1.7237696979830333, 3.2616116359118283, -0.536553899835727, -2.0994790085645345, 0.32554727073493106, 1.001866910570493, 0.3008991637173061, 1.3980933011136987, 0.4424802548737084, -1.9162143140789858, 0.7535022360168819, 0.4637547908724944, 1.2695675454936253, 0.2143156473794342, -0.40273638642765425, -0.9751938301266283, 0.19198349123128594, -0.8163761336130206, -0.39588730360168306, 0.6025822854472339, -1.6070876356004293, -0.4585112767016043, 0.41357374145394177, -2.0584106363496675, -1.369515148049161, -0.41506667194947483, 1.3730855774331134, -0.5827679154831228, 0.14545215524503116, -0.6477717707128196, -0.8670042367262016, -1.128949227213457, 1.0919228258049016, -0.6723324865602892, 0.4517926883766421, -0.9932631897954536, -1.1092038143237628, -1.3135606732741665, 0.19915148247209244, 0.394242138169024, 0.5671088500644987, 0.13051813365402196, 0.2828258647116239, 0.9074373682123189, 0.3320813900935964, 0.9595519376518364, -0.3226788065780816, -0.3888252901605881, -0.7910071392137611, -0.8335444556133729, -0.3667057294077533, -0.06166309697020302, -0.20983506066863242, -0.0855614824397043, 0.986974212938496, -0.5755739123029241, 0.20911732239975067, -1.562580385161062, -0.3848144850911858, 0.03184790743238982, 1.4231806709385606, 2.0984386482051756, 0.19805084510560408, 0.4249594577983598, 0.09895821649664918, 2.9840712563417626, -0.8858519487006972, -1.100877755934475, 0.0646238193759247, 0.5576473470735078], \"xaxis\": \"x8\", \"y\": [0.9798422876110087, -0.07739040844163653, 0.199140992111598, -1.2143268018612448, 0.14285538470625045, -0.941613979403886, -0.5179651092895884, -2.9720401690748086, -0.9025695839599948, 0.7070161377970824, 0.6226851269936455, 1.7220710947919995, 2.421389113461388, -0.15836707680921455, -0.00824513735289978, -2.4502263963546427, 0.32938834873258654, 0.43268652790313156, -0.07647046488415142, 0.16117870564803655, 0.5719563509363634, 0.6489901001574245, 0.9376314079451413, -0.5772109776816116, 0.43940958062906715, 0.27942060999655977, -0.9424446593446479, -1.486525613267546, 1.6312084499589516, -0.07507516007927825, 0.12760269243775124, 0.05373579584888705, 0.1379571283605871, -0.8678493687113031, -0.43134562129715953, 0.6545365996125828, -0.6271866565552896, -0.13713206936808897, 1.2742682936024408, -0.8413247811888707, -0.7302648312780448, -0.6117741047846332, -1.210299969457778, -0.3801376853687354, -0.48236709698927316, 1.6101057259159142, 0.018396524012302493, 3.02256317083536, 2.5691163423097496, -0.8487428166948513, -0.10164929522395912, 0.8273933294947996, -0.4641358512359839, 1.0174474127248259, -0.6615304859327857, -1.8869319213356825, 0.4677487870018134, -0.9766521809572346, 0.4424919332422819, -3.1831759316713057, 0.2283009026441312, 0.36950934843910815, 0.5369686034283853, 0.2983504233853764, -0.004378996737566833, 1.0592911293848593, 1.6451075032610067, 0.29029878762587735, -0.4609110721334788, 0.4378794865441988, -1.4283048764958761, 0.40738608837815354, 0.7625659313961809, -1.4172139471023841, -0.10136148568438476, 0.15838136839989114, -1.3580445071102318, -1.1087998884123191, 0.05526415914038533, 0.9883265678290705, -0.03771628428204599, 0.26505609003670605, 1.0489263265095015, 2.2480644236455434, -0.39604599179023386, -2.0576074336266377, 1.6418210719318171, -2.064000840790136, 0.18340752558238735, 0.3708702460919371, 0.7564073758273471, 0.5622132114774402, -0.8681703206538972, -0.5457892288792988, 0.6462776058743678, -1.388235965781543, -1.403310739967856, -0.5048268930823668, -0.008940855983669326, 0.2678190263167388], \"yaxis\": \"y8\"}, {\"line\": {\"color\": \"rgba(128, 128, 128, 1.0)\", \"dash\": \"solid\", \"shape\": \"linear\", \"width\": 1.3}, \"marker\": {\"size\": 2, \"symbol\": \"circle\"}, \"mode\": \"markers\", \"name\": \"C\", \"text\": \"\", \"type\": \"scatter\", \"x\": [0.8225286437416501, 1.7906518177693165, -0.4252650252772421, -0.11410539779221635, 0.7794333388601931, 0.5003190132121949, 0.2018489181641643, -0.5146250488763782, 0.3188360196714971, -0.5408247176895304, 0.22587083856421108, -0.6974670580084895, 0.5771703678093689, -0.013976202921457752, 0.8783343452604568, -1.614949706939007, 0.19153236329955206, -1.5765158215202855, -0.4112903516874633, -1.092087010716353, 1.33599345630096, 1.4351531348939572, -1.2848571383638239, -1.7510693502903472, 0.8075813530347192, -0.5470180608654744, -0.28413980500001806, 0.20961814337947923, -0.02959907422165152, 0.9547946370028454, -0.4789236470968032, -0.5970003307837691, -0.39385277023122905, 0.11981370704438987, 0.9871751876769622, 0.31853744701880177, -0.3657065423701585, 0.37725580911967876, -0.18348735017904264, 1.6081305852347272, 0.1731427842198789, 1.7563528761773035, -1.9242694093670059, 0.15322007858144676, 0.3694726518707792, 1.1238409758155203, -0.47236617294136934, -2.2054955020266758, -0.038750514669134865, 0.6406891232053674, -0.5122664102800992, 0.4403463452002344, 0.12621387719415295, 0.11548873258660677, -0.5566016986744087, -0.013768255762175781, 0.8952226489212914, 0.9118298889268938, 0.569114211520104, 0.024437122932751843, 1.701500345824061, 0.2251987043144141, -0.24188881465420595, 1.3250447913362182, 0.360446668523524, 0.17515640035608626, -1.704366488761559, -1.5158347740723928, 0.4902716968708798, 0.6453474335949971, -0.7399554958505687, 1.8131232768603385, -0.12291573819921484, 0.4669552405324629, -0.2938506167449886, 0.40228120830014147, -2.149327520203454, -0.6866806942881285, -0.2927811094268949, 0.5042300314844698, 0.6555808286390054, -0.9279139834900973, -0.08543978812480418, -0.04796523223752661, 0.0746435164054404, 0.2307148975501273, -2.027424116120096, 0.3450571253534357, -1.1612443444561293, -0.3726671090762646, -2.976221788193337, -2.1117101596495687, -0.6985426135652383, 1.1965258562450305, -1.0459953031714726, 1.976436641953744, -1.1349899468640317, 0.3040281001626459, -1.8846583680508304, 0.47535347700831315], \"xaxis\": \"x9\", \"y\": [-1.8480792642687225, -1.5073073535465948, 2.7517654569167695, -0.38327103028951126, 0.5009825141133978, 1.6406970586771368, -0.4703423325300513, 1.6732929780811643, 1.040691617332396, -0.24934723356129274, 0.021997793443517558, 0.8989515894069274, -0.5759127056740482, -0.7026023917505589, 0.4692670581087731, 1.3432700680140337, -0.6302423602368482, -0.3430283873498759, -1.9842157127662723, 0.8747110508926359, -0.536771359647505, -0.392777577430483, -1.562564782209207, -0.5789699061718163, -0.18425013950555968, -2.781707116519058, -0.3326259378263187, 0.14046861390619358, 0.2825429570639549, 0.6455258517208611, -1.6008958628410894, -0.10415536268299172, -0.04942963249814989, -0.057694290388260364, 0.6441468014185162, -2.034107270522385, -1.1483600538743746, 1.018752499138132, 1.3317430124284058, -1.2716276574812149, -1.3634771643011692, -0.957455471343282, 1.5406821339565229, -0.8136926628981285, 0.20331805933592634, -0.19583194140407134, 0.438566315735824, -0.7209994885802788, -0.8708784981578558, -1.1736760477006345, 0.6346372161806274, 0.5888789566851989, -0.9906076677698165, 0.8429137123211539, -0.3225613770362344, 0.5574676068308833, 1.5137393249018745, 0.5990314390706959, -2.0311028340275383, 0.19943009806824033, 0.19858460431477792, 1.1068472715939244, 0.10825003056178664, 0.5042905887109416, 1.2784751811154476, -1.2413104655095704, -0.7452347282645956, -2.37917618199128, 1.0289070853370523, 0.0214791390140893, 1.0561661050786486, 0.7704785454045623, 0.6512151145097241, -0.7142081747361737, -0.8660196572140212, 1.2596409014371919, 2.3085583909486043, -0.6680875046149289, 0.17983813934028284, -0.8132098447949029, -0.35154183701587355, 1.8946547667964537, -0.5797419991317809, 0.2977343502603907, 1.7853093441655918, 0.43633592987243625, -0.06958166697044685, 0.405908894081575, -0.1207519711284738, -0.37308888981591537, 0.6656125172898189, 0.2557200855428001, 0.3879497447859884, 0.8648525072029724, 0.8089907397609084, -1.6592657349829343, 3.6772934789250584, -1.2565801865321515, 0.8742079794998128, 0.6252070910695261], \"yaxis\": \"y9\"}, {\"line\": {\"color\": \"rgba(128, 128, 128, 1.0)\", \"dash\": \"solid\", \"shape\": \"linear\", \"width\": 1.3}, \"marker\": {\"size\": 2, \"symbol\": \"circle\"}, \"mode\": \"markers\", \"name\": \"C\", \"text\": \"\", \"type\": \"scatter\", \"x\": [0.9798422876110087, -0.07739040844163653, 0.199140992111598, -1.2143268018612448, 0.14285538470625045, -0.941613979403886, -0.5179651092895884, -2.9720401690748086, -0.9025695839599948, 0.7070161377970824, 0.6226851269936455, 1.7220710947919995, 2.421389113461388, -0.15836707680921455, -0.00824513735289978, -2.4502263963546427, 0.32938834873258654, 0.43268652790313156, -0.07647046488415142, 0.16117870564803655, 0.5719563509363634, 0.6489901001574245, 0.9376314079451413, -0.5772109776816116, 0.43940958062906715, 0.27942060999655977, -0.9424446593446479, -1.486525613267546, 1.6312084499589516, -0.07507516007927825, 0.12760269243775124, 0.05373579584888705, 0.1379571283605871, -0.8678493687113031, -0.43134562129715953, 0.6545365996125828, -0.6271866565552896, -0.13713206936808897, 1.2742682936024408, -0.8413247811888707, -0.7302648312780448, -0.6117741047846332, -1.210299969457778, -0.3801376853687354, -0.48236709698927316, 1.6101057259159142, 0.018396524012302493, 3.02256317083536, 2.5691163423097496, -0.8487428166948513, -0.10164929522395912, 0.8273933294947996, -0.4641358512359839, 1.0174474127248259, -0.6615304859327857, -1.8869319213356825, 0.4677487870018134, -0.9766521809572346, 0.4424919332422819, -3.1831759316713057, 0.2283009026441312, 0.36950934843910815, 0.5369686034283853, 0.2983504233853764, -0.004378996737566833, 1.0592911293848593, 1.6451075032610067, 0.29029878762587735, -0.4609110721334788, 0.4378794865441988, -1.4283048764958761, 0.40738608837815354, 0.7625659313961809, -1.4172139471023841, -0.10136148568438476, 0.15838136839989114, -1.3580445071102318, -1.1087998884123191, 0.05526415914038533, 0.9883265678290705, -0.03771628428204599, 0.26505609003670605, 1.0489263265095015, 2.2480644236455434, -0.39604599179023386, -2.0576074336266377, 1.6418210719318171, -2.064000840790136, 0.18340752558238735, 0.3708702460919371, 0.7564073758273471, 0.5622132114774402, -0.8681703206538972, -0.5457892288792988, 0.6462776058743678, -1.388235965781543, -1.403310739967856, -0.5048268930823668, -0.008940855983669326, 0.2678190263167388], \"xaxis\": \"x10\", \"y\": [-1.8480792642687225, -1.5073073535465948, 2.7517654569167695, -0.38327103028951126, 0.5009825141133978, 1.6406970586771368, -0.4703423325300513, 1.6732929780811643, 1.040691617332396, -0.24934723356129274, 0.021997793443517558, 0.8989515894069274, -0.5759127056740482, -0.7026023917505589, 0.4692670581087731, 1.3432700680140337, -0.6302423602368482, -0.3430283873498759, -1.9842157127662723, 0.8747110508926359, -0.536771359647505, -0.392777577430483, -1.562564782209207, -0.5789699061718163, -0.18425013950555968, -2.781707116519058, -0.3326259378263187, 0.14046861390619358, 0.2825429570639549, 0.6455258517208611, -1.6008958628410894, -0.10415536268299172, -0.04942963249814989, -0.057694290388260364, 0.6441468014185162, -2.034107270522385, -1.1483600538743746, 1.018752499138132, 1.3317430124284058, -1.2716276574812149, -1.3634771643011692, -0.957455471343282, 1.5406821339565229, -0.8136926628981285, 0.20331805933592634, -0.19583194140407134, 0.438566315735824, -0.7209994885802788, -0.8708784981578558, -1.1736760477006345, 0.6346372161806274, 0.5888789566851989, -0.9906076677698165, 0.8429137123211539, -0.3225613770362344, 0.5574676068308833, 1.5137393249018745, 0.5990314390706959, -2.0311028340275383, 0.19943009806824033, 0.19858460431477792, 1.1068472715939244, 0.10825003056178664, 0.5042905887109416, 1.2784751811154476, -1.2413104655095704, -0.7452347282645956, -2.37917618199128, 1.0289070853370523, 0.0214791390140893, 1.0561661050786486, 0.7704785454045623, 0.6512151145097241, -0.7142081747361737, -0.8660196572140212, 1.2596409014371919, 2.3085583909486043, -0.6680875046149289, 0.17983813934028284, -0.8132098447949029, -0.35154183701587355, 1.8946547667964537, -0.5797419991317809, 0.2977343502603907, 1.7853093441655918, 0.43633592987243625, -0.06958166697044685, 0.405908894081575, -0.1207519711284738, -0.37308888981591537, 0.6656125172898189, 0.2557200855428001, 0.3879497447859884, 0.8648525072029724, 0.8089907397609084, -1.6592657349829343, 3.6772934789250584, -1.2565801865321515, 0.8742079794998128, 0.6252070910695261], \"yaxis\": \"y10\"}, {\"histfunc\": \"count\", \"histnorm\": \"\", \"marker\": {\"color\": \"rgba(50, 171, 96, 1.0)\", \"line\": {\"color\": \"#4D5663\", \"width\": 1.3}}, \"name\": \"C\", \"nbinsx\": 10, \"opacity\": 0.8, \"orientation\": \"v\", \"type\": \"histogram\", \"x\": [-1.8480792642687225, -1.5073073535465948, 2.7517654569167695, -0.38327103028951126, 0.5009825141133978, 1.6406970586771368, -0.4703423325300513, 1.6732929780811643, 1.040691617332396, -0.24934723356129274, 0.021997793443517558, 0.8989515894069274, -0.5759127056740482, -0.7026023917505589, 0.4692670581087731, 1.3432700680140337, -0.6302423602368482, -0.3430283873498759, -1.9842157127662723, 0.8747110508926359, -0.536771359647505, -0.392777577430483, -1.562564782209207, -0.5789699061718163, -0.18425013950555968, -2.781707116519058, -0.3326259378263187, 0.14046861390619358, 0.2825429570639549, 0.6455258517208611, -1.6008958628410894, -0.10415536268299172, -0.04942963249814989, -0.057694290388260364, 0.6441468014185162, -2.034107270522385, -1.1483600538743746, 1.018752499138132, 1.3317430124284058, -1.2716276574812149, -1.3634771643011692, -0.957455471343282, 1.5406821339565229, -0.8136926628981285, 0.20331805933592634, -0.19583194140407134, 0.438566315735824, -0.7209994885802788, -0.8708784981578558, -1.1736760477006345, 0.6346372161806274, 0.5888789566851989, -0.9906076677698165, 0.8429137123211539, -0.3225613770362344, 0.5574676068308833, 1.5137393249018745, 0.5990314390706959, -2.0311028340275383, 0.19943009806824033, 0.19858460431477792, 1.1068472715939244, 0.10825003056178664, 0.5042905887109416, 1.2784751811154476, -1.2413104655095704, -0.7452347282645956, -2.37917618199128, 1.0289070853370523, 0.0214791390140893, 1.0561661050786486, 0.7704785454045623, 0.6512151145097241, -0.7142081747361737, -0.8660196572140212, 1.2596409014371919, 2.3085583909486043, -0.6680875046149289, 0.17983813934028284, -0.8132098447949029, -0.35154183701587355, 1.8946547667964537, -0.5797419991317809, 0.2977343502603907, 1.7853093441655918, 0.43633592987243625, -0.06958166697044685, 0.405908894081575, -0.1207519711284738, -0.37308888981591537, 0.6656125172898189, 0.2557200855428001, 0.3879497447859884, 0.8648525072029724, 0.8089907397609084, -1.6592657349829343, 3.6772934789250584, -1.2565801865321515, 0.8742079794998128, 0.6252070910695261], \"xaxis\": \"x11\", \"yaxis\": \"y11\"}, {\"line\": {\"color\": \"rgba(128, 128, 128, 1.0)\", \"dash\": \"solid\", \"shape\": \"linear\", \"width\": 1.3}, \"marker\": {\"size\": 2, \"symbol\": \"circle\"}, \"mode\": \"markers\", \"name\": \"C\", \"text\": \"\", \"type\": \"scatter\", \"x\": [1.2461613479122662, 0.35511800548024297, -0.18595130532212353, -0.348331163680514, 0.8883225848929086, 1.325522461427812, 0.33941433827540657, -1.289307385363924, 0.836862655748313, -1.2422626539014314, -0.23785040361169305, 0.3575269752162909, -0.7833919368145021, 1.1763170251412371, -0.1677199907341728, 0.27484576363007573, -1.0069717384662105, 0.7708681903388637, 0.6903328280340865, -0.8041460697190717, -0.2871373624581198, 2.8865703671670517, -1.5073499977394755, -1.5104117495595408, -1.8284078692508576, 0.44508890690435504, 0.9976528054356555, 2.0279348439902147, 1.0079852619223597, 1.8536471888100592, 1.7237696979830333, 3.2616116359118283, -0.536553899835727, -2.0994790085645345, 0.32554727073493106, 1.001866910570493, 0.3008991637173061, 1.3980933011136987, 0.4424802548737084, -1.9162143140789858, 0.7535022360168819, 0.4637547908724944, 1.2695675454936253, 0.2143156473794342, -0.40273638642765425, -0.9751938301266283, 0.19198349123128594, -0.8163761336130206, -0.39588730360168306, 0.6025822854472339, -1.6070876356004293, -0.4585112767016043, 0.41357374145394177, -2.0584106363496675, -1.369515148049161, -0.41506667194947483, 1.3730855774331134, -0.5827679154831228, 0.14545215524503116, -0.6477717707128196, -0.8670042367262016, -1.128949227213457, 1.0919228258049016, -0.6723324865602892, 0.4517926883766421, -0.9932631897954536, -1.1092038143237628, -1.3135606732741665, 0.19915148247209244, 0.394242138169024, 0.5671088500644987, 0.13051813365402196, 0.2828258647116239, 0.9074373682123189, 0.3320813900935964, 0.9595519376518364, -0.3226788065780816, -0.3888252901605881, -0.7910071392137611, -0.8335444556133729, -0.3667057294077533, -0.06166309697020302, -0.20983506066863242, -0.0855614824397043, 0.986974212938496, -0.5755739123029241, 0.20911732239975067, -1.562580385161062, -0.3848144850911858, 0.03184790743238982, 1.4231806709385606, 2.0984386482051756, 0.19805084510560408, 0.4249594577983598, 0.09895821649664918, 2.9840712563417626, -0.8858519487006972, -1.100877755934475, 0.0646238193759247, 0.5576473470735078], \"xaxis\": \"x12\", \"y\": [-1.8480792642687225, -1.5073073535465948, 2.7517654569167695, -0.38327103028951126, 0.5009825141133978, 1.6406970586771368, -0.4703423325300513, 1.6732929780811643, 1.040691617332396, -0.24934723356129274, 0.021997793443517558, 0.8989515894069274, -0.5759127056740482, -0.7026023917505589, 0.4692670581087731, 1.3432700680140337, -0.6302423602368482, -0.3430283873498759, -1.9842157127662723, 0.8747110508926359, -0.536771359647505, -0.392777577430483, -1.562564782209207, -0.5789699061718163, -0.18425013950555968, -2.781707116519058, -0.3326259378263187, 0.14046861390619358, 0.2825429570639549, 0.6455258517208611, -1.6008958628410894, -0.10415536268299172, -0.04942963249814989, -0.057694290388260364, 0.6441468014185162, -2.034107270522385, -1.1483600538743746, 1.018752499138132, 1.3317430124284058, -1.2716276574812149, -1.3634771643011692, -0.957455471343282, 1.5406821339565229, -0.8136926628981285, 0.20331805933592634, -0.19583194140407134, 0.438566315735824, -0.7209994885802788, -0.8708784981578558, -1.1736760477006345, 0.6346372161806274, 0.5888789566851989, -0.9906076677698165, 0.8429137123211539, -0.3225613770362344, 0.5574676068308833, 1.5137393249018745, 0.5990314390706959, -2.0311028340275383, 0.19943009806824033, 0.19858460431477792, 1.1068472715939244, 0.10825003056178664, 0.5042905887109416, 1.2784751811154476, -1.2413104655095704, -0.7452347282645956, -2.37917618199128, 1.0289070853370523, 0.0214791390140893, 1.0561661050786486, 0.7704785454045623, 0.6512151145097241, -0.7142081747361737, -0.8660196572140212, 1.2596409014371919, 2.3085583909486043, -0.6680875046149289, 0.17983813934028284, -0.8132098447949029, -0.35154183701587355, 1.8946547667964537, -0.5797419991317809, 0.2977343502603907, 1.7853093441655918, 0.43633592987243625, -0.06958166697044685, 0.405908894081575, -0.1207519711284738, -0.37308888981591537, 0.6656125172898189, 0.2557200855428001, 0.3879497447859884, 0.8648525072029724, 0.8089907397609084, -1.6592657349829343, 3.6772934789250584, -1.2565801865321515, 0.8742079794998128, 0.6252070910695261], \"yaxis\": \"y12\"}, {\"line\": {\"color\": \"rgba(128, 128, 128, 1.0)\", \"dash\": \"solid\", \"shape\": \"linear\", \"width\": 1.3}, \"marker\": {\"size\": 2, \"symbol\": \"circle\"}, \"mode\": \"markers\", \"name\": \"D\", \"text\": \"\", \"type\": \"scatter\", \"x\": [0.8225286437416501, 1.7906518177693165, -0.4252650252772421, -0.11410539779221635, 0.7794333388601931, 0.5003190132121949, 0.2018489181641643, -0.5146250488763782, 0.3188360196714971, -0.5408247176895304, 0.22587083856421108, -0.6974670580084895, 0.5771703678093689, -0.013976202921457752, 0.8783343452604568, -1.614949706939007, 0.19153236329955206, -1.5765158215202855, -0.4112903516874633, -1.092087010716353, 1.33599345630096, 1.4351531348939572, -1.2848571383638239, -1.7510693502903472, 0.8075813530347192, -0.5470180608654744, -0.28413980500001806, 0.20961814337947923, -0.02959907422165152, 0.9547946370028454, -0.4789236470968032, -0.5970003307837691, -0.39385277023122905, 0.11981370704438987, 0.9871751876769622, 0.31853744701880177, -0.3657065423701585, 0.37725580911967876, -0.18348735017904264, 1.6081305852347272, 0.1731427842198789, 1.7563528761773035, -1.9242694093670059, 0.15322007858144676, 0.3694726518707792, 1.1238409758155203, -0.47236617294136934, -2.2054955020266758, -0.038750514669134865, 0.6406891232053674, -0.5122664102800992, 0.4403463452002344, 0.12621387719415295, 0.11548873258660677, -0.5566016986744087, -0.013768255762175781, 0.8952226489212914, 0.9118298889268938, 0.569114211520104, 0.024437122932751843, 1.701500345824061, 0.2251987043144141, -0.24188881465420595, 1.3250447913362182, 0.360446668523524, 0.17515640035608626, -1.704366488761559, -1.5158347740723928, 0.4902716968708798, 0.6453474335949971, -0.7399554958505687, 1.8131232768603385, -0.12291573819921484, 0.4669552405324629, -0.2938506167449886, 0.40228120830014147, -2.149327520203454, -0.6866806942881285, -0.2927811094268949, 0.5042300314844698, 0.6555808286390054, -0.9279139834900973, -0.08543978812480418, -0.04796523223752661, 0.0746435164054404, 0.2307148975501273, -2.027424116120096, 0.3450571253534357, -1.1612443444561293, -0.3726671090762646, -2.976221788193337, -2.1117101596495687, -0.6985426135652383, 1.1965258562450305, -1.0459953031714726, 1.976436641953744, -1.1349899468640317, 0.3040281001626459, -1.8846583680508304, 0.47535347700831315], \"xaxis\": \"x13\", \"y\": [1.2461613479122662, 0.35511800548024297, -0.18595130532212353, -0.348331163680514, 0.8883225848929086, 1.325522461427812, 0.33941433827540657, -1.289307385363924, 0.836862655748313, -1.2422626539014314, -0.23785040361169305, 0.3575269752162909, -0.7833919368145021, 1.1763170251412371, -0.1677199907341728, 0.27484576363007573, -1.0069717384662105, 0.7708681903388637, 0.6903328280340865, -0.8041460697190717, -0.2871373624581198, 2.8865703671670517, -1.5073499977394755, -1.5104117495595408, -1.8284078692508576, 0.44508890690435504, 0.9976528054356555, 2.0279348439902147, 1.0079852619223597, 1.8536471888100592, 1.7237696979830333, 3.2616116359118283, -0.536553899835727, -2.0994790085645345, 0.32554727073493106, 1.001866910570493, 0.3008991637173061, 1.3980933011136987, 0.4424802548737084, -1.9162143140789858, 0.7535022360168819, 0.4637547908724944, 1.2695675454936253, 0.2143156473794342, -0.40273638642765425, -0.9751938301266283, 0.19198349123128594, -0.8163761336130206, -0.39588730360168306, 0.6025822854472339, -1.6070876356004293, -0.4585112767016043, 0.41357374145394177, -2.0584106363496675, -1.369515148049161, -0.41506667194947483, 1.3730855774331134, -0.5827679154831228, 0.14545215524503116, -0.6477717707128196, -0.8670042367262016, -1.128949227213457, 1.0919228258049016, -0.6723324865602892, 0.4517926883766421, -0.9932631897954536, -1.1092038143237628, -1.3135606732741665, 0.19915148247209244, 0.394242138169024, 0.5671088500644987, 0.13051813365402196, 0.2828258647116239, 0.9074373682123189, 0.3320813900935964, 0.9595519376518364, -0.3226788065780816, -0.3888252901605881, -0.7910071392137611, -0.8335444556133729, -0.3667057294077533, -0.06166309697020302, -0.20983506066863242, -0.0855614824397043, 0.986974212938496, -0.5755739123029241, 0.20911732239975067, -1.562580385161062, -0.3848144850911858, 0.03184790743238982, 1.4231806709385606, 2.0984386482051756, 0.19805084510560408, 0.4249594577983598, 0.09895821649664918, 2.9840712563417626, -0.8858519487006972, -1.100877755934475, 0.0646238193759247, 0.5576473470735078], \"yaxis\": \"y13\"}, {\"line\": {\"color\": \"rgba(128, 128, 128, 1.0)\", \"dash\": \"solid\", \"shape\": \"linear\", \"width\": 1.3}, \"marker\": {\"size\": 2, \"symbol\": \"circle\"}, \"mode\": \"markers\", \"name\": \"D\", \"text\": \"\", \"type\": \"scatter\", \"x\": [0.9798422876110087, -0.07739040844163653, 0.199140992111598, -1.2143268018612448, 0.14285538470625045, -0.941613979403886, -0.5179651092895884, -2.9720401690748086, -0.9025695839599948, 0.7070161377970824, 0.6226851269936455, 1.7220710947919995, 2.421389113461388, -0.15836707680921455, -0.00824513735289978, -2.4502263963546427, 0.32938834873258654, 0.43268652790313156, -0.07647046488415142, 0.16117870564803655, 0.5719563509363634, 0.6489901001574245, 0.9376314079451413, -0.5772109776816116, 0.43940958062906715, 0.27942060999655977, -0.9424446593446479, -1.486525613267546, 1.6312084499589516, -0.07507516007927825, 0.12760269243775124, 0.05373579584888705, 0.1379571283605871, -0.8678493687113031, -0.43134562129715953, 0.6545365996125828, -0.6271866565552896, -0.13713206936808897, 1.2742682936024408, -0.8413247811888707, -0.7302648312780448, -0.6117741047846332, -1.210299969457778, -0.3801376853687354, -0.48236709698927316, 1.6101057259159142, 0.018396524012302493, 3.02256317083536, 2.5691163423097496, -0.8487428166948513, -0.10164929522395912, 0.8273933294947996, -0.4641358512359839, 1.0174474127248259, -0.6615304859327857, -1.8869319213356825, 0.4677487870018134, -0.9766521809572346, 0.4424919332422819, -3.1831759316713057, 0.2283009026441312, 0.36950934843910815, 0.5369686034283853, 0.2983504233853764, -0.004378996737566833, 1.0592911293848593, 1.6451075032610067, 0.29029878762587735, -0.4609110721334788, 0.4378794865441988, -1.4283048764958761, 0.40738608837815354, 0.7625659313961809, -1.4172139471023841, -0.10136148568438476, 0.15838136839989114, -1.3580445071102318, -1.1087998884123191, 0.05526415914038533, 0.9883265678290705, -0.03771628428204599, 0.26505609003670605, 1.0489263265095015, 2.2480644236455434, -0.39604599179023386, -2.0576074336266377, 1.6418210719318171, -2.064000840790136, 0.18340752558238735, 0.3708702460919371, 0.7564073758273471, 0.5622132114774402, -0.8681703206538972, -0.5457892288792988, 0.6462776058743678, -1.388235965781543, -1.403310739967856, -0.5048268930823668, -0.008940855983669326, 0.2678190263167388], \"xaxis\": \"x14\", \"y\": [1.2461613479122662, 0.35511800548024297, -0.18595130532212353, -0.348331163680514, 0.8883225848929086, 1.325522461427812, 0.33941433827540657, -1.289307385363924, 0.836862655748313, -1.2422626539014314, -0.23785040361169305, 0.3575269752162909, -0.7833919368145021, 1.1763170251412371, -0.1677199907341728, 0.27484576363007573, -1.0069717384662105, 0.7708681903388637, 0.6903328280340865, -0.8041460697190717, -0.2871373624581198, 2.8865703671670517, -1.5073499977394755, -1.5104117495595408, -1.8284078692508576, 0.44508890690435504, 0.9976528054356555, 2.0279348439902147, 1.0079852619223597, 1.8536471888100592, 1.7237696979830333, 3.2616116359118283, -0.536553899835727, -2.0994790085645345, 0.32554727073493106, 1.001866910570493, 0.3008991637173061, 1.3980933011136987, 0.4424802548737084, -1.9162143140789858, 0.7535022360168819, 0.4637547908724944, 1.2695675454936253, 0.2143156473794342, -0.40273638642765425, -0.9751938301266283, 0.19198349123128594, -0.8163761336130206, -0.39588730360168306, 0.6025822854472339, -1.6070876356004293, -0.4585112767016043, 0.41357374145394177, -2.0584106363496675, -1.369515148049161, -0.41506667194947483, 1.3730855774331134, -0.5827679154831228, 0.14545215524503116, -0.6477717707128196, -0.8670042367262016, -1.128949227213457, 1.0919228258049016, -0.6723324865602892, 0.4517926883766421, -0.9932631897954536, -1.1092038143237628, -1.3135606732741665, 0.19915148247209244, 0.394242138169024, 0.5671088500644987, 0.13051813365402196, 0.2828258647116239, 0.9074373682123189, 0.3320813900935964, 0.9595519376518364, -0.3226788065780816, -0.3888252901605881, -0.7910071392137611, -0.8335444556133729, -0.3667057294077533, -0.06166309697020302, -0.20983506066863242, -0.0855614824397043, 0.986974212938496, -0.5755739123029241, 0.20911732239975067, -1.562580385161062, -0.3848144850911858, 0.03184790743238982, 1.4231806709385606, 2.0984386482051756, 0.19805084510560408, 0.4249594577983598, 0.09895821649664918, 2.9840712563417626, -0.8858519487006972, -1.100877755934475, 0.0646238193759247, 0.5576473470735078], \"yaxis\": \"y14\"}, {\"line\": {\"color\": \"rgba(128, 128, 128, 1.0)\", \"dash\": \"solid\", \"shape\": \"linear\", \"width\": 1.3}, \"marker\": {\"size\": 2, \"symbol\": \"circle\"}, \"mode\": \"markers\", \"name\": \"D\", \"text\": \"\", \"type\": \"scatter\", \"x\": [-1.8480792642687225, -1.5073073535465948, 2.7517654569167695, -0.38327103028951126, 0.5009825141133978, 1.6406970586771368, -0.4703423325300513, 1.6732929780811643, 1.040691617332396, -0.24934723356129274, 0.021997793443517558, 0.8989515894069274, -0.5759127056740482, -0.7026023917505589, 0.4692670581087731, 1.3432700680140337, -0.6302423602368482, -0.3430283873498759, -1.9842157127662723, 0.8747110508926359, -0.536771359647505, -0.392777577430483, -1.562564782209207, -0.5789699061718163, -0.18425013950555968, -2.781707116519058, -0.3326259378263187, 0.14046861390619358, 0.2825429570639549, 0.6455258517208611, -1.6008958628410894, -0.10415536268299172, -0.04942963249814989, -0.057694290388260364, 0.6441468014185162, -2.034107270522385, -1.1483600538743746, 1.018752499138132, 1.3317430124284058, -1.2716276574812149, -1.3634771643011692, -0.957455471343282, 1.5406821339565229, -0.8136926628981285, 0.20331805933592634, -0.19583194140407134, 0.438566315735824, -0.7209994885802788, -0.8708784981578558, -1.1736760477006345, 0.6346372161806274, 0.5888789566851989, -0.9906076677698165, 0.8429137123211539, -0.3225613770362344, 0.5574676068308833, 1.5137393249018745, 0.5990314390706959, -2.0311028340275383, 0.19943009806824033, 0.19858460431477792, 1.1068472715939244, 0.10825003056178664, 0.5042905887109416, 1.2784751811154476, -1.2413104655095704, -0.7452347282645956, -2.37917618199128, 1.0289070853370523, 0.0214791390140893, 1.0561661050786486, 0.7704785454045623, 0.6512151145097241, -0.7142081747361737, -0.8660196572140212, 1.2596409014371919, 2.3085583909486043, -0.6680875046149289, 0.17983813934028284, -0.8132098447949029, -0.35154183701587355, 1.8946547667964537, -0.5797419991317809, 0.2977343502603907, 1.7853093441655918, 0.43633592987243625, -0.06958166697044685, 0.405908894081575, -0.1207519711284738, -0.37308888981591537, 0.6656125172898189, 0.2557200855428001, 0.3879497447859884, 0.8648525072029724, 0.8089907397609084, -1.6592657349829343, 3.6772934789250584, -1.2565801865321515, 0.8742079794998128, 0.6252070910695261], \"xaxis\": \"x15\", \"y\": [1.2461613479122662, 0.35511800548024297, -0.18595130532212353, -0.348331163680514, 0.8883225848929086, 1.325522461427812, 0.33941433827540657, -1.289307385363924, 0.836862655748313, -1.2422626539014314, -0.23785040361169305, 0.3575269752162909, -0.7833919368145021, 1.1763170251412371, -0.1677199907341728, 0.27484576363007573, -1.0069717384662105, 0.7708681903388637, 0.6903328280340865, -0.8041460697190717, -0.2871373624581198, 2.8865703671670517, -1.5073499977394755, -1.5104117495595408, -1.8284078692508576, 0.44508890690435504, 0.9976528054356555, 2.0279348439902147, 1.0079852619223597, 1.8536471888100592, 1.7237696979830333, 3.2616116359118283, -0.536553899835727, -2.0994790085645345, 0.32554727073493106, 1.001866910570493, 0.3008991637173061, 1.3980933011136987, 0.4424802548737084, -1.9162143140789858, 0.7535022360168819, 0.4637547908724944, 1.2695675454936253, 0.2143156473794342, -0.40273638642765425, -0.9751938301266283, 0.19198349123128594, -0.8163761336130206, -0.39588730360168306, 0.6025822854472339, -1.6070876356004293, -0.4585112767016043, 0.41357374145394177, -2.0584106363496675, -1.369515148049161, -0.41506667194947483, 1.3730855774331134, -0.5827679154831228, 0.14545215524503116, -0.6477717707128196, -0.8670042367262016, -1.128949227213457, 1.0919228258049016, -0.6723324865602892, 0.4517926883766421, -0.9932631897954536, -1.1092038143237628, -1.3135606732741665, 0.19915148247209244, 0.394242138169024, 0.5671088500644987, 0.13051813365402196, 0.2828258647116239, 0.9074373682123189, 0.3320813900935964, 0.9595519376518364, -0.3226788065780816, -0.3888252901605881, -0.7910071392137611, -0.8335444556133729, -0.3667057294077533, -0.06166309697020302, -0.20983506066863242, -0.0855614824397043, 0.986974212938496, -0.5755739123029241, 0.20911732239975067, -1.562580385161062, -0.3848144850911858, 0.03184790743238982, 1.4231806709385606, 2.0984386482051756, 0.19805084510560408, 0.4249594577983598, 0.09895821649664918, 2.9840712563417626, -0.8858519487006972, -1.100877755934475, 0.0646238193759247, 0.5576473470735078], \"yaxis\": \"y15\"}, {\"histfunc\": \"count\", \"histnorm\": \"\", \"marker\": {\"color\": \"rgba(128, 0, 128, 1.0)\", \"line\": {\"color\": \"#4D5663\", \"width\": 1.3}}, \"name\": \"D\", \"nbinsx\": 10, \"opacity\": 0.8, \"orientation\": \"v\", \"type\": \"histogram\", \"x\": [1.2461613479122662, 0.35511800548024297, -0.18595130532212353, -0.348331163680514, 0.8883225848929086, 1.325522461427812, 0.33941433827540657, -1.289307385363924, 0.836862655748313, -1.2422626539014314, -0.23785040361169305, 0.3575269752162909, -0.7833919368145021, 1.1763170251412371, -0.1677199907341728, 0.27484576363007573, -1.0069717384662105, 0.7708681903388637, 0.6903328280340865, -0.8041460697190717, -0.2871373624581198, 2.8865703671670517, -1.5073499977394755, -1.5104117495595408, -1.8284078692508576, 0.44508890690435504, 0.9976528054356555, 2.0279348439902147, 1.0079852619223597, 1.8536471888100592, 1.7237696979830333, 3.2616116359118283, -0.536553899835727, -2.0994790085645345, 0.32554727073493106, 1.001866910570493, 0.3008991637173061, 1.3980933011136987, 0.4424802548737084, -1.9162143140789858, 0.7535022360168819, 0.4637547908724944, 1.2695675454936253, 0.2143156473794342, -0.40273638642765425, -0.9751938301266283, 0.19198349123128594, -0.8163761336130206, -0.39588730360168306, 0.6025822854472339, -1.6070876356004293, -0.4585112767016043, 0.41357374145394177, -2.0584106363496675, -1.369515148049161, -0.41506667194947483, 1.3730855774331134, -0.5827679154831228, 0.14545215524503116, -0.6477717707128196, -0.8670042367262016, -1.128949227213457, 1.0919228258049016, -0.6723324865602892, 0.4517926883766421, -0.9932631897954536, -1.1092038143237628, -1.3135606732741665, 0.19915148247209244, 0.394242138169024, 0.5671088500644987, 0.13051813365402196, 0.2828258647116239, 0.9074373682123189, 0.3320813900935964, 0.9595519376518364, -0.3226788065780816, -0.3888252901605881, -0.7910071392137611, -0.8335444556133729, -0.3667057294077533, -0.06166309697020302, -0.20983506066863242, -0.0855614824397043, 0.986974212938496, -0.5755739123029241, 0.20911732239975067, -1.562580385161062, -0.3848144850911858, 0.03184790743238982, 1.4231806709385606, 2.0984386482051756, 0.19805084510560408, 0.4249594577983598, 0.09895821649664918, 2.9840712563417626, -0.8858519487006972, -1.100877755934475, 0.0646238193759247, 0.5576473470735078], \"xaxis\": \"x16\", \"yaxis\": \"y16\"}],                        {\"bargap\": 0.02, \"legend\": {\"bgcolor\": \"#F5F6F9\", \"font\": {\"color\": \"#4D5663\"}}, \"paper_bgcolor\": \"#F5F6F9\", \"plot_bgcolor\": \"#F5F6F9\", \"showlegend\": false, \"template\": {\"data\": {\"bar\": [{\"error_x\": {\"color\": \"#2a3f5f\"}, \"error_y\": {\"color\": \"#2a3f5f\"}, \"marker\": {\"line\": {\"color\": \"#E5ECF6\", \"width\": 0.5}}, \"type\": \"bar\"}], \"barpolar\": [{\"marker\": {\"line\": {\"color\": \"#E5ECF6\", \"width\": 0.5}}, \"type\": \"barpolar\"}], \"carpet\": [{\"aaxis\": {\"endlinecolor\": \"#2a3f5f\", \"gridcolor\": \"white\", \"linecolor\": \"white\", \"minorgridcolor\": \"white\", \"startlinecolor\": \"#2a3f5f\"}, \"baxis\": {\"endlinecolor\": \"#2a3f5f\", \"gridcolor\": \"white\", \"linecolor\": \"white\", \"minorgridcolor\": \"white\", \"startlinecolor\": \"#2a3f5f\"}, \"type\": \"carpet\"}], \"choropleth\": [{\"colorbar\": {\"outlinewidth\": 0, \"ticks\": \"\"}, \"type\": \"choropleth\"}], \"contour\": [{\"colorbar\": {\"outlinewidth\": 0, \"ticks\": \"\"}, \"colorscale\": [[0.0, \"#0d0887\"], [0.1111111111111111, \"#46039f\"], [0.2222222222222222, \"#7201a8\"], [0.3333333333333333, \"#9c179e\"], [0.4444444444444444, \"#bd3786\"], [0.5555555555555556, \"#d8576b\"], [0.6666666666666666, \"#ed7953\"], [0.7777777777777778, \"#fb9f3a\"], [0.8888888888888888, \"#fdca26\"], [1.0, \"#f0f921\"]], \"type\": \"contour\"}], \"contourcarpet\": [{\"colorbar\": {\"outlinewidth\": 0, \"ticks\": \"\"}, \"type\": \"contourcarpet\"}], \"heatmap\": [{\"colorbar\": {\"outlinewidth\": 0, \"ticks\": \"\"}, \"colorscale\": [[0.0, \"#0d0887\"], [0.1111111111111111, \"#46039f\"], [0.2222222222222222, \"#7201a8\"], [0.3333333333333333, \"#9c179e\"], [0.4444444444444444, \"#bd3786\"], [0.5555555555555556, \"#d8576b\"], [0.6666666666666666, \"#ed7953\"], [0.7777777777777778, \"#fb9f3a\"], [0.8888888888888888, \"#fdca26\"], [1.0, \"#f0f921\"]], \"type\": \"heatmap\"}], \"heatmapgl\": [{\"colorbar\": {\"outlinewidth\": 0, \"ticks\": \"\"}, \"colorscale\": [[0.0, \"#0d0887\"], [0.1111111111111111, \"#46039f\"], [0.2222222222222222, \"#7201a8\"], [0.3333333333333333, \"#9c179e\"], [0.4444444444444444, \"#bd3786\"], [0.5555555555555556, \"#d8576b\"], [0.6666666666666666, \"#ed7953\"], [0.7777777777777778, \"#fb9f3a\"], [0.8888888888888888, \"#fdca26\"], [1.0, \"#f0f921\"]], \"type\": \"heatmapgl\"}], \"histogram\": [{\"marker\": {\"colorbar\": {\"outlinewidth\": 0, \"ticks\": \"\"}}, \"type\": \"histogram\"}], \"histogram2d\": [{\"colorbar\": {\"outlinewidth\": 0, \"ticks\": \"\"}, \"colorscale\": [[0.0, \"#0d0887\"], [0.1111111111111111, \"#46039f\"], [0.2222222222222222, \"#7201a8\"], [0.3333333333333333, \"#9c179e\"], [0.4444444444444444, \"#bd3786\"], [0.5555555555555556, \"#d8576b\"], [0.6666666666666666, \"#ed7953\"], [0.7777777777777778, \"#fb9f3a\"], [0.8888888888888888, \"#fdca26\"], [1.0, \"#f0f921\"]], \"type\": \"histogram2d\"}], \"histogram2dcontour\": [{\"colorbar\": {\"outlinewidth\": 0, \"ticks\": \"\"}, \"colorscale\": [[0.0, \"#0d0887\"], [0.1111111111111111, \"#46039f\"], [0.2222222222222222, \"#7201a8\"], [0.3333333333333333, \"#9c179e\"], [0.4444444444444444, \"#bd3786\"], [0.5555555555555556, \"#d8576b\"], [0.6666666666666666, \"#ed7953\"], [0.7777777777777778, \"#fb9f3a\"], [0.8888888888888888, \"#fdca26\"], [1.0, \"#f0f921\"]], \"type\": \"histogram2dcontour\"}], \"mesh3d\": [{\"colorbar\": {\"outlinewidth\": 0, \"ticks\": \"\"}, \"type\": \"mesh3d\"}], \"parcoords\": [{\"line\": {\"colorbar\": {\"outlinewidth\": 0, \"ticks\": \"\"}}, \"type\": \"parcoords\"}], \"pie\": [{\"automargin\": true, \"type\": \"pie\"}], \"scatter\": [{\"marker\": {\"colorbar\": {\"outlinewidth\": 0, \"ticks\": \"\"}}, \"type\": \"scatter\"}], \"scatter3d\": [{\"line\": {\"colorbar\": {\"outlinewidth\": 0, \"ticks\": \"\"}}, \"marker\": {\"colorbar\": {\"outlinewidth\": 0, \"ticks\": \"\"}}, \"type\": \"scatter3d\"}], \"scattercarpet\": [{\"marker\": {\"colorbar\": {\"outlinewidth\": 0, \"ticks\": \"\"}}, \"type\": \"scattercarpet\"}], \"scattergeo\": [{\"marker\": {\"colorbar\": {\"outlinewidth\": 0, \"ticks\": \"\"}}, \"type\": \"scattergeo\"}], \"scattergl\": [{\"marker\": {\"colorbar\": {\"outlinewidth\": 0, \"ticks\": \"\"}}, \"type\": \"scattergl\"}], \"scattermapbox\": [{\"marker\": {\"colorbar\": {\"outlinewidth\": 0, \"ticks\": \"\"}}, \"type\": \"scattermapbox\"}], \"scatterpolar\": [{\"marker\": {\"colorbar\": {\"outlinewidth\": 0, \"ticks\": \"\"}}, \"type\": \"scatterpolar\"}], \"scatterpolargl\": [{\"marker\": {\"colorbar\": {\"outlinewidth\": 0, \"ticks\": \"\"}}, \"type\": \"scatterpolargl\"}], \"scatterternary\": [{\"marker\": {\"colorbar\": {\"outlinewidth\": 0, \"ticks\": \"\"}}, \"type\": \"scatterternary\"}], \"surface\": [{\"colorbar\": {\"outlinewidth\": 0, \"ticks\": \"\"}, \"colorscale\": [[0.0, \"#0d0887\"], [0.1111111111111111, \"#46039f\"], [0.2222222222222222, \"#7201a8\"], [0.3333333333333333, \"#9c179e\"], [0.4444444444444444, \"#bd3786\"], [0.5555555555555556, \"#d8576b\"], [0.6666666666666666, \"#ed7953\"], [0.7777777777777778, \"#fb9f3a\"], [0.8888888888888888, \"#fdca26\"], [1.0, \"#f0f921\"]], \"type\": \"surface\"}], \"table\": [{\"cells\": {\"fill\": {\"color\": \"#EBF0F8\"}, \"line\": {\"color\": \"white\"}}, \"header\": {\"fill\": {\"color\": \"#C8D4E3\"}, \"line\": {\"color\": \"white\"}}, \"type\": \"table\"}]}, \"layout\": {\"annotationdefaults\": {\"arrowcolor\": \"#2a3f5f\", \"arrowhead\": 0, \"arrowwidth\": 1}, \"autotypenumbers\": \"strict\", \"coloraxis\": {\"colorbar\": {\"outlinewidth\": 0, \"ticks\": \"\"}}, \"colorscale\": {\"diverging\": [[0, \"#8e0152\"], [0.1, \"#c51b7d\"], [0.2, \"#de77ae\"], [0.3, \"#f1b6da\"], [0.4, \"#fde0ef\"], [0.5, \"#f7f7f7\"], [0.6, \"#e6f5d0\"], [0.7, \"#b8e186\"], [0.8, \"#7fbc41\"], [0.9, \"#4d9221\"], [1, \"#276419\"]], \"sequential\": [[0.0, \"#0d0887\"], [0.1111111111111111, \"#46039f\"], [0.2222222222222222, \"#7201a8\"], [0.3333333333333333, \"#9c179e\"], [0.4444444444444444, \"#bd3786\"], [0.5555555555555556, \"#d8576b\"], [0.6666666666666666, \"#ed7953\"], [0.7777777777777778, \"#fb9f3a\"], [0.8888888888888888, \"#fdca26\"], [1.0, \"#f0f921\"]], \"sequentialminus\": [[0.0, \"#0d0887\"], [0.1111111111111111, \"#46039f\"], [0.2222222222222222, \"#7201a8\"], [0.3333333333333333, \"#9c179e\"], [0.4444444444444444, \"#bd3786\"], [0.5555555555555556, \"#d8576b\"], [0.6666666666666666, \"#ed7953\"], [0.7777777777777778, \"#fb9f3a\"], [0.8888888888888888, \"#fdca26\"], [1.0, \"#f0f921\"]]}, \"colorway\": [\"#636efa\", \"#EF553B\", \"#00cc96\", \"#ab63fa\", \"#FFA15A\", \"#19d3f3\", \"#FF6692\", \"#B6E880\", \"#FF97FF\", \"#FECB52\"], \"font\": {\"color\": \"#2a3f5f\"}, \"geo\": {\"bgcolor\": \"white\", \"lakecolor\": \"white\", \"landcolor\": \"#E5ECF6\", \"showlakes\": true, \"showland\": true, \"subunitcolor\": \"white\"}, \"hoverlabel\": {\"align\": \"left\"}, \"hovermode\": \"closest\", \"mapbox\": {\"style\": \"light\"}, \"paper_bgcolor\": \"white\", \"plot_bgcolor\": \"#E5ECF6\", \"polar\": {\"angularaxis\": {\"gridcolor\": \"white\", \"linecolor\": \"white\", \"ticks\": \"\"}, \"bgcolor\": \"#E5ECF6\", \"radialaxis\": {\"gridcolor\": \"white\", \"linecolor\": \"white\", \"ticks\": \"\"}}, \"scene\": {\"xaxis\": {\"backgroundcolor\": \"#E5ECF6\", \"gridcolor\": \"white\", \"gridwidth\": 2, \"linecolor\": \"white\", \"showbackground\": true, \"ticks\": \"\", \"zerolinecolor\": \"white\"}, \"yaxis\": {\"backgroundcolor\": \"#E5ECF6\", \"gridcolor\": \"white\", \"gridwidth\": 2, \"linecolor\": \"white\", \"showbackground\": true, \"ticks\": \"\", \"zerolinecolor\": \"white\"}, \"zaxis\": {\"backgroundcolor\": \"#E5ECF6\", \"gridcolor\": \"white\", \"gridwidth\": 2, \"linecolor\": \"white\", \"showbackground\": true, \"ticks\": \"\", \"zerolinecolor\": \"white\"}}, \"shapedefaults\": {\"line\": {\"color\": \"#2a3f5f\"}}, \"ternary\": {\"aaxis\": {\"gridcolor\": \"white\", \"linecolor\": \"white\", \"ticks\": \"\"}, \"baxis\": {\"gridcolor\": \"white\", \"linecolor\": \"white\", \"ticks\": \"\"}, \"bgcolor\": \"#E5ECF6\", \"caxis\": {\"gridcolor\": \"white\", \"linecolor\": \"white\", \"ticks\": \"\"}}, \"title\": {\"x\": 0.05}, \"xaxis\": {\"automargin\": true, \"gridcolor\": \"white\", \"linecolor\": \"white\", \"ticks\": \"\", \"title\": {\"standoff\": 15}, \"zerolinecolor\": \"white\", \"zerolinewidth\": 2}, \"yaxis\": {\"automargin\": true, \"gridcolor\": \"white\", \"linecolor\": \"white\", \"ticks\": \"\", \"title\": {\"standoff\": 15}, \"zerolinecolor\": \"white\", \"zerolinewidth\": 2}}}, \"title\": {\"font\": {\"color\": \"#4D5663\"}}, \"xaxis\": {\"anchor\": \"y\", \"domain\": [0.0, 0.2125], \"gridcolor\": \"#E1E5ED\", \"showgrid\": false, \"tickfont\": {\"color\": \"#4D5663\"}, \"title\": {\"font\": {\"color\": \"#4D5663\"}, \"text\": \"\"}, \"zerolinecolor\": \"#E1E5ED\"}, \"xaxis10\": {\"anchor\": \"y10\", \"domain\": [0.2625, 0.475], \"gridcolor\": \"#E1E5ED\", \"showgrid\": false, \"tickfont\": {\"color\": \"#4D5663\"}, \"title\": {\"font\": {\"color\": \"#4D5663\"}, \"text\": \"\"}, \"zerolinecolor\": \"#E1E5ED\"}, \"xaxis11\": {\"anchor\": \"y11\", \"domain\": [0.525, 0.7375], \"gridcolor\": \"#E1E5ED\", \"showgrid\": false, \"tickfont\": {\"color\": \"#4D5663\"}, \"title\": {\"font\": {\"color\": \"#4D5663\"}, \"text\": \"\"}, \"zerolinecolor\": \"#E1E5ED\"}, \"xaxis12\": {\"anchor\": \"y12\", \"domain\": [0.7875, 1.0], \"gridcolor\": \"#E1E5ED\", \"showgrid\": false, \"tickfont\": {\"color\": \"#4D5663\"}, \"title\": {\"font\": {\"color\": \"#4D5663\"}, \"text\": \"\"}, \"zerolinecolor\": \"#E1E5ED\"}, \"xaxis13\": {\"anchor\": \"y13\", \"domain\": [0.0, 0.2125], \"gridcolor\": \"#E1E5ED\", \"showgrid\": false, \"tickfont\": {\"color\": \"#4D5663\"}, \"title\": {\"font\": {\"color\": \"#4D5663\"}, \"text\": \"\"}, \"zerolinecolor\": \"#E1E5ED\"}, \"xaxis14\": {\"anchor\": \"y14\", \"domain\": [0.2625, 0.475], \"gridcolor\": \"#E1E5ED\", \"showgrid\": false, \"tickfont\": {\"color\": \"#4D5663\"}, \"title\": {\"font\": {\"color\": \"#4D5663\"}, \"text\": \"\"}, \"zerolinecolor\": \"#E1E5ED\"}, \"xaxis15\": {\"anchor\": \"y15\", \"domain\": [0.525, 0.7375], \"gridcolor\": \"#E1E5ED\", \"showgrid\": false, \"tickfont\": {\"color\": \"#4D5663\"}, \"title\": {\"font\": {\"color\": \"#4D5663\"}, \"text\": \"\"}, \"zerolinecolor\": \"#E1E5ED\"}, \"xaxis16\": {\"anchor\": \"y16\", \"domain\": [0.7875, 1.0], \"gridcolor\": \"#E1E5ED\", \"showgrid\": false, \"tickfont\": {\"color\": \"#4D5663\"}, \"title\": {\"font\": {\"color\": \"#4D5663\"}, \"text\": \"\"}, \"zerolinecolor\": \"#E1E5ED\"}, \"xaxis2\": {\"anchor\": \"y2\", \"domain\": [0.2625, 0.475], \"gridcolor\": \"#E1E5ED\", \"showgrid\": false, \"tickfont\": {\"color\": \"#4D5663\"}, \"title\": {\"font\": {\"color\": \"#4D5663\"}, \"text\": \"\"}, \"zerolinecolor\": \"#E1E5ED\"}, \"xaxis3\": {\"anchor\": \"y3\", \"domain\": [0.525, 0.7375], \"gridcolor\": \"#E1E5ED\", \"showgrid\": false, \"tickfont\": {\"color\": \"#4D5663\"}, \"title\": {\"font\": {\"color\": \"#4D5663\"}, \"text\": \"\"}, \"zerolinecolor\": \"#E1E5ED\"}, \"xaxis4\": {\"anchor\": \"y4\", \"domain\": [0.7875, 1.0], \"gridcolor\": \"#E1E5ED\", \"showgrid\": false, \"tickfont\": {\"color\": \"#4D5663\"}, \"title\": {\"font\": {\"color\": \"#4D5663\"}, \"text\": \"\"}, \"zerolinecolor\": \"#E1E5ED\"}, \"xaxis5\": {\"anchor\": \"y5\", \"domain\": [0.0, 0.2125], \"gridcolor\": \"#E1E5ED\", \"showgrid\": false, \"tickfont\": {\"color\": \"#4D5663\"}, \"title\": {\"font\": {\"color\": \"#4D5663\"}, \"text\": \"\"}, \"zerolinecolor\": \"#E1E5ED\"}, \"xaxis6\": {\"anchor\": \"y6\", \"domain\": [0.2625, 0.475], \"gridcolor\": \"#E1E5ED\", \"showgrid\": false, \"tickfont\": {\"color\": \"#4D5663\"}, \"title\": {\"font\": {\"color\": \"#4D5663\"}, \"text\": \"\"}, \"zerolinecolor\": \"#E1E5ED\"}, \"xaxis7\": {\"anchor\": \"y7\", \"domain\": [0.525, 0.7375], \"gridcolor\": \"#E1E5ED\", \"showgrid\": false, \"tickfont\": {\"color\": \"#4D5663\"}, \"title\": {\"font\": {\"color\": \"#4D5663\"}, \"text\": \"\"}, \"zerolinecolor\": \"#E1E5ED\"}, \"xaxis8\": {\"anchor\": \"y8\", \"domain\": [0.7875, 1.0], \"gridcolor\": \"#E1E5ED\", \"showgrid\": false, \"tickfont\": {\"color\": \"#4D5663\"}, \"title\": {\"font\": {\"color\": \"#4D5663\"}, \"text\": \"\"}, \"zerolinecolor\": \"#E1E5ED\"}, \"xaxis9\": {\"anchor\": \"y9\", \"domain\": [0.0, 0.2125], \"gridcolor\": \"#E1E5ED\", \"showgrid\": false, \"tickfont\": {\"color\": \"#4D5663\"}, \"title\": {\"font\": {\"color\": \"#4D5663\"}, \"text\": \"\"}, \"zerolinecolor\": \"#E1E5ED\"}, \"yaxis\": {\"anchor\": \"x\", \"domain\": [0.8025, 1.0], \"gridcolor\": \"#E1E5ED\", \"showgrid\": false, \"tickfont\": {\"color\": \"#4D5663\"}, \"title\": {\"font\": {\"color\": \"#4D5663\"}, \"text\": \"\"}, \"zerolinecolor\": \"#E1E5ED\"}, \"yaxis10\": {\"anchor\": \"x10\", \"domain\": [0.2675, 0.465], \"gridcolor\": \"#E1E5ED\", \"showgrid\": false, \"tickfont\": {\"color\": \"#4D5663\"}, \"title\": {\"font\": {\"color\": \"#4D5663\"}, \"text\": \"\"}, \"zerolinecolor\": \"#E1E5ED\"}, \"yaxis11\": {\"anchor\": \"x11\", \"domain\": [0.2675, 0.465], \"gridcolor\": \"#E1E5ED\", \"showgrid\": false, \"tickfont\": {\"color\": \"#4D5663\"}, \"title\": {\"font\": {\"color\": \"#4D5663\"}, \"text\": \"\"}, \"zerolinecolor\": \"#E1E5ED\"}, \"yaxis12\": {\"anchor\": \"x12\", \"domain\": [0.2675, 0.465], \"gridcolor\": \"#E1E5ED\", \"showgrid\": false, \"tickfont\": {\"color\": \"#4D5663\"}, \"title\": {\"font\": {\"color\": \"#4D5663\"}, \"text\": \"\"}, \"zerolinecolor\": \"#E1E5ED\"}, \"yaxis13\": {\"anchor\": \"x13\", \"domain\": [0.0, 0.1975], \"gridcolor\": \"#E1E5ED\", \"showgrid\": false, \"tickfont\": {\"color\": \"#4D5663\"}, \"title\": {\"font\": {\"color\": \"#4D5663\"}, \"text\": \"\"}, \"zerolinecolor\": \"#E1E5ED\"}, \"yaxis14\": {\"anchor\": \"x14\", \"domain\": [0.0, 0.1975], \"gridcolor\": \"#E1E5ED\", \"showgrid\": false, \"tickfont\": {\"color\": \"#4D5663\"}, \"title\": {\"font\": {\"color\": \"#4D5663\"}, \"text\": \"\"}, \"zerolinecolor\": \"#E1E5ED\"}, \"yaxis15\": {\"anchor\": \"x15\", \"domain\": [0.0, 0.1975], \"gridcolor\": \"#E1E5ED\", \"showgrid\": false, \"tickfont\": {\"color\": \"#4D5663\"}, \"title\": {\"font\": {\"color\": \"#4D5663\"}, \"text\": \"\"}, \"zerolinecolor\": \"#E1E5ED\"}, \"yaxis16\": {\"anchor\": \"x16\", \"domain\": [0.0, 0.1975], \"gridcolor\": \"#E1E5ED\", \"showgrid\": false, \"tickfont\": {\"color\": \"#4D5663\"}, \"title\": {\"font\": {\"color\": \"#4D5663\"}, \"text\": \"\"}, \"zerolinecolor\": \"#E1E5ED\"}, \"yaxis2\": {\"anchor\": \"x2\", \"domain\": [0.8025, 1.0], \"gridcolor\": \"#E1E5ED\", \"showgrid\": false, \"tickfont\": {\"color\": \"#4D5663\"}, \"title\": {\"font\": {\"color\": \"#4D5663\"}, \"text\": \"\"}, \"zerolinecolor\": \"#E1E5ED\"}, \"yaxis3\": {\"anchor\": \"x3\", \"domain\": [0.8025, 1.0], \"gridcolor\": \"#E1E5ED\", \"showgrid\": false, \"tickfont\": {\"color\": \"#4D5663\"}, \"title\": {\"font\": {\"color\": \"#4D5663\"}, \"text\": \"\"}, \"zerolinecolor\": \"#E1E5ED\"}, \"yaxis4\": {\"anchor\": \"x4\", \"domain\": [0.8025, 1.0], \"gridcolor\": \"#E1E5ED\", \"showgrid\": false, \"tickfont\": {\"color\": \"#4D5663\"}, \"title\": {\"font\": {\"color\": \"#4D5663\"}, \"text\": \"\"}, \"zerolinecolor\": \"#E1E5ED\"}, \"yaxis5\": {\"anchor\": \"x5\", \"domain\": [0.535, 0.7325], \"gridcolor\": \"#E1E5ED\", \"showgrid\": false, \"tickfont\": {\"color\": \"#4D5663\"}, \"title\": {\"font\": {\"color\": \"#4D5663\"}, \"text\": \"\"}, \"zerolinecolor\": \"#E1E5ED\"}, \"yaxis6\": {\"anchor\": \"x6\", \"domain\": [0.535, 0.7325], \"gridcolor\": \"#E1E5ED\", \"showgrid\": false, \"tickfont\": {\"color\": \"#4D5663\"}, \"title\": {\"font\": {\"color\": \"#4D5663\"}, \"text\": \"\"}, \"zerolinecolor\": \"#E1E5ED\"}, \"yaxis7\": {\"anchor\": \"x7\", \"domain\": [0.535, 0.7325], \"gridcolor\": \"#E1E5ED\", \"showgrid\": false, \"tickfont\": {\"color\": \"#4D5663\"}, \"title\": {\"font\": {\"color\": \"#4D5663\"}, \"text\": \"\"}, \"zerolinecolor\": \"#E1E5ED\"}, \"yaxis8\": {\"anchor\": \"x8\", \"domain\": [0.535, 0.7325], \"gridcolor\": \"#E1E5ED\", \"showgrid\": false, \"tickfont\": {\"color\": \"#4D5663\"}, \"title\": {\"font\": {\"color\": \"#4D5663\"}, \"text\": \"\"}, \"zerolinecolor\": \"#E1E5ED\"}, \"yaxis9\": {\"anchor\": \"x9\", \"domain\": [0.2675, 0.465], \"gridcolor\": \"#E1E5ED\", \"showgrid\": false, \"tickfont\": {\"color\": \"#4D5663\"}, \"title\": {\"font\": {\"color\": \"#4D5663\"}, \"text\": \"\"}, \"zerolinecolor\": \"#E1E5ED\"}},                        {\"showLink\": true, \"linkText\": \"Export to plot.ly\", \"plotlyServerURL\": \"https://plot.ly\", \"responsive\": true}                    ).then(function(){\n",
       "                            \n",
       "var gd = document.getElementById('7d6b8fde-6430-4bf6-8fbd-15970d647e64');\n",
       "var x = new MutationObserver(function (mutations, observer) {{\n",
       "        var display = window.getComputedStyle(gd).display;\n",
       "        if (!display || display === 'none') {{\n",
       "            console.log([gd, 'removed!']);\n",
       "            Plotly.purge(gd);\n",
       "            observer.disconnect();\n",
       "        }}\n",
       "}});\n",
       "\n",
       "// Listen for the removal of the full notebook cells\n",
       "var notebookContainer = gd.closest('#notebook-container');\n",
       "if (notebookContainer) {{\n",
       "    x.observe(notebookContainer, {childList: true});\n",
       "}}\n",
       "\n",
       "// Listen for the clearing of the current output cell\n",
       "var outputEl = gd.closest('.output');\n",
       "if (outputEl) {{\n",
       "    x.observe(outputEl, {childList: true});\n",
       "}}\n",
       "\n",
       "                        })                };                });            </script>        </div>"
      ]
     },
     "metadata": {},
     "output_type": "display_data"
    }
   ],
   "source": [
    "df.scatter_matrix()"
   ]
  },
  {
   "cell_type": "markdown",
   "metadata": {
    "collapsed": true
   },
   "source": [
    "# Great Job!"
   ]
  },
  {
   "cell_type": "code",
   "execution_count": 38,
   "metadata": {},
   "outputs": [],
   "source": [
    "user_Table = pd.DataFrame((np.random.randn(1,3)),columns='UserID UserName Email'.split())"
   ]
  },
  {
   "cell_type": "code",
   "execution_count": 27,
   "metadata": {},
   "outputs": [
    {
     "data": {
      "text/html": [
       "<div>\n",
       "<style scoped>\n",
       "    .dataframe tbody tr th:only-of-type {\n",
       "        vertical-align: middle;\n",
       "    }\n",
       "\n",
       "    .dataframe tbody tr th {\n",
       "        vertical-align: top;\n",
       "    }\n",
       "\n",
       "    .dataframe thead th {\n",
       "        text-align: right;\n",
       "    }\n",
       "</style>\n",
       "<table border=\"1\" class=\"dataframe\">\n",
       "  <thead>\n",
       "    <tr style=\"text-align: right;\">\n",
       "      <th></th>\n",
       "      <th>UserID</th>\n",
       "      <th>UserName</th>\n",
       "      <th>Email</th>\n",
       "    </tr>\n",
       "  </thead>\n",
       "  <tbody>\n",
       "    <tr>\n",
       "      <th>0</th>\n",
       "      <td>0.790396</td>\n",
       "      <td>-0.064201</td>\n",
       "      <td>1.671734</td>\n",
       "    </tr>\n",
       "  </tbody>\n",
       "</table>\n",
       "</div>"
      ],
      "text/plain": [
       "     UserID  UserName     Email\n",
       "0  0.790396 -0.064201  1.671734"
      ]
     },
     "execution_count": 27,
     "metadata": {},
     "output_type": "execute_result"
    }
   ],
   "source": [
    "user_Table"
   ]
  },
  {
   "cell_type": "code",
   "execution_count": 30,
   "metadata": {},
   "outputs": [],
   "source": [
    "account_Bridge = pd.DataFrame(np.random.randn(1,2),columns='UserID Account'.split())"
   ]
  },
  {
   "cell_type": "code",
   "execution_count": 35,
   "metadata": {},
   "outputs": [
    {
     "data": {
      "text/html": [
       "<div>\n",
       "<style scoped>\n",
       "    .dataframe tbody tr th:only-of-type {\n",
       "        vertical-align: middle;\n",
       "    }\n",
       "\n",
       "    .dataframe tbody tr th {\n",
       "        vertical-align: top;\n",
       "    }\n",
       "\n",
       "    .dataframe thead th {\n",
       "        text-align: right;\n",
       "    }\n",
       "</style>\n",
       "<table border=\"1\" class=\"dataframe\">\n",
       "  <thead>\n",
       "    <tr style=\"text-align: right;\">\n",
       "      <th></th>\n",
       "      <th>UserID</th>\n",
       "      <th>Account</th>\n",
       "    </tr>\n",
       "  </thead>\n",
       "  <tbody>\n",
       "    <tr>\n",
       "      <th>0</th>\n",
       "      <td>-1.380793</td>\n",
       "      <td>1.163839</td>\n",
       "    </tr>\n",
       "  </tbody>\n",
       "</table>\n",
       "</div>"
      ],
      "text/plain": [
       "     UserID   Account\n",
       "0 -1.380793  1.163839"
      ]
     },
     "execution_count": 35,
     "metadata": {},
     "output_type": "execute_result"
    }
   ],
   "source": [
    "#user_Table\n",
    "\n",
    "account_Bridge"
   ]
  },
  {
   "cell_type": "code",
   "execution_count": null,
   "metadata": {},
   "outputs": [],
   "source": [
    "https://youtube.com/u/timPool"
   ]
  }
 ],
 "metadata": {
  "kernelspec": {
   "display_name": "Python 3",
   "language": "python",
   "name": "python3"
  },
  "language_info": {
   "codemirror_mode": {
    "name": "ipython",
    "version": 3
   },
   "file_extension": ".py",
   "mimetype": "text/x-python",
   "name": "python",
   "nbconvert_exporter": "python",
   "pygments_lexer": "ipython3",
   "version": "3.7.0"
  }
 },
 "nbformat": 4,
 "nbformat_minor": 1
}
